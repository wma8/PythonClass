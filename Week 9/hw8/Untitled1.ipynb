{
 "cells": [
  {
   "cell_type": "code",
   "execution_count": 38,
   "metadata": {},
   "outputs": [
    {
     "name": "stderr",
     "output_type": "stream",
     "text": [
      "/anaconda2/lib/python2.7/site-packages/ipykernel_launcher.py:43: DeprecationWarning: `imread` is deprecated!\n",
      "`imread` is deprecated in SciPy 1.0.0, and will be removed in 1.2.0.\n",
      "Use ``imageio.imread`` instead.\n"
     ]
    },
    {
     "data": {
      "image/png": "[encoded data removed]",
      "text/plain": [
       "<Figure size 432x288 with 1 Axes>"
      ]
     },
     "metadata": {
      "needs_background": "light"
     },
     "output_type": "display_data"
    },
    {
     "name": "stdout",
     "output_type": "stream",
     "text": [
      "(23,)\n",
      "(32, 46)\n"
     ]
    },
    {
     "data": {
      "text/plain": [
       "<matplotlib.image.AxesImage at 0x1c227f4a10>"
      ]
     },
     "execution_count": 38,
     "metadata": {},
     "output_type": "execute_result"
    },
    {
     "data": {
      "image/png": "[encoded data removed]",
      "text/plain": [
       "<Figure size 432x288 with 1 Axes>"
      ]
     },
     "metadata": {
      "needs_background": "light"
     },
     "output_type": "display_data"
    }
   ],
   "source": [
    "# -*- coding: utf-8 -*-\n",
    "\"\"\"\n",
    "PIC 16 Winter 2019\n",
    "Startup code for homework 8\n",
    "\"\"\"\n",
    "\n",
    "from scipy.misc import imread # using scipy's imread\n",
    "import matplotlib.pyplot as plt\n",
    "import numpy as np\n",
    "from skimage.transform import resize\n",
    "\n",
    "def boundaries(binarized,axis):\n",
    "    # variables named assuming axis = 0; algorithm valid for axis=1\n",
    "    # [1,0][axis] effectively swaps axes for summing\n",
    "    rows = np.sum(binarized,axis = [1,0][axis]) > 0\n",
    "    rows[1:] = np.logical_xor(rows[1:], rows[:-1])\n",
    "    change = np.nonzero(rows)[0]\n",
    "    ymin = change[::2]\n",
    "    ymax = change[1::2]\n",
    "    height = ymax-ymin\n",
    "    too_small = 10 # real letters will be bigger than 10px by 10px\n",
    "    ymin = ymin[height>too_small]\n",
    "    ymax = ymax[height>too_small]\n",
    "    return zip(ymin,ymax)\n",
    "\n",
    "def separate(img):\n",
    "    orig_img = img.copy()\n",
    "    pure_white = 255.\n",
    "    white = np.max(img)\n",
    "    black = np.min(img)\n",
    "    thresh = (white+black)/2.0\n",
    "    binarized = img<thresh\n",
    "    row_bounds = boundaries(binarized, axis = 0) \n",
    "    cropped = []\n",
    "    for r1,r2 in row_bounds:\n",
    "        img = binarized[r1:r2,:]\n",
    "        col_bounds = boundaries(img,axis=1)\n",
    "        rects = [r1,r2,col_bounds[0][0],col_bounds[0][1]]\n",
    "        cropped.append(np.array(orig_img[rects[0]:rects[1],rects[2]:rects[3]]/pure_white))\n",
    "    return cropped\n",
    "\n",
    "# Example usage\n",
    "big_img = imread(\"a.png\", flatten = True) # flatten = True converts to grayscale\n",
    "plt.imshow(big_img/255,cmap='gray')\n",
    "plt.show()\n",
    "\n",
    "imgs = np.array(separate(big_img))# separates big_img (pure white = 255) into array of little images (pure white = 1.0)\n",
    "\n",
    "'''for img in imgs:\n",
    "    img = resize(img, (10,10))\n",
    "    plt.imshow(img, cmap='gray')\n",
    "    plt.show()\n",
    "'''\n",
    "print imgs.shape #imgs has arrays of some dimension that machine does not know, so it treats as 1-d array, \n",
    "                #with each element be an array of arbitrary dimension\n",
    "print imgs[0].shape#each single img array in the imgs has 2-d dimension of 32*46, can be reshaped later\n",
    "\n",
    "#img_single_new = imgs[0].reshape(1,64) #can't do that\n",
    "img_single_new = resize(imgs[0], (1,64)) #this is ok????\n",
    "\n",
    "#print img_single_new\n",
    "\n",
    "img1 = resize(imgs[0], (10,10)) #use this to resize the image array be 10*10 square\n",
    "plt.imshow(img1, cmap='gray') \n",
    "plt.imshow(imgs[0], cmap='gray') #also ok just to plot the original image without reshape, the graph will have\n",
    "                                #different shape, but still ok\n",
    "\n",
    "#plt.show()\n",
    "\n",
    "\n"
   ]
  },
  {
   "cell_type": "markdown",
   "metadata": {},
   "source": [
    "The given function returns an array of 1-d, with each element be array of separated image of 2-d, dimension 32*46. The 2-d array is what need to be passed for clf training and predicting functions.\n"
   ]
  },
  {
   "cell_type": "code",
   "execution_count": 46,
   "metadata": {},
   "outputs": [
    {
     "name": "stdout",
     "output_type": "stream",
     "text": [
      "(23, 1, 100)\n",
      "(23, 100)\n"
     ]
    }
   ],
   "source": [
    "img_list =[]\n",
    "for i in range(len(imgs)):\n",
    "    img_list.append(resize(imgs[i], (1,100)))\n",
    "print np.shape(img_list)\n",
    "img_list2 =[]\n",
    "for i in range(len(imgs)):\n",
    "    img_list2.append(img_list[i][0])\n",
    "print np.shape(img_list2) #list2 has the desired 23*100 dimension\n",
    "\n"
   ]
  },
  {
   "cell_type": "code",
   "execution_count": 49,
   "metadata": {},
   "outputs": [
    {
     "ename": "ValueError",
     "evalue": "The number of classes has to be greater than one; got 1 class",
     "output_type": "error",
     "traceback": [
      "\u001b[0;31m---------------------------------------------------------------------------\u001b[0m",
      "\u001b[0;31mValueError\u001b[0m                                Traceback (most recent call last)",
      "\u001b[0;32m<ipython-input-49-d32f2730ef67>\u001b[0m in \u001b[0;36m<module>\u001b[0;34m()\u001b[0m\n\u001b[1;32m     12\u001b[0m \u001b[0mtest_target\u001b[0m \u001b[0;34m=\u001b[0m \u001b[0mtarget_array\u001b[0m\u001b[0;34m[\u001b[0m\u001b[0;36m10\u001b[0m\u001b[0;34m]\u001b[0m\u001b[0;34m\u001b[0m\u001b[0m\n\u001b[1;32m     13\u001b[0m \u001b[0;31m#n = len(test_target)\u001b[0m\u001b[0;34m\u001b[0m\u001b[0;34m\u001b[0m\u001b[0m\n\u001b[0;32m---> 14\u001b[0;31m \u001b[0mclf\u001b[0m\u001b[0;34m.\u001b[0m\u001b[0mfit\u001b[0m\u001b[0;34m(\u001b[0m\u001b[0mtrain_data\u001b[0m\u001b[0;34m,\u001b[0m\u001b[0mtrain_target\u001b[0m\u001b[0;34m)\u001b[0m\u001b[0;34m\u001b[0m\u001b[0m\n\u001b[0m",
      "\u001b[0;32m/anaconda2/lib/python2.7/site-packages/sklearn/svm/base.pyc\u001b[0m in \u001b[0;36mfit\u001b[0;34m(self, X, y, sample_weight)\u001b[0m\n\u001b[1;32m    148\u001b[0m                          \u001b[0morder\u001b[0m\u001b[0;34m=\u001b[0m\u001b[0;34m'C'\u001b[0m\u001b[0;34m,\u001b[0m \u001b[0maccept_sparse\u001b[0m\u001b[0;34m=\u001b[0m\u001b[0;34m'csr'\u001b[0m\u001b[0;34m,\u001b[0m\u001b[0;34m\u001b[0m\u001b[0m\n\u001b[1;32m    149\u001b[0m                          accept_large_sparse=False)\n\u001b[0;32m--> 150\u001b[0;31m         \u001b[0my\u001b[0m \u001b[0;34m=\u001b[0m \u001b[0mself\u001b[0m\u001b[0;34m.\u001b[0m\u001b[0m_validate_targets\u001b[0m\u001b[0;34m(\u001b[0m\u001b[0my\u001b[0m\u001b[0;34m)\u001b[0m\u001b[0;34m\u001b[0m\u001b[0m\n\u001b[0m\u001b[1;32m    151\u001b[0m \u001b[0;34m\u001b[0m\u001b[0m\n\u001b[1;32m    152\u001b[0m         sample_weight = np.asarray([]\n",
      "\u001b[0;32m/anaconda2/lib/python2.7/site-packages/sklearn/svm/base.pyc\u001b[0m in \u001b[0;36m_validate_targets\u001b[0;34m(self, y)\u001b[0m\n\u001b[1;32m    523\u001b[0m             raise ValueError(\n\u001b[1;32m    524\u001b[0m                 \u001b[0;34m\"The number of classes has to be greater than one; got %d\"\u001b[0m\u001b[0;34m\u001b[0m\u001b[0m\n\u001b[0;32m--> 525\u001b[0;31m                 \" class\" % len(cls))\n\u001b[0m\u001b[1;32m    526\u001b[0m \u001b[0;34m\u001b[0m\u001b[0m\n\u001b[1;32m    527\u001b[0m         \u001b[0mself\u001b[0m\u001b[0;34m.\u001b[0m\u001b[0mclasses_\u001b[0m \u001b[0;34m=\u001b[0m \u001b[0mcls\u001b[0m\u001b[0;34m\u001b[0m\u001b[0m\n",
      "\u001b[0;31mValueError\u001b[0m: The number of classes has to be greater than one; got 1 class"
     ]
    }
   ],
   "source": [
    "from sklearn import svm\n",
    "clf = svm.SVC(gamma = 0.001, C= 100) #can use these parameter in HW\n",
    "train_data = img_list2[:10]\n",
    "#print train_data[0].shape\n",
    "target_array = np.array([0]*23)\n",
    "\n",
    "#print train_data.shape\n",
    "train_target = target_array[:10]\n",
    "#print train_target.shape\n",
    "\n",
    "test_data = imgs[10]\n",
    "test_target = target_array[10]\n",
    "#n = len(test_target)\n",
    "clf.fit(train_data,train_target)"
   ]
  },
  {
   "cell_type": "code",
   "execution_count": null,
   "metadata": {},
   "outputs": [],
   "source": []
  }
 ],
 "metadata": {
  "kernelspec": {
   "display_name": "Python 2",
   "language": "python",
   "name": "python2"
  },
  "language_info": {
   "codemirror_mode": {
    "name": "ipython",
    "version": 2
   },
   "file_extension": ".py",
   "mimetype": "text/x-python",
   "name": "python",
   "nbconvert_exporter": "python",
   "pygments_lexer": "ipython2",
   "version": "2.7.15"
  }
 },
 "nbformat": 4,
 "nbformat_minor": 2
}
