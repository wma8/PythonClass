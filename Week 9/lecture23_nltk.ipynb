{
 "cells": [
  {
   "cell_type": "markdown",
   "metadata": {},
   "source": [
    "# Lecture 23:  Natural Language Toolkit - NLTK\n",
    "- Download data for practice analysis from the NLTK repository\n",
    "- Explore word usage with NLTK’s __concordance__, __similar__, and __dispersion_plot__ functions\n",
    "- Calculate a crude metric of the lexical diversity of a text by comparing the ratio of word __(token)__ types to total words\n",
    "- Calculate the frequency of each word type in a text, and other word metrics using the __FreqDist__ function\n",
    "\n",
    "__Reading material:__\n",
    "- Read the introduction to Chapter 1 of the [NLTK Book](http://www.nltk.org/book/ch01.html). \n",
    "\n",
    "*Note that this version of the book is for Python 3, but it can be used (with a few changes to the code) with Python 2. *\n",
    "- Follow 1.2, 1.3, 1.4\n",
    "- Follow Chapter 1, section 3 (all)\n",
    "- Skim Chapter 1, section 5. This will give you a good overview of the issues in natural language\n",
    "- Skim Chapter 3 for processing raw text processing.\n"
   ]
  },
  {
   "cell_type": "code",
   "execution_count": 1,
   "metadata": {},
   "outputs": [],
   "source": [
    "import nltk"
   ]
  },
  {
   "cell_type": "code",
   "execution_count": null,
   "metadata": {},
   "outputs": [
    {
     "name": "stdout",
     "output_type": "stream",
     "text": [
      "showing info https://raw.githubusercontent.com/nltk/nltk_data/gh-pages/index.xml\n"
     ]
    }
   ],
   "source": [
    "nltk.download()\n",
    "# nltk.download_shell()\n",
    "# try running \"nltk.download_shell()\" instead if there seems to be an issue using the downloader UI"
   ]
  },
  {
   "cell_type": "code",
   "execution_count": 1,
   "metadata": {},
   "outputs": [
    {
     "name": "stdout",
     "output_type": "stream",
     "text": [
      "*** Introductory Examples for the NLTK Book ***\n",
      "Loading text1, ..., text9 and sent1, ..., sent9\n",
      "Type the name of the text or sentence to view it.\n",
      "Type: 'texts()' or 'sents()' to list the materials.\n",
      "text1: Moby Dick by Herman Melville 1851\n",
      "text2: Sense and Sensibility by Jane Austen 1811\n",
      "text3: The Book of Genesis\n",
      "text4: Inaugural Address Corpus\n",
      "text5: Chat Corpus\n",
      "text6: Monty Python and the Holy Grail\n",
      "text7: Wall Street Journal\n",
      "text8: Personals Corpus\n",
      "text9: The Man Who Was Thursday by G . K . Chesterton 1908\n"
     ]
    }
   ],
   "source": [
    "from nltk.book import *"
   ]
  },
  {
   "cell_type": "code",
   "execution_count": 2,
   "metadata": {},
   "outputs": [
    {
     "name": "stdout",
     "output_type": "stream",
     "text": [
      "<Text: Moby Dick by Herman Melville 1851>\n"
     ]
    }
   ],
   "source": [
    "print text1"
   ]
  },
  {
   "cell_type": "code",
   "execution_count": 3,
   "metadata": {},
   "outputs": [
    {
     "name": "stdout",
     "output_type": "stream",
     "text": [
      "Displaying 14 of 14 matches:\n",
      "ueequeg seeing his favourite fishing food before him , and the chowder being s\n",
      "rning over the bottom of the sea for food . Charley Coffin said it was used fo\n",
      " jaws , the harpooneers chewed their food with such a relish that there was a \n",
      "is life on its summit , hoisting his food from the ground with a tackle ; in h\n",
      "the driftings of the sperm whale ' s food ; and , also , calling to mind the r\n",
      "ave every reason to believe that the food of the sperm whale -- squid or cuttl\n",
      "e to Moby Dick , they must also have food for their more common , daily appeti\n",
      " furnish to the sperm whale his only food . For though other species of whales\n",
      "h other species of whales find their food above water , and may be seen by man\n",
      "e spermaceti whale obtains his whole food in unknown zones below the surface ;\n",
      " can tell of what , precisely , that food consists . At times , when closely p\n",
      "s in water . But the Sperm Whale ' s food is far beneath the surface , and the\n",
      ". But the whaleman , as he seeks the food of light , so he lives in light . He\n",
      " not dawn upon that world . Here ' s food for thought , had Ahab time to think\n"
     ]
    }
   ],
   "source": [
    "# Searching Text\n",
    "text1.concordance(\"food\")"
   ]
  },
  {
   "cell_type": "code",
   "execution_count": 4,
   "metadata": {},
   "outputs": [
    {
     "name": "stdout",
     "output_type": "stream",
     "text": [
      "head bow back sake crew mouth hand time business lee ears names stern\n",
      "doom work sense boats ark spout office\n"
     ]
    }
   ],
   "source": [
    "# To find other words that appear in a similar range of contexts\n",
    "text1.similar(\"food\")"
   ]
  },
  {
   "cell_type": "code",
   "execution_count": 6,
   "metadata": {},
   "outputs": [
    {
     "data": {
      "image/png": "[encoded data removed]",
      "text/plain": [
       "<Figure size 432x288 with 1 Axes>"
      ]
     },
     "metadata": {
      "needs_background": "light"
     },
     "output_type": "display_data"
    }
   ],
   "source": [
    "text1.dispersion_plot([\"food\", \"time\", \"live\", \"here\"])"
   ]
  },
  {
   "cell_type": "code",
   "execution_count": 8,
   "metadata": {},
   "outputs": [
    {
     "name": "stdout",
     "output_type": "stream",
     "text": [
      "<FreqDist with 19317 samples and 260819 outcomes>\n"
     ]
    }
   ],
   "source": [
    "print fdist1"
   ]
  },
  {
   "cell_type": "code",
   "execution_count": 7,
   "metadata": {},
   "outputs": [
    {
     "name": "stdout",
     "output_type": "stream",
     "text": [
      "[(u',', 18713), (u'the', 13721), (u'.', 6862), (u'of', 6536), (u'and', 6024)]\n"
     ]
    },
    {
     "data": {
      "image/png": "[encoded data removed]",
      "text/plain": [
       "<Figure size 432x288 with 1 Axes>"
      ]
     },
     "metadata": {
      "needs_background": "light"
     },
     "output_type": "display_data"
    }
   ],
   "source": [
    "# to get frequency distribution of some text\n",
    "fdist1=FreqDist(text1)\n",
    "print fdist1.most_common(5)\n",
    "fdist1.plot(30, cumulative=False)"
   ]
  },
  {
   "cell_type": "code",
   "execution_count": null,
   "metadata": {},
   "outputs": [],
   "source": []
  },
  {
   "cell_type": "code",
   "execution_count": null,
   "metadata": {},
   "outputs": [],
   "source": []
  }
 ],
 "metadata": {
  "kernelspec": {
   "display_name": "Python 2",
   "language": "python",
   "name": "python2"
  },
  "language_info": {
   "codemirror_mode": {
    "name": "ipython",
    "version": 2
   },
   "file_extension": ".py",
   "mimetype": "text/x-python",
   "name": "python",
   "nbconvert_exporter": "python",
   "pygments_lexer": "ipython2",
   "version": "2.7.15"
  }
 },
 "nbformat": 4,
 "nbformat_minor": 2
}
