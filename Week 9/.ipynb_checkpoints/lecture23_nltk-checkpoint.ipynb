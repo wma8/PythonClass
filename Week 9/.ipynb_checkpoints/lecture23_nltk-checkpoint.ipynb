{
 "cells": [
  {
   "cell_type": "markdown",
   "metadata": {},
   "source": [
    "# Lecture 23:  Natural Language Toolkit - NLTK\n",
    "- Download data for practice analysis from the NLTK repository\n",
    "- Explore word usage with NLTK’s __concordance__, __similar__, and __dispersion_plot__ functions\n",
    "- Calculate a crude metric of the lexical diversity of a text by comparing the ratio of word __(token)__ types to total words\n",
    "- Calculate the frequency of each word type in a text, and other word metrics using the __FreqDist__ function\n",
    "\n",
    "__Reading material:__\n",
    "- Read the introduction to Chapter 1 of the [NLTK Book](http://www.nltk.org/book/ch01.html). \n",
    "\n",
    "*Note that this version of the book is for Python 3, but it can be used (with a few changes to the code) with Python 2. *\n",
    "- Follow 1.2, 1.3, 1.4\n",
    "- Follow Chapter 1, section 3 (all)\n",
    "- Skim Chapter 1, section 5. This will give you a good overview of the issues in natural language\n",
    "- Skim Chapter 3 for processing raw text processing.\n"
   ]
  },
  {
   "cell_type": "code",
   "execution_count": 1,
   "metadata": {},
   "outputs": [],
   "source": [
    "import nltk"
   ]
  },
  {
   "cell_type": "code",
   "execution_count": null,
   "metadata": {},
   "outputs": [
    {
     "name": "stdout",
     "output_type": "stream",
     "text": [
      "showing info https://raw.githubusercontent.com/nltk/nltk_data/gh-pages/index.xml\n"
     ]
    }
   ],
   "source": [
    "nltk.download()\n",
    "# nltk.download_shell()\n",
    "# try running \"nltk.download_shell()\" instead if there seems to be an issue using the downloader UI"
   ]
  },
  {
   "cell_type": "code",
   "execution_count": null,
   "metadata": {},
   "outputs": [],
   "source": [
    "from nltk.book import *"
   ]
  },
  {
   "cell_type": "code",
   "execution_count": null,
   "metadata": {},
   "outputs": [],
   "source": [
    "print text1"
   ]
  },
  {
   "cell_type": "code",
   "execution_count": null,
   "metadata": {},
   "outputs": [],
   "source": [
    "# Searching Text\n",
    "text1.concordance(\"food\")"
   ]
  },
  {
   "cell_type": "code",
   "execution_count": null,
   "metadata": {},
   "outputs": [],
   "source": [
    "# To find other words that appear in a similar range of contexts\n",
    "text1.similar(\"food\")"
   ]
  },
  {
   "cell_type": "code",
   "execution_count": null,
   "metadata": {},
   "outputs": [],
   "source": [
    "text1.dispersion_plot([\"food\", \"time\", \"live\", \"here\"])"
   ]
  },
  {
   "cell_type": "code",
   "execution_count": null,
   "metadata": {},
   "outputs": [],
   "source": [
    "# to get frequency distribution of some text\n",
    "fdist1=FreqDist(text1)\n",
    "print fdist1.most_common(5)\n",
    "fdist1.plot(30, cumulative=False)"
   ]
  },
  {
   "cell_type": "code",
   "execution_count": null,
   "metadata": {},
   "outputs": [],
   "source": []
  },
  {
   "cell_type": "code",
   "execution_count": null,
   "metadata": {},
   "outputs": [],
   "source": []
  }
 ],
 "metadata": {
  "kernelspec": {
   "display_name": "Python 2",
   "language": "python",
   "name": "python2"
  },
  "language_info": {
   "codemirror_mode": {
    "name": "ipython",
    "version": 2
   },
   "file_extension": ".py",
   "mimetype": "text/x-python",
   "name": "python",
   "nbconvert_exporter": "python",
   "pygments_lexer": "ipython2",
   "version": "2.7.15"
  }
 },
 "nbformat": 4,
 "nbformat_minor": 2
}
