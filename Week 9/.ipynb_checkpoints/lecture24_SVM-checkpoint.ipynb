{
 "cells": [
  {
   "cell_type": "markdown",
   "metadata": {},
   "source": [
    "# Lecture 24: \n",
    "- Support Vector Machines\n",
    "- Example: Handwritten Digit Recognition\n",
    "\n",
    "__Reading Material:__\n",
    "- [Machine learning: the problem setting](http://scikit-learn.org/stable/tutorial/basic/tutorial.html#machine-learning-the-problem-setting)\n",
    "- [Scikit-learn: Support Vector Machines (SVMs)](http://scikit-learn.org/stable/tutorial/statistical_inference/supervised_learning.html#support-vector-machines-svms)"
   ]
  },
  {
   "cell_type": "markdown",
   "metadata": {},
   "source": [
    "### Handwritten Digit Recognition\n",
    "\n",
    "In this lecture, we will build a hand-written digit classifier using Support Vector Machines.\n",
    "\n",
    "Read the section about Support Vector Machines (SVMs) from [this page](http://scikit-learn.org/stable/tutorial/statistical_inference/supervised_learning.html#support-vector-machines-svms). The only thing you really need to understand is that an SVM tries to perform classification by determining hyperplanes (the multidimensional analog to a 2D plane) that separate samples from the different classes.\n",
    "\n",
    "Read [Loading an example dataset](http://scikit-learn.org/stable/tutorial/basic/tutorial.html#loading-an-example-dataset). The data is just a NumPy array. Let's reshape the first row of digits.data to the shape of digits.images[0] and use the appropriate NumPy function to confirm that all corresponding elements are close (or the same). "
   ]
  },
  {
   "cell_type": "code",
   "execution_count": 1,
   "metadata": {},
   "outputs": [],
   "source": [
    "from sklearn import datasets\n",
    "digits = datasets.load_digits()"
   ]
  },
  {
   "cell_type": "code",
   "execution_count": 2,
   "metadata": {
    "scrolled": true
   },
   "outputs": [
    {
     "name": "stdout",
     "output_type": "stream",
     "text": [
      "<class 'sklearn.utils.Bunch'>\n",
      "<type 'numpy.ndarray'>\n",
      "(1797, 64)\n"
     ]
    }
   ],
   "source": [
    "print type(digits)\n",
    "print type(digits.data)\n",
    "print digits.data.shape"
   ]
  },
  {
   "cell_type": "code",
   "execution_count": 54,
   "metadata": {
    "scrolled": true
   },
   "outputs": [
    {
     "name": "stdout",
     "output_type": "stream",
     "text": [
      "[ 0.  0.  5. 13.  9.  1.  0.  0.  0.  0. 13. 15. 10. 15.  5.  0.  0.  3.\n",
      " 15.  2.  0. 11.  8.  0.  0.  4. 12.  0.  0.  8.  8.  0.  0.  5.  8.  0.\n",
      "  0.  9.  8.  0.  0.  4. 11.  0.  1. 12.  7.  0.  0.  2. 14.  5. 10. 12.\n",
      "  0.  0.  0.  0.  6. 13. 10.  0.  0.  0.]\n",
      "(64,)\n",
      "(1797, 64)\n"
     ]
    }
   ],
   "source": [
    "print digits.data[0,:]\n",
    "print digits.data[0,:].shape\n",
    "\n",
    "#same as \n",
    "#print digits.data[0]\n",
    "print digits.data.shape"
   ]
  },
  {
   "cell_type": "code",
   "execution_count": 4,
   "metadata": {},
   "outputs": [
    {
     "name": "stdout",
     "output_type": "stream",
     "text": [
      "[[ 0.  0.  5. 13.  9.  1.  0.  0.]\n",
      " [ 0.  0. 13. 15. 10. 15.  5.  0.]\n",
      " [ 0.  3. 15.  2.  0. 11.  8.  0.]\n",
      " [ 0.  4. 12.  0.  0.  8.  8.  0.]\n",
      " [ 0.  5.  8.  0.  0.  9.  8.  0.]\n",
      " [ 0.  4. 11.  0.  1. 12.  7.  0.]\n",
      " [ 0.  2. 14.  5. 10. 12.  0.  0.]\n",
      " [ 0.  0.  6. 13. 10.  0.  0.  0.]]\n",
      "(8, 8)\n",
      "<type 'numpy.ndarray'>\n"
     ]
    }
   ],
   "source": [
    "print digits.images[0]\n",
    "print digits.images[0].shape\n",
    "print type(digits.images[0])"
   ]
  },
  {
   "cell_type": "code",
   "execution_count": 5,
   "metadata": {},
   "outputs": [
    {
     "data": {
      "text/plain": [
       "True"
      ]
     },
     "execution_count": 5,
     "metadata": {},
     "output_type": "execute_result"
    }
   ],
   "source": [
    "import numpy as np\n",
    "zero = digits.data[0,:].reshape((8,8)) #manually reshape data into (8,8) nparray, ready to be drawn by plt.imshow\n",
    "\n",
    "# Returns True if two arrays are \n",
    "# element-wise equal within a tolerance.\n",
    "np.allclose(zero,digits.images[0])\n"
   ]
  },
  {
   "cell_type": "markdown",
   "metadata": {},
   "source": [
    "Now we visualize (graphically) a few of the 8 × 8 arrays in digits.image using the appropriate function of matplotlib, i.e., you should produce a (preferably grayscale) image of a number."
   ]
  },
  {
   "cell_type": "code",
   "execution_count": 6,
   "metadata": {},
   "outputs": [
    {
     "name": "stdout",
     "output_type": "stream",
     "text": [
      "0\n"
     ]
    },
    {
     "data": {
      "image/png": "[encoded data removed]",
      "text/plain": [
       "<Figure size 432x288 with 1 Axes>"
      ]
     },
     "metadata": {
      "needs_background": "light"
     },
     "output_type": "display_data"
    }
   ],
   "source": [
    "import matplotlib.pyplot as plt\n",
    "%matplotlib inline\n",
    "plt.imshow(zero, cmap = \"gray\")\n",
    "print digits.target[0]"
   ]
  },
  {
   "cell_type": "code",
   "execution_count": 7,
   "metadata": {},
   "outputs": [
    {
     "data": {
      "text/plain": [
       "1"
      ]
     },
     "execution_count": 7,
     "metadata": {},
     "output_type": "execute_result"
    },
    {
     "data": {
      "image/png": "[encoded data removed]",
      "text/plain": [
       "<Figure size 432x288 with 1 Axes>"
      ]
     },
     "metadata": {
      "needs_background": "light"
     },
     "output_type": "display_data"
    }
   ],
   "source": [
    "plt.imshow(digits.images[1], cmap = \"gray\")\n",
    "digits.target[1]"
   ]
  },
  {
   "cell_type": "code",
   "execution_count": 8,
   "metadata": {},
   "outputs": [
    {
     "data": {
      "text/plain": [
       "3"
      ]
     },
     "execution_count": 8,
     "metadata": {},
     "output_type": "execute_result"
    },
    {
     "data": {
      "image/png": "[encoded data removed]",
      "text/plain": [
       "<Figure size 432x288 with 1 Axes>"
      ]
     },
     "metadata": {
      "needs_background": "light"
     },
     "output_type": "display_data"
    }
   ],
   "source": [
    "plt.imshow(digits.images[23], cmap = \"gray\")\n",
    "digits.target[23]\n"
   ]
  },
  {
   "cell_type": "code",
   "execution_count": 9,
   "metadata": {},
   "outputs": [
    {
     "data": {
      "text/plain": [
       "(1797, 64)"
      ]
     },
     "execution_count": 9,
     "metadata": {},
     "output_type": "execute_result"
    }
   ],
   "source": [
    "digits.data.shape # so there are 1797 arrays of lenth 64, that represents pixel value for a digit image"
   ]
  },
  {
   "cell_type": "code",
   "execution_count": 42,
   "metadata": {},
   "outputs": [
    {
     "name": "stdout",
     "output_type": "stream",
     "text": [
      "[[ 0.  0.  5. ...  0.  0.  0.]\n",
      " [ 0.  0.  0. ... 10.  0.  0.]\n",
      " [ 0.  0.  0. ... 16.  9.  0.]\n",
      " ...\n",
      " [ 0.  0.  6. ...  6.  0.  0.]\n",
      " [ 0.  0.  1. ...  6.  0.  0.]\n",
      " [ 0.  0.  2. ... 12.  0.  0.]]\n",
      "[0 1 2 ... 0 8 9]\n",
      "[2, 3]\n"
     ]
    },
    {
     "data": {
      "text/plain": [
       "array([8])"
      ]
     },
     "execution_count": 42,
     "metadata": {},
     "output_type": "execute_result"
    }
   ],
   "source": [
    "from sklearn import svm\n",
    "clf = svm.SVC(gamma = 0.001, C= 100) \n",
    "# C is the Penalty parameter of the error term\n",
    "# gamma is the parameter of a Gaussian Kernel to handle non-linear classification.\n",
    "clf.fit(digits.data[:-1,:],digits.target[:-1]) #match the image arrays to the target digit number, \n",
    "                                                #for later training and test\n",
    "print digits.data[:-1,:]\n",
    "print digits.target[:-1]\n",
    "\n",
    "#print digits.target #is [0 1 2 ... 8 9 8]\n",
    "\n",
    "# alist = [0,1,2,3]\n",
    "# print alist[:-1] from the start to the end, exclude the end element in list\n",
    "print alist[-2:] #from the last second to the end, including the end element\n",
    "clf.predict(digits.data[-1:]) "
   ]
  },
  {
   "cell_type": "code",
   "execution_count": 49,
   "metadata": {},
   "outputs": [
    {
     "name": "stdout",
     "output_type": "stream",
     "text": [
      "(8, 8)\n"
     ]
    }
   ],
   "source": [
    "test_eight = digits.data[-1:].reshape((8,8)) #test to see if array really represents \"8\"\n",
    "test_eight = digits.data[-1].reshape((8,8)) #test with inappropriate array dimesion, still work b/c of reshape(8,8)\n",
    "#test_eight = test_eight.reshape((64,)) #use to to convert any shape of digit image array into (64,) to store in dataset\n",
    "print test_eight.shape\n",
    "#plt.imshow(test_eight, cmap = \"gray\")"
   ]
  },
  {
   "cell_type": "code",
   "execution_count": 50,
   "metadata": {},
   "outputs": [
    {
     "name": "stdout",
     "output_type": "stream",
     "text": [
      "<type 'numpy.int64'>\n",
      "[8]\n"
     ]
    }
   ],
   "source": [
    "print digits.target[-2]\n",
    "#print type(digits.target[-2]) #<type 'numpy.int64'>\n",
    "print digits.target[-1:]"
   ]
  },
  {
   "cell_type": "code",
   "execution_count": 19,
   "metadata": {},
   "outputs": [
    {
     "name": "stdout",
     "output_type": "stream",
     "text": [
      "[8]\n",
      "<type 'numpy.ndarray'>\n",
      "(1, 64)\n",
      "(64,)\n",
      "(64,)\n"
     ]
    }
   ],
   "source": [
    "print clf.predict(digits.data[-1:])\n",
    "#print clf.predict(digits.data[-1])\n",
    "\n",
    "print type(digits.data[-1:])\n",
    "print digits.data[-1:].shape  # this returns a 2D array\n",
    "\n",
    "print digits.data[-1].shape   # these don't, and will not work with clf.predict or\n",
    "print digits.data[-1,:].shape"
   ]
  },
  {
   "cell_type": "markdown",
   "metadata": {},
   "source": [
    "The digits data set is quite large. The example has you training using M = 1795 samples and testing on only one. When learning numbers, did you need to see 100 examples of each before you could recognize the digits 0-9? \n",
    "\n",
    "Now we modify the program to train using the first M = L - N samples (where __L is the total number__ of samples) and __test using the last N__ samples. \n",
    "\n",
    "Then we create a plot of the percentage of test digits accurately classified as a function of the number of digits M used as training data. "
   ]
  },
  {
   "cell_type": "code",
   "execution_count": 52,
   "metadata": {},
   "outputs": [
    {
     "name": "stdout",
     "output_type": "stream",
     "text": [
      "(1797, 64)\n"
     ]
    },
    {
     "data": {
      "text/plain": [
       "Text(0,0.5,'Prediction Accuracy')"
      ]
     },
     "execution_count": 52,
     "metadata": {},
     "output_type": "execute_result"
    },
    {
     "data": {
      "image/png": "[encoded data removed]",
      "text/plain": [
       "<Figure size 432x288 with 1 Axes>"
      ]
     },
     "metadata": {
      "needs_background": "light"
     },
     "output_type": "display_data"
    }
   ],
   "source": [
    "#deterministic method\n",
    "from sklearn import svm\n",
    "clf = svm.SVC(gamma = 0.001, C= 100) #can use these parameter in HW\n",
    "\n",
    "def accuracy(m):\n",
    "    train_data = digits.data[:m,:]\n",
    "    #print train_data.shape\n",
    "    train_target = digits.target[:m]\n",
    "    test_data = digits.data[m:]\n",
    "    test_target = digits.target[m:]\n",
    "    n = len(test_target)\n",
    "    clf.fit(train_data,train_target)\n",
    "    return sum(clf.predict(test_data)==test_target)*1.0/n\n",
    "print digits.data.shape\n",
    "l = len(digits.target)\n",
    "m = range(100,l,10)\n",
    "p = [accuracy(i) for i in m]\n",
    "plt.plot(m,p)\n",
    "plt.xlabel(\"Number of Training Samples\")\n",
    "plt.ylabel(\"Prediction Accuracy\")"
   ]
  },
  {
   "cell_type": "markdown",
   "metadata": {},
   "source": [
    "While accuracy tends to improve with more training data, note that the plot is not strictly monotonic – increasing the amount of training data does not always improve the classification accuracy. Another important thing to note is that the particular samples used to train on can also affect the accuracy. \n",
    "\n",
    "For M = 1000, we train on a random subset of the samples (see numpy.random.choice), test on the remaining samples, and calculate the accuracy. \n",
    "\n",
    "Now we repeat this process many times and generate a histogram of the accuracy."
   ]
  },
  {
   "cell_type": "code",
   "execution_count": 55,
   "metadata": {},
   "outputs": [
    {
     "name": "stdout",
     "output_type": "stream",
     "text": [
      "1797\n",
      "The history saving thread hit an unexpected error (OperationalError('unable to open database file',)).History will not be written to the database.\n"
     ]
    }
   ],
   "source": [
    "#random method\n",
    "l = len(digits.target)\n",
    "print l\n",
    "\n",
    "m = 1000\n",
    "accuracies = []\n",
    "num_trials = 1000\n",
    "for i in range(num_trials):\n",
    "    # Generate a uniform random sample \n",
    "    # from np.arange(l) of size m without replacement\n",
    "    train_i = np.random.choice(l,m, False)\n",
    "    #train_i = np.arange(m)\n",
    "    all_i = np.arange(l)\n",
    "    all_i[train_i] = -1\n",
    "    test_i = all_i[all_i > -1]\n",
    "\n",
    "    train_data = digits.data[train_i,:]\n",
    "    train_target = digits.target[train_i]\n",
    "    test_data = digits.data[test_i]\n",
    "    test_target = digits.target[test_i]\n",
    "    clf.fit(train_data,train_target)\n",
    "    \n",
    "    accuracy = sum(clf.predict(test_data)==test_target)*1.0/(l-m)\n",
    "    accuracies.append(accuracy)"
   ]
  },
  {
   "cell_type": "code",
   "execution_count": 33,
   "metadata": {},
   "outputs": [
    {
     "data": {
      "text/plain": [
       "(array([  2.,   1.,   2.,   6.,  11.,  62.,  76., 107., 136., 142., 286.,\n",
       "         82.,  52.,  27.,   8.]),\n",
       " array([0.9749059 , 0.97641154, 0.97791719, 0.97942284, 0.98092848,\n",
       "        0.98243413, 0.98393977, 0.98544542, 0.98695107, 0.98845671,\n",
       "        0.98996236, 0.99146801, 0.99297365, 0.9944793 , 0.99598494,\n",
       "        0.99749059]),\n",
       " <a list of 15 Patch objects>)"
      ]
     },
     "execution_count": 33,
     "metadata": {},
     "output_type": "execute_result"
    },
    {
     "data": {
      "image/png": "[encoded data removed]",
      "text/plain": [
       "<Figure size 432x288 with 1 Axes>"
      ]
     },
     "metadata": {
      "needs_background": "light"
     },
     "output_type": "display_data"
    }
   ],
   "source": [
    "plt.hist(accuracies,bins= 15)"
   ]
  },
  {
   "cell_type": "markdown",
   "metadata": {},
   "source": [
    "Training your machine can take a long time. If you want to use it again, you can save it rather than re-training it every time."
   ]
  }
 ],
 "metadata": {
  "kernelspec": {
   "display_name": "Python 2",
   "language": "python",
   "name": "python2"
  },
  "language_info": {
   "codemirror_mode": {
    "name": "ipython",
    "version": 2
   },
   "file_extension": ".py",
   "mimetype": "text/x-python",
   "name": "python",
   "nbconvert_exporter": "python",
   "pygments_lexer": "ipython2",
   "version": "2.7.15"
  }
 },
 "nbformat": 4,
 "nbformat_minor": 2
}
