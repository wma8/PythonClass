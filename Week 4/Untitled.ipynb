{
 "cells": [
  {
   "cell_type": "code",
   "execution_count": null,
   "metadata": {},
   "outputs": [],
   "source": [
    "#HW# P4\n",
    "import re\n",
    "def happiness(text):\n",
    "    dic = open('happiness_dictionary.py','r').read()\n",
    "    #print type(dic)\n",
    "    blocks = re.split(r'[\\s,\\.\\?\\!]',text.lower())\n",
    "    #print blocks\n",
    "    words = re.split(r'\\{|\\s',dic)\n",
    "    #print words\n",
    "    pairs = [re.split(r':|,|\\'',p) for p in words] #get rid of the \"'\" around words\n",
    "    #print pairs\n",
    "    '''\n",
    "    for j in pairs:\n",
    "        if len(j)>=4:\n",
    "            print j[1]\n",
    "            print j[1] == \"love\" #love is not \"love\", is \"'love'\" ????\n",
    "    \n",
    "    '''\n",
    "    count =0\n",
    "    score = 0\n",
    "    for i in blocks:\n",
    "        #print i\n",
    "        for j in pairs:\n",
    "            #print len(j) #checked, mostly 3\n",
    "            \"\"\"if j[0]==i:\n",
    "                print 'match =',i#checked, is the words in dic, and there is match of 'love', but why it doesn't enter loop?\n",
    "                if len(j) >=2:\n",
    "                    print 'length success'\n",
    "            \"\"\"\n",
    "            #print i #\n",
    "            if (len(j) >=4) and (j[1] == i):\n",
    "                print 'enter innest loop'\n",
    "                print j[1]\n",
    "                print i\n",
    "                count += 1\n",
    "                score += float(j[3])\n",
    "                print 'score =', j[3]\n",
    "    \n",
    "    print 'no =',count\n",
    "    print 'score =', score\n",
    "    if count != 0:\n",
    "        return score/count\n",
    "    else:\n",
    "        return 0\n",
    "        #target = str(i)\n",
    "        #re.search(target, dic)\n",
    "    \n",
    "#blocks\n",
    "#type(blocks)\n",
    "#idea: split the input text into a list, with element be each word. use re.search(r'^words$', dic)"
   ]
  }
 ],
 "metadata": {
  "kernelspec": {
   "display_name": "Python 2",
   "language": "python",
   "name": "python2"
  },
  "language_info": {
   "codemirror_mode": {
    "name": "ipython",
    "version": 2
   },
   "file_extension": ".py",
   "mimetype": "text/x-python",
   "name": "python",
   "nbconvert_exporter": "python",
   "pygments_lexer": "ipython2",
   "version": "2.7.15"
  }
 },
 "nbformat": 4,
 "nbformat_minor": 2
}
