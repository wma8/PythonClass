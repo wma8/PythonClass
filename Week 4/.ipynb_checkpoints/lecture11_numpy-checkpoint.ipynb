{
 "cells": [
  {
   "cell_type": "markdown",
   "metadata": {},
   "source": [
    "# Lecture 11: Numpy \n",
    "\n",
    "__Reading Material:__\n",
    "[Numpy tutorial](http://members.cbio.mines-paristech.fr/~nvaroquaux/formations/scipy-lecture-notes/intro/numpy/operations.html)\n",
    "- generate and manipulate arrays with NumPy\n",
    "- create basic plots with matplotlib.\n",
    "\n"
   ]
  },
  {
   "cell_type": "code",
   "execution_count": null,
   "metadata": {
    "collapsed": true
   },
   "outputs": [],
   "source": [
    "import numpy as np\n",
    "import math\n",
    "import matplotlib.pyplot as plt\n",
    "%matplotlib inline"
   ]
  },
  {
   "cell_type": "markdown",
   "metadata": {},
   "source": [
    "A reasonably Pythonic way of plotting the $\\sin$ function without using NumPy explicity..."
   ]
  },
  {
   "cell_type": "code",
   "execution_count": null,
   "metadata": {
    "collapsed": true
   },
   "outputs": [],
   "source": [
    "n_points = 100\n",
    "\n",
    "delta = 4*math.pi/(n_points-1)\n",
    "x = [delta*i for i in range(n_points)]\n",
    "y = [math.sin(x_i) for x_i in x]\n",
    "plt.plot(x, y,'-ro')"
   ]
  },
  {
   "cell_type": "markdown",
   "metadata": {},
   "source": [
    "Generating the x-points using NumPy..."
   ]
  },
  {
   "cell_type": "code",
   "execution_count": null,
   "metadata": {
    "collapsed": true
   },
   "outputs": [],
   "source": [
    "x = np.linspace(0,1,5,endpoint=False)\n",
    "print x"
   ]
  },
  {
   "cell_type": "code",
   "execution_count": null,
   "metadata": {
    "collapsed": true
   },
   "outputs": [],
   "source": [
    "x = np.linspace(0, 4*np.pi, n_points)"
   ]
  },
  {
   "cell_type": "markdown",
   "metadata": {},
   "source": [
    "Totally missing the point of NumPy arrays:"
   ]
  },
  {
   "cell_type": "code",
   "execution_count": null,
   "metadata": {
    "collapsed": true
   },
   "outputs": [],
   "source": [
    "y = np.zeros(len(x))\n",
    "for i, x_i in enumerate(x):\n",
    "    y[i] = np.sin(x_i)\n",
    "plt.plot(x,y)"
   ]
  },
  {
   "cell_type": "markdown",
   "metadata": {},
   "source": [
    "The correct approach:"
   ]
  },
  {
   "cell_type": "code",
   "execution_count": null,
   "metadata": {
    "collapsed": true
   },
   "outputs": [],
   "source": [
    "y = np.sin(x)\n",
    "plt.plot(x, y)"
   ]
  },
  {
   "cell_type": "markdown",
   "metadata": {},
   "source": [
    "I cannot think of a situation for which iterating over a NumPy array is the right thing to do. If you ever think you need to do this, think again. \n",
    "\n",
    "Get comfortable _vectorizing_ your scientific computing code: perform operations on entire arrays compactly using NumPy."
   ]
  },
  {
   "cell_type": "code",
   "execution_count": null,
   "metadata": {
    "collapsed": true
   },
   "outputs": [],
   "source": [
    "plt.plot(x, y, 'r-.')\n",
    "plt.xlabel(\"x-coordinate\")\n",
    "plt.ylabel(\"y-coordinate\")\n",
    "plt.title(\"y(x) = sin(x)\")"
   ]
  },
  {
   "cell_type": "markdown",
   "metadata": {},
   "source": [
    "Fancy use of `matplotlib` is not important for the class; I just wanted to show you what you _can_ do. I don't memorize this stuff; I look up what I want to do when I need it."
   ]
  },
  {
   "cell_type": "code",
   "execution_count": null,
   "metadata": {
    "collapsed": true
   },
   "outputs": [],
   "source": [
    "plt.rc('text', usetex=True)\n",
    "plt.rc('font', family='serif')\n",
    "plt.rc('font', size = 16)\n",
    "plt.plot(x, y, x, np.cos(x))\n",
    "plt.xlabel(\"$x$-coordinate\") # supports LaTeX, if you know it\n",
    "plt.ylabel(\"$y$-coordinate\")\n",
    "plt.title(\"$y(x) = f(x)$\")\n",
    "plt.legend((\"$f(x) = \\sin(x)$\", \"$f(x) = \\cos(x)$\"), bbox_to_anchor = (1,1))"
   ]
  },
  {
   "cell_type": "code",
   "execution_count": null,
   "metadata": {
    "collapsed": true
   },
   "outputs": [],
   "source": [
    "x = np.arange(24)\n",
    "print x\n",
    "print x.shape\n",
    "print x.ndim"
   ]
  },
  {
   "cell_type": "code",
   "execution_count": null,
   "metadata": {
    "collapsed": true
   },
   "outputs": [],
   "source": [
    "x = np.arange(24)\n",
    "print x.shape\n",
    "y = x.reshape((24,1))\n",
    "print y.shape"
   ]
  },
  {
   "cell_type": "code",
   "execution_count": null,
   "metadata": {
    "collapsed": true
   },
   "outputs": [],
   "source": [
    "y = x.reshape((4,6)) # 4 rows, 6 columns\n",
    "print y\n",
    "print y.shape\n",
    "print y.ndim"
   ]
  },
  {
   "cell_type": "code",
   "execution_count": null,
   "metadata": {
    "collapsed": true
   },
   "outputs": [],
   "source": [
    "z = x.reshape((2,3,-1)) # 2 pages, 3 rows, as many columns as needed to preserve the number of elements\n",
    "print z"
   ]
  },
  {
   "cell_type": "markdown",
   "metadata": {},
   "source": [
    "General rule: when specifying the shape of an array, columns is always last. Rows is second to last. \"Pages\" is third to last. And so on.\n",
    "\n",
    "Caution: for efficiency, many NumPy operations avoid copying data. They just give you different _views_ of the underlying data."
   ]
  },
  {
   "cell_type": "code",
   "execution_count": null,
   "metadata": {
    "collapsed": true
   },
   "outputs": [],
   "source": [
    "x[11] = 999\n",
    "print x\n",
    "print y\n",
    "print z"
   ]
  },
  {
   "cell_type": "markdown",
   "metadata": {},
   "source": [
    "<h3>Multidimensional Indexing:</h3> <br>\n",
    "As with shapes, the column index goes last, the row index goes second to last, the \"page\" goes third to last, etc..."
   ]
  },
  {
   "cell_type": "code",
   "execution_count": null,
   "metadata": {
    "collapsed": true
   },
   "outputs": [],
   "source": [
    "z[1,2,0]"
   ]
  },
  {
   "cell_type": "markdown",
   "metadata": {},
   "source": [
    "<h3>Slicing:</h3> <br>\n",
    "Slicing works the same way as it did with lists."
   ]
  },
  {
   "cell_type": "code",
   "execution_count": null,
   "metadata": {
    "collapsed": true
   },
   "outputs": [],
   "source": [
    "y = x[1:8:2] # slicing\n",
    "print y"
   ]
  },
  {
   "cell_type": "markdown",
   "metadata": {},
   "source": [
    "Except that it creates a _view_. It does not copy the data."
   ]
  },
  {
   "cell_type": "code",
   "execution_count": null,
   "metadata": {
    "collapsed": true
   },
   "outputs": [],
   "source": [
    "y[:] = 0\n",
    "print x"
   ]
  },
  {
   "cell_type": "markdown",
   "metadata": {},
   "source": [
    "You need to be explicit if you really need to copy data; you use the `copy` method. But try to avoid it."
   ]
  },
  {
   "cell_type": "markdown",
   "metadata": {},
   "source": [
    "<h3>Fancy Indexing:</h3> <br>\n",
    "Boolean masks are a really powerful tool for manipulating arrays."
   ]
  },
  {
   "cell_type": "code",
   "execution_count": null,
   "metadata": {
    "collapsed": true
   },
   "outputs": [],
   "source": [
    "# fancy indexing creates a copy\n",
    "x = np.arange(5)\n",
    "y = x[[0,2]]\n",
    "y[0] = 3\n",
    "print x\n",
    "print y"
   ]
  },
  {
   "cell_type": "code",
   "execution_count": null,
   "metadata": {
    "collapsed": true
   },
   "outputs": [],
   "source": [
    "# slicing creates a view\n",
    "x = np.arange(5)\n",
    "y = x[0:2]\n",
    "y[0] = 3\n",
    "print x\n",
    "print y"
   ]
  },
  {
   "cell_type": "code",
   "execution_count": null,
   "metadata": {
    "collapsed": true
   },
   "outputs": [],
   "source": [
    "x = np.arange(10)\n",
    "mask = x <= 6\n",
    "print mask\n",
    "print x[mask]"
   ]
  },
  {
   "cell_type": "markdown",
   "metadata": {},
   "source": [
    "Unfortunately, we can't chain logical operators as we can with built-in data types. You have to explicitly use NumPy's versions of the boolean operators."
   ]
  },
  {
   "cell_type": "code",
   "execution_count": null,
   "metadata": {
    "collapsed": true
   },
   "outputs": [],
   "source": [
    "mask1 = x <= 6\n",
    "mask2 = x >= 3\n",
    "mask3 = np.logical_and(mask1, mask2)\n",
    "print mask1\n",
    "print mask2\n",
    "print mask3"
   ]
  },
  {
   "cell_type": "code",
   "execution_count": null,
   "metadata": {
    "collapsed": true
   },
   "outputs": [],
   "source": [
    "mask4 = np.logical_xor(mask1, mask2) # we learned xor the other day\n",
    "print mask4"
   ]
  },
  {
   "cell_type": "markdown",
   "metadata": {},
   "source": [
    "Boolean masks create a _copy_ of the data."
   ]
  },
  {
   "cell_type": "code",
   "execution_count": null,
   "metadata": {
    "collapsed": true
   },
   "outputs": [],
   "source": [
    "y = x[mask]\n",
    "print x\n",
    "print y\n",
    "y[:] = 0\n",
    "print x\n",
    "print y"
   ]
  },
  {
   "cell_type": "markdown",
   "metadata": {},
   "source": [
    "Another form of fancy indexing is using index arrays. I don't use this quite as often, but it can come in handy."
   ]
  },
  {
   "cell_type": "code",
   "execution_count": null,
   "metadata": {
    "collapsed": true
   },
   "outputs": [],
   "source": [
    "x = np.arange(24).reshape((4,-1))\n",
    "print x\n",
    "y = np.arange(x.shape[1])\n",
    "print y"
   ]
  },
  {
   "cell_type": "code",
   "execution_count": null,
   "metadata": {
    "collapsed": true
   },
   "outputs": [],
   "source": [
    "i = np.random.permutation(y)\n",
    "print i\n",
    "print x[:,i]"
   ]
  },
  {
   "cell_type": "markdown",
   "metadata": {},
   "source": [
    "<h3>Broadcasting:</h3> <br>\n",
    "A fancy name for the rules when applying operations to shapes of different shapes.\n",
    "\n",
    "Typically, operations are performed element by element."
   ]
  },
  {
   "cell_type": "code",
   "execution_count": null,
   "metadata": {
    "collapsed": true
   },
   "outputs": [],
   "source": [
    "x = np.arange(10)\n",
    "print x * x"
   ]
  },
  {
   "cell_type": "markdown",
   "metadata": {},
   "source": [
    "But when we have arrays of different sizes..."
   ]
  },
  {
   "cell_type": "code",
   "execution_count": null,
   "metadata": {
    "collapsed": true
   },
   "outputs": [],
   "source": [
    "y = x.reshape((1,-1))\n",
    "print y"
   ]
  },
  {
   "cell_type": "code",
   "execution_count": null,
   "metadata": {
    "collapsed": true
   },
   "outputs": [],
   "source": [
    "z = x.reshape((-1,1))\n",
    "print z\n",
    "\n",
    "print y.shape\n",
    "print z.shape"
   ]
  },
  {
   "cell_type": "code",
   "execution_count": null,
   "metadata": {
    "collapsed": true
   },
   "outputs": [],
   "source": [
    "print y+z"
   ]
  },
  {
   "cell_type": "markdown",
   "metadata": {},
   "source": [
    "The operation can be performed on every combination of elements from the two arrays.\n",
    "Not essential for this class, but can be really handy in writing compact code for scientific computing."
   ]
  },
  {
   "cell_type": "code",
   "execution_count": null,
   "metadata": {
    "collapsed": true
   },
   "outputs": [],
   "source": []
  },
  {
   "cell_type": "markdown",
   "metadata": {},
   "source": [
    "## Imshow( ) and RGB color channels\n",
    "Instead of using a single real number per pixel, for which we then need to find a colormap, we can also specify the color explicitly, using three channels (red, green and blue). If an array is n × m × 3, then imshow() interprets this as an image with RGB colors. The strength of each of the three colors is specified in the range [0,1]. For example, this is how we specify a 2 × 3 image, with colors red, green, blue, and purple, white, black:"
   ]
  },
  {
   "cell_type": "code",
   "execution_count": null,
   "metadata": {
    "collapsed": true
   },
   "outputs": [],
   "source": [
    "image=[[[1.0,0.0,0.0],[0.0,1,0.0],[0.0,0.0,1.0]],\n",
    "       [[1.0,0.0,1.0],[1.0,1.0,1.0],[0.0,0.0,0.0]]]\n",
    "plt.imshow(image)\n",
    "plt.show()"
   ]
  },
  {
   "cell_type": "markdown",
   "metadata": {},
   "source": [
    "We may also import image files, which are translated to arrays of this form, using the __matplotlib.image__ module."
   ]
  },
  {
   "cell_type": "code",
   "execution_count": null,
   "metadata": {
    "collapsed": true
   },
   "outputs": [],
   "source": [
    "import matplotlib.image as mpimg \n",
    "img=mpimg.imread('kitty-cat.jpg') \n",
    "plt.imshow(img)\n",
    "plt.show()"
   ]
  },
  {
   "cell_type": "code",
   "execution_count": null,
   "metadata": {
    "collapsed": true
   },
   "outputs": [],
   "source": [
    "print type(img)\n",
    "print img.ndim\n",
    "print img.shape\n",
    "print img.dtype"
   ]
  },
  {
   "cell_type": "code",
   "execution_count": null,
   "metadata": {
    "collapsed": true
   },
   "outputs": [],
   "source": []
  }
 ],
 "metadata": {
  "kernelspec": {
   "display_name": "Python 2",
   "language": "python",
   "name": "python2"
  },
  "language_info": {
   "codemirror_mode": {
    "name": "ipython",
    "version": 2
   },
   "file_extension": ".py",
   "mimetype": "text/x-python",
   "name": "python",
   "nbconvert_exporter": "python",
   "pygments_lexer": "ipython2",
   "version": "2.7.15"
  }
 },
 "nbformat": 4,
 "nbformat_minor": 2
}
