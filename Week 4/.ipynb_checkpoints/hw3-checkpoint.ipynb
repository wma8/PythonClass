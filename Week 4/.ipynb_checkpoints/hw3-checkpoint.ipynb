{
 "cells": [
  {
   "cell_type": "code",
   "execution_count": 26,
   "metadata": {},
   "outputs": [],
   "source": [
    "#HW3 P1 done\n",
    "import re\n",
    "def mytype(v):\n",
    "    a = str(v)\n",
    "    #print a\n",
    "    #print type(a)\n",
    "    if re.search(r'\\[(\\d, )*\\d?\\]',a) != None: #test list\n",
    "        return \"list\"\n",
    "    elif re.search(r'-?\\d+\\.\\d+',a) != None: #test float\n",
    "        return \"float\"\n",
    "    elif re.search(r'^-?\\d+$',a) != None: #test int\n",
    "        return \"integer\"\n",
    "    else: \n",
    "        return \"string\"\n",
    "\n",
    "#re.search(r'[^\\d\\[\\]]',a).group() == a #test string, using [^...] not ??\n"
   ]
  },
  {
   "cell_type": "code",
   "execution_count": 21,
   "metadata": {},
   "outputs": [
    {
     "name": "stdout",
     "output_type": "stream",
     "text": [
      "<type 'str'>\n"
     ]
    }
   ],
   "source": [
    "print type(\"dd'd'd234d'd'd'd''\")\n",
    "\n",
    "\n"
   ]
  },
  {
   "cell_type": "code",
   "execution_count": 23,
   "metadata": {},
   "outputs": [
    {
     "data": {
      "text/plain": [
       "'integer'"
      ]
     },
     "execution_count": 23,
     "metadata": {},
     "output_type": "execute_result"
    }
   ],
   "source": [
    "#mytype([1,2])\n",
    "mytype(-0)\n",
    "#mytype(1.343)\n",
    "#mytype(\"afad d \")\n",
    "#mytype([  ])"
   ]
  },
  {
   "cell_type": "code",
   "execution_count": 22,
   "metadata": {},
   "outputs": [
    {
     "name": "stdout",
     "output_type": "stream",
     "text": [
      "[1, 3, 3, 5]\n",
      "<type 'list'>\n"
     ]
    }
   ],
   "source": [
    "k = [1,3,3,5]\n",
    "print k\n",
    "print type(k)"
   ]
  },
  {
   "cell_type": "code",
   "execution_count": 49,
   "metadata": {},
   "outputs": [],
   "source": [
    "#HW3 P2 done\n",
    "def findpdfs(L):\n",
    "    #l = str(L)\n",
    "    return re.findall(r'\\w+(?=\\.pdf)',str(L))\n"
   ]
  },
  {
   "cell_type": "code",
   "execution_count": 51,
   "metadata": {},
   "outputs": [
    {
     "data": {
      "text/plain": [
       "['1232112', 'hdjd334', 'JKljdk34']"
      ]
     },
     "execution_count": 51,
     "metadata": {},
     "output_type": "execute_result"
    }
   ],
   "source": [
    "L = ['1232112.pdf', 'hdjd334.pdf', 'jdjal.jpd', 'JKljdk34.pdf']\n",
    "findpdfs(L)"
   ]
  },
  {
   "cell_type": "code",
   "execution_count": 250,
   "metadata": {},
   "outputs": [
    {
     "name": "stdout",
     "output_type": "stream",
     "text": [
      "['jli@stat.ucla.edu']\n",
      "['hangjie@math.ucla.edu', 'hangjie@math.ucla.edu']\n",
      "['montufar@math.ucla.edu']\n",
      "['kcli@stat.ucla.edu']\n",
      "['handcock@ucla.edu', 'handcock@ucla.edu']\n"
     ]
    }
   ],
   "source": [
    "#HW# P3 done\n",
    "import urllib2\n",
    "def findemail(url):\n",
    "#url = \"http://www.math.ucla.edu/~hangjie/contact\"\n",
    "    page=urllib2.urlopen(url).read() #get source code for the page\n",
    "    page=page.replace(' [at] ', '@').replace(' at ', '@').replace(' AT ', '@').replace(' [AT] ','@').\\\n",
    "    replace(' [dot] ','.').replace(' [DOT] ','.').replace(' dot ','.').replace(' DOT ','.').replace('[at]', '@')\\\n",
    "    .replace('[AT]', '@').replace('[dot]','.').replace('[DOT]','.')#change to standard email form\n",
    "\n",
    "    return re.findall(r'\\w*@(?:[A-Za-z0-9]+\\.)+\\w+',page)\n",
    "    \n",
    "print findemail(\"http://jsb.ucla.edu/contact\")\n",
    "print findemail(\"http://www.math.ucla.edu/~hangjie/contact\")\n",
    "print findemail('http://www.math.ucla.edu/~montufar/')\n",
    "print findemail('http://www.stat.ucla.edu/~kcli/')\n",
    "print findemail('http://www.stat.ucla.edu/~handcock/msh/info.html#contact')\n",
    "#http://jsb.ucla.edu/contact\n",
    "#idea: use replace('[at]','@').replace(' at ','@').sth to replace all trick into normal expression\n"
   ]
  },
  {
   "cell_type": "code",
   "execution_count": null,
   "metadata": {},
   "outputs": [],
   "source": []
  },
  {
   "cell_type": "code",
   "execution_count": 84,
   "metadata": {},
   "outputs": [
    {
     "data": {
      "text/plain": [
       "\"test1=urllib2.urlopen(url2).read()\\ntest2=test1.replace('[at]', '@').replace(' at ', '@').replace(' AT ', '@').replace('[AT]','@').    replace('[dot]','.').replace('[DOT]','.').replace(' dot ','.').replace(' DOT ','.').replace(' [at] ', '@')    .replace(' [AT] ', '@')#change to standard email form   \\n\""
      ]
     },
     "execution_count": 84,
     "metadata": {},
     "output_type": "execute_result"
    }
   ],
   "source": [
    "url2 = 'http://www.stat.ucla.edu/~handcock/msh/info.html#contact'\n",
    "'''test1=urllib2.urlopen(url2).read()\n",
    "test2=test1.replace('[at]', '@').replace(' at ', '@').replace(' AT ', '@').replace('[AT]','@').\\\n",
    "    replace('[dot]','.').replace('[DOT]','.').replace(' dot ','.').replace(' DOT ','.').replace(' [at] ', '@')\\\n",
    "    .replace(' [AT] ', '@')#change to standard email form   \n",
    "'''\n",
    "#print test1\n",
    "#print test2\n",
    "#print re.findall(r'\\w*@(?:[A-Za-z0-9]+\\.)+\\w+',test2) #add ?: in () to indicate \"not capturing group\"!!!"
   ]
  },
  {
   "cell_type": "code",
   "execution_count": 247,
   "metadata": {},
   "outputs": [],
   "source": [
    "#HW# P4\n",
    "import re\n",
    "def happiness(text):\n",
    "    dic = open('happiness_dictionary.py','r').read()\n",
    "    #print type(dic)\n",
    "    blocks = re.split(r'[\\s,\\.\\?\\!]',text.lower())\n",
    "    #print blocks\n",
    "    words = re.split(r'\\{|\\s',dic)\n",
    "    #print words\n",
    "    pairs = [re.split(r':|,|\\'s',p) for p in words] #get rid of the \"'\" around words\n",
    "    #print pairs\n",
    "    '''\n",
    "    for j in pairs:\n",
    "        if len(j)>=4:\n",
    "            print j[1]\n",
    "            print j[1] == \"love\" #love is not \"love\", is \"'love'\" ????\n",
    "    \n",
    "    '''\n",
    "    count =0\n",
    "    score = 0\n",
    "    for i in blocks:\n",
    "        #print i\n",
    "        for j in pairs:\n",
    "            #print len(j) #checked, mostly 3\n",
    "            \"\"\"if j[0]==i:\n",
    "                print 'match =',i#checked, is the words in dic, and there is match of 'love', but why it doesn't enter loop?\n",
    "                if len(j) >=2:\n",
    "                    print 'length success'\n",
    "            \"\"\"\n",
    "            #print i #\n",
    "            if (len(j) >=4) and (j[1] == i):\n",
    "                print 'enter innest loop'\n",
    "                print j[1]\n",
    "                print i\n",
    "                count += 1\n",
    "                score += float(j[3])\n",
    "                print 'score =', j[3]\n",
    "    \n",
    "    print 'no =',count\n",
    "    print 'score =', score\n",
    "    if count != 0:\n",
    "        return score/count\n",
    "    else:\n",
    "        return 0\n",
    "        #target = str(i)\n",
    "        #re.search(target, dic)\n",
    "    \n",
    "#blocks\n",
    "#type(blocks)\n",
    "#idea: split the input text into a list, with element be each word. use re.search(r'^words$', dic)"
   ]
  },
  {
   "cell_type": "code",
   "execution_count": 248,
   "metadata": {},
   "outputs": [
    {
     "name": "stdout",
     "output_type": "stream",
     "text": [
      "enter innest loop\n",
      "j\n",
      "j\n",
      "score = 5.04\n",
      "enter innest loop\n",
      "know\n",
      "know\n",
      "score = 6.1\n",
      "enter innest loop\n",
      "what\n",
      "what\n",
      "score = 4.8\n",
      "enter innest loop\n",
      "to\n",
      "to\n",
      "score = 4.98\n",
      "enter innest loop\n",
      "do\n",
      "do\n",
      "score = 5.76\n",
      "enter innest loop\n",
      "i\n",
      "i\n",
      "score = 5.92\n",
      "enter innest loop\n",
      "love\n",
      "love\n",
      "score = 8.42\n",
      "enter innest loop\n",
      "but\n",
      "but\n",
      "score = 4.24\n",
      "enter innest loop\n",
      "does\n",
      "does\n",
      "score = 5.22\n",
      "enter innest loop\n",
      "she\n",
      "she\n",
      "score = 6.18\n",
      "enter innest loop\n",
      "know\n",
      "know\n",
      "score = 6.1\n",
      "no = 11\n",
      "score = 62.76\n"
     ]
    },
    {
     "data": {
      "text/plain": [
       "5.705454545454546"
      ]
     },
     "execution_count": 248,
     "metadata": {},
     "output_type": "execute_result"
    }
   ],
   "source": [
    "happiness(\"j don't know what to do, I love vivi. But does she know?\")"
   ]
  },
  {
   "cell_type": "code",
   "execution_count": 193,
   "metadata": {},
   "outputs": [
    {
     "name": "stdout",
     "output_type": "stream",
     "text": [
      "True\n",
      "True\n"
     ]
    }
   ],
   "source": [
    "str1 = 'abc'\n",
    "str2 = 'abc'\n",
    "l = ['ss','sd','']\n",
    "print len(l)>=2 and (str1 == 'abc')\n",
    "print (str1 == str2) and (str1 == 'abc')"
   ]
  },
  {
   "cell_type": "code",
   "execution_count": 144,
   "metadata": {},
   "outputs": [
    {
     "name": "stdout",
     "output_type": "stream",
     "text": [
      "3\n"
     ]
    }
   ],
   "source": [
    "list1 = [1,2,'dd']\n",
    "print len(list1)"
   ]
  },
  {
   "cell_type": "code",
   "execution_count": null,
   "metadata": {},
   "outputs": [],
   "source": []
  }
 ],
 "metadata": {
  "kernelspec": {
   "display_name": "Python 2",
   "language": "python",
   "name": "python2"
  },
  "language_info": {
   "codemirror_mode": {
    "name": "ipython",
    "version": 2
   },
   "file_extension": ".py",
   "mimetype": "text/x-python",
   "name": "python",
   "nbconvert_exporter": "python",
   "pygments_lexer": "ipython2",
   "version": "2.7.15"
  }
 },
 "nbformat": 4,
 "nbformat_minor": 2
}
