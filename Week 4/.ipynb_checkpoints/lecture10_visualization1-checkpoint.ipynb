{
 "cells": [
  {
   "cell_type": "markdown",
   "metadata": {},
   "source": [
    "# Lecture 10: \n",
    "\n",
    "1. Turtle\n",
    "2. Matplotlib and pyplot\n",
    "\n",
    "__Reading Material:__ \n",
    "- [Recursion](http://openbookproject.net/thinkcs/python/english3e/recursion.html)\n",
    "- [Matplotlib tutorial](https://matplotlib.org/users/pyplot_tutorial.html)\n"
   ]
  },
  {
   "cell_type": "markdown",
   "metadata": {},
   "source": [
    "## Turtle\n",
    "You may have seen turtle or superlogo as a kid. Turtle is a simple programming environment, which is a visual and intuitive way to practice algorithm structure. The basic moves of the turtle are moving forward and turning. \n",
    "\n",
    "For example, drawing a square:"
   ]
  },
  {
   "cell_type": "code",
   "execution_count": null,
   "metadata": {
    "collapsed": true
   },
   "outputs": [],
   "source": [
    "import turtle as t"
   ]
  },
  {
   "cell_type": "code",
   "execution_count": null,
   "metadata": {},
   "outputs": [],
   "source": [
    "for _ in range(4):\n",
    "    t.fd(100)\n",
    "    t.right(90)\n",
    "t.done()"
   ]
  },
  {
   "cell_type": "markdown",
   "metadata": {
    "collapsed": true
   },
   "source": [
    "We create a variation on the Koch snowflake using turtle. \n",
    "\n",
    "See also the example here:\n",
    "openbookproject.net/thinkcs/python/english3e/recursion.html\n",
    "\n",
    "Instead of triangles, we use a square shape as the basis of the fractal. Try to come up with more variations yourself."
   ]
  },
  {
   "cell_type": "code",
   "execution_count": null,
   "metadata": {
    "collapsed": true
   },
   "outputs": [],
   "source": [
    "def koch_square(n,L):\n",
    "    if n==0:\n",
    "        t.fd(10)\n",
    "    else:\n",
    "        koch_square(n-1,L/3)\n",
    "        t.left(90)\n",
    "        koch_square(n-1,L/3)\n",
    "        t.right(90)\n",
    "        koch_square(n-1,L/3)\n",
    "        t.right(90)\n",
    "        koch_square(n-1,L/3)\n",
    "        t.left(90)\n",
    "        koch_square(n-1,L/3)\n",
    "\n",
    "koch_square(5,500)\n",
    "t.done()"
   ]
  },
  {
   "cell_type": "markdown",
   "metadata": {},
   "source": [
    "### Exercises\n",
    "- Use __t.begin_fill( )__ and __t.end_fill( )__ to create a function __check(n)__,which draws an n×n black and white checkerboard."
   ]
  },
  {
   "cell_type": "code",
   "execution_count": null,
   "metadata": {
    "collapsed": true
   },
   "outputs": [],
   "source": []
  },
  {
   "cell_type": "markdown",
   "metadata": {},
   "source": [
    "- Create a function ngon(n), which draws a regular n-gon."
   ]
  },
  {
   "cell_type": "code",
   "execution_count": null,
   "metadata": {
    "collapsed": true
   },
   "outputs": [],
   "source": []
  },
  {
   "cell_type": "markdown",
   "metadata": {},
   "source": [
    "## Matplotlib and pyplot"
   ]
  },
  {
   "cell_type": "markdown",
   "metadata": {},
   "source": [
    "We will be working a lot with __matplotlib__ and __pyplot__, and its most basic function: plot(), which takes as input a list of x-coordinates and y-coordinates, and plots those points. In its most basic form, it plots them and connectes them by a line.\n",
    "\n",
    "You may need to insert, at the beginning of the notebook the following magic:\n",
    "\n",
    "%matplotlib inline"
   ]
  },
  {
   "cell_type": "code",
   "execution_count": null,
   "metadata": {},
   "outputs": [],
   "source": [
    "import matplotlib.pyplot as plt\n",
    "plt.plot([0,1,2,3],[5,9,3,2])\n",
    "plt.show()"
   ]
  },
  {
   "cell_type": "markdown",
   "metadata": {},
   "source": [
    "We can also specify the linestyle. For example, we can ask for discrete points (o for bullets), and specify a color (r for red):"
   ]
  },
  {
   "cell_type": "code",
   "execution_count": null,
   "metadata": {},
   "outputs": [],
   "source": [
    "plt.plot([0,1,2,3],[5,9,3,2],'ro')\n",
    "plt.show()"
   ]
  },
  {
   "cell_type": "markdown",
   "metadata": {},
   "source": [
    "To make our plot more readable, we can change the axes range, and add a title and axis labels. We can also plot multiple plots in the same figure, by adding them to the same execution. For example:"
   ]
  },
  {
   "cell_type": "code",
   "execution_count": null,
   "metadata": {},
   "outputs": [],
   "source": [
    "plt.plot([0,1,2,3],[5,9,3,2],'ro')\n",
    "plt.axis([-1,4,0,10])\n",
    "plt.title('My plot')\n",
    "plt.xlabel('horizontal')\n",
    "plt.ylabel('vertical')\n",
    "plt.show()"
   ]
  },
  {
   "cell_type": "markdown",
   "metadata": {},
   "source": [
    "### Exercises:\n",
    "- Use __plt.plot( )__ to draw a sin(x) function. Do this by plotting many points, which together look like a smooth line."
   ]
  },
  {
   "cell_type": "code",
   "execution_count": null,
   "metadata": {
    "collapsed": true
   },
   "outputs": [],
   "source": []
  },
  {
   "cell_type": "markdown",
   "metadata": {},
   "source": [
    "- Use __plt.plot( )__ to write a function that draws regular n-gons. You will do this in a very different way from the way you did this in turtle."
   ]
  },
  {
   "cell_type": "code",
   "execution_count": null,
   "metadata": {
    "collapsed": true
   },
   "outputs": [],
   "source": []
  },
  {
   "cell_type": "markdown",
   "metadata": {},
   "source": [
    "- Use __plt.plot( )__ to plot the error in Newton's method for approximating roots in each iteration"
   ]
  },
  {
   "cell_type": "code",
   "execution_count": null,
   "metadata": {
    "collapsed": true
   },
   "outputs": [],
   "source": []
  }
 ],
 "metadata": {
  "kernelspec": {
   "display_name": "Python 2",
   "language": "python",
   "name": "python2"
  },
  "language_info": {
   "codemirror_mode": {
    "name": "ipython",
    "version": 2
   },
   "file_extension": ".py",
   "mimetype": "text/x-python",
   "name": "python",
   "nbconvert_exporter": "python",
   "pygments_lexer": "ipython2",
   "version": "2.7.15"
  }
 },
 "nbformat": 4,
 "nbformat_minor": 2
}
