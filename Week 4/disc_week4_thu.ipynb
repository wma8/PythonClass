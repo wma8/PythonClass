{
 "cells": [
  {
   "cell_type": "markdown",
   "metadata": {},
   "source": [
    "# Simplifying Regular Expressions\n",
    "\n",
    "Rewrite each regular expression to be simpler. (*Simpler* isn't a super-precise technical term. Often, shorter is simpler, but not always.)"
   ]
  },
  {
   "cell_type": "code",
   "execution_count": 30,
   "metadata": {},
   "outputs": [],
   "source": [
    "import re\n",
    "def abbrev(s):\n",
    "    if len(s) > 20:\n",
    "        return s[:10] + \"...\" + s[-10:]\n",
    "    return s\n",
    "def print_match(r, s):\n",
    "    print \"re.match(%s, %s) = %s\" % (abbrev(repr(r)), abbrev(repr(s)), bool(re.match(r, s)))"
   ]
  },
  {
   "cell_type": "code",
   "execution_count": 33,
   "metadata": {},
   "outputs": [
    {
     "name": "stdout",
     "output_type": "stream",
     "text": [
      "re.match('^[0-9][0-...-9][0-9]$', '70368744177664') = False\n",
      "re.match('^[0-9][0-...-9][0-9]$', '1125899906842624') = True\n",
      "re.match('^[0-9][0-...-9][0-9]$', '18014398509481984') = False\n"
     ]
    }
   ],
   "source": [
    "r = \"^[0-9][0-9][0-9][0-9][0-9][0-9][0-9][0-9][0-9][0-9][0-9][0-9][0-9][0-9][0-9][0-9]$\"\n",
    "print_match(r, str(2**46))\n",
    "print_match(r, str(2**50))\n",
    "print_match(r, str(2**54))"
   ]
  },
  {
   "cell_type": "code",
   "execution_count": null,
   "metadata": {},
   "outputs": [],
   "source": [
    "r = r\"^http://|^https://\"\n",
    "print_match(r, \"http://example.com\")\n",
    "print_match(r, \"https://example.com\")\n",
    "print_match(r, \"url=http://example.com\")"
   ]
  },
  {
   "cell_type": "code",
   "execution_count": 23,
   "metadata": {},
   "outputs": [
    {
     "name": "stdout",
     "output_type": "stream",
     "text": [
      "re.match('[hH][tT][tT][pP][sS]', 'https://example.com') = True\n",
      "re.match('[hH][tT][tT][pP][sS]', 'HTTPS://EXAMPLE.COM') = True\n",
      "re.match('[hH][tT][tT][pP][sS]', 'http://example.com') = False\n"
     ]
    }
   ],
   "source": [
    "r = \"^[hH][tT][tT][pP][sS]://\"\n",
    "print_match(r, \"https://example.com\")\n",
    "print_match(r, \"HTTPS://EXAMPLE.COM\")\n",
    "print_match(r, \"http://example.com\")"
   ]
  },
  {
   "cell_type": "code",
   "execution_count": 35,
   "metadata": {},
   "outputs": [
    {
     "name": "stdout",
     "output_type": "stream",
     "text": [
      "re.match('.*mad|.*m...mod|.*mud', 'mad hatter') = True\n",
      "re.match('.*mad|.*m...mod|.*mud', 'rain makes mud') = True\n",
      "re.match('.*mad|.*m...mod|.*mud', 'medical bay') = False\n"
     ]
    }
   ],
   "source": [
    "r = \".*mad|.*mid|.*mod|.*mud\"\n",
    "print_match(r, \"mad hatter\")\n",
    "print_match(r, \"rain makes mud\")\n",
    "print_match(r, \"medical bay\")"
   ]
  },
  {
   "cell_type": "code",
   "execution_count": 38,
   "metadata": {},
   "outputs": [
    {
     "name": "stdout",
     "output_type": "stream",
     "text": [
      "re.match('^[abcdefg...uvwxyz]+$', 'hello') = True\n",
      "re.match('^[abcdefg...uvwxyz]+$', 'world') = True\n",
      "re.match('^[abcdefg...uvwxyz]+$', 'igloo') = False\n"
     ]
    }
   ],
   "source": [
    "r = \"^[abcdefghjklmnopqrstuvwxyz]+$\"\n",
    "print_match(r, \"hello\")\n",
    "print_match(r, \"world\")\n",
    "print_match(r, \"igloo\")"
   ]
  },
  {
   "cell_type": "markdown",
   "metadata": {},
   "source": [
    "# Manipulating matches\n",
    "\n",
    "Modify the code as instructed in the comments."
   ]
  },
  {
   "cell_type": "code",
   "execution_count": 45,
   "metadata": {},
   "outputs": [
    {
     "name": "stdout",
     "output_type": "stream",
     "text": [
      "Match #0: groups=('1 ', '2', ' 3 ', '4', '')\n",
      "Match #1: groups=('a ', 'b', ' c ', 'd', '')\n",
      "Match #2: groups=('alpha ', 'beta', ' gamma ', 'delta', '\\n')\n",
      "1 4 3 2\n",
      "a d c b\n",
      "alpha delta gamma beta\n",
      "\n"
     ]
    }
   ],
   "source": [
    "def reorder_columns(text):\n",
    "    \"\"\"Swaps the second and fourth columns of a multi-line text.\n",
    "    \n",
    "    Example:\n",
    "    \n",
    "        reorder_columns(\"1 2 3 4\\na b c d\\nalpha beta gamma delta\\n\")\n",
    "          => \"1 4 3 2\\na d c b\\nalpha delta gamma beta\\n\"\n",
    "    \"\"\"\n",
    "    matches = re.findall(r\"^(\\s*\\S+\\s+)(\\S+)(\\s+\\S+\\s+)(\\S+)(\\s*)$\", text, re.M)\n",
    "    # Finish this method. You can change the code above too, if you want.\n",
    "    for n, m in enumerate(matches):\n",
    "        print \"Match #%d: groups=%s\" % (n, m)\n",
    "\n",
    "reorder_columns(\"1 2 3 4\\na b c d\\nalpha beta gamma delta\\n\")"
   ]
  },
  {
   "cell_type": "code",
   "execution_count": 52,
   "metadata": {},
   "outputs": [
    {
     "name": "stdout",
     "output_type": "stream",
     "text": [
      "1 loop, best of 3: 7.81 s per loop\n"
     ]
    }
   ],
   "source": [
    "def count_vowels(text):\n",
    "    # Re-implement more efficiently. My best solution took\n",
    "    # under a second in the timeit.\n",
    "    count = 0\n",
    "    for c in text:\n",
    "        if c in \"aeiou\":\n",
    "            count += 1\n",
    "    return count\n",
    "\n",
    "s = \"hello world \" * 2000000\n",
    "%timeit count_vowels(s)"
   ]
  },
  {
   "cell_type": "code",
   "execution_count": 60,
   "metadata": {},
   "outputs": [
    {
     "data": {
      "text/plain": [
       "\"This is a VERY VERY long sentence. It took a VERY long time to type. I'm REALLY sorry you had to read the WHOLE thing.\""
      ]
     },
     "execution_count": 60,
     "metadata": {},
     "output_type": "execute_result"
    }
   ],
   "source": [
    "def add_emphasis(text, keywords):\n",
    "    # Only emphasize the words in the set `keywords`. Other words should remain unchanged.\n",
    "    def emphasize(word):\n",
    "        return word.group().upper()\n",
    "    return re.sub(r\"\\w+\", emphasize, text)\n",
    "\n",
    "add_emphasis(\"This is a very very long sentence. It took a very long time \"\n",
    "             \"to type. I'm really sorry you had to read the whole thing.\",\n",
    "            {\"very\", \"really\", \"whole\"})"
   ]
  }
 ],
 "metadata": {
  "kernelspec": {
   "display_name": "Python 2",
   "language": "python",
   "name": "python2"
  },
  "language_info": {
   "codemirror_mode": {
    "name": "ipython",
    "version": 2
   },
   "file_extension": ".py",
   "mimetype": "text/x-python",
   "name": "python",
   "nbconvert_exporter": "python",
   "pygments_lexer": "ipython2",
   "version": "2.7.15"
  }
 },
 "nbformat": 4,
 "nbformat_minor": 2
}
