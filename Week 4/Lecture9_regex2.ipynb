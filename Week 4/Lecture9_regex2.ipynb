{
 "cells": [
  {
   "cell_type": "markdown",
   "metadata": {},
   "source": [
    "# Lecture 9: \n",
    "\n",
    "1. Replace\n",
    "2. Reading URLs into strings\n",
    "3. Captured Groups in Regular Expressions\n",
    "4. Cleaning data\n",
    "\n",
    "__Useful links:__ \n",
    "- Regular Expression Cheat Sheet: https://www.debuggex.com/cheatsheet/regex/python\n",
    "- To test your regular expressions. http://pythex.org/"
   ]
  },
  {
   "cell_type": "markdown",
   "metadata": {},
   "source": [
    "## 1. Replace\n",
    "\n",
    "We can use the __replace( )__ function to replace substrings of a string with other substrings. There is an optional third argument k, which causes only the __first k instances__ to be replaced.\n"
   ]
  },
  {
   "cell_type": "code",
   "execution_count": 5,
   "metadata": {},
   "outputs": [
    {
     "name": "stdout",
     "output_type": "stream",
     "text": [
      "aba\n"
     ]
    }
   ],
   "source": [
    "s='aba'\n",
    "s1=s.replace(r'[a-z]','c') #note replace(,) will NOT modify original item, need to store it in NEW item\n",
    "print s1"
   ]
  },
  {
   "cell_type": "code",
   "execution_count": 2,
   "metadata": {},
   "outputs": [
    {
     "data": {
      "text/plain": [
       "'cba'"
      ]
     },
     "execution_count": 2,
     "metadata": {},
     "output_type": "execute_result"
    }
   ],
   "source": [
    "s.replace('a','c',1)"
   ]
  },
  {
   "cell_type": "markdown",
   "metadata": {},
   "source": [
    "### Exercise:"
   ]
  },
  {
   "cell_type": "markdown",
   "metadata": {},
   "source": [
    "- Use only the replace function to turn the string ‘aaaa’ into the string ‘abcd’."
   ]
  },
  {
   "cell_type": "code",
   "execution_count": 3,
   "metadata": {},
   "outputs": [],
   "source": [
    "s = 'aaaa'"
   ]
  },
  {
   "cell_type": "code",
   "execution_count": 5,
   "metadata": {},
   "outputs": [
    {
     "data": {
      "text/plain": [
       "'abcd'"
      ]
     },
     "execution_count": 5,
     "metadata": {},
     "output_type": "execute_result"
    }
   ],
   "source": [
    "s.replace('aaaa','abcd')"
   ]
  },
  {
   "cell_type": "code",
   "execution_count": 6,
   "metadata": {},
   "outputs": [
    {
     "data": {
      "text/plain": [
       "'abcd'"
      ]
     },
     "execution_count": 6,
     "metadata": {},
     "output_type": "execute_result"
    }
   ],
   "source": [
    "s.replace('a','d',4).replace('d','c',3).replace('c','b',2).replace('b','a',1)"
   ]
  },
  {
   "cell_type": "code",
   "execution_count": null,
   "metadata": {},
   "outputs": [],
   "source": [
    "s1 = s.replace('a','d',4)\n",
    "s2 = s1.replace('d','c',3)\n",
    "s3 = s2.replace('c','b',2)\n",
    "s4 = s3.replace('b','a',1) #same as above block\n",
    "print s4"
   ]
  },
  {
   "cell_type": "markdown",
   "metadata": {},
   "source": [
    "## 2. Reading URLs into strings\n",
    "\n",
    "For one of the homework questions, we wish to import the data from a url into a string. We use the module __urllib__ or __urllib2__ and the following code for this."
   ]
  },
  {
   "cell_type": "code",
   "execution_count": 33,
   "metadata": {},
   "outputs": [
    {
     "name": "stdout",
     "output_type": "stream",
     "text": [
      "<!doctype html>\n",
      "<!--[if lt IE 7]><html class=\"no-js lt-ie9 lt-ie8 lt-ie7\" lang=\"en\"> <![endif]-->\n",
      "<!--[if (IE 7)&!(IEMobile)]><html class=\"no-js lt-ie9 lt-ie8\" lang=\"en\"><![endif]-->\n",
      "<!--[if (IE 8)&!(IEMobile)]><html class=\"no-js lt-ie9\" lang=\"en\"><![endif]-->\n",
      "<!--[if gt IE 8]><!--> <html class=\"no-js\" lang=\"en\"><!--<![endif]-->\n",
      "<head>\n",
      "<meta charset=\"utf-8\">\n",
      "<title>Hangjie Ji's site  &#8211; Contact Me </title>\n",
      "<meta name=\"description\" content=\"\">\n",
      "<meta name=\"keywords\" content=\"contact\">\n",
      "\n",
      "\n",
      "<!-- Open Graph -->\n",
      "<meta property=\"og:locale\" content=\"en_US\">\n",
      "<meta property=\"og:type\" content=\"article\">\n",
      "<meta property=\"og:title\" content=\"Contact Me\">\n",
      "<meta property=\"og:description\" content=\"Welcome to my site!\">\n",
      "<meta property=\"og:url\" content=\"https://www.math.ucla.edu/~hangjie/contact/\">\n",
      "<meta property=\"og:site_name\" content=\"Hangjie Ji's site\">\n",
      "\n",
      "\n",
      "\n",
      "\n",
      "\n",
      "<link rel=\"canonical\" href=\"https://www.math.ucla.edu/~hangjie/contact/\">\n",
      "<link href=\"https://www.math.ucla.edu/~hangjie/feed.xml\" type=\"application/atom+xml\" rel=\"alternate\" title=\"Hangjie Ji's site Feed\">\n",
      "\n",
      "\n",
      "<!-- http://t.co/dKP3o1e -->\n",
      "<meta name=\"HandheldFriendly\" content=\"True\">\n",
      "<meta name=\"MobileOptimized\" content=\"320\">\n",
      "<meta name=\"viewport\" content=\"width=device-width, initial-scale=1.0\">\n",
      "\n",
      "<!-- Google Webfonts -->\n",
      "<link href='http://fonts.googleapis.com/css?family=PT+Sans+Narrow:400,700|PT+Serif:400,700,400italic' rel='stylesheet' type='text/css'>\n",
      "<!-- For all browsers -->\n",
      "<link rel=\"stylesheet\" href=\"https://www.math.ucla.edu/~hangjie/assets/css/main.min.css\">\n",
      "<link rel=\"stylesheet\" href=\"https://www.math.ucla.edu/~hangjie/assets/academicons.css\" />\n",
      "\n",
      "<meta http-equiv=\"cleartype\" content=\"on\">\n",
      "\n",
      "<!-- HTML5 Shiv and Media Query Support -->\n",
      "<!--[if lt IE 9]>\n",
      "\t<script src=\"https://www.math.ucla.edu/~hangjie/assets/js/vendor/html5shiv.min.js\"></script>\n",
      "\t<script src=\"https://www.math.ucla.edu/~hangjie/assets/js/vendor/respond.min.js\"></script>\n",
      "<![endif]-->\n",
      "\n",
      "<!-- Modernizr -->\n",
      "<script src=\"https://www.math.ucla.edu/~hangjie/assets/js/vendor/modernizr-2.7.1.custom.min.js\"></script>\n",
      "\n",
      "<!-- Icons -->\n",
      "<link rel=\"icon\" type=\"image/png\" sizes=\"32x32\" href=\"/favicon-32x32.png\">\n",
      "<link rel=\"icon\" type=\"image/png\" sizes=\"96x96\" href=\"/favicon-96x96.png\">\n",
      "<link rel=\"icon\" type=\"image/png\" sizes=\"16x16\" href=\"/favicon-16x16.png\">\n",
      "\n",
      "<link rel=\"shortcut icon\" href=\"https://www.math.ucla.edu/~hangjie/favicon.ico\">\n",
      "<link rel=\"shortcut icon\" href=\"https://www.math.ucla.edu/~hangjie/favicon.png\">\n",
      "\n",
      "<!-- 144x144 (precomposed) for iPad 3rd and 4th generation -->\n",
      "<!-- <link rel=\"apple-touch-icon-precomposed\" sizes=\"192x192\" href=\"https://www.math.ucla.edu/~hangjie/images/apple-icon-precomposed.png\"> -->\n",
      "\n",
      "</head>\n",
      "\n",
      "<body class=\"page\">\n",
      "\n",
      "<!--[if lt IE 9]><div class=\"browser-upgrade alert alert-info\">You are using an <strong>outdated</strong> browser. Please <a href=\"http://browsehappy.com/\">upgrade your browser</a> to improve your experience.</div><![endif]-->\n",
      "\n",
      "<div class=\"navigation-wrapper\">\n",
      "\t<div class=\"site-name\">\n",
      "\t\t<a href=\"https://www.math.ucla.edu/~hangjie\">Hangjie Ji's site</a>\n",
      "\t</div><!-- /.site-name -->\n",
      "\t<div class=\"top-navigation\">\n",
      "\t\t<nav role=\"navigation\" id=\"site-nav\" class=\"nav\">\n",
      "\t\t    <ul>\n",
      "\t\t        \n",
      "\t\t\t\t<li><a href=\"https://www.math.ucla.edu/~hangjie/cv/\" >CV</a></li>\n",
      "\t\t        \n",
      "\t\t\t\t<li><a href=\"https://www.math.ucla.edu/~hangjie/research/\" >Research</a></li>\n",
      "\t\t        \n",
      "\t\t\t\t<li><a href=\"https://www.math.ucla.edu/~hangjie/teaching/\" >Teaching</a></li>\n",
      "\t\t        \n",
      "\t\t\t\t<li><a href=\"https://www.math.ucla.edu/~hangjie/contact/\" >Contact</a></li>\n",
      "\t\t        \n",
      "\t\t    </ul>\n",
      "\t\t</nav>\n",
      "\t</div><!-- /.top-navigation -->\n",
      "</div><!-- /.navigation-wrapper -->\n",
      "\n",
      "\n",
      "\n",
      "<div id=\"main\" role=\"main\">\n",
      "  <div class=\"article-author-side\">\n",
      "    \n",
      "\t<img src=\"https://www.math.ucla.edu/~hangjie/images/hangjie.png\" class=\"bio-photo\" alt=\"Hangjie Ji bio photo\"></a>\n",
      "\n",
      "<h3>Hangjie Ji</h3>\n",
      "<p>I'm from Hangzhou, China. Currently in Los Angeles, USA. Passionate about mathematics and technology.</p>\n",
      "\n",
      "\n",
      "\n",
      "\n",
      "\n",
      "\n",
      "\n",
      "\n",
      "\n",
      "\n",
      "\n",
      "\n",
      "\n",
      "<a href=\"mailto:hangjie@math.ucla.edu\" class=\"author-social\" target=\"_blank\"><i class=\"fa fa-envelope-square\"></i> e-Mail</a>\n",
      "\n",
      "\n",
      "  </div>\n",
      "  <article>\n",
      "    <h1>Contact Me</h1>\n",
      "    <div class=\"article-wrap\">\n",
      "      <ul>\n",
      "  <li>Email: hangjie@math.ucla.edu <br /></li>\n",
      "  <li>Office: Mathematical Sciences 7354  <br />\n",
      "Department of Mathematics <br />\n",
      "University of California, Los Angeles <br />\n",
      "Los Angeles, CA 90095 <br /></li>\n",
      "</ul>\n",
      "\n",
      "\n",
      "    </div><!-- /.article-wrap -->\n",
      "    \n",
      "  </article>\n",
      "</div><!-- /#index -->\n",
      "\n",
      "<div class=\"footer-wrap\">\n",
      "  <footer>\n",
      "    <span>&copy; 2019 Hangjie Ji. Powered by <a href=\"http://jekyllrb.com\">Jekyll</a> using the <a href=\"http://mademistakes.com/minimal-mistakes/\">Minimal Mistakes</a> theme.</span>\n",
      "\n",
      "  </footer>\n",
      "</div><!-- /.footer-wrap -->\n",
      "\n",
      "<script src=\"//ajax.googleapis.com/ajax/libs/jquery/1.9.1/jquery.min.js\"></script>\n",
      "<script>window.jQuery || document.write('<script src=\"https://www.math.ucla.edu/~hangjie/assets/js/vendor/jquery-1.9.1.min.js\"><\\/script>')</script>\n",
      "<script src=\"https://www.math.ucla.edu/~hangjie/assets/js/scripts.min.js\"></script>\n",
      "\n",
      "          \n",
      "\n",
      "</body>\n",
      "</html>\n",
      "<open file 'webtext.txt', mode 'w' at 0x103e49540>\n"
     ]
    }
   ],
   "source": [
    "#python2\n",
    "import urllib2\n",
    "\n",
    "url = \"http://www.math.ucla.edu/~hangjie/contact\"\n",
    "#page=urllib2.urlopen(url) # page now is an object\n",
    "page=urllib2.urlopen(url).read() #get source code for the page\n",
    "print page\n",
    "\n",
    "out = open(\"webtext.txt\",\"w\")\n",
    "print out\n",
    "out.write(str(page))\n",
    "out.close()"
   ]
  },
  {
   "cell_type": "markdown",
   "metadata": {},
   "source": [
    "\n",
    "#For __Python3__ the following works:\n",
    "\n",
    "import urllib\n",
    "\n",
    "page=urllib.request.urlopen(url).read()"
   ]
  },
  {
   "cell_type": "markdown",
   "metadata": {},
   "source": [
    "## 3. Captured Groups in regular expressions\n",
    "Recall that we use parentheses __(...)__ to capture groups in a regular expression. The groups are numbered 1,2,3,... by the appearance of their opening parenthesis. We can then ask for any of the groups to be repeated in the pattern. \n",
    "\n",
    "For example, suppose that we are looking for a pattern of the form ‘a1a’ or ‘b2b’ (a letter, followed by a digit, followed by the same letter again). We can do that as follows:"
   ]
  },
  {
   "cell_type": "code",
   "execution_count": 13,
   "metadata": {},
   "outputs": [
    {
     "data": {
      "text/plain": [
       "'h4h'"
      ]
     },
     "execution_count": 13,
     "metadata": {},
     "output_type": "execute_result"
    }
   ],
   "source": [
    "import re\n",
    "re.search(r'([a-z])\\d\\1','h3g h4h').group() #\\1 is to refer to the same pattern in the previous group in (parenthesis)"
   ]
  },
  {
   "cell_type": "code",
   "execution_count": 14,
   "metadata": {},
   "outputs": [
    {
     "data": {
      "text/plain": [
       "'g3g'"
      ]
     },
     "execution_count": 14,
     "metadata": {},
     "output_type": "execute_result"
    }
   ],
   "source": [
    "re.search(r'([a-z])\\d\\1','g3g h4h').group()"
   ]
  },
  {
   "cell_type": "code",
   "execution_count": 17,
   "metadata": {},
   "outputs": [
    {
     "data": {
      "text/plain": [
       "['g', 'h']"
      ]
     },
     "execution_count": 17,
     "metadata": {},
     "output_type": "execute_result"
    }
   ],
   "source": [
    "re.findall(r'([a-z])\\d\\1','g3g h4h')"
   ]
  },
  {
   "cell_type": "code",
   "execution_count": 20,
   "metadata": {},
   "outputs": [
    {
     "data": {
      "text/plain": [
       "['g', 'h']"
      ]
     },
     "execution_count": 20,
     "metadata": {},
     "output_type": "execute_result"
    }
   ],
   "source": [
    "re.findall(r'(([a-z])\\d\\1)','g3g h4h') #now [a-z] is group 2, not 1"
   ]
  },
  {
   "cell_type": "code",
   "execution_count": 9,
   "metadata": {},
   "outputs": [
    {
     "data": {
      "text/plain": [
       "[('g3g', 'g'), ('h4h', 'h')]"
      ]
     },
     "execution_count": 9,
     "metadata": {},
     "output_type": "execute_result"
    }
   ],
   "source": [
    "re.findall(r'(([a-z])\\d\\2)','g3g h4h')"
   ]
  },
  {
   "cell_type": "markdown",
   "metadata": {},
   "source": [
    "Let's look at the example: looking for a repeated word. (Note the extra spaces around the pattern, this is to avoid finding consecutive words with similar ending/beginning.)"
   ]
  },
  {
   "cell_type": "code",
   "execution_count": 15,
   "metadata": {},
   "outputs": [
    {
     "data": {
      "text/plain": [
       "'is'"
      ]
     },
     "execution_count": 15,
     "metadata": {},
     "output_type": "execute_result"
    }
   ],
   "source": [
    "import re\n",
    "s='this is is a sentence'\n",
    "re.search(r' (\\w+) \\1 ',s).group(1)"
   ]
  },
  {
   "cell_type": "code",
   "execution_count": 16,
   "metadata": {},
   "outputs": [
    {
     "data": {
      "text/plain": [
       "' is is '"
      ]
     },
     "execution_count": 16,
     "metadata": {},
     "output_type": "execute_result"
    }
   ],
   "source": [
    "re.search(r' (\\w+) \\1 ',s).group()#group() without argument will return the whole substring that matched"
   ]
  },
  {
   "cell_type": "markdown",
   "metadata": {},
   "source": [
    "We can then use __re.sub( )__ to replace a pattern. In this case, remove the repeated word:"
   ]
  },
  {
   "cell_type": "code",
   "execution_count": 23,
   "metadata": {},
   "outputs": [
    {
     "data": {
      "text/plain": [
       "'this is a sentence'"
      ]
     },
     "execution_count": 23,
     "metadata": {},
     "output_type": "execute_result"
    }
   ],
   "source": [
    "re.sub(r' (\\w+) \\1 ',r' \\1 ',s) #replace ' is is ' by ' is '"
   ]
  },
  {
   "cell_type": "markdown",
   "metadata": {},
   "source": [
    "It is not possible in a single regular expression to ask for a captured group to appear an arbitrary number of times, or to look for arbitrarily many groups, but we can often achieve such things by combining a regular expression with a loop. For example, suppose that we want to check that a word (in lower case letters) is a palindrome. We know that a word is a palindrome if the first and last letter are the same, and the part between them is a palindrome. So, we can work recursively."
   ]
  },
  {
   "cell_type": "code",
   "execution_count": 9,
   "metadata": {},
   "outputs": [],
   "source": [
    "import re\n",
    "def palindrome(word):\n",
    "        if len(word)<=1:\n",
    "            return True\n",
    "        elif re.match(r'^([a-z]).*\\1$',word): #match only check the beginning of string, if not the same, no match\n",
    "            return palindrome(word[1:len(word)-1])\n",
    "        else:\n",
    "            return False"
   ]
  },
  {
   "cell_type": "code",
   "execution_count": 20,
   "metadata": {},
   "outputs": [
    {
     "name": "stdout",
     "output_type": "stream",
     "text": [
      "False\n",
      "False\n",
      "True\n",
      "False\n"
     ]
    }
   ],
   "source": [
    "print palindrome('abccca')\n",
    "print palindrome('hanhnaa')\n",
    "print palindrome('ahha')\n",
    "print palindrome('f  f') #false b/c matching creteria is [a-z]"
   ]
  },
  {
   "cell_type": "markdown",
   "metadata": {},
   "source": [
    "### Exercise:\n",
    "- Write a function that shortens sentences. \"This is a sentence.\" becomes \"This ... sentence.\""
   ]
  },
  {
   "cell_type": "code",
   "execution_count": null,
   "metadata": {
    "collapsed": true
   },
   "outputs": [],
   "source": []
  },
  {
   "cell_type": "markdown",
   "metadata": {},
   "source": [
    "- Write a regular expression that recognizes large integers with correct thousands separators, such as 10,000 and 3,746,982."
   ]
  },
  {
   "cell_type": "code",
   "execution_count": null,
   "metadata": {
    "collapsed": true
   },
   "outputs": [],
   "source": []
  },
  {
   "cell_type": "markdown",
   "metadata": {},
   "source": [
    "## 4. Cleaning Data"
   ]
  },
  {
   "cell_type": "markdown",
   "metadata": {},
   "source": [
    "We can use regular expressions to transform data from .txt or other types of files to python variables. Later on, we will work with modules (such as numpy and pandas) and variable types that are useful for data analysis, but for now we can practice with putting data into lists, using regular expressions. \n",
    "\n",
    "For example, suppose we have the following marathon.txt file, with data on marathon times.\n",
    "\n",
    "Andrea    5:31 <br>\n",
    "Ben         5:02  <br>\n",
    "Carl        6:21  <br>\n",
    "Didi        5:10  <br>\n",
    "\n",
    "We read this into a string using the open( ) and read( ) functions. \n",
    "\n",
    "**Make sure that your working directory matches the directory of the file.**"
   ]
  },
  {
   "cell_type": "code",
   "execution_count": 7,
   "metadata": {},
   "outputs": [
    {
     "data": {
      "text/plain": [
       "'Andrea    5:31\\nBen       5:02\\nCarl      6:21\\nDidi      5:10'"
      ]
     },
     "execution_count": 7,
     "metadata": {},
     "output_type": "execute_result"
    }
   ],
   "source": [
    "times=open('marathon.txt', 'r').read() #read the content of file and return a string\n",
    "times"
   ]
  },
  {
   "cell_type": "markdown",
   "metadata": {},
   "source": [
    "We can use the re.split() function to split our string first by the newline separators:"
   ]
  },
  {
   "cell_type": "code",
   "execution_count": 10,
   "metadata": {},
   "outputs": [
    {
     "data": {
      "text/plain": [
       "['Andrea    5:31', 'Ben       5:02', 'Carl      6:21', 'Didi      5:10']"
      ]
     },
     "execution_count": 10,
     "metadata": {},
     "output_type": "execute_result"
    }
   ],
   "source": [
    "Lrows=re.split(r'\\n',times) #re.split returns a list, with element according to split creteria\n",
    "Lrows"
   ]
  },
  {
   "cell_type": "markdown",
   "metadata": {},
   "source": [
    "We then split each row by the space separators. In this case, it makes sense to split the time into two\n",
    "items: hours and minutes. Therefore, we also split by the “:” symbol."
   ]
  },
  {
   "cell_type": "code",
   "execution_count": 11,
   "metadata": {},
   "outputs": [
    {
     "name": "stdout",
     "output_type": "stream",
     "text": [
      "Ben\n"
     ]
    }
   ],
   "source": [
    "L=[re.split(r'\\s+|:',i) for i in Lrows]\n",
    "L\n",
    "print L[1][0]"
   ]
  },
  {
   "cell_type": "markdown",
   "metadata": {},
   "source": [
    "Finally, we would like the hour and minute items to be integers, not strings:"
   ]
  },
  {
   "cell_type": "code",
   "execution_count": 24,
   "metadata": {},
   "outputs": [
    {
     "data": {
      "text/plain": [
       "[['Andrea', 5, 31], ['Ben', 5, 2], ['Carl', 6, 21], ['Didi', 5, 10]]"
      ]
     },
     "execution_count": 24,
     "metadata": {},
     "output_type": "execute_result"
    }
   ],
   "source": [
    "for i in L:\n",
    "    for j in [1,2]:\n",
    "        i[j] = int(i[j])       \n",
    "L"
   ]
  },
  {
   "cell_type": "code",
   "execution_count": 27,
   "metadata": {},
   "outputs": [
    {
     "data": {
      "text/plain": [
       "[['Ben', 5, 2], ['Didi', 5, 10], ['Andrea', 5, 31], ['Carl', 6, 21]]"
      ]
     },
     "execution_count": 27,
     "metadata": {},
     "output_type": "execute_result"
    }
   ],
   "source": [
    "L.sort(key = lambda x : x[1:3])\n",
    "L"
   ]
  },
  {
   "cell_type": "code",
   "execution_count": 30,
   "metadata": {},
   "outputs": [
    {
     "name": "stdout",
     "output_type": "stream",
     "text": [
      "<open file 'output.txt', mode 'w' at 0x103e498a0>\n"
     ]
    }
   ],
   "source": [
    "out = open(\"output.txt\",\"w\")\n",
    "print out\n",
    "out.write(str(L))\n",
    "out.close()"
   ]
  },
  {
   "cell_type": "code",
   "execution_count": 32,
   "metadata": {},
   "outputs": [],
   "source": [
    "out2 = open(\"output2.txt\",\"w\")\n",
    "for line in L:\n",
    "    out2.write(str(line)+'\\n')\n",
    "out2.close()\n"
   ]
  },
  {
   "cell_type": "markdown",
   "metadata": {},
   "source": [
    "### Exercise:\n",
    "- Find different types of data that are of interest to you, and think about how to clean it up and import it into python in a useful form."
   ]
  },
  {
   "cell_type": "code",
   "execution_count": null,
   "metadata": {
    "collapsed": true
   },
   "outputs": [],
   "source": []
  },
  {
   "cell_type": "code",
   "execution_count": null,
   "metadata": {
    "collapsed": true
   },
   "outputs": [],
   "source": []
  }
 ],
 "metadata": {
  "kernelspec": {
   "display_name": "Python 2",
   "language": "python",
   "name": "python2"
  },
  "language_info": {
   "codemirror_mode": {
    "name": "ipython",
    "version": 2
   },
   "file_extension": ".py",
   "mimetype": "text/x-python",
   "name": "python",
   "nbconvert_exporter": "python",
   "pygments_lexer": "ipython2",
   "version": "2.7.15"
  }
 },
 "nbformat": 4,
 "nbformat_minor": 2
}
