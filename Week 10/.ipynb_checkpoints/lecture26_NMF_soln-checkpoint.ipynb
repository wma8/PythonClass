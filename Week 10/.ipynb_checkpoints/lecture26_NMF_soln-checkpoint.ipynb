{
 "cells": [
  {
   "cell_type": "markdown",
   "metadata": {},
   "source": [
    "# Lecture 26: \n",
    "- Machine Learning (Scikit-learn)\n",
    "- Non-negative Matrix Factorization\n",
    "\n",
    "__Optional Reading Material:__\n",
    "- [Scikit-learn: Non-negative Matrix Factorization](http://scikit-learn.org/stable/modules/generated/sklearn.decomposition.NMF.html)"
   ]
  },
  {
   "cell_type": "markdown",
   "metadata": {},
   "source": [
    "### Non-negative Matrix Factorization\n",
    "Suppose that we have a matrix that represents users and movie ratings:\n",
    "$$\n",
    "M=\n",
    "\\begin{align}\n",
    "  \\\\\n",
    "u_0\\\\\n",
    "u_1\\\\\n",
    "u_2\\\\\n",
    "u_3\\\\\n",
    "u_4\\\\\n",
    "\\end{align}\n",
    "\\begin{array}{c}\n",
    "\\begin{matrix}\n",
    "m_0 & m_1 & m_2 & m_3\n",
    "\\end{matrix} \\\\\n",
    "\\begin{pmatrix}\n",
    "1&3&1&2\\\\\n",
    "5&5&1&1\\\\\n",
    "1&2&5&4\\\\\n",
    "4&3&1&1\\\\\n",
    "5&4&2&2\n",
    "\\end{pmatrix}.\n",
    "\\end{array}\n",
    "$$\n",
    "\n",
    "The goal of NMF is to approximately factorize this non-negative $n \\times m$ matrix into two smaller\n",
    "matrices; of size $n \\times r$ and $r \\times m$, respectively. The underlying idea is that we can describe our\n",
    "data in terms of r “features”, such that each user and each movie is described as a (non-negative)\n",
    "linear combination of the features, and each rating as the dot product of the specific user and movie\n",
    "combination. \n",
    "\n",
    "For illustration, movie genres could be features. Suppose that user A likes comedies\n",
    "a lot and thrillers somewhat, and user B does not like comedies but loves thrillers. If movie C is\n",
    "mostly a comedy with some thriller elements, then user A will like this movie a lot more than user B.\n",
    "Their ratings might look like\n",
    "$\\begin{pmatrix}2\\\\1\\end{pmatrix}\\cdot \\begin{pmatrix}2\\\\1\\end{pmatrix}=5$ and $\\begin{pmatrix}0\\\\2\\end{pmatrix}\\cdot \\begin{pmatrix}2\\\\1\\end{pmatrix}=2$, respectively. \n",
    "\n",
    "\n",
    "Usually, the features are unlikely to coincide exactly with movie or music genres. It is almost always impossible to write $M$ as a factor of two such matrices, because this is a simplification (and potentially noise reduction) of the data. Therefore, we find two matrices such that the product is “as close as possible” to the original matrix. This is done by minimizing the L2-norm (square root of the sum of squares of all the elements) of the difference matrix. \n",
    "\n",
    "In __sklearn__ we implement this as follows:"
   ]
  },
  {
   "cell_type": "code",
   "execution_count": 1,
   "metadata": {
    "collapsed": true
   },
   "outputs": [],
   "source": [
    "import numpy as np\n",
    "from sklearn.decomposition import NMF\n",
    "M=np.array([[1,3,1,2],[5,5,1,1],[1,2,5,4],[4,3,1,1],[5,4,2,2]])\n",
    "model = NMF(n_components=2)\n",
    "model.fit(M)\n",
    "W = model.fit_transform(M)\n",
    "H = model.components_"
   ]
  },
  {
   "cell_type": "code",
   "execution_count": 141,
   "metadata": {},
   "outputs": [
    {
     "data": {
      "text/plain": [
       "array([[ 0.73187392,  0.75167863],\n",
       "       [ 2.09408547,  0.        ],\n",
       "       [ 0.34119281,  2.62041194],\n",
       "       [ 1.47426902,  0.12132919],\n",
       "       [ 1.84565285,  0.60341817]])"
      ]
     },
     "execution_count": 141,
     "metadata": {},
     "output_type": "execute_result"
    }
   ],
   "source": [
    "W"
   ]
  },
  {
   "cell_type": "code",
   "execution_count": 142,
   "metadata": {},
   "outputs": [
    {
     "data": {
      "text/plain": [
       "array([[  2.51186087e+00,   2.23168317e+00,   4.53271270e-01,\n",
       "          5.61520045e-01],\n",
       "       [  1.37765499e-05,   5.33379161e-01,   1.78497633e+00,\n",
       "          1.50778417e+00]])"
      ]
     },
     "execution_count": 142,
     "metadata": {},
     "output_type": "execute_result"
    }
   ],
   "source": [
    "H"
   ]
  },
  {
   "cell_type": "code",
   "execution_count": 113,
   "metadata": {},
   "outputs": [
    {
     "data": {
      "text/plain": [
       "array([[ 1.83837581,  2.03424042,  1.67346599,  1.54433101],\n",
       "       [ 5.26005135,  4.6733353 ,  0.94918878,  1.17587097],\n",
       "       [ 0.85706498,  2.15910738,  4.8320262 ,  4.14260223],\n",
       "       [ 3.70316033,  3.35481582,  0.88481352,  1.01076984],\n",
       "       [ 4.63603147,  4.44076307,  1.91366857,  1.94619543]])"
      ]
     },
     "execution_count": 113,
     "metadata": {},
     "output_type": "execute_result"
    }
   ],
   "source": [
    "np.matmul(W,H)"
   ]
  },
  {
   "cell_type": "markdown",
   "metadata": {},
   "source": [
    "We can see, just from inspecting the matrix $W \\times H$, that this is a good approximation of the orginal matrix $M$. This method is extremely powerful, because we can use only partial data from $M$ to approximate $W$ and $H$. For example, we do not need to use all of the movies (columns) to approximate $W$, or all of the users to approximate $H$. Intuitively, you can guess quite well what kind of movie fan somebody is (and predict how much they will like new movies) by knowing how they have rated some number of past movies. You do not need to know how they have rated all movies in the history of film making."
   ]
  },
  {
   "cell_type": "markdown",
   "metadata": {},
   "source": [
    "Let's assume that the data $(u_4, m_3)$ is missing, and we would like to use NMF to approximate the missing value.\n",
    "$$\n",
    "M=\n",
    "\\begin{align}\n",
    "  \\\\\n",
    "u_0\\\\\n",
    "u_1\\\\\n",
    "u_2\\\\\n",
    "u_3\\\\\n",
    "u_4\\\\\n",
    "\\end{align}\n",
    "\\begin{array}{c}\n",
    "\\begin{matrix}\n",
    "m_0 & m_1 & m_2 & m_3\n",
    "\\end{matrix} \\\\\n",
    "\\begin{pmatrix}\n",
    "1&3&1&2\\\\\n",
    "5&5&1&1\\\\\n",
    "1&2&5&4\\\\\n",
    "4&3&1&1\\\\\n",
    "5&4&2& N/A\n",
    "\\end{pmatrix}.\n",
    "\\end{array}\n",
    "$$"
   ]
  },
  {
   "cell_type": "code",
   "execution_count": 162,
   "metadata": {},
   "outputs": [
    {
     "data": {
      "text/plain": [
       "array([ 0.51218055,  1.47754213])"
      ]
     },
     "execution_count": 162,
     "metadata": {},
     "output_type": "execute_result"
    }
   ],
   "source": [
    "T1 = M[:-1,:]\n",
    "model = NMF(n_components=2)\n",
    "model.fit(T1)\n",
    "W1 = model.fit_transform(T1)\n",
    "H1 = model.components_\n",
    "H1[:,-1]"
   ]
  },
  {
   "cell_type": "code",
   "execution_count": 163,
   "metadata": {},
   "outputs": [
    {
     "name": "stdout",
     "output_type": "stream",
     "text": [
      "[[ 2.25591372  2.18773609  0.40047802  0.51218055]\n",
      " [ 0.          0.54037258  1.74961287  1.47754213]]\n"
     ]
    }
   ],
   "source": [
    "print H1"
   ]
  },
  {
   "cell_type": "code",
   "execution_count": 164,
   "metadata": {},
   "outputs": [
    {
     "data": {
      "text/plain": [
       "array([ 1.86167187,  0.44335129])"
      ]
     },
     "execution_count": 164,
     "metadata": {},
     "output_type": "execute_result"
    }
   ],
   "source": [
    "T2 = M[:,:-1]\n",
    "model = NMF(n_components=2)\n",
    "model.fit(T2)\n",
    "W2 = model.fit_transform(T2)\n",
    "H2 = model.components_\n",
    "W2[-1,:]"
   ]
  },
  {
   "cell_type": "code",
   "execution_count": 165,
   "metadata": {},
   "outputs": [
    {
     "name": "stdout",
     "output_type": "stream",
     "text": [
      "[[ 0.76042577  0.42367443]\n",
      " [ 2.10264556  0.        ]\n",
      " [ 0.36718755  2.27120935]\n",
      " [ 1.48173727  0.06893127]\n",
      " [ 1.86167187  0.44335129]]\n"
     ]
    }
   ],
   "source": [
    "print W2"
   ]
  },
  {
   "cell_type": "code",
   "execution_count": 168,
   "metadata": {},
   "outputs": [
    {
     "data": {
      "text/plain": [
       "1.608582327478336"
      ]
     },
     "execution_count": 168,
     "metadata": {},
     "output_type": "execute_result"
    }
   ],
   "source": [
    "# This is the approximated value for the missing data\n",
    "np.dot(H1[:,-1],W2[-1,:])"
   ]
  },
  {
   "cell_type": "markdown",
   "metadata": {
    "collapsed": true
   },
   "source": [
    "### Exercise:\n",
    "\n",
    "Use NMF to approximate the missing value in the following data. The data represents movie rating from different users. Each row corresponds to a user, and each column to a movie. The data is given in a more convenient form on the page. Assume that there are 3 features:\n",
    "\n",
    "|          | Black Panther | The Post | Game Night | Peter Rabbit | Red Sparrow | Death Wish | Three Billboards|\n",
    "| ------------- |-------------- | ----- |\n",
    "| Viewer1 | 4 | 4 | 2 | 2 | 3 | 1 | 1 |\n",
    "| Viewer2 | 1 | 5 | 5 | 2 | 1 | 4 | 5 |\n",
    "| Viewer3 | 1 | 5 | 1 | 1 | 4 | 1 | 4 |\n",
    "| Viewer4 | 5 | 4 | 3 | 1 | 1 | 1 | 2 |\n",
    "| Viewer5 | 1 | 4 | 4 | 1 | 1 | 5 | 5 |\n",
    "| Viewer6 | 5 | 5 | 3 | 5 | 5 | 1 | 2 |\n",
    "| Viewer7 | 1 | 5 | 3 | 5 | N/A | 5 | 5 |\n",
    "\n",
    "\n"
   ]
  },
  {
   "cell_type": "code",
   "execution_count": 1,
   "metadata": {
    "collapsed": true
   },
   "outputs": [],
   "source": [
    "# %load movie_data.py\n",
    "X=[[4,4,2,2,3,1,1],[1,5,5,2,1,4,5],[1,5,1,1,4,1,4],[5,4,3,1,1,1,2],\n",
    "   [1,4,4,1,1,5,5],[5,5,3,5,5,1,2],[1,5,3,5,None,5,5]]"
   ]
  },
  {
   "cell_type": "code",
   "execution_count": 2,
   "metadata": {},
   "outputs": [
    {
     "name": "stdout",
     "output_type": "stream",
     "text": [
      "3.95673582704\n"
     ]
    }
   ],
   "source": [
    "import numpy as np\n",
    "from sklearn.decomposition import NMF\n",
    "X = np.array(X)\n",
    "X1 = X[:-1,:]\n",
    "model = NMF(n_components=3)\n",
    "model.fit(X1)\n",
    "W1 = model.fit_transform(X1)\n",
    "H1 = model.components_\n",
    "\n",
    "X2 = X[:,[0,1,2,3,5,6]]\n",
    "model = NMF(n_components=3)\n",
    "model.fit(X2)\n",
    "W2 = model.fit_transform(X2)\n",
    "H2 = model.components_\n",
    "\n",
    "missing_data = np.dot(H1[:,4],W2[-1,:])\n",
    "print missing_data"
   ]
  },
  {
   "cell_type": "code",
   "execution_count": null,
   "metadata": {
    "collapsed": true
   },
   "outputs": [],
   "source": []
  }
 ],
 "metadata": {
  "kernelspec": {
   "display_name": "Python 2",
   "language": "python",
   "name": "python2"
  },
  "language_info": {
   "codemirror_mode": {
    "name": "ipython",
    "version": 2
   },
   "file_extension": ".py",
   "mimetype": "text/x-python",
   "name": "python",
   "nbconvert_exporter": "python",
   "pygments_lexer": "ipython2",
   "version": "2.7.15"
  }
 },
 "nbformat": 4,
 "nbformat_minor": 2
}
