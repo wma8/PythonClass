{
 "cells": [
  {
   "cell_type": "markdown",
   "metadata": {},
   "source": [
    "# Lecture 27: Networking and socket\n",
    "\n",
    "- Define or describe __socket__, IP address, port number, protocol, TCP, and UDP\n",
    "- Distinguish between the roles of client and server\n",
    "- __bind__ a server socket to an IP address and port number and instruct it to __listen__ for and __accept__ incoming connection requests\n",
    "- __connect__ a client socket to a server socket’s IP address and port number\n",
    "- __send__ data, __receive__ data, and __close__ the connection between two connected sockets.\n",
    "\n",
    "__Reading Material:__\n",
    "- The first half (16.5 minutes) of [Python Advanced Tutorial 6 – Networking](https://www.youtube.com/watch?v=XiVVYfgDolU)\n",
    "- [Socket module documentation](https://docs.python.org/2/library/socket.html)\n",
    "- [Python Network Programming](https://www.tutorialspoint.com/python/python_networking.htm)\n",
    "- (Optional) [How does ping work?](https://www.colocationamerica.com/how-does-ping-work)\n",
    "\n"
   ]
  },
  {
   "cell_type": "markdown",
   "metadata": {
    "collapsed": true
   },
   "source": [
    "### Networking\n",
    "In this lecture, we practice sending data back and forth between two computers/consoles. This can be useful for many applications. We use the socket object, which holds a connection. The two machines that are communicating are called the __server__ and the __client__. \n",
    "\n",
    "For this purpose the main difference between the two is that the client initializes the connection (makes the phone call, as it were), and the server accepts it.\n",
    "\n",
    "Each connection uses the IP address of the server (127.0.0.1 if the client and server are on the same machine) and a port number. The port number allows there to be multiple connections to the same machine. The port number is chosen by the user, and may be any integer > 1024. \n",
    "\n",
    "The server uses commands such as \n",
    "- __bind__, which binds a port number to a socket, \n",
    "- __listen__, which means waiting for incoming connections, and \n",
    "- __accept__, which tells it to accept an incoming connection request from a client.\n",
    "\n",
    "The client uses the command \n",
    "- __connect__ to try to initialize a connection with a server. \n",
    "\n",
    "Both the server and the client can \n",
    "- __send__ a message, \n",
    "- __recv__, receive a message, and \n",
    "- __close__ the connection. \n",
    "\n",
    "The easiest way to get started is to look at the example given in the python documentation https://docs.python.org/2/library/socket.html (example 17.2.2) and start adapting the example.\n"
   ]
  },
  {
   "cell_type": "markdown",
   "metadata": {},
   "source": [
    "There is always a server side code and a client side code. If you are running these in different consoles, make sure that each console only runs one of the two, and that the server runs first. Here it is useful to use the blocks in Spyder (with the #%% command), or use two terminal consoles at the same time."
   ]
  },
  {
   "cell_type": "markdown",
   "metadata": {},
   "source": [
    "Here, we write a simple script that lets the client and server take turns adding a number to a growing list. The server and client perform almost identical tasks, but the order is switched, since one of them starts by sending and the other starts by receiving. Also, note that we send as little information back and forth as possible, since sending and receiving take a lot of time. "
   ]
  },
  {
   "cell_type": "raw",
   "metadata": {},
   "source": [
    "# -*- coding: utf-8 -*-\n",
    "\"\"\"\n",
    "#### SERVER SIDE #####\n",
    "\"\"\"\n",
    "import socket\n",
    "\n",
    "s = socket.socket()         # Create a socket object\n",
    "port = 12345                # Reserve a port for your service.   \n",
    "s.bind((\"\", port))          # Bind to the port\n",
    "\n",
    "s.listen(5)                 # Now wait for client connection.\n",
    "c, addr = s.accept()     # Establish connection with client.\n",
    "print 'Got connection from', addr\n",
    "c.send('Thank you for connecting')\n",
    "\n",
    "l=[]\n",
    "while len(l)<10:\n",
    "    data=c.recv(1024)\n",
    "    l.append(int(data))\n",
    "    print(l)\n",
    "    z = raw_input(\"Add an integer to the list: \")\n",
    "    l.append(int(z))\n",
    "    print(l)\n",
    "    c.send(z)\n",
    "\n",
    "c.close()"
   ]
  },
  {
   "cell_type": "raw",
   "metadata": {},
   "source": [
    "# -*- coding: utf-8 -*-\n",
    "\"\"\"\n",
    "#### CLIENT SIDE #####\n",
    "\"\"\"\n",
    "\n",
    "import socket               # Import socket module\n",
    "\n",
    "s = socket.socket()         # Create a socket object\n",
    "host = '127.0.0.1'          # local interface host \n",
    "port = 12345                # Reserve a port for your service.\n",
    "\n",
    "s.connect((host, port))\n",
    "print s.recv(1024)\n",
    "\n",
    "l=[]\n",
    "while len(l)<10:\n",
    "    z = raw_input(\"Add an integer to the list: \")\n",
    "    l.append(int(z))\n",
    "    print(str(l))\n",
    "    s.send(z)\n",
    "    data = s.recv(1024)\n",
    "    l.append(int(data))\n",
    "    print(str(l))\n",
    "        \n",
    "s.close()"
   ]
  }
 ],
 "metadata": {
  "kernelspec": {
   "display_name": "Python 2",
   "language": "python",
   "name": "python2"
  },
  "language_info": {
   "codemirror_mode": {
    "name": "ipython",
    "version": 2
   },
   "file_extension": ".py",
   "mimetype": "text/x-python",
   "name": "python",
   "nbconvert_exporter": "python",
   "pygments_lexer": "ipython2",
   "version": "2.7.15"
  }
 },
 "nbformat": 4,
 "nbformat_minor": 2
}
