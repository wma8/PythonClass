{
 "cells": [
  {
   "cell_type": "markdown",
   "metadata": {},
   "source": [
    "# Lecture 16:  NetworkX and PageRank Algorithm\n",
    "\n",
    "__Reading material:__\n",
    "- https://networkx.github.io/documentation/stable/tutorial.html#creating-a-graph<br>\n",
    "  Read from \"Creating a graph\" to \"Directed graphs\"\n",
    "- https://en.wikipedia.org/wiki/PageRank\n",
    "\n",
    "__Optional:__\n",
    "- https://www.geeksforgeeks.org/page-rank-algorithm-implementation/"
   ]
  },
  {
   "cell_type": "markdown",
   "metadata": {
    "collapsed": true
   },
   "source": [
    "We can use the equilibrium distribution of users on the internet as an approximation for the relative popularity of web pages. We start with an adjacency matrix, __A__, of which the elements represent links between pages. If a page has a number of links to other pages, we assume that a user picks one of them uniformly at random and moves to the next page. However, internet users do not navigate the web only by following links. (If you end up on a page with no links on it, you do not get stuck there for the rest of your life.) Users also occasionally move between pages with no links on them. We call this teleportation, and to simulate it in our model, we simply add a small constant to every element of __A__. This will translate to their being a non-zero probability of moving between any pair of pages, whether or not there is a link.\n"
   ]
  },
  {
   "cell_type": "markdown",
   "metadata": {},
   "source": [
    "Here is the detail of the PageRank algorithm<br>\n",
    "$$PR_0(x) = \\frac{1}{N}$$\n",
    "\n",
    "$$PR_i(x) = \\frac{1-\\alpha}{N}+\\alpha\\sum_{y\\rightarrow x}\\frac{PR_{i-1}(y)}{out(y)}$$\n",
    "\n",
    "- $PR_i(x)$: the PageRank of node $x$ at i-th iteration\n",
    "- $\\alpha$: a damping factor (we can set it to 0.85)\n",
    "- $N$: the total number of nodes in the system\n",
    "- $out(y)$: the number of outlinks of node $y$"
   ]
  },
  {
   "cell_type": "markdown",
   "metadata": {},
   "source": [
    "### Graph visualization and PageRank in Networkx"
   ]
  },
  {
   "cell_type": "code",
   "execution_count": null,
   "metadata": {},
   "outputs": [],
   "source": [
    "import matplotlib.pyplot as plt \n",
    "import networkx as nx\n",
    "G = nx.DiGraph()\n",
    "G.add_nodes_from(['A', 'B', 'C','D'])\n",
    "AB_edge = ['A','B']\n",
    "G.add_edge(*AB_edge) # equivalent to G.add_edge('A','B')\n",
    "edge_list = [('A','C'),('B','A'),('D','C')]\n",
    "G.add_edges_from(edge_list)\n",
    "nx.draw(G,with_labels=True)\n",
    "plt.show()"
   ]
  },
  {
   "cell_type": "code",
   "execution_count": null,
   "metadata": {},
   "outputs": [],
   "source": [
    "G = nx.DiGraph()\n",
    "nodes = range(10)\n",
    "G.add_nodes_from(nodes) #add notes from (a list)\n",
    "G.add_edges_from([(1,0),(3,4)])\n",
    "pos = nx.circular_layout(nodes)\n",
    "nx.draw(G,pos,with_labels = True)\n",
    "plt.show()"
   ]
  },
  {
   "cell_type": "code",
   "execution_count": null,
   "metadata": {},
   "outputs": [],
   "source": [
    "G = nx.Graph() #undirected graph\n",
    "nodes = range(10)\n",
    "G.add_nodes_from(nodes)\n",
    "G.add_edges_from([(1,0),(3,4)])\n",
    "pos = nx.circular_layout(nodes)\n",
    "nx.draw(G,pos,with_labels = True) #without pos argument, nodes randomly distributed\n",
    "plt.show()"
   ]
  },
  {
   "cell_type": "code",
   "execution_count": null,
   "metadata": {},
   "outputs": [],
   "source": [
    "import matplotlib.pyplot as plt \n",
    "import networkx as nx\n",
    "G = nx.DiGraph()\n",
    "G.add_nodes_from(['A', 'B', 'C','D'])\n",
    "G.add_edge('A', 'C')\n",
    "G.add_edge('B', 'C')\n",
    "G.add_edge('C', 'B')\n",
    "G.add_edge('A', 'B')\n",
    "G.add_edge('D', 'A')\n",
    "G.add_edge('D', 'C')\n",
    "nx.draw(G,with_labels=True)\n",
    "plt.show()"
   ]
  },
  {
   "cell_type": "code",
   "execution_count": 6,
   "metadata": {},
   "outputs": [
    {
     "name": "stdout",
     "output_type": "stream",
     "text": [
      "{'A': 0.053437500000000006, 'C': 0.458837771168547, 'B': 0.4502247288314527, 'D': 0.037500000000000006}\n"
     ]
    }
   ],
   "source": [
    "pr = nx.pagerank(G, alpha=0.85) # the default damping parameter alpha = 0.85\n",
    "print pr #get pagerank of each nodes from previous graph"
   ]
  },
  {
   "cell_type": "code",
   "execution_count": null,
   "metadata": {},
   "outputs": [],
   "source": [
    "# The following code is a simplified version of the function \n",
    "# which has been implemented in the networkx library.\n",
    "\n",
    "def pagerank(G, alpha=0.85,\n",
    "             max_iter=100, tol=1.0e-6, weight='weight'):    \n",
    "    if len(G) == 0:\n",
    "        return {}\n",
    " \n",
    "    # Create a copy in (right) stochastic form\n",
    "    W = nx.stochastic_graph(G, weight=weight)\n",
    "    N = W.number_of_nodes()\n",
    " \n",
    "    # Choose fixed starting vector\n",
    "    x = dict.fromkeys(W, 1.0 / N)\n",
    "\n",
    "    # Assign uniform personalization vector if not given\n",
    "    p = dict.fromkeys(W, 1.0 / N)\n",
    "\n",
    "    dangling_weights = p\n",
    "    dangling_nodes = [n for n in W if W.out_degree(n, weight=weight) == 0.0]\n",
    " \n",
    "    # power iteration: make up to max_iter iterations\n",
    "    for _ in range(max_iter):\n",
    "        xlast = x\n",
    "        x = dict.fromkeys(xlast.keys(), 0)\n",
    "        danglesum = alpha * sum(xlast[n] for n in dangling_nodes)\n",
    "        for n in x:\n",
    "            # this matrix multiply looks odd because it is\n",
    "            # doing a left multiply x^T=xlast^T*W\n",
    "            for nbr in W[n]:\n",
    "                x[nbr] += alpha * xlast[n] * W[n][nbr][weight]\n",
    "            x[n] += danglesum * dangling_weights[n] + (1.0 - alpha) * p[n]\n",
    " \n",
    "        # check convergence, l1 norm\n",
    "        err = sum([abs(x[n] - xlast[n]) for n in x])\n",
    "        if err < N*tol:\n",
    "            return x\n",
    "    raise NetworkXError('pagerank: power iteration failed to converge '\n",
    "                        'in %d iterations.' % max_iter)"
   ]
  },
  {
   "cell_type": "code",
   "execution_count": 5,
   "metadata": {},
   "outputs": [
    {
     "data": {
      "text/plain": [
       "{'A': 0.053437500000000006,\n",
       " 'B': 0.4502247288314527,\n",
       " 'C': 0.458837771168547,\n",
       " 'D': 0.037500000000000006}"
      ]
     },
     "execution_count": 5,
     "metadata": {},
     "output_type": "execute_result"
    }
   ],
   "source": [
    "pagerank(G)"
   ]
  },
  {
   "cell_type": "code",
   "execution_count": null,
   "metadata": {},
   "outputs": [],
   "source": [
    "W = nx.stochastic_graph(G, weight='weight')\n",
    "print W['A']\n",
    "print W['B']\n",
    "print W['C']\n",
    "print W['D']"
   ]
  },
  {
   "cell_type": "code",
   "execution_count": null,
   "metadata": {},
   "outputs": [],
   "source": []
  }
 ],
 "metadata": {
  "kernelspec": {
   "display_name": "Python 2",
   "language": "python",
   "name": "python2"
  },
  "language_info": {
   "codemirror_mode": {
    "name": "ipython",
    "version": 2
   },
   "file_extension": ".py",
   "mimetype": "text/x-python",
   "name": "python",
   "nbconvert_exporter": "python",
   "pygments_lexer": "ipython2",
   "version": "2.7.15"
  }
 },
 "nbformat": 4,
 "nbformat_minor": 2
}
