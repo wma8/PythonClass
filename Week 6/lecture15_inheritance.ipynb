{
 "cells": [
  {
   "cell_type": "markdown",
   "metadata": {},
   "source": [
    "# Lecture 15\n",
    "\n",
    "- Determine whether a script is the main program or not using the global variable \\__name\\__\n",
    "- Write subclasses that inherit variables and methods from their superclasses\n",
    "- Create new-style classes and use the built-in super function to access methods of the superclass\n",
    "- Inheritance vs. Composition\n",
    "\n",
    "__Reading Material__: \n",
    "\n",
    "- [Executing Modules as Scripts](https://docs.python.org/2/tutorial/modules.html#executing-modules-as-scripts)\n",
    "\n",
    "- [Class Inheritance and Overloading Methods](http://www.tutorialspoint.com/python/python_classes_objects.htm)"
   ]
  },
  {
   "cell_type": "markdown",
   "metadata": {},
   "source": [
    "## 1. \\__name\\__ == \"\\__main\\__\" "
   ]
  },
  {
   "cell_type": "markdown",
   "metadata": {},
   "source": [
    "We'll see the Python idiom if \\__name\\__ == \"\\__main\\__\" a lot in GUI examples, so it's good to understand what's going on."
   ]
  },
  {
   "cell_type": "markdown",
   "metadata": {},
   "source": [
    "- Run __example1.py__ in Spyder or by calling python main1.py at the command line. Only \"example1 is running\" prints to the console, not \"main() is running\". That's because the code to print \"main() is running\" is in a method called main, and there's nothing special about a method with the name main in Python (whereas it's quite special in C++ and Java). If we don't call the main method explicitly, it doesn’t run. "
   ]
  },
  {
   "cell_type": "markdown",
   "metadata": {},
   "source": [
    "-  Run __example2.py__. It prints \"main2 is running\" and \"main( ) is running\" because we called \"main( )\" explicitly in the script."
   ]
  },
  {
   "cell_type": "markdown",
   "metadata": {},
   "source": [
    "- Next, run __example3.py__. Note that it's \\__name\\__ variable has automatically been (created and) initialized to \\__main\\__ because this is the file you ran from Spyder (or the command line), and thus it is the “main” module."
   ]
  },
  {
   "cell_type": "markdown",
   "metadata": {},
   "source": [
    "- Finally, run __example4.py__ from the same directory as __example3.py__.\n",
    "\n",
    "The only thing that’s unusual here is how the \\__name\\__ variable works. It takes on a different value depending on whether it appears in the script you chose to run or in an imported module. In the script you chose to run, \\__name\\__ takes on the value \\__main\\__. In an imported module, \\__name\\__ is the filename of the module. If this was not clear, please go back and/or do some tests of your own to understand its behavior.\n",
    "\n",
    "The purpose of the if \\__name\\__ == \"\\__main\\__\" idiom is to enable certain code to run (often test code) when the user choses to run the file as a script but to prevent that same code from running if the file is imported as a module by another script."
   ]
  },
  {
   "cell_type": "markdown",
   "metadata": {},
   "source": [
    "## 2.  Class Inheritance and Overloading Methods"
   ]
  },
  {
   "cell_type": "markdown",
   "metadata": {},
   "source": [
    "- Try running __inheritance1.py__. Here we have a superclass ClassA and a subclass ClassB; we\n",
    "indicate that ClassB extends (subclasses) ClassA by including ClassA in parentheses after the name of ClassB. Both have initializers that print something when they run. ClassA has an class variable static_var (named because it's very similar to a static field in Java), and its initializer defines an instance variable instance_var. In the main function, we create a ClassB object and see that indeed, the class itself and an instance of that class have inherited the class variable static_var from ClassA. However, b does not have an instance_var because the superclass initializer doesn’t run automatically when we create an instance of the subclass"
   ]
  },
  {
   "cell_type": "code",
   "execution_count": 1,
   "metadata": {},
   "outputs": [
    {
     "name": "stdout",
     "output_type": "stream",
     "text": [
      "ClassB.static_var = 1\n",
      "Initializing B\n",
      "b.static_var = 1\n",
      "b.instance_var = b has no instance variable instance_var\n"
     ]
    }
   ],
   "source": [
    "class ClassA:\n",
    "    static_var = 1\n",
    "    \n",
    "    def __init__(self):\n",
    "        print \"Initializing A\"\n",
    "        self.instance_var = 2       \n",
    "\n",
    "class ClassB(ClassA):\n",
    "    def __init__(self):\n",
    "        print \"Initializing B\"\n",
    "   \n",
    " \n",
    "def main():\n",
    "    print \"ClassB.static_var =\",ClassB.static_var    #classB does not have static_var itself, but inherited from ClassA\n",
    "    b = ClassB()\n",
    "    print \"b.static_var =\",b.static_var\n",
    "    try: \n",
    "        print \"b.instance_var =\",b.instance_var # b does not have the instance_var which is created at\n",
    "                                                #initialization of ClassA\n",
    "    except:\n",
    "        print \"b has no instance variable instance_var\"   \n",
    "        \n",
    "if __name__ == \"__main__\":\n",
    "    main()"
   ]
  },
  {
   "cell_type": "markdown",
   "metadata": {},
   "source": [
    "- Now run __inheritance2.py__. The difference here is that we try to call the superclass’ initializer explicitly (using the Python equivalent of super from Java). We're trying to explicitly initialize the superclass object within the instance of the subclass so we can inherit its instance variables. Calling __super(ClassB,self)__ means something like \"give me a reference to the instance of the superclass of ClassB that lives within self\", or “give me a reference to the superclass part of the present object”, then .\\__init\\__( ) calls the initializer of that superclass object. It doesn't work in this script... but with one simple change it will.\n",
    "\n",
    "* The most common use of __super( )__ is actually in \\__init\\__ functions in base classes. This is usually the only place where you need to do some things in a child, and then complete the initialization in the parent."
   ]
  },
  {
   "cell_type": "code",
   "execution_count": 2,
   "metadata": {},
   "outputs": [
    {
     "name": "stdout",
     "output_type": "stream",
     "text": [
      "Initializing B\n",
      "This is an old style class. Can't use super.\n",
      "b.static_var = 1\n",
      "b.instance_var = b has no instance variable instance_var\n"
     ]
    }
   ],
   "source": [
    "class ClassA:\n",
    "    static_var = 1\n",
    "    def __init__(self):\n",
    "        print \"Initializing A\"\n",
    "        self.instance_var = 2        \n",
    "        \n",
    "\n",
    "class ClassB(ClassA):\n",
    "    def __init__(self):\n",
    "        print \"Initializing B\"\n",
    "        # This is new --\n",
    "        try:\n",
    "            super(ClassB,self).__init__()\n",
    "        except:\n",
    "            print \"This is an old style class. Can't use super.\"\n",
    "        # -- this was new\n",
    "        \n",
    "\n",
    "def main():\n",
    "    \n",
    "    b = ClassB()\n",
    "    print \"b.static_var =\",b.static_var\n",
    "    try: \n",
    "        print \"b.instance_var =\",b.instance_var\n",
    "    except:\n",
    "        print \"b has no instance variable instance_var\"      \n",
    "\n",
    "if __name__ == \"__main__\":\n",
    "    main()"
   ]
  },
  {
   "cell_type": "markdown",
   "metadata": {},
   "source": [
    "- Run __inheritance4.py__. The only difference between this and __inheritance2.py__ is that ClassA subclasses object. This is all it takes to make the built-in super function work properly. Now b has the instance_var inherited from the ClassA object that \"lives within\" it. Why did having ClassA subclass object make this work? Apparently a class that doesn't explicitly subclass object is an \"old-style\" class and those that do are \"new-style\" classes. We'll typically use \"new-style\" classes when we need to use inheritance. All you need to know is that you can refer to the \"superclass object within self\" or “superclass part of the present object” by calling __super(ClassB,self)__, provided the superclass explicitly subclasses object."
   ]
  },
  {
   "cell_type": "code",
   "execution_count": 5,
   "metadata": {},
   "outputs": [
    {
     "name": "stdout",
     "output_type": "stream",
     "text": [
      "Initializing B\n",
      "Initializing A\n",
      "b.static_var = 1\n",
      "b.instance_var = 2\n"
     ]
    }
   ],
   "source": [
    "class ClassA(object): # (object) is new\n",
    "    static_var = 1\n",
    "    \n",
    "    def __init__(self):\n",
    "        print \"Initializing A\"\n",
    "        self.instance_var = 2      \n",
    "\n",
    "class ClassB(ClassA):\n",
    "    def __init__(self):\n",
    "        print \"Initializing B\"\n",
    "        try:\n",
    "            super(ClassB,self).__init__()\n",
    "        except:\n",
    "            print \"This is an old style class. Can't use super.\"\n",
    "\n",
    "def main():\n",
    "    b = ClassB()\n",
    "    print \"b.static_var =\",b.static_var\n",
    "    try: \n",
    "        print \"b.instance_var =\",b.instance_var\n",
    "    except:\n",
    "        print \"b has no instance variable instance_var\"    \n",
    "        \n",
    "if __name__ == \"__main__\":\n",
    "    main()"
   ]
  },
  {
   "cell_type": "markdown",
   "metadata": {},
   "source": [
    "- Run __inheritance5.py__. Now we've added __my_method__ to ClassA, and we can invoke it on an instance of ClassB because ClassB subclasses ClassA."
   ]
  },
  {
   "cell_type": "code",
   "execution_count": 6,
   "metadata": {},
   "outputs": [
    {
     "name": "stdout",
     "output_type": "stream",
     "text": [
      "Initializing B\n",
      "Initializing A\n",
      "b.static_var = 1\n",
      "b.instance_var = 2\n",
      "Do Something\n"
     ]
    }
   ],
   "source": [
    "class ClassA(object):\n",
    "    static_var = 1\n",
    "    \n",
    "    def __init__(self):\n",
    "        print \"Initializing A\"\n",
    "        self.instance_var = 2    \n",
    "        \n",
    "    # this is new --\n",
    "    def my_method(self):\n",
    "        print \"Do Something\"\n",
    "    # -- this was new\n",
    "    \n",
    "class ClassB(ClassA):\n",
    "    def __init__(self):\n",
    "        print \"Initializing B\"\n",
    "        super(ClassB,self).__init__() \n",
    "        \n",
    "def main():\n",
    "    \n",
    "    b = ClassB()\n",
    "    print \"b.static_var =\",b.static_var\n",
    "    print \"b.instance_var =\",b.instance_var\n",
    "    b.my_method() # this is new\n",
    "        \n",
    "if __name__ == \"__main__\":\n",
    "    main()"
   ]
  },
  {
   "cell_type": "markdown",
   "metadata": {},
   "source": [
    "- Run __inheritance6.py__. Here we override __my_method__ in ClassB. Now, invoking __my_method__ on b causes the ClassB version of the method to run."
   ]
  },
  {
   "cell_type": "code",
   "execution_count": 7,
   "metadata": {},
   "outputs": [
    {
     "name": "stdout",
     "output_type": "stream",
     "text": [
      "Initializing B\n",
      "Initializing A\n",
      "b.static_var = 1\n",
      "b.instance_var = 2\n",
      "Do Something Else\n"
     ]
    }
   ],
   "source": [
    "class ClassA(object):\n",
    "    static_var = 1\n",
    "    \n",
    "    def __init__(self):\n",
    "        print \"Initializing A\"\n",
    "        self.instance_var = 2        \n",
    "    \n",
    "    \n",
    "    def my_method(self):\n",
    "        print \"Do Something\"\n",
    "        \n",
    "class ClassB(ClassA):\n",
    "    def __init__(self):\n",
    "        print \"Initializing B\"\n",
    "        super(ClassB,self).__init__()        \n",
    "        \n",
    "    # this is new --\n",
    "    def my_method(self):\n",
    "        print \"Do Something Else\"\n",
    "    # -- this was new\n",
    "\n",
    "\n",
    "def main():\n",
    "    \n",
    "    b = ClassB()\n",
    "    print \"b.static_var =\",b.static_var\n",
    "   \n",
    "    print \"b.instance_var =\",b.instance_var\n",
    "        \n",
    "    b.my_method()\n",
    "    \n",
    "if __name__ == \"__main__\":\n",
    "    main()"
   ]
  },
  {
   "cell_type": "markdown",
   "metadata": {},
   "source": [
    "- Run __inheritance7.py__. Now we've added my_super_method to ClassB that exists only to call the superclass version of __my_method()__. Note that we've used __super(ClassB,self)__ again to get a reference to the superclass object within, and invoke its __my_method__."
   ]
  },
  {
   "cell_type": "code",
   "execution_count": 8,
   "metadata": {},
   "outputs": [
    {
     "name": "stdout",
     "output_type": "stream",
     "text": [
      "Initializing B\n",
      "Initializing A\n",
      "b.static_var = 1\n",
      "b.instance_var = 2\n",
      "Do Something Else\n",
      "Do Something\n"
     ]
    }
   ],
   "source": [
    "class ClassA(object):\n",
    "    static_var = 1\n",
    "    \n",
    "    def __init__(self):\n",
    "        print \"Initializing A\"\n",
    "        self.instance_var = 2     \n",
    "        \n",
    "        \n",
    "    def my_method(self):\n",
    "        print \"Do Something\"\n",
    "        \n",
    "class ClassB(ClassA):\n",
    "    def __init__(self):\n",
    "        print \"Initializing B\"\n",
    "        super(ClassB,self).__init__()    \n",
    "    \n",
    "    def my_method(self):\n",
    "        print \"Do Something Else\"\n",
    "    \n",
    "    # this is new --\n",
    "    def my_super_method(self):\n",
    "        super(ClassB,self).my_method()\n",
    "    # -- this was new\n",
    "    \n",
    "def main():\n",
    "    \n",
    "    b = ClassB()    \n",
    "    print \"b.static_var =\",b.static_var\n",
    "    \n",
    "    print \"b.instance_var =\",b.instance_var        \n",
    "    \n",
    "    b.my_method()\n",
    "    b.my_super_method() # this is new\n",
    "if __name__ == \"__main__\":\n",
    "    main()"
   ]
  },
  {
   "cell_type": "markdown",
   "metadata": {},
   "source": [
    "- Run __inheritance8.py__. Now we've called __my_method( )__ from within the initializer of ClassA. Perhaps surprisingly, the subclass version of the method is the one that actually gets run! That's the way things are supposed to work. Subclass methods completely override superclass methods unless we use something like super(ClassB,self) to explicitly refer to the superclass object and invoke the method on that. If we really, really want to call the ClassA version of my_method, we can call super(ClassB,self).my_method() or, perhaps more logically here, ClassA.my_method(self), but this is not typical."
   ]
  },
  {
   "cell_type": "code",
   "execution_count": null,
   "metadata": {},
   "outputs": [],
   "source": [
    "class ClassA(ClassB, ClassC): #multiple inheritance, use multiple parent classes, avoid !!!\n",
    "    "
   ]
  },
  {
   "cell_type": "code",
   "execution_count": null,
   "metadata": {},
   "outputs": [],
   "source": [
    "class ClassA(object):\n",
    "    static_var = 1\n",
    "    def __init__(self):\n",
    "        print \"Initializing A\"\n",
    "        self.instance_var = 2\n",
    "        self.my_method() # this is new\n",
    "        \n",
    "    def my_method(self):\n",
    "        print \"Do Something\"\n",
    "        \n",
    "class ClassB(ClassA):\n",
    "    def __init__(self):\n",
    "        print \"Initializing B\"\n",
    "        super(ClassB,self).__init__()\n",
    " \n",
    "    def my_method(self):\n",
    "        print \"Do Something Else\"\n",
    "\n",
    "def main():\n",
    "    b = ClassB()    \n",
    "    print \"b.static_var =\",b.static_var\n",
    "    print \"b.instance_var =\",b.instance_var    \n",
    "\n",
    "    \n",
    "if __name__ == \"__main__\":\n",
    "    main()"
   ]
  },
  {
   "cell_type": "markdown",
   "metadata": {},
   "source": [
    "### Exercises:\n",
    "Read the following code and predict what they will print to the console when run."
   ]
  },
  {
   "cell_type": "code",
   "execution_count": 1,
   "metadata": {},
   "outputs": [
    {
     "name": "stdout",
     "output_type": "stream",
     "text": [
      "PARENT implicit()\n",
      "PARENT implicit()\n"
     ]
    }
   ],
   "source": [
    "class Parent(object):\n",
    "    def implicit(self):\n",
    "        print \"PARENT implicit()\"\n",
    "\n",
    "class Child(Parent):\n",
    "    pass\n",
    "\n",
    "dad = Parent()\n",
    "son = Child()\n",
    "\n",
    "dad.implicit()\n",
    "son.implicit()"
   ]
  },
  {
   "cell_type": "code",
   "execution_count": 2,
   "metadata": {},
   "outputs": [
    {
     "name": "stdout",
     "output_type": "stream",
     "text": [
      "PARENT override()\n",
      "CHILD override()\n"
     ]
    }
   ],
   "source": [
    "class Parent(object):\n",
    "    def override(self):\n",
    "        print \"PARENT override()\"\n",
    "\n",
    "class Child(Parent):\n",
    "    def override(self):\n",
    "        print \"CHILD override()\"\n",
    "\n",
    "dad = Parent()\n",
    "son = Child()\n",
    "\n",
    "dad.override()\n",
    "son.override()"
   ]
  },
  {
   "cell_type": "code",
   "execution_count": 3,
   "metadata": {},
   "outputs": [
    {
     "name": "stdout",
     "output_type": "stream",
     "text": [
      "PARENT altered()\n",
      "CHILD, BEFORE PARENT altered()\n",
      "PARENT altered()\n",
      "CHILD, AFTER PARENT altered()\n"
     ]
    }
   ],
   "source": [
    "class Parent(object):\n",
    "    def altered(self):\n",
    "        print \"PARENT altered()\"\n",
    "\n",
    "class Child(Parent):\n",
    "    def altered(self):\n",
    "        print \"CHILD, BEFORE PARENT altered()\"\n",
    "        super(Child, self).altered() #here you are calling the Parent.althered()\n",
    "        print \"CHILD, AFTER PARENT altered()\"\n",
    "\n",
    "dad = Parent()\n",
    "son = Child()\n",
    "\n",
    "dad.altered()\n",
    "son.altered()"
   ]
  },
  {
   "cell_type": "markdown",
   "metadata": {},
   "source": [
    "## 3. Class Composition"
   ]
  },
  {
   "cell_type": "markdown",
   "metadata": {},
   "source": [
    "Inheritance is useful, but another way to do the exact same thing is just to use other classes and modules, rather than rely on implicit inheritance. You can easily call functions in another class."
   ]
  },
  {
   "cell_type": "code",
   "execution_count": 4,
   "metadata": {},
   "outputs": [
    {
     "name": "stdout",
     "output_type": "stream",
     "text": [
      "<class '__main__.Other'>\n",
      "OTHER implicit()\n",
      "CHILD override()\n",
      "CHILD, BEFORE OTHER altered()\n",
      "OTHER altered()\n",
      "CHILD, AFTER OTHER altered()\n"
     ]
    }
   ],
   "source": [
    "class Other(object):\n",
    "    def override(self):\n",
    "        print \"OTHER override()\"\n",
    "    \n",
    "    def implicit(self):\n",
    "        print \"OTHER implicit()\"\n",
    "    \n",
    "    def altered(self):\n",
    "        print \"OTHER altered()\"\n",
    "\n",
    "class Child(object):\n",
    "    def __init__(self):\n",
    "        self.other = Other() #create an instance of Other class as an instance of this Child class, not using inheritance\n",
    "    \n",
    "    def implicit(self):\n",
    "        self.other.implicit()\n",
    "    \n",
    "    def override(self):\n",
    "        print \"CHILD override()\"\n",
    "    \n",
    "    def altered(self):\n",
    "        print \"CHILD, BEFORE OTHER altered()\"\n",
    "        self.other.altered()\n",
    "        print \"CHILD, AFTER OTHER altered()\"\n",
    "\n",
    "son = Child()\n",
    "print type(son.other)\n",
    "son.implicit()\n",
    "son.override()\n",
    "son.altered()\n"
   ]
  },
  {
   "cell_type": "markdown",
   "metadata": {},
   "source": [
    "### General guidelines:\n",
    "* Avoid multiple inheritance at all costs.\n",
    "* Use composition to package up code into modules that are used in many different unrelated places and situations.\n",
    "* Use inheritance only when there are clearly related reusable pieces of code that fit under a single common concept."
   ]
  }
 ],
 "metadata": {
  "kernelspec": {
   "display_name": "Python 2",
   "language": "python",
   "name": "python2"
  },
  "language_info": {
   "codemirror_mode": {
    "name": "ipython",
    "version": 2
   },
   "file_extension": ".py",
   "mimetype": "text/x-python",
   "name": "python",
   "nbconvert_exporter": "python",
   "pygments_lexer": "ipython2",
   "version": "2.7.15"
  }
 },
 "nbformat": 4,
 "nbformat_minor": 2
}
