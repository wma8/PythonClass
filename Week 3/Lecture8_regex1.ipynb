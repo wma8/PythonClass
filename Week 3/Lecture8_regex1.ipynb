{
 "cells": [
  {
   "cell_type": "markdown",
   "metadata": {},
   "source": [
    "# Lecture 8: Regular Expressions\n",
    "\n",
    "- Reading material: tutorial https://regexone.com\n",
    "\n",
    "- The cheat sheet at the following link is very useful to keep in the background. https://www.debuggex.com/cheatsheet/regex/python \n",
    "\n",
    "- Here's another useful website for you to test your regular expressions.\n",
    "http://pythex.org/"
   ]
  },
  {
   "cell_type": "markdown",
   "metadata": {},
   "source": [
    "Regular expressions are a language to describe patterns in strings. They are extremely useful when working with data sets. \n",
    "\n",
    "To start, we need the module __re__, and two functions from it: __search__ and __findall__. The function __re.search__ takes as input __a pattern and a string__, and __returns an object__ (of a class that is specific to the __re__ module) that contains __the first substring__ matching the pattern, together with __its location in the string__. We can call the former using the __group()__ attribute, and the latter using the __start()__ and __end()__ attributes. \n",
    "\n",
    "For example:\n"
   ]
  },
  {
   "cell_type": "code",
   "execution_count": 4,
   "metadata": {},
   "outputs": [
    {
     "name": "stdout",
     "output_type": "stream",
     "text": [
      "abc\n"
     ]
    }
   ],
   "source": [
    "import re\n",
    "ui = re.search(r'abc','abcd').group()\n",
    "print ui"
   ]
  },
  {
   "cell_type": "code",
   "execution_count": 34,
   "metadata": {},
   "outputs": [
    {
     "name": "stdout",
     "output_type": "stream",
     "text": [
      "<type 'NoneType'>\n",
      "<type 'str'>\n"
     ]
    }
   ],
   "source": [
    "print type(re.search(r'abdc','abcd'))\n",
    "re.search(r'ab\\d','abd abc ad1 ab2').group() #\\d means any given integer\n",
    "print type(re.search(r'ab\\d','abd abc ad1 ab2').group())"
   ]
  },
  {
   "cell_type": "code",
   "execution_count": 35,
   "metadata": {},
   "outputs": [
    {
     "data": {
      "text/plain": [
       "4"
      ]
     },
     "execution_count": 35,
     "metadata": {},
     "output_type": "execute_result"
    }
   ],
   "source": [
    "re.search(r'ab\\d','abd ab3 ad1 ab2').start() # return the index of start of matching substring"
   ]
  },
  {
   "cell_type": "code",
   "execution_count": 36,
   "metadata": {},
   "outputs": [
    {
     "data": {
      "text/plain": [
       "7"
      ]
     },
     "execution_count": 36,
     "metadata": {},
     "output_type": "execute_result"
    }
   ],
   "source": [
    "re.search(r'ab\\d','abd ab3 ad1 ab2').end() # return the index+1 of end of matching substring"
   ]
  },
  {
   "cell_type": "code",
   "execution_count": 37,
   "metadata": {},
   "outputs": [
    {
     "data": {
      "text/plain": [
       "['ab3', 'ab2']"
      ]
     },
     "execution_count": 37,
     "metadata": {},
     "output_type": "execute_result"
    }
   ],
   "source": [
    "re.findall(r'ab\\d','abd ab3 ad1 ab2') # return a list of all matching substrings"
   ]
  },
  {
   "cell_type": "code",
   "execution_count": 38,
   "metadata": {},
   "outputs": [
    {
     "name": "stdout",
     "output_type": "stream",
     "text": [
      "abc\n",
      "abccccc\n",
      "abcccccccccc\n"
     ]
    }
   ],
   "source": [
    "prog = re.compile(r'abc*')\n",
    "print prog.match('abcd').group()\n",
    "print prog.match('abcccccd').group()\n",
    "print prog.match('abccccccccccd').group()"
   ]
  },
  {
   "cell_type": "code",
   "execution_count": 39,
   "metadata": {},
   "outputs": [
    {
     "name": "stdout",
     "output_type": "stream",
     "text": [
      "\\\\\n"
     ]
    }
   ],
   "source": [
    "print r'\\\\' #with r, \\ will not be treated as escape symbol"
   ]
  },
  {
   "cell_type": "code",
   "execution_count": 40,
   "metadata": {},
   "outputs": [
    {
     "data": {
      "text/plain": [
       "'\\\\'"
      ]
     },
     "execution_count": 40,
     "metadata": {},
     "output_type": "execute_result"
    }
   ],
   "source": [
    "re.search(r'\\\\','a\\\\b').group()"
   ]
  },
  {
   "cell_type": "code",
   "execution_count": 41,
   "metadata": {},
   "outputs": [
    {
     "data": {
      "text/plain": [
       "0"
      ]
     },
     "execution_count": 41,
     "metadata": {},
     "output_type": "execute_result"
    }
   ],
   "source": [
    "re.search(r'abc','abcd').start()"
   ]
  },
  {
   "cell_type": "code",
   "execution_count": 44,
   "metadata": {},
   "outputs": [
    {
     "data": {
      "text/plain": [
       "3"
      ]
     },
     "execution_count": 44,
     "metadata": {},
     "output_type": "execute_result"
    }
   ],
   "source": [
    "re.search(r'abc','abcd').end()"
   ]
  },
  {
   "cell_type": "markdown",
   "metadata": {},
   "source": [
    "The __group()__ attribute allows us to group the pattern, using parentheses, such that we can call different parts of it. \n",
    "\n",
    "Imagine, for example, that we are looking for email addresses and wish to sometimes only call the username or the domain. These groups may be nested; they are ordered by their leftmost parenthesis. The 0-group always returns the whole pattern. \n",
    "\n",
    "For example:"
   ]
  },
  {
   "cell_type": "code",
   "execution_count": 45,
   "metadata": {},
   "outputs": [
    {
     "data": {
      "text/plain": [
       "'abc'"
      ]
     },
     "execution_count": 45,
     "metadata": {},
     "output_type": "execute_result"
    }
   ],
   "source": [
    "re.search(r'((a)b)c','abcd').group(0)"
   ]
  },
  {
   "cell_type": "code",
   "execution_count": 46,
   "metadata": {},
   "outputs": [
    {
     "data": {
      "text/plain": [
       "'ab'"
      ]
     },
     "execution_count": 46,
     "metadata": {},
     "output_type": "execute_result"
    }
   ],
   "source": [
    "re.search(r'((a)b)c','abcd').group(1)"
   ]
  },
  {
   "cell_type": "code",
   "execution_count": 47,
   "metadata": {},
   "outputs": [
    {
     "data": {
      "text/plain": [
       "'a'"
      ]
     },
     "execution_count": 47,
     "metadata": {},
     "output_type": "execute_result"
    }
   ],
   "source": [
    "re.search(r'((a)b)c','abcd').group(2)"
   ]
  },
  {
   "cell_type": "markdown",
   "metadata": {},
   "source": [
    "The __findall( )__ functions simply returns a list containing all substrings that match the pattern, without information about their location. \n",
    "\n",
    "To ask for more general patterns, we use placeholders, such as \n",
    "- __.__ for any character\n",
    "- __\\d__ for any digit\n",
    "- __[a-z]__ for lower case letters\n",
    "- __[A-Z]__ for upper case letters \n",
    "\n",
    "We also use multipliers, such as \n",
    "- __?__ for 0 or 1\n",
    "- __+__ for 1 or more\n",
    "- __*__ for any number. \n",
    "\n",
    "If we want to look for these special characters, instead of using them as placeholders, we can use __[ ]__. \n",
    "\n",
    "We can also use __|__ inside square brackets to mean “or”. So if we need an a or a b, we ask for a|b. \n",
    "\n",
    "We can also use __lookforwards__ and __lookbackwards__. These let us filter out patterns that are preceded or followed by another pattern, without asking for that pattern. For example, suppose that we have a list of real numbers that all have decimals, and we would like to filter out the integer parts, so we use a lookforward, indicated by __(?=)__ to a period:"
   ]
  },
  {
   "cell_type": "code",
   "execution_count": 51,
   "metadata": {},
   "outputs": [
    {
     "data": {
      "text/plain": [
       "['1', '5', '8', '13']"
      ]
     },
     "execution_count": 51,
     "metadata": {},
     "output_type": "execute_result"
    }
   ],
   "source": [
    "s='1.86 5.30 8.54 13.75'\n",
    "re.findall(r'\\d+(?=\\.)',s) # ?= looks for items with pattern on the right\n",
    "                            # [.] has the same effect as \\. ???"
   ]
  },
  {
   "cell_type": "markdown",
   "metadata": {},
   "source": [
    "For example, suppose that we have the following piece of text:\n",
    "\n",
    "\"October arrived, spreading a damp chill over the grounds and into the castle. Madam Pomfrey, the nurse, was kept busy by a sudden spate of colds among the staff and students. Her Pepperup potion worked instantly, though it left the drinker smoking at the ears for several hours afterward. Ginny Weasley, who had been looking pale, was bullied into taking some by Percy. The steam pouring from under her vivid hair gave the impression that her whole head was on fire.\"\n",
    "\n",
    "We are looking for words that are capitalized, but that are not at the beginning of a sentence. These are words that are preceded by a lower case letter and then a space:"
   ]
  },
  {
   "cell_type": "code",
   "execution_count": 18,
   "metadata": {},
   "outputs": [],
   "source": [
    "s='October arrived, spreading a damp chill over the grounds and into the castle. Madam Pomfrey, the nurse, was kept busy by a sudden spate of colds among the staff and students. Her Pepperup potion worked instantly, though it left the drinker smoking at the ears for several hours afterward. Ginny Weasley, who had been looking pale, was bullied into taking some by Percy. The steam pouring from under her vivid hair gave the impression that her whole head was on fire. '"
   ]
  },
  {
   "cell_type": "code",
   "execution_count": 19,
   "metadata": {},
   "outputs": [
    {
     "data": {
      "text/plain": [
       "['Pomfrey', 'Pepperup', 'Weasley', 'Percy']"
      ]
     },
     "execution_count": 19,
     "metadata": {},
     "output_type": "execute_result"
    }
   ],
   "source": [
    "re.findall(r'(?<=[a-z] )[A-Z][a-z]+',s) # ?<= look for items who have pattern on the left"
   ]
  },
  {
   "cell_type": "markdown",
   "metadata": {},
   "source": [
    "### Exercise:"
   ]
  },
  {
   "cell_type": "markdown",
   "metadata": {},
   "source": [
    "- Write a regular expression that extracts all full sentences that are questions from a piece of english text.\n"
   ]
  },
  {
   "cell_type": "code",
   "execution_count": 1,
   "metadata": {},
   "outputs": [
    {
     "ename": "SyntaxError",
     "evalue": "EOF while scanning triple-quoted string literal (<ipython-input-1-ba2a49b240f0>, line 4)",
     "output_type": "error",
     "traceback": [
      "\u001b[0;36m  File \u001b[0;32m\"<ipython-input-1-ba2a49b240f0>\"\u001b[0;36m, line \u001b[0;32m4\u001b[0m\n\u001b[0;31m    \\w+\\?')\u001b[0m\n\u001b[0m           \n^\u001b[0m\n\u001b[0;31mSyntaxError\u001b[0m\u001b[0;31m:\u001b[0m EOF while scanning triple-quoted string literal\n"
     ]
    }
   ],
   "source": [
    "import re\n",
    "re.findall(r'''\n",
    "            (?:\\w+\\s+)*  #zero or more word then space pairs #?: means non-capturing group\n",
    "            \\w+          #one or more \"word characters\"\n",
    "            \\?           #literal ? mark\n",
    "            ''')"
   ]
  },
  {
   "cell_type": "code",
   "execution_count": 2,
   "metadata": {},
   "outputs": [
    {
     "ename": "SyntaxError",
     "evalue": "EOF while scanning triple-quoted string literal (<ipython-input-2-92d3190c555f>, line 4)",
     "output_type": "error",
     "traceback": [
      "\u001b[0;36m  File \u001b[0;32m\"<ipython-input-2-92d3190c555f>\"\u001b[0;36m, line \u001b[0;32m4\u001b[0m\n\u001b[0;31m    \\w)\u001b[0m\n\u001b[0m       \n^\u001b[0m\n\u001b[0;31mSyntaxError\u001b[0m\u001b[0;31m:\u001b[0m EOF while scanning triple-quoted string literal\n"
     ]
    }
   ],
   "source": [
    "r'''(?:^|[.!?]\\s+)\n",
    "    (\n",
    "      [^.?!]*\n",
    "      \\w\n",
    "      /?\n",
    "    )"
   ]
  },
  {
   "cell_type": "markdown",
   "metadata": {},
   "source": [
    "- Write a regular expression that finds the maximum of all numbers (either integers or floats) that are in a string. The pattern ‘26’ should be counted as twenty six, rather than a 2 and a 6."
   ]
  },
  {
   "cell_type": "code",
   "execution_count": null,
   "metadata": {
    "collapsed": true
   },
   "outputs": [],
   "source": []
  },
  {
   "cell_type": "markdown",
   "metadata": {},
   "source": [
    "- Write a regular expression that finds all short sentences in a piece of english text (sentences with no more than 10 words)."
   ]
  },
  {
   "cell_type": "code",
   "execution_count": null,
   "metadata": {
    "collapsed": true
   },
   "outputs": [],
   "source": []
  },
  {
   "cell_type": "markdown",
   "metadata": {},
   "source": [
    "- Write a regular expression that lists the first letters of every sentence in a piece of english text.\n"
   ]
  },
  {
   "cell_type": "code",
   "execution_count": null,
   "metadata": {
    "collapsed": true
   },
   "outputs": [],
   "source": []
  },
  {
   "cell_type": "markdown",
   "metadata": {},
   "source": [
    "- Write a regular expression that checks whether a string contains both upper and lower case\n",
    "letters.\n"
   ]
  },
  {
   "cell_type": "code",
   "execution_count": null,
   "metadata": {
    "collapsed": true
   },
   "outputs": [],
   "source": []
  },
  {
   "cell_type": "markdown",
   "metadata": {},
   "source": [
    "- Write a regular expression that checks whether a string contains upper, lower case letters and at least one digit."
   ]
  },
  {
   "cell_type": "code",
   "execution_count": null,
   "metadata": {
    "collapsed": true
   },
   "outputs": [],
   "source": []
  },
  {
   "cell_type": "markdown",
   "metadata": {},
   "source": [
    "- Use regular expressions to add commas between two numbers in a list of numbers separated only by spaces. So, we want to turn ’1 3 8 2’ into ’1, 3, 8, 2’. Then, also add square brackets, so that the list is written in a way that can be used in python.\n",
    "We want ’[1, 3, 8, 2]’. Put this all together to create a function that takes as input a string of space separated numbers, and outputs a python list of those numbers (not strings)."
   ]
  },
  {
   "cell_type": "code",
   "execution_count": null,
   "metadata": {
    "collapsed": true
   },
   "outputs": [],
   "source": []
  }
 ],
 "metadata": {
  "kernelspec": {
   "display_name": "Python 2",
   "language": "python",
   "name": "python2"
  },
  "language_info": {
   "codemirror_mode": {
    "name": "ipython",
    "version": 2
   },
   "file_extension": ".py",
   "mimetype": "text/x-python",
   "name": "python",
   "nbconvert_exporter": "python",
   "pygments_lexer": "ipython2",
   "version": "2.7.15"
  }
 },
 "nbformat": 4,
 "nbformat_minor": 2
}
