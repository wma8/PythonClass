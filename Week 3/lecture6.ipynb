{
 "cells": [
  {
   "cell_type": "markdown",
   "metadata": {},
   "source": [
    "# Lecture 6\n",
    "1. Define a class\n",
    "2. Instantiate objects, manipulate class and instance variables, call object methods\n",
    "3. Magic methods and overloading operators\n",
    "\n",
    "Reading material: [tutorialspoint](http://www.tutorialspoint.com/python/python_classes_objects.htm)"
   ]
  },
  {
   "cell_type": "markdown",
   "metadata": {
    "collapsed": true
   },
   "source": [
    "### Classes and objects\n",
    "\n",
    "Classes are like modules. A way to think about a module is that it is a specialized dictionary that can store Python code so you can get to it with the '.' (dot) operator. A class is a way to take a grouping of functions and data and place them inside a container so you can access them with the '.' (dot) operator."
   ]
  },
  {
   "cell_type": "markdown",
   "metadata": {},
   "source": [
    "Let's create a class. This class will create objects which have a numerical value and a name as their data, and will have methods that can double the numerical data or change the name. We also keep track of how often the name of an object has been changed. The variable count is a class variable whose value is shared among all instances of a this class.\n",
    "\n",
    "Note how we can manipulate different parts of the data independently! The __self__ word comes up a lot, and we need this to specify the local data variables, which live only inside the object. The first line of the class definition, with the \\__init\\__ part, is almost always there, since it sets the initial values of the data. They do not need to be user specified."
   ]
  },
  {
   "cell_type": "code",
   "execution_count": null,
   "metadata": {
    "collapsed": true
   },
   "outputs": [],
   "source": [
    "class DblClass(object):\n",
    "    '''this is a class demo'''\n",
    "    count = 0\n",
    "    def __init__(self,val,name):\n",
    "        self.val=val\n",
    "        self.name=name\n",
    "        self.chng=0\n",
    "        DblClass.count+=1 \n",
    "    def double(self):\n",
    "        self.val=2*self.val\n",
    "    def rename(self,newname):\n",
    "        self.name=newname\n",
    "        self.chng+=1"
   ]
  },
  {
   "cell_type": "markdown",
   "metadata": {
    "collapsed": true
   },
   "source": [
    "Some built-in class attributes:"
   ]
  },
  {
   "cell_type": "code",
   "execution_count": null,
   "metadata": {
    "collapsed": true
   },
   "outputs": [],
   "source": [
    "print \"DblClass.__doc__:\", DblClass.__doc__"
   ]
  },
  {
   "cell_type": "code",
   "execution_count": null,
   "metadata": {
    "collapsed": true
   },
   "outputs": [],
   "source": [
    "print \"DblClass.__bases__:\", DblClass.__bases__ "
   ]
  },
  {
   "cell_type": "code",
   "execution_count": null,
   "metadata": {
    "collapsed": true
   },
   "outputs": [],
   "source": [
    "print \"DblClass.__dict__:\", DblClass.__dict__ "
   ]
  },
  {
   "cell_type": "markdown",
   "metadata": {},
   "source": [
    "We can then use this class as follows:"
   ]
  },
  {
   "cell_type": "code",
   "execution_count": null,
   "metadata": {
    "collapsed": true
   },
   "outputs": [],
   "source": [
    "print DblClass.count"
   ]
  },
  {
   "cell_type": "code",
   "execution_count": null,
   "metadata": {
    "collapsed": true
   },
   "outputs": [],
   "source": [
    "b = DblClass(4, 'Data')\n",
    "b.val"
   ]
  },
  {
   "cell_type": "code",
   "execution_count": null,
   "metadata": {
    "collapsed": true
   },
   "outputs": [],
   "source": [
    "print DblClass.count"
   ]
  },
  {
   "cell_type": "code",
   "execution_count": null,
   "metadata": {
    "collapsed": true
   },
   "outputs": [],
   "source": [
    "b.double()\n",
    "b.val"
   ]
  },
  {
   "cell_type": "code",
   "execution_count": null,
   "metadata": {
    "collapsed": true
   },
   "outputs": [],
   "source": [
    "b.name"
   ]
  },
  {
   "cell_type": "code",
   "execution_count": null,
   "metadata": {
    "collapsed": true
   },
   "outputs": [],
   "source": [
    "b.rename('newData')\n",
    "b.name"
   ]
  },
  {
   "cell_type": "code",
   "execution_count": null,
   "metadata": {
    "collapsed": true
   },
   "outputs": [],
   "source": [
    "b.chng"
   ]
  },
  {
   "cell_type": "markdown",
   "metadata": {},
   "source": [
    "### Some major differences from C++/Java:\n",
    "- A __“class variable”__ is like a static field / member variable in Java/C++\n",
    "- A __“method”__ is like a member function in C++\n",
    "- The concept of __“instance variable”__ is the same in C++/Java, but note that they are declared within a method (member function)! You do not list all your instance variables outside the methods like you do in C++/Java; you just initialize them inside the methods.\n",
    "- The __self__ variable is similar to the __this__ pointer/reference in C++/Java, but you have to include it as the first parameter in the definition of every method. Also, while this was not always necessary for referring to instance variables in C++/Java, in Python, you always have to use self in order to refer to an instance variable.\n",
    "- The __\"object\"__ has two meanings: the most basic kind of thing, and any instance of \n",
    "- The \\__init\\__ method is called class constructor or initialization method that Python calls when you create a new instance of this class.\n",
    "- Even after you have created an instance of a class (an object), you can add new “attributes” (instance variables) to it. They can even be used inside methods, provided that you initialize them before invoking the method.\n",
    "\n",
    "For example: the following works but not it is not recommended"
   ]
  },
  {
   "cell_type": "code",
   "execution_count": null,
   "metadata": {
    "collapsed": true
   },
   "outputs": [],
   "source": [
    "class MyClass(object):\n",
    "    pass\n",
    "\n",
    "x = MyClass()\n",
    "x.y = 10\n",
    "print x.y"
   ]
  },
  {
   "cell_type": "markdown",
   "metadata": {},
   "source": [
    "### Magic methods and overloading operators\n",
    "\n",
    "What are magic methods? They're everything in object-oriented Python. They're special methods that you can define to add \"magic\" to your classes. They're always surrounded by double underscores (e.g. \\__init\\__ or \\__add\\__). \n",
    "\n",
    "Skim http://minhhh.github.io/posts/a-guide-to-pythons-magic-methods to get an idea for all the magic methods you can use. We will practice overloading these in class.\n",
    "\n",
    "The following example overload the \\__add\\__ method to perform vector addtion."
   ]
  },
  {
   "cell_type": "code",
   "execution_count": null,
   "metadata": {
    "collapsed": true
   },
   "outputs": [],
   "source": [
    "class Vector(object):\n",
    "    def __init__(self, a, b):\n",
    "        self.a = a\n",
    "        self.b = b\n",
    "\n",
    "    def __str__(self):\n",
    "        return 'Vector (%d, %d)' % (self.a, self.b)\n",
    "   \n",
    "    def __add__(self,other):\n",
    "         return Vector(self.a + other.a, self.b + other.b)\n",
    "\n",
    "v1 = Vector(2,10)\n",
    "v2 = Vector(5,-2)\n",
    "print v1 + v2"
   ]
  },
  {
   "cell_type": "markdown",
   "metadata": {},
   "source": [
    "### Exercise:\n",
    "Try running the following code and predict the output"
   ]
  },
  {
   "cell_type": "code",
   "execution_count": null,
   "metadata": {
    "collapsed": true
   },
   "outputs": [],
   "source": [
    "class MyClass(object):\n",
    "    a = 1\n",
    "    def __init__(self, x = 2, y = 3):\n",
    "        MyClass.a = x\n",
    "        self.b = y\n",
    "        self.__c = 10\n",
    "   \n",
    "    def get__c(self):\n",
    "        return self.__c\n",
    "     \n",
    "    def set__c(self, x):\n",
    "        self.__c = x"
   ]
  },
  {
   "cell_type": "code",
   "execution_count": null,
   "metadata": {
    "collapsed": true
   },
   "outputs": [],
   "source": [
    "print MyClass.a"
   ]
  },
  {
   "cell_type": "code",
   "execution_count": null,
   "metadata": {
    "collapsed": true
   },
   "outputs": [],
   "source": [
    "o1 = MyClass()\n",
    "print MyClass.a\n",
    "print o1.a"
   ]
  },
  {
   "cell_type": "code",
   "execution_count": null,
   "metadata": {
    "collapsed": true
   },
   "outputs": [],
   "source": [
    "o2 = MyClass(4)\n",
    "print MyClass.a\n",
    "print o1.a\n",
    "print o2.a"
   ]
  },
  {
   "cell_type": "code",
   "execution_count": null,
   "metadata": {
    "collapsed": true
   },
   "outputs": [],
   "source": [
    "o3 = MyClass(5,6)\n",
    "print MyClass.a\n",
    "print o1.a\n",
    "print o2.a\n",
    "print o3.a"
   ]
  },
  {
   "cell_type": "code",
   "execution_count": null,
   "metadata": {
    "collapsed": true
   },
   "outputs": [],
   "source": [
    "MyClass.a = 7\n",
    "print o1.a\n",
    "print o2.a\n",
    "print o3.a"
   ]
  },
  {
   "cell_type": "code",
   "execution_count": null,
   "metadata": {
    "collapsed": true
   },
   "outputs": [],
   "source": [
    "o1.a = 8\n",
    "print MyClass.a\n",
    "print o1.a\n",
    "print o2.a\n",
    "print o3.a"
   ]
  },
  {
   "cell_type": "code",
   "execution_count": null,
   "metadata": {
    "collapsed": true
   },
   "outputs": [],
   "source": [
    "del o1.a\n",
    "print o1.a\n",
    "print o2.a\n",
    "print o3.a"
   ]
  },
  {
   "cell_type": "markdown",
   "metadata": {},
   "source": [
    "__Private Variables__: those that begin with double underscore"
   ]
  },
  {
   "cell_type": "code",
   "execution_count": null,
   "metadata": {
    "collapsed": true
   },
   "outputs": [],
   "source": [
    "print o1.__c"
   ]
  },
  {
   "cell_type": "code",
   "execution_count": null,
   "metadata": {
    "collapsed": true
   },
   "outputs": [],
   "source": [
    "print o1.get__c()"
   ]
  },
  {
   "cell_type": "code",
   "execution_count": null,
   "metadata": {
    "collapsed": true
   },
   "outputs": [],
   "source": [
    "o1.__c = 11\n",
    "print o1.__c\n",
    "print o1.get__c()\n",
    "del o1.__c\n",
    "o1.set__c(12)\n",
    "print o1.get__c()"
   ]
  },
  {
   "cell_type": "markdown",
   "metadata": {},
   "source": [
    "When declaring a class we write something like __class MyClass(object): __ which means \"make a class MyClass that inherits from object\". We'll talk about inheritance more when we get to GUIs.\n",
    "#### Why do we want a class declaration to inherit from _object_?\n",
    "\n",
    "Read this post:\n",
    "\n",
    "https://stackoverflow.com/questions/4015417/python-class-inherits-object\n",
    "\n",
    "Python 3.x:\n",
    "\n",
    "class MyClass(object): = new-style class\n",
    "\n",
    "class MyClass: = new-style class (implicitly inherits from object)\n",
    "\n",
    "Python 2.x:\n",
    "\n",
    "class MyClass(object): = new-style class\n",
    "\n",
    "class MyClass: = OLD-STYLE CLASS\n",
    "\n",
    "When writing a class you'll always want to go for new-style classes."
   ]
  },
  {
   "cell_type": "markdown",
   "metadata": {},
   "source": [
    "### Exercise:\n",
    "- Create a list-class yourself: one that has an __append__() function and a __length__ data attribute. (Standard python lists can only give you the length through the len() function, which is not an attribute.)"
   ]
  },
  {
   "cell_type": "code",
   "execution_count": null,
   "metadata": {
    "collapsed": true
   },
   "outputs": [],
   "source": []
  },
  {
   "cell_type": "markdown",
   "metadata": {},
   "source": [
    "- Create a class of objects that act like integers, and have a __plus(k)__ method attribute, which increases the integer by k, and a __parity__ data attribute, which is either ’odd’ or ’even’, and is correctly updated each time."
   ]
  },
  {
   "cell_type": "code",
   "execution_count": null,
   "metadata": {
    "collapsed": true
   },
   "outputs": [],
   "source": []
  }
 ],
 "metadata": {
  "kernelspec": {
   "display_name": "Python 2",
   "language": "python",
   "name": "python2"
  },
  "language_info": {
   "codemirror_mode": {
    "name": "ipython",
    "version": 2
   },
   "file_extension": ".py",
   "mimetype": "text/x-python",
   "name": "python",
   "nbconvert_exporter": "python",
   "pygments_lexer": "ipython2",
   "version": "2.7.15"
  }
 },
 "nbformat": 4,
 "nbformat_minor": 2
}
