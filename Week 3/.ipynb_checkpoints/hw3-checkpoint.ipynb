{
 "cells": [
  {
   "cell_type": "code",
   "execution_count": 41,
   "metadata": {},
   "outputs": [],
   "source": [
    "#HW3 P1\n",
    "import re\n",
    "def mytype(v):\n",
    "    a = str(v)\n",
    "    #print a\n",
    "    #print type(a)\n",
    "    if re.search(r'\\[(\\d, )*\\d?\\]',a) != None: #test list\n",
    "        return \"list\"\n",
    "    elif re.search(r'\\d+\\.\\d+',a) != None: #test float\n",
    "        return \"float\"\n",
    "    elif re.search(r'^\\d+$',a) != None: #test int\n",
    "        return \"integer\"\n",
    "    else: \n",
    "        return \"string\"\n",
    "\n",
    "#re.search(r'[^\\d\\[\\]]',a).group() == a #test string, using [^...] not ??"
   ]
  },
  {
   "cell_type": "code",
   "execution_count": 42,
   "metadata": {},
   "outputs": [
    {
     "name": "stdout",
     "output_type": "stream",
     "text": [
      "<type 'str'>\n"
     ]
    }
   ],
   "source": [
    "print type(\"dd'd'd234d'd'd'd''\")"
   ]
  },
  {
   "cell_type": "code",
   "execution_count": 55,
   "metadata": {},
   "outputs": [
    {
     "data": {
      "text/plain": [
       "'list'"
      ]
     },
     "execution_count": 55,
     "metadata": {},
     "output_type": "execute_result"
    }
   ],
   "source": [
    "#mytype([1,2])\n",
    "#mytype(1233)\n",
    "#mytype(1.343)\n",
    "#mytype(\"afad d \")\n",
    "mytype([  ])"
   ]
  },
  {
   "cell_type": "code",
   "execution_count": 22,
   "metadata": {},
   "outputs": [
    {
     "name": "stdout",
     "output_type": "stream",
     "text": [
      "[1, 3, 3, 5]\n",
      "<type 'list'>\n"
     ]
    }
   ],
   "source": [
    "k = [1,3,3,5]\n",
    "print k\n",
    "print type(k)"
   ]
  },
  {
   "cell_type": "code",
   "execution_count": 49,
   "metadata": {},
   "outputs": [],
   "source": [
    "#HW3 P2\n",
    "def findpdfs(L):\n",
    "    #l = str(L)\n",
    "    return re.findall(r'\\w+(?=\\.pdf)',str(L))\n"
   ]
  },
  {
   "cell_type": "code",
   "execution_count": 51,
   "metadata": {},
   "outputs": [
    {
     "data": {
      "text/plain": [
       "['1232112', 'hdjd334', 'JKljdk34']"
      ]
     },
     "execution_count": 51,
     "metadata": {},
     "output_type": "execute_result"
    }
   ],
   "source": [
    "L = ['1232112.pdf', 'hdjd334.pdf', 'jdjal.jpd', 'JKljdk34.pdf']\n",
    "findpdfs(L)"
   ]
  },
  {
   "cell_type": "code",
   "execution_count": 65,
   "metadata": {},
   "outputs": [
    {
     "data": {
      "text/plain": [
       "'math.ucla.edu'"
      ]
     },
     "execution_count": 65,
     "metadata": {},
     "output_type": "execute_result"
    }
   ],
   "source": [
    "#HW# P3\n",
    "import urllib2\n",
    "url = \"http://www.math.ucla.edu/~hangjie/contact\"\n",
    "page=urllib2.urlopen(url).read() #get source code for the page\n",
    "text = str(page)\n",
    "re.search(r'\\w*\\s?\\[?(@|AT|at)\\]?\\s?.*edu',text).group()\n"
   ]
  },
  {
   "cell_type": "code",
   "execution_count": null,
   "metadata": {},
   "outputs": [],
   "source": []
  }
 ],
 "metadata": {
  "kernelspec": {
   "display_name": "Python 2",
   "language": "python",
   "name": "python2"
  },
  "language_info": {
   "codemirror_mode": {
    "name": "ipython",
    "version": 2
   },
   "file_extension": ".py",
   "mimetype": "text/x-python",
   "name": "python",
   "nbconvert_exporter": "python",
   "pygments_lexer": "ipython2",
   "version": "2.7.15"
  }
 },
 "nbformat": 4,
 "nbformat_minor": 2
}
