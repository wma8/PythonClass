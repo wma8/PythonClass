{
 "cells": [
  {
   "cell_type": "markdown",
   "metadata": {},
   "source": [
    "# Discussion Week 3A"
   ]
  },
  {
   "cell_type": "code",
   "execution_count": 2,
   "metadata": {
    "collapsed": true
   },
   "outputs": [],
   "source": [
    "import re"
   ]
  },
  {
   "cell_type": "markdown",
   "metadata": {},
   "source": [
    "### Classes and Objects"
   ]
  },
  {
   "cell_type": "code",
   "execution_count": 3,
   "metadata": {
    "collapsed": true
   },
   "outputs": [],
   "source": [
    "class Crypto(object):\n",
    "    '''hello world'''\n",
    "    coins = 0\n",
    "    def __init__(self, price, name):\n",
    "        self.price = price\n",
    "        self.name = name\n",
    "        Crypto.coins += 1\n",
    "        \n",
    "    def __str__(self):\n",
    "        return '%s Price: %d' % (self.name, self.price)\n",
    "    \n",
    "    def __cmp__(self, other):\n",
    "        if self.price < other.price:\n",
    "            return -1\n",
    "        elif self.price == other.price:\n",
    "            return 0\n",
    "        else:\n",
    "            return 1\n",
    "        \n",
    "    def __add__(self, other):\n",
    "        return self.price + other.price\n",
    "    \n",
    "    def __sub__(self, other):\n",
    "        return self.price - other.price\n",
    "\n",
    "    def __iadd__(self, num):\n",
    "        self.price += num\n",
    "        return self\n",
    "    \n",
    "    def __isub__(self, num):\n",
    "        self.price -= num\n",
    "        return self\n",
    "    \n",
    "    def fork(self, newname):\n",
    "        return Crypto(self.halve(), newname)\n",
    "    \n",
    "    def halve(self):\n",
    "        return (self.price/2)\n",
    "    \n",
    "    __address = \"0xDEADBEEF\"\n",
    "    \n",
    "    def getAddr(self):\n",
    "        return self.__address\n",
    "    \n",
    "    def setAddr(self, address):\n",
    "        self.__address = address"
   ]
  },
  {
   "cell_type": "code",
   "execution_count": 4,
   "metadata": {},
   "outputs": [
    {
     "name": "stdout",
     "output_type": "stream",
     "text": [
      "Bitcoin Price: 8016\n",
      "1\n"
     ]
    }
   ],
   "source": [
    "BTC = Crypto(8016, 'Bitcoin')\n",
    "print BTC\n",
    "print Crypto.coins"
   ]
  },
  {
   "cell_type": "code",
   "execution_count": 5,
   "metadata": {},
   "outputs": [
    {
     "name": "stdout",
     "output_type": "stream",
     "text": [
      "True\n",
      "False\n",
      "2\n"
     ]
    }
   ],
   "source": [
    "ETH = Crypto(807, 'Ethereum')\n",
    "print ETH < BTC\n",
    "print ETH == BTC\n",
    "print Crypto.coins"
   ]
  },
  {
   "cell_type": "code",
   "execution_count": 6,
   "metadata": {},
   "outputs": [
    {
     "name": "stdout",
     "output_type": "stream",
     "text": [
      "8823\n",
      "7209\n"
     ]
    }
   ],
   "source": [
    "print ETH + BTC\n",
    "print BTC - ETH"
   ]
  },
  {
   "cell_type": "code",
   "execution_count": 7,
   "metadata": {},
   "outputs": [
    {
     "name": "stdout",
     "output_type": "stream",
     "text": [
      "Ethereum Price: 810\n",
      "Bitcoin Price: 8010\n"
     ]
    }
   ],
   "source": [
    "ETH += 3\n",
    "BTC -= 6\n",
    "print ETH\n",
    "print BTC"
   ]
  },
  {
   "cell_type": "code",
   "execution_count": 8,
   "metadata": {},
   "outputs": [
    {
     "name": "stdout",
     "output_type": "stream",
     "text": [
      "Bitcoin Cash Price: 4005\n",
      "3\n"
     ]
    }
   ],
   "source": [
    "BCH = BTC.fork(\"Bitcoin Cash\")\n",
    "print BCH\n",
    "print Crypto.coins"
   ]
  },
  {
   "cell_type": "code",
   "execution_count": 9,
   "metadata": {},
   "outputs": [
    {
     "ename": "AttributeError",
     "evalue": "type object 'Crypto' has no attribute '__address'",
     "output_type": "error",
     "traceback": [
      "\u001b[1;31m---------------------------------------------------------------------------\u001b[0m",
      "\u001b[1;31mAttributeError\u001b[0m                            Traceback (most recent call last)",
      "\u001b[1;32m<ipython-input-9-13b813c7fe96>\u001b[0m in \u001b[0;36m<module>\u001b[1;34m()\u001b[0m\n\u001b[1;32m----> 1\u001b[1;33m \u001b[0mCrypto\u001b[0m\u001b[1;33m.\u001b[0m\u001b[0m__address\u001b[0m\u001b[1;33m\u001b[0m\u001b[0m\n\u001b[0m",
      "\u001b[1;31mAttributeError\u001b[0m: type object 'Crypto' has no attribute '__address'"
     ]
    }
   ],
   "source": [
    "Crypto.__address"
   ]
  },
  {
   "cell_type": "code",
   "execution_count": 10,
   "metadata": {},
   "outputs": [
    {
     "name": "stdout",
     "output_type": "stream",
     "text": [
      "0xFEEDFEED\n"
     ]
    }
   ],
   "source": [
    "BTC.setAddr(\"0xFEEDFEED\")\n",
    "print BTC.getAddr()"
   ]
  },
  {
   "cell_type": "markdown",
   "metadata": {},
   "source": [
    "### Regex Practice"
   ]
  },
  {
   "cell_type": "markdown",
   "metadata": {},
   "source": [
    "Write a regular expression that extracts \"hog\" and \"dog\" from the following sentence."
   ]
  },
  {
   "cell_type": "code",
   "execution_count": 12,
   "metadata": {},
   "outputs": [
    {
     "name": "stdout",
     "output_type": "stream",
     "text": [
      "['hog', 'dog']\n",
      "['hog', 'dog']\n"
     ]
    }
   ],
   "source": [
    "s = \"In a bog I found a hog and a dog.\"\n",
    "\n",
    "\n",
    "print re.findall('[^b]og', s)\n",
    "print re.findall('[dh]og', s)"
   ]
  },
  {
   "cell_type": "markdown",
   "metadata": {},
   "source": [
    "Write a regular expression that ignores \"kek\" but extracts the other words in the following sentence."
   ]
  },
  {
   "cell_type": "code",
   "execution_count": 13,
   "metadata": {},
   "outputs": [
    {
     "data": {
      "text/plain": [
       "['kekkk', 'kekkkkk']"
      ]
     },
     "execution_count": 13,
     "metadata": {},
     "output_type": "execute_result"
    }
   ],
   "source": [
    "s = \"kek kekkk kekkkkk\"\n",
    "\n",
    "\n",
    "\n",
    "\n",
    "\n",
    "\n",
    "\n",
    "\n",
    "\n",
    "\n",
    "re.findall('kek{2,}', s)"
   ]
  },
  {
   "cell_type": "markdown",
   "metadata": {},
   "source": [
    "Write a regular expression that removes redundant whitespace."
   ]
  },
  {
   "cell_type": "code",
   "execution_count": 17,
   "metadata": {},
   "outputs": [
    {
     "name": "stdout",
     "output_type": "stream",
     "text": [
      "My name is Inigo Montoya.\n",
      "My name is Inigo Montoya.\n"
     ]
    }
   ],
   "source": [
    "s = \"My name is Inigo             Montoya.\"\n",
    "\n",
    "\n",
    "\n",
    "\n",
    "\n",
    "\n",
    "\n",
    "\n",
    "\n",
    "print re.sub('\\s{2,}', ' ', s)"
   ]
  },
  {
   "cell_type": "markdown",
   "metadata": {},
   "source": [
    "Write a regular expression that extracts all full sentences that are questions from a piece of english text."
   ]
  },
  {
   "cell_type": "code",
   "execution_count": 21,
   "metadata": {},
   "outputs": [
    {
     "name": "stdout",
     "output_type": "stream",
     "text": [
      "['What is 2+2?', 'What is 2-2?']\n",
      "['What is 2+2?', 'What is 2-2?']\n"
     ]
    }
   ],
   "source": [
    "s = \"What is 2+2? Oh, it's 4. What is 2-2? Zero.\"\n",
    "\n",
    "\n",
    "\n",
    "print re.findall('[A-Z][^.!?]+\\?', s)\n",
    "\n",
    "\n",
    "\n",
    "\n",
    "\n",
    "\n",
    "\n",
    "\n",
    "print re.findall('[A-Z][^.!?]*\\?', s)"
   ]
  },
  {
   "cell_type": "markdown",
   "metadata": {},
   "source": [
    "Write a regular expression that finds the maximum of all numbers (either integers or floats) that are in a string. The pattern ‘26’ should be counted as twenty six, rather than a 2 and a 6."
   ]
  },
  {
   "cell_type": "code",
   "execution_count": 22,
   "metadata": {},
   "outputs": [
    {
     "data": {
      "text/plain": [
       "1337"
      ]
     },
     "execution_count": 22,
     "metadata": {},
     "output_type": "execute_result"
    }
   ],
   "source": [
    "s = \"Why was 6 afraid of 7? Because 7 ate 9! HAR HAR 1337!\"\n",
    "\n",
    "\n",
    "\n",
    "\n",
    "\n",
    "\n",
    "\n",
    "\n",
    "\n",
    "max(map(int, re.findall('\\d+', s)))"
   ]
  },
  {
   "cell_type": "markdown",
   "metadata": {},
   "source": [
    "Write a regular expression that lists the first letters of every word in a piece of english text."
   ]
  },
  {
   "cell_type": "code",
   "execution_count": null,
   "metadata": {
    "collapsed": true
   },
   "outputs": [],
   "source": [
    "s = \"This sentence says nothing of importance.\"\n",
    "\n",
    "\n",
    "\n",
    "\n",
    "\n",
    "\n",
    "\n",
    "\n",
    "\n",
    "\n",
    "\n",
    "re.findall('[A-Z|\\d]|(?<=\\s)\\w', s)\n",
    "\n",
    "\n",
    "\n",
    "\n",
    "\n",
    "\n",
    "\n",
    "\n",
    "\n",
    "\n"
   ]
  },
  {
   "cell_type": "markdown",
   "metadata": {},
   "source": [
    "Write a regular expression that checks whether a string contains both upper and lower case\n",
    "letters."
   ]
  },
  {
   "cell_type": "code",
   "execution_count": 23,
   "metadata": {},
   "outputs": [
    {
     "name": "stdout",
     "output_type": "stream",
     "text": [
      "[]\n",
      "['This string does.']\n",
      "[]\n",
      "['This string does.']\n"
     ]
    }
   ],
   "source": [
    "s1 = \"this string does not.\"\n",
    "s2 = \"This string does.\"\n",
    "\n",
    "\n",
    "\n",
    "\n",
    "\n",
    "\n",
    "\n",
    "\n",
    "\n",
    "print re.findall('[A-Z].*[a-z].?|[a-z].*[A-Z].?', s1)\n",
    "print re.findall('[A-Z].*[a-z].?|[a-z].*[A-Z].?', s2)\n",
    "print re.findall('^(?=.*[a-z])(?=.*[A-Z]).+$', s1)\n",
    "print re.findall('^(?=.*[a-z])(?=.*[A-Z]).+$', s2)"
   ]
  },
  {
   "cell_type": "markdown",
   "metadata": {},
   "source": [
    "Write a regular expression that checks whether a string contains upper, lower case letters and at least one digit."
   ]
  },
  {
   "cell_type": "code",
   "execution_count": null,
   "metadata": {
    "collapsed": true
   },
   "outputs": [],
   "source": [
    "s1 = \"This string does not.\"\n",
    "s2 = \"this string does not!!!111\"\n",
    "s3 = \"This string does!!!111\"\n",
    "\n",
    "print re.findall('^(?=.*[a-z])(?=.*[A-Z])(?=.*\\d).+$', s1)\n",
    "print re.findall('^(?=.*[a-z])(?=.*[A-Z])(?=.*\\d).+$', s2)\n",
    "print re.findall('^(?=.*[a-z])(?=.*[A-Z])(?=.*\\d).+$', s3)"
   ]
  },
  {
   "cell_type": "markdown",
   "metadata": {},
   "source": [
    "Use regular expressions to add commas between two numbers in a list of numbers separated only by spaces. So, we want to turn ’1 3 8 2’ into ’1, 3, 8, 2’. Then, also add square brackets, so that the list is written in a way that can be used in python. We want ’[1, 3, 8, 2]’. Put this all together to create a function that takes as input a string of space separated numbers, and outputs a python list of those numbers (not strings)."
   ]
  },
  {
   "cell_type": "code",
   "execution_count": null,
   "metadata": {
    "collapsed": true
   },
   "outputs": [],
   "source": [
    "def to_list(nums):\n",
    "    nums = re.sub('(?<=\\d)\\s', ', ', nums)\n",
    "    nums = re.sub('^', '[', nums)\n",
    "    nums = re.sub('$', ']', nums)\n",
    "    return nums\n",
    "    \n",
    "\n",
    "print to_list(\"1 3 8 2\")"
   ]
  },
  {
   "cell_type": "code",
   "execution_count": null,
   "metadata": {
    "collapsed": true
   },
   "outputs": [],
   "source": []
  }
 ],
 "metadata": {
  "kernelspec": {
   "display_name": "Python 2",
   "language": "python",
   "name": "python2"
  },
  "language_info": {
   "codemirror_mode": {
    "name": "ipython",
    "version": 2
   },
   "file_extension": ".py",
   "mimetype": "text/x-python",
   "name": "python",
   "nbconvert_exporter": "python",
   "pygments_lexer": "ipython2",
   "version": "2.7.14"
  }
 },
 "nbformat": 4,
 "nbformat_minor": 2
}
