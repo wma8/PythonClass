{
 "cells": [
  {
   "cell_type": "markdown",
   "metadata": {},
   "source": [
    "# Lecture 6\n",
    "1. Define a class\n",
    "2. Instantiate objects, manipulate class and instance variables, call object methods\n",
    "3. Magic methods and overloading operators\n",
    "\n",
    "Reading material: [tutorialspoint](http://www.tutorialspoint.com/python/python_classes_objects.htm)"
   ]
  },
  {
   "cell_type": "markdown",
   "metadata": {
    "collapsed": true
   },
   "source": [
    "### Classes and objects\n",
    "\n",
    "Classes are like modules. A way to think about a module is that it is a specialized dictionary that can store Python code so you can get to it with the '.' (dot) operator. A class is a way to take a grouping of functions and data and place them inside a container so you can access them with the '.' (dot) operator."
   ]
  },
  {
   "cell_type": "markdown",
   "metadata": {},
   "source": [
    "Let's create a class. This class will create objects which have a numerical value and a name as their data, and will have methods that can double the numerical data or change the name. We also keep track of how often the name of an object has been changed. The variable count is a class variable whose value is shared among all instances of a this class.\n",
    "\n",
    "Note how we can manipulate different parts of the data independently! The __self__ word comes up a lot, and we need this to specify the local data variables, which live only inside the object. The first line of the class definition, with the \\__init\\__ part, is almost always there, since it sets the initial values of the data. They do not need to be user specified."
   ]
  },
  {
   "cell_type": "code",
   "execution_count": 17,
   "metadata": {},
   "outputs": [],
   "source": [
    "class DblClass(object):\n",
    "    '''this is a class demo'''#a doc string \n",
    "    count = 0\n",
    "    def __init__(self,val,name):\n",
    "        self.val=val\n",
    "        self.name=name\n",
    "        self.chng=0\n",
    "        DblClass.count+=1 #need this DbClass to access count in the class \n",
    "    def double(self):\n",
    "        self.val=2*self.val\n",
    "        self.val2 = 5\n",
    "    def rename(self,newname):\n",
    "        self.name=newname\n",
    "        self.chng+=1"
   ]
  },
  {
   "cell_type": "code",
   "execution_count": 18,
   "metadata": {},
   "outputs": [
    {
     "name": "stdout",
     "output_type": "stream",
     "text": [
      "5\n"
     ]
    }
   ],
   "source": [
    "c = DblClass(5,\"name\")\n",
    "c.double()\n",
    "print c.val2  # if we call double before calling val2 it won't ceate in the problem bc it's defined in .double()"
   ]
  },
  {
   "cell_type": "code",
   "execution_count": 19,
   "metadata": {},
   "outputs": [
    {
     "name": "stdout",
     "output_type": "stream",
     "text": [
      "10\n"
     ]
    }
   ],
   "source": [
    "class myClass(object):\n",
    "    pass\n",
    "x = myClass()\n",
    "x.y = 10 #include another attribute to x outside the class definition \n",
    "print x.y"
   ]
  },
  {
   "cell_type": "markdown",
   "metadata": {
    "collapsed": true
   },
   "source": [
    "Some built-in class attributes:"
   ]
  },
  {
   "cell_type": "code",
   "execution_count": 3,
   "metadata": {},
   "outputs": [
    {
     "name": "stdout",
     "output_type": "stream",
     "text": [
      "DblClass.__doc__: this is a class demo\n"
     ]
    }
   ],
   "source": [
    "print \"DblClass.__doc__:\", DblClass.__doc__"
   ]
  },
  {
   "cell_type": "code",
   "execution_count": 4,
   "metadata": {},
   "outputs": [
    {
     "name": "stdout",
     "output_type": "stream",
     "text": [
      "DblClass.__bases__: (<type 'object'>,)\n"
     ]
    }
   ],
   "source": [
    "print \"DblClass.__bases__:\", DblClass.__bases__ "
   ]
  },
  {
   "cell_type": "code",
   "execution_count": 5,
   "metadata": {},
   "outputs": [
    {
     "name": "stdout",
     "output_type": "stream",
     "text": [
      "DblClass.__dict__: {'count': 0, 'rename': <function rename at 0x108488c80>, '__module__': '__main__', '__dict__': <attribute '__dict__' of 'DblClass' objects>, 'double': <function double at 0x108488c08>, '__weakref__': <attribute '__weakref__' of 'DblClass' objects>, '__doc__': 'this is a class demo', '__init__': <function __init__ at 0x106ccae60>}\n"
     ]
    }
   ],
   "source": [
    "print \"DblClass.__dict__:\", DblClass.__dict__ "
   ]
  },
  {
   "cell_type": "markdown",
   "metadata": {},
   "source": [
    "We can then use this class as follows:"
   ]
  },
  {
   "cell_type": "code",
   "execution_count": 6,
   "metadata": {},
   "outputs": [
    {
     "name": "stdout",
     "output_type": "stream",
     "text": [
      "0\n"
     ]
    }
   ],
   "source": [
    "print DblClass.count"
   ]
  },
  {
   "cell_type": "code",
   "execution_count": 7,
   "metadata": {},
   "outputs": [
    {
     "data": {
      "text/plain": [
       "4"
      ]
     },
     "execution_count": 7,
     "metadata": {},
     "output_type": "execute_result"
    }
   ],
   "source": [
    "b = DblClass(4, 'Data')\n",
    "b.val"
   ]
  },
  {
   "cell_type": "code",
   "execution_count": 8,
   "metadata": {},
   "outputs": [
    {
     "name": "stdout",
     "output_type": "stream",
     "text": [
      "1\n"
     ]
    }
   ],
   "source": [
    "print DblClass.count"
   ]
  },
  {
   "cell_type": "code",
   "execution_count": 9,
   "metadata": {},
   "outputs": [
    {
     "data": {
      "text/plain": [
       "8"
      ]
     },
     "execution_count": 9,
     "metadata": {},
     "output_type": "execute_result"
    }
   ],
   "source": [
    "b.double()\n",
    "b.val"
   ]
  },
  {
   "cell_type": "code",
   "execution_count": 10,
   "metadata": {},
   "outputs": [
    {
     "data": {
      "text/plain": [
       "'Data'"
      ]
     },
     "execution_count": 10,
     "metadata": {},
     "output_type": "execute_result"
    }
   ],
   "source": [
    "b.name"
   ]
  },
  {
   "cell_type": "code",
   "execution_count": 11,
   "metadata": {},
   "outputs": [
    {
     "data": {
      "text/plain": [
       "'newData'"
      ]
     },
     "execution_count": 11,
     "metadata": {},
     "output_type": "execute_result"
    }
   ],
   "source": [
    "b.rename('newData')\n",
    "b.name"
   ]
  },
  {
   "cell_type": "code",
   "execution_count": 12,
   "metadata": {},
   "outputs": [
    {
     "data": {
      "text/plain": [
       "1"
      ]
     },
     "execution_count": 12,
     "metadata": {},
     "output_type": "execute_result"
    }
   ],
   "source": [
    "b.chng"
   ]
  },
  {
   "cell_type": "markdown",
   "metadata": {},
   "source": [
    "### Some major differences from C++/Java:\n",
    "- A __“class variable”__ is like a static field / member variable in Java/C++\n",
    "- A __“method”__ is like a member function in C++\n",
    "- The concept of __“instance variable”__ is the same in C++/Java, but note that they are declared within a method (member function)! You do not list all your instance variables outside the methods like you do in C++/Java; you just initialize them inside the methods.\n",
    "- The __self__ variable is similar to the __this__ pointer/reference in C++/Java, but you have to include it as the first parameter in the definition of every method. Also, while this was not always necessary for referring to instance variables in C++/Java, in Python, you always have to use self in order to refer to an instance variable.\n",
    "- The __\"object\"__ has two meanings: the most basic kind of thing, and any instance of \n",
    "- The \\__init\\__ method is called class constructor or initialization method that Python calls when you create a new instance of this class.\n",
    "- Even after you have created an instance of a class (an object), you can add new “attributes” (instance variables) to it. They can even be used inside methods, provided that you initialize them before invoking the method.\n",
    "\n",
    "For example: the following works but not it is not recommended"
   ]
  },
  {
   "cell_type": "code",
   "execution_count": null,
   "metadata": {
    "collapsed": true
   },
   "outputs": [],
   "source": [
    "class MyClass(object):\n",
    "    pass\n",
    "\n",
    "x = MyClass()\n",
    "x.y = 10\n",
    "print x.y"
   ]
  },
  {
   "cell_type": "markdown",
   "metadata": {},
   "source": [
    "### Magic methods and overloading operators\n",
    "\n",
    "What are magic methods? They're everything in object-oriented Python. They're special methods that you can define to add \"magic\" to your classes. They're always surrounded by double underscores (e.g. \\__init\\__ or \\__add\\__). \n",
    "\n",
    "Skim http://minhhh.github.io/posts/a-guide-to-pythons-magic-methods to get an idea for all the magic methods you can use. We will practice overloading these in class.\n",
    "\n",
    "The following example overload the \\__add\\__ method to perform vector addtion."
   ]
  },
  {
   "cell_type": "code",
   "execution_count": 4,
   "metadata": {},
   "outputs": [
    {
     "name": "stdout",
     "output_type": "stream",
     "text": [
      "<class '__main__.Vector'>\n",
      "Vector (7, 8)\n",
      "Vector (12, 6)\n",
      "Vector (10, -4)\n"
     ]
    }
   ],
   "source": [
    "class Vector(object):\n",
    "    def __init__(self, a, b):\n",
    "        self.a = a\n",
    "        self.b = b  #instance variables \n",
    "\n",
    "    def __str__(self):\n",
    "        return 'Vector (%d, %d)' % (self.a, self.b)  # %d is the place holder \n",
    "   \n",
    "    def __add__(self,other):  #both have self.a and self.b\n",
    "         return Vector(self.a + other.a, self.b + other.b)  #the additions will be passed into the initializer \n",
    "\n",
    "    def __mul__(self,other):\n",
    "        return Vector(self.a*other,self.b*other)\n",
    "\n",
    "    \n",
    "    \n",
    "    \n",
    "    v1 = Vector(2,10)  #a will be 2, b will be 10 \n",
    "print type(v1)  #vector type \n",
    "print v1         #output has the format defined in the methods \n",
    "v2 = Vector(5,-2)\n",
    "print v1 + v2      #needs to define what does the + symbol mean \n",
    "\n",
    "\n",
    "\n",
    "v1 = v2 * 2 #will give error because * is not defined \n",
    "print v1"
   ]
  },
  {
   "cell_type": "markdown",
   "metadata": {},
   "source": [
    "### Exercise:\n",
    "Try running the following code and predict the output"
   ]
  },
  {
   "cell_type": "code",
   "execution_count": 6,
   "metadata": {},
   "outputs": [],
   "source": [
    "class MyClass(object):\n",
    "    a = 1\n",
    "    def __init__(self, x = 2, y = 3):\n",
    "        MyClass.a = x\n",
    "        self.b = y\n",
    "        self.__c = 10  #protection on a variable \n",
    "   \n",
    "    def get__c(self):\n",
    "        return self.__c\n",
    "     \n",
    "    def set__c(self, x):\n",
    "        self.__c = x"
   ]
  },
  {
   "cell_type": "code",
   "execution_count": 8,
   "metadata": {},
   "outputs": [
    {
     "name": "stdout",
     "output_type": "stream",
     "text": [
      "1\n",
      "3\n",
      "{'_MyClass__c': 10, 'b': 3}\n"
     ]
    }
   ],
   "source": [
    "print MyClass.a\n",
    "\n",
    "aa = MyClass()\n",
    "print aa.b #will output 3 \n",
    "#print aa.__c will give an error \n",
    "print aa.__dict__ #now can see what c is    {'_MyClass__c': 10, 'b': 3}"
   ]
  },
  {
   "cell_type": "code",
   "execution_count": 10,
   "metadata": {},
   "outputs": [
    {
     "name": "stdout",
     "output_type": "stream",
     "text": [
      "140396579552400\n",
      "140396579552400\n"
     ]
    }
   ],
   "source": [
    "o1 = MyClass()\n",
    "print id(MyClass.a)\n",
    "print id(o1.a)   #they are the same because they are pointing at the same a "
   ]
  },
  {
   "cell_type": "code",
   "execution_count": 13,
   "metadata": {},
   "outputs": [
    {
     "name": "stdout",
     "output_type": "stream",
     "text": [
      "140396579552352\n",
      "140396579552352\n",
      "140396579552352\n"
     ]
    }
   ],
   "source": [
    "o2 = MyClass(4)\n",
    "print id(MyClass.a) #after passing the a = 4, the change is also reflected when o1 and o2 are called \n",
    "print id(o1.a)\n",
    "print id(o2.a)"
   ]
  },
  {
   "cell_type": "code",
   "execution_count": 14,
   "metadata": {},
   "outputs": [
    {
     "name": "stdout",
     "output_type": "stream",
     "text": [
      "5\n",
      "5\n",
      "5\n",
      "5\n"
     ]
    }
   ],
   "source": [
    "o3 = MyClass(5,6)\n",
    "print MyClass.a\n",
    "print o1.a\n",
    "print o2.a\n",
    "print o3.a"
   ]
  },
  {
   "cell_type": "code",
   "execution_count": 15,
   "metadata": {},
   "outputs": [
    {
     "name": "stdout",
     "output_type": "stream",
     "text": [
      "7\n",
      "7\n",
      "7\n"
     ]
    }
   ],
   "source": [
    "MyClass.a = 7\n",
    "print o1.a\n",
    "print o2.a\n",
    "print o3.a #the values change accordindgly "
   ]
  },
  {
   "cell_type": "code",
   "execution_count": 16,
   "metadata": {},
   "outputs": [
    {
     "name": "stdout",
     "output_type": "stream",
     "text": [
      "7\n",
      "8\n",
      "7\n",
      "7\n"
     ]
    }
   ],
   "source": [
    "o1.a = 8         #instance variable called o1.a\n",
    "print MyClass.a \n",
    "print o1.a      #prints out 8 but the others remain 7 \n",
    "print o2.a\n",
    "print o3.a"
   ]
  },
  {
   "cell_type": "code",
   "execution_count": 17,
   "metadata": {},
   "outputs": [
    {
     "name": "stdout",
     "output_type": "stream",
     "text": [
      "7\n",
      "7\n",
      "7\n"
     ]
    }
   ],
   "source": [
    "del o1.a\n",
    "print o1.a  #after deleting it, it goes back to the original value \n",
    "print o2.a\n",
    "print o3.a"
   ]
  },
  {
   "cell_type": "markdown",
   "metadata": {},
   "source": [
    "__Private Variables__: those that begin with double underscore"
   ]
  },
  {
   "cell_type": "code",
   "execution_count": 22,
   "metadata": {},
   "outputs": [
    {
     "name": "stdout",
     "output_type": "stream",
     "text": [
      "10\n",
      "10\n"
     ]
    }
   ],
   "source": [
    "#print o1.__c   #a private variable cannot be directly printed out \n",
    "print o1._MyClass__c\n",
    "print o1.get__c()"
   ]
  },
  {
   "cell_type": "code",
   "execution_count": null,
   "metadata": {
    "collapsed": true
   },
   "outputs": [],
   "source": [
    "print o1.get__c()"
   ]
  },
  {
   "cell_type": "code",
   "execution_count": 23,
   "metadata": {},
   "outputs": [
    {
     "name": "stdout",
     "output_type": "stream",
     "text": [
      "11\n",
      "10\n",
      "12\n"
     ]
    }
   ],
   "source": [
    "o1.__c = 11         #created an additional instance variable instead of changing the __c \n",
    "print o1.__c\n",
    "print o1.get__c()   #the output \n",
    "del o1.__c\n",
    "o1.set__c(12)\n",
    "print o1.get__c()"
   ]
  },
  {
   "cell_type": "markdown",
   "metadata": {},
   "source": [
    "When declaring a class we write something like __class MyClass(object): __ which means \"make a class MyClass that inherits from object\". We'll talk about inheritance more when we get to GUIs.\n",
    "#### Why do we want a class declaration to inherit from _object_?\n",
    "\n",
    "Read this post:\n",
    "\n",
    "https://stackoverflow.com/questions/4015417/python-class-inherits-object\n",
    "\n",
    "Python 3.x:\n",
    "\n",
    "class MyClass(object): = new-style class\n",
    "\n",
    "class MyClass: = new-style class (implicitly inherits from object)\n",
    "\n",
    "Python 2.x:\n",
    "\n",
    "class MyClass(object): = new-style class\n",
    "\n",
    "class MyClass: = OLD-STYLE CLASS\n",
    "\n",
    "When writing a class you'll always want to go for new-style classes."
   ]
  },
  {
   "cell_type": "markdown",
   "metadata": {},
   "source": [
    "### Exercise:\n",
    "- Create a list-class yourself: one that has an __append__() function and a __length__ data attribute. (Standard python lists can only give you the length through the len() function, which is not an attribute.)"
   ]
  },
  {
   "cell_type": "code",
   "execution_count": null,
   "metadata": {
    "collapsed": true
   },
   "outputs": [],
   "source": []
  },
  {
   "cell_type": "markdown",
   "metadata": {},
   "source": [
    "- Create a class of objects that act like integers, and have a __plus(k)__ method attribute, which increases the integer by k, and a __parity__ data attribute, which is either ’odd’ or ’even’, and is correctly updated each time."
   ]
  },
  {
   "cell_type": "code",
   "execution_count": null,
   "metadata": {
    "collapsed": true
   },
   "outputs": [],
   "source": []
  }
 ],
 "metadata": {
  "kernelspec": {
   "display_name": "Python 2",
   "language": "python",
   "name": "python2"
  },
  "language_info": {
   "codemirror_mode": {
    "name": "ipython",
    "version": 2
   },
   "file_extension": ".py",
   "mimetype": "text/x-python",
   "name": "python",
   "nbconvert_exporter": "python",
   "pygments_lexer": "ipython2",
   "version": "2.7.15"
  }
 },
 "nbformat": 4,
 "nbformat_minor": 2
}
