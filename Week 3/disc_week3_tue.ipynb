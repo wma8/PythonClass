{
 "cells": [
  {
   "cell_type": "markdown",
   "metadata": {},
   "source": [
    "# Exercises\n",
    "\n",
    "## Factorial\n",
    "\n",
    "Write `factorial(n)`, that returns the [factorial](https://en.wikipedia.org/wiki/Factorial) of `n`, in three different ways:\n",
    "\n",
    "1. Naive recursion (`factorial(n)` calls `factorial(n-1)`, which calls `factorial(n-2)`, and so on down to `factorial(0)`).\n",
    "2. Recursion with a cache (so `factorial(n)` returns almost instantly the second time it's called with the same input).\n",
    "3. Using `reduce()` and a lambda expression.\n",
    "\n",
    "Make sure to test each variant on inputs `n=0`, `n=1`, and `n=5` (note: `5! = 120`). Then, use the following *magic* ([`%%timeit`](https://ipython.readthedocs.io/en/stable/interactive/magics.html#magic-timeit) is an IPython magic; a special syntax that IPython interprets) to see how fast each variant is."
   ]
  },
  {
   "cell_type": "code",
   "execution_count": null,
   "metadata": {},
   "outputs": [],
   "source": [
    "%%timeit\n",
    "for x in range(500):\n",
    "    your_factorial_function(x)"
   ]
  },
  {
   "cell_type": "code",
   "execution_count": null,
   "metadata": {},
   "outputs": [],
   "source": [
    "%%timeit\n",
    "\n",
    "# An example of the %%timeit magic. Note that %%timeit must be the first lne of the cell!\n",
    "# This also measures the time to define the my_example function, but that's pretty fast.\n",
    "\n",
    "def my_example(n):\n",
    "    return str([None] * n)\n",
    "\n",
    "\n",
    "for x in range(500):\n",
    "    my_example(x)"
   ]
  },
  {
   "cell_type": "markdown",
   "metadata": {},
   "source": [
    "## Primes\n",
    "\n",
    "Compute the sum of the primes from:\n",
    "\n",
    "1. 100 to 1000 *(Answer: 75067)*\n",
    "2. 200 to 20000 *(Answer: 21166964)*\n",
    "3. 300 to 300000 *(Answer: 3709498839)*\n",
    "4. 400 to 4000000 *(Answer: 544501630374)*\n",
    "\n",
    "For (1) and (2), a naive algorithm will probably work. If you want a more advanced algorithm, try building up a list of primes first. You can build a list of primes from 2 to N faster than you can test every number from 2 to N for primality (because you can use your list to speed things up, even while the list is incomplete). A reasonably well-known and reasonably fast algorithm is the [Sieve of Eratosthenes](https://en.wikipedia.org/wiki/Sieve_of_Eratosthenes). (There's no good reason to memorize this algorithm, but it's good practice to implement it from pseudocode.)"
   ]
  },
  {
   "cell_type": "markdown",
   "metadata": {},
   "source": [
    "## One-liners\n",
    "\n",
    "Each of these problems has a one-line solution. Write it (or at least write a multi-line solution).\n",
    "\n",
    "1. `dict_reverse(d)`: Returns a dictionary `e`, such that if `d[k] == v`, then `e[v] == k`. You should assume\n",
    "    that all values in `d` are unique.\n",
    "    \n",
    "2. `filter(f, l)`: Re-implement the standard library function `filter`.\n",
    "    Return a list containing only those elements of `l` for which `f` returns True.\n",
    "    \n",
    "3. `compose(f, g)`: Return a function, that returns `f(g(x))` when called on an object `x`. Assume that both `f` and `g` take a single argument and return a single value. Here's the multi-line version. The one-liner requires that your write a lambda expression.\n",
    "\n",
    "    ```py\n",
    "def compose(f, g):\n",
    "        def composition_of_f_and_g(x):\n",
    "            return f(g(x))\n",
    "            \n",
    "        return composition_of_f_and_g  # refer to the function by name to return it\n",
    "    ```\n",
    "\n",
    "4. `func_to_dict(func, keys)`: return a dictionary that maps `x` to `func(x)` for each `x` in `keys`.\n",
    "\n",
    "5. `flatten(l)`: Assuming that `l` is the list-of-lists `[[x1,x2,x3,...], [y1,y2,y3,...], ...]`, return the list\n",
    "    `[x1,x2,x3,y1,y2,y3,...]`. You can assume that every element `x1`, `x2`, ... is itself *not* a list (but that shouldn't affect how you write the code; all I'm saying is that you only have to flatten one layer of lists).\n",
    "    \n",
    "6. `dict_to_lines(d)`: Return a multi-line string, where each line is of the form `k => d[k]` for a key `k` in `d`. Hint: [`str.join()`](https://docs.python.org/2.7/library/stdtypes.html?highlight=substr#str.join)"
   ]
  }
 ],
 "metadata": {
  "kernelspec": {
   "display_name": "Python 2",
   "language": "python",
   "name": "python2"
  },
  "language_info": {
   "codemirror_mode": {
    "name": "ipython",
    "version": 2
   },
   "file_extension": ".py",
   "mimetype": "text/x-python",
   "name": "python",
   "nbconvert_exporter": "python",
   "pygments_lexer": "ipython2",
   "version": "2.7.15"
  }
 },
 "nbformat": 4,
 "nbformat_minor": 2
}
