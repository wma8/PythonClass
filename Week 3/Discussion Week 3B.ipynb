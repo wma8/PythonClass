{
 "cells": [
  {
   "cell_type": "markdown",
   "metadata": {},
   "source": [
    "# Discussion Week 3B"
   ]
  },
  {
   "cell_type": "code",
   "execution_count": 1,
   "metadata": {
    "collapsed": true
   },
   "outputs": [],
   "source": [
    "import urllib2\n",
    "import re"
   ]
  },
  {
   "cell_type": "markdown",
   "metadata": {},
   "source": [
    "### Reading URLs"
   ]
  },
  {
   "cell_type": "code",
   "execution_count": 2,
   "metadata": {},
   "outputs": [
    {
     "name": "stdout",
     "output_type": "stream",
     "text": [
      "<!doctype html>\n",
      "<!--[if lt IE 7]><html class=\"no-js lt-ie9 lt-ie8 lt-ie7\" lang=\"en\"> <![endif]-->\n",
      "<!--[if (IE 7)&!(IEMobile)]><html class=\"no-js lt-ie9 lt-ie8\" lang=\"en\"><![endif]-->\n",
      "<!--[if (IE 8)&!(IEMobile)]><html class=\"no-js lt-ie9\" lang=\"en\"><![endif]-->\n",
      "<!--[if gt IE 8]><!--> <html class=\"no-js\" lang=\"en\"><!--<![endif]-->\n",
      "<head>\n",
      "<meta charset=\"utf-8\">\n",
      "<title>Hangjie Ji's site  &#8211; Contact Me </title>\n",
      "<meta name=\"description\" content=\"\">\n",
      "<meta name=\"keywords\" content=\"contact\">\n",
      "\n",
      "\n",
      "<!-- Open Graph -->\n",
      "<meta property=\"og:locale\" content=\"en_US\">\n",
      "<meta property=\"og:type\" content=\"article\">\n",
      "<meta property=\"og:title\" content=\"Contact Me\">\n",
      "<meta property=\"og:description\" content=\"Welcome to my site!\">\n",
      "<meta property=\"og:url\" content=\"https://www.math.ucla.edu/~hangjie/contact/\">\n",
      "<meta property=\"og:site_name\" content=\"Hangjie Ji's site\">\n",
      "\n",
      "\n",
      "\n",
      "\n",
      "\n",
      "<link rel=\"canonical\" href=\"https://www.math.ucla.edu/~hangjie/contact/\">\n",
      "<link href=\"https://www.math.ucla.edu/~hangjie/feed.xml\" type=\"application/atom+xml\" rel=\"alternate\" title=\"Hangjie Ji's site Feed\">\n",
      "\n",
      "\n",
      "<!-- http://t.co/dKP3o1e -->\n",
      "<meta name=\"HandheldFriendly\" content=\"True\">\n",
      "<meta name=\"MobileOptimized\" content=\"320\">\n",
      "<meta name=\"viewport\" content=\"width=device-width, initial-scale=1.0\">\n",
      "\n",
      "<!-- Google Webfonts -->\n",
      "<link href='http://fonts.googleapis.com/css?family=PT+Sans+Narrow:400,700|PT+Serif:400,700,400italic' rel='stylesheet' type='text/css'>\n",
      "<!-- For all browsers -->\n",
      "<link rel=\"stylesheet\" href=\"https://www.math.ucla.edu/~hangjie/assets/css/main.min.css\">\n",
      "<link rel=\"stylesheet\" href=\"https://www.math.ucla.edu/~hangjie/assets/academicons.css\" />\n",
      "\n",
      "<meta http-equiv=\"cleartype\" content=\"on\">\n",
      "\n",
      "<!-- HTML5 Shiv and Media Query Support -->\n",
      "<!--[if lt IE 9]>\n",
      "\t<script src=\"https://www.math.ucla.edu/~hangjie/assets/js/vendor/html5shiv.min.js\"></script>\n",
      "\t<script src=\"https://www.math.ucla.edu/~hangjie/assets/js/vendor/respond.min.js\"></script>\n",
      "<![endif]-->\n",
      "\n",
      "<!-- Modernizr -->\n",
      "<script src=\"https://www.math.ucla.edu/~hangjie/assets/js/vendor/modernizr-2.7.1.custom.min.js\"></script>\n",
      "\n",
      "<!-- Icons -->\n",
      "<link rel=\"icon\" type=\"image/png\" sizes=\"32x32\" href=\"/favicon-32x32.png\">\n",
      "<link rel=\"icon\" type=\"image/png\" sizes=\"96x96\" href=\"/favicon-96x96.png\">\n",
      "<link rel=\"icon\" type=\"image/png\" sizes=\"16x16\" href=\"/favicon-16x16.png\">\n",
      "\n",
      "<link rel=\"shortcut icon\" href=\"https://www.math.ucla.edu/~hangjie/favicon.ico\">\n",
      "<link rel=\"shortcut icon\" href=\"https://www.math.ucla.edu/~hangjie/favicon.png\">\n",
      "\n",
      "<!-- 144x144 (precomposed) for iPad 3rd and 4th generation -->\n",
      "<!-- <link rel=\"apple-touch-icon-precomposed\" sizes=\"192x192\" href=\"https://www.math.ucla.edu/~hangjie/images/apple-icon-precomposed.png\"> -->\n",
      "\n",
      "</head>\n",
      "\n",
      "<body class=\"page\">\n",
      "\n",
      "<!--[if lt IE 9]><div class=\"browser-upgrade alert alert-info\">You are using an <strong>outdated</strong> browser. Please <a href=\"http://browsehappy.com/\">upgrade your browser</a> to improve your experience.</div><![endif]-->\n",
      "\n",
      "<div class=\"navigation-wrapper\">\n",
      "\t<div class=\"site-name\">\n",
      "\t\t<a href=\"https://www.math.ucla.edu/~hangjie\">Hangjie Ji's site</a>\n",
      "\t</div><!-- /.site-name -->\n",
      "\t<div class=\"top-navigation\">\n",
      "\t\t<nav role=\"navigation\" id=\"site-nav\" class=\"nav\">\n",
      "\t\t    <ul>\n",
      "\t\t        \n",
      "\t\t\t\t<li><a href=\"https://www.math.ucla.edu/~hangjie/research/\" >Research</a></li>\n",
      "\t\t        \n",
      "\t\t\t\t<li><a href=\"https://www.math.ucla.edu/~hangjie/teaching/\" >Teaching</a></li>\n",
      "\t\t        \n",
      "\t\t\t\t<li><a href=\"https://www.math.ucla.edu/~hangjie/contact/\" >Contact</a></li>\n",
      "\t\t        \n",
      "\t\t\t\t<li><a href=\"https://www.math.ucla.edu/~hangjie/AMD_RIPS2017/\" >RIPS2017 AMD Project</a></li>\n",
      "\t\t        \n",
      "\t\t    </ul>\n",
      "\t\t</nav>\n",
      "\t</div><!-- /.top-navigation -->\n",
      "</div><!-- /.navigation-wrapper -->\n",
      "\n",
      "\n",
      "\n",
      "<div id=\"main\" role=\"main\">\n",
      "  <div class=\"article-author-side\">\n",
      "    \n",
      "\t<img src=\"https://www.math.ucla.edu/~hangjie/images/hangjie.png\" class=\"bio-photo\" alt=\"Hangjie Ji bio photo\"></a>\n",
      "\n",
      "<h3>Hangjie Ji</h3>\n",
      "<p>I'm from Hangzhou, China. Currently in Los Angeles, USA. Passionate about mathematics and technology.</p>\n",
      "\n",
      "\n",
      "\n",
      "\n",
      "\n",
      "\n",
      "\n",
      "\n",
      "\n",
      "\n",
      "\n",
      "\n",
      "\n",
      "<a href=\"mailto:hangjie@math.ucla.edu\" class=\"author-social\" target=\"_blank\"><i class=\"fa fa-envelope-square\"></i> e-Mail</a>\n",
      "\n",
      "\n",
      "  </div>\n",
      "  <article>\n",
      "    <h1>Contact Me</h1>\n",
      "    <div class=\"article-wrap\">\n",
      "      <ul>\n",
      "  <li>Email: hangjie@math.ucla.edu <br /></li>\n",
      "  <li>Office: Mathematical Sciences 7354  <br />\n",
      "Department of Mathematics <br />\n",
      "University of California, Los Angeles <br />\n",
      "Los Angeles, CA 90095 <br /></li>\n",
      "</ul>\n",
      "\n",
      "\n",
      "    </div><!-- /.article-wrap -->\n",
      "    \n",
      "  </article>\n",
      "</div><!-- /#index -->\n",
      "\n",
      "<div class=\"footer-wrap\">\n",
      "  <footer>\n",
      "    <span>&copy; 2017 Hangjie Ji. Powered by <a href=\"http://jekyllrb.com\">Jekyll</a> using the <a href=\"http://mademistakes.com/minimal-mistakes/\">Minimal Mistakes</a> theme.</span>\n",
      "\n",
      "  </footer>\n",
      "</div><!-- /.footer-wrap -->\n",
      "\n",
      "<script src=\"//ajax.googleapis.com/ajax/libs/jquery/1.9.1/jquery.min.js\"></script>\n",
      "<script>window.jQuery || document.write('<script src=\"https://www.math.ucla.edu/~hangjie/assets/js/vendor/jquery-1.9.1.min.js\"><\\/script>')</script>\n",
      "<script src=\"https://www.math.ucla.edu/~hangjie/assets/js/scripts.min.js\"></script>\n",
      "\n",
      "          \n",
      "\n",
      "</body>\n",
      "</html>\n"
     ]
    }
   ],
   "source": [
    "url = \"http://www.math.ucla.edu/~hangjie/contact\"\n",
    "page = urllib2.urlopen(url).read()\n",
    "page = str(page)\n",
    "print page"
   ]
  },
  {
   "cell_type": "code",
   "execution_count": 3,
   "metadata": {},
   "outputs": [
    {
     "name": "stdout",
     "output_type": "stream",
     "text": [
      "\n",
      "\n",
      "\n",
      "\n",
      "\n",
      "\n",
      "\n",
      "Hangjie Ji's site  &#8211; Contact Me \n",
      "\n",
      "\n",
      "\n",
      "\n",
      "\n",
      "\n",
      "\n",
      "\n",
      "\n",
      "\n",
      "\n",
      "\n",
      "\n",
      "\n",
      "\n",
      "\n",
      "\n",
      "\n",
      "\n",
      "\n",
      "\n",
      "\n",
      "\n",
      "\n",
      "\n",
      "\n",
      "\n",
      "\n",
      "\n",
      "\n",
      "\n",
      "\n",
      "\n",
      "\n",
      "\n",
      "\t\n",
      "\t\n",
      "\n",
      "\n",
      "\n",
      "\n",
      "\n",
      "\n",
      "\n",
      "\n",
      "\n",
      "\n",
      "\n",
      "\n",
      "\n",
      "\n",
      "\n",
      "\n",
      "\n",
      "\n",
      "\n",
      "\n",
      "\n",
      "\n",
      "\n",
      "\t\n",
      "\t\tHangjie Ji's site\n",
      "\t\n",
      "\t\n",
      "\t\t\n",
      "\t\t    \n",
      "\t\t        \n",
      "\t\t\t\tResearch\n",
      "\t\t        \n",
      "\t\t\t\tTeaching\n",
      "\t\t        \n",
      "\t\t\t\tContact\n",
      "\t\t        \n",
      "\t\t\t\tRIPS2017 AMD Project\n",
      "\t\t        \n",
      "\t\t    \n",
      "\t\t\n",
      "\t\n",
      "\n",
      "\n",
      "\n",
      "\n",
      "\n",
      "  \n",
      "    \n",
      "\t\n",
      "\n",
      "Hangjie Ji\n",
      "I'm from Hangzhou, China. Currently in Los Angeles, USA. Passionate about mathematics and technology.\n",
      "\n",
      "\n",
      "\n",
      "\n",
      "\n",
      "\n",
      "\n",
      "\n",
      "\n",
      "\n",
      "\n",
      "\n",
      "\n",
      " e-Mail\n",
      "\n",
      "\n",
      "  \n",
      "  \n",
      "    Contact Me\n",
      "    \n",
      "      \n",
      "  Email: hangjie@math.ucla.edu \n",
      "  Office: Mathematical Sciences 7354  \n",
      "Department of Mathematics \n",
      "University of California, Los Angeles \n",
      "Los Angeles, CA 90095 \n",
      "\n",
      "\n",
      "\n",
      "    \n",
      "    \n",
      "  \n",
      "\n",
      "\n",
      "\n",
      "  \n",
      "    &copy; 2017 Hangjie Ji. Powered by Jekyll using the Minimal Mistakes theme.\n",
      "\n",
      "  \n",
      "\n",
      "\n",
      "\n",
      "window.jQuery || document.write('')\n",
      "\n",
      "\n",
      "          \n",
      "\n",
      "\n",
      "\n"
     ]
    }
   ],
   "source": [
    "page = re.sub('<!--.*-->', '', page)\n",
    "page = re.sub('<[^<>]*>','', page)\n",
    "print page"
   ]
  },
  {
   "cell_type": "code",
   "execution_count": 4,
   "metadata": {},
   "outputs": [
    {
     "name": "stdout",
     "output_type": "stream",
     "text": [
      "Hangjie Ji's site\n",
      "&#8211; Contact Me\n",
      "Hangjie Ji's site\n",
      "Research\n",
      "Teaching\n",
      "Contact\n",
      "RIPS2017 AMD Project\n",
      "Hangjie Ji\n",
      "I'm from Hangzhou, China. Currently in Los Angeles, USA. Passionate about mathematics and technology. e-Mail\n",
      "Contact Me\n",
      "Email: hangjie@math.ucla.edu\n",
      "Office: Mathematical Sciences 7354\n",
      "Department of Mathematics\n",
      "University of California, Los Angeles\n",
      "Los Angeles, CA 90095\n",
      "&copy; 2017 Hangjie Ji. Powered by Jekyll using the Minimal Mistakes theme.\n",
      "window.jQuery || document.write('')\n",
      "\n"
     ]
    }
   ],
   "source": [
    "page = re.sub('\\n{2,}', '', page)\n",
    "page = re.sub('\\s{2,}', '\\n', page)\n",
    "print page"
   ]
  },
  {
   "cell_type": "markdown",
   "metadata": {},
   "source": [
    "### Regex Review: Capture Groups"
   ]
  },
  {
   "cell_type": "markdown",
   "metadata": {},
   "source": [
    "Exercise: Capture the first two file names within a group (without the extension), and do not match the last file."
   ]
  },
  {
   "cell_type": "code",
   "execution_count": 12,
   "metadata": {},
   "outputs": [
    {
     "name": "stdout",
     "output_type": "stream",
     "text": [
      "['file_record_transcript']\n"
     ]
    }
   ],
   "source": [
    "s1 = \"file_record_transcript.pdf\"\n",
    "s2 = \"file_07241999.pdf\"\n",
    "s3 = \"testfile_fake.pdf.tmp\"\n",
    "\n",
    "print re.search('^(file_.+)\\.pdf$', s1).group(1)\n",
    "\n",
    "\n",
    "\n",
    "print re.search(\"^(file.+)\\.pdf$\", s1).group(1)\n",
    "print re.search(\"^(file.+)\\.pdf$\", s2).group(1)\n",
    "print re.search(\"^(file.+)\\.pdf$\", s3).group(1)"
   ]
  },
  {
   "cell_type": "markdown",
   "metadata": {},
   "source": [
    "Exercise: Capture (Month Year) and (Year) as groups."
   ]
  },
  {
   "cell_type": "code",
   "execution_count": 16,
   "metadata": {},
   "outputs": [
    {
     "data": {
      "text/plain": [
       "('Aug 2011', '2011')"
      ]
     },
     "execution_count": 16,
     "metadata": {},
     "output_type": "execute_result"
    }
   ],
   "source": [
    "s1 = \"Jan 1987\"\n",
    "s2 = \"May 1969\"\n",
    "s3 = \"Aug 2011\"\n",
    "\n",
    "\n",
    "re.search('([A-Z][a-z]+ (\\d+))', s3).group(1,2)\n",
    "\n",
    "\n",
    "\n",
    "\n",
    "\n",
    "\n",
    "\n",
    "\n",
    "\n",
    "\n",
    "#print re.search(\"(\\w+ (\\d+))\", s1).group(1,2)\n",
    "#print re.search(\"(\\w+ (\\d+))\", s2).group(1,2)\n",
    "#print re.search(\"(\\w+ (\\d+))\", s3).group(1,2)"
   ]
  },
  {
   "cell_type": "markdown",
   "metadata": {},
   "source": [
    "Exercise: Capture (Width) and (Height) from these image dimensions."
   ]
  },
  {
   "cell_type": "code",
   "execution_count": 17,
   "metadata": {},
   "outputs": [
    {
     "name": "stdout",
     "output_type": "stream",
     "text": [
      "('1280', '720')\n",
      "('1920', '1600')\n",
      "('1024', '768')\n",
      "('1280', '720')\n",
      "('1920', '1600')\n",
      "('1024', '768')\n"
     ]
    }
   ],
   "source": [
    "s1 = \"1280x720\"\n",
    "s2 = \"1920x1600\"\n",
    "s3 = \"1024x768\"\n",
    "\n",
    "\n",
    "print re.search('(\\d+)x(\\d+)', s1).group(1,2)\n",
    "print re.search('(\\d+)x(\\d+)', s2).group(1,2)\n",
    "print re.search('(\\d+)x(\\d+)', s3).group(1,2)\n",
    "\n",
    "\n",
    "\n",
    "\n",
    "\n",
    "\n",
    "\n",
    "\n",
    "\n",
    "\n",
    "\n",
    "\n",
    "\n",
    "\n",
    "\n",
    "\n",
    "print re.search(\"(\\d+)x(\\d+)\", s1).group(1,2)\n",
    "print re.search(\"(\\d+)x(\\d+)\", s2).group(1,2)\n",
    "print re.search(\"(\\d+)x(\\d+)\", s3).group(1,2)"
   ]
  },
  {
   "cell_type": "markdown",
   "metadata": {},
   "source": [
    "Review: Palindrome"
   ]
  },
  {
   "cell_type": "code",
   "execution_count": 19,
   "metadata": {
    "collapsed": true
   },
   "outputs": [],
   "source": [
    "def palindrome(word):\n",
    "        if len(word)<=1:\n",
    "            return True\n",
    "        elif re.match(r'([a-z]).*\\1',word):\n",
    "            return palindrome(word[1:len(word)-1])\n",
    "        else:\n",
    "            return False"
   ]
  },
  {
   "cell_type": "code",
   "execution_count": 20,
   "metadata": {},
   "outputs": [
    {
     "name": "stdout",
     "output_type": "stream",
     "text": [
      "False\n"
     ]
    }
   ],
   "source": [
    "print palindrome('abccca')"
   ]
  },
  {
   "cell_type": "code",
   "execution_count": 21,
   "metadata": {},
   "outputs": [
    {
     "name": "stdout",
     "output_type": "stream",
     "text": [
      "True\n"
     ]
    }
   ],
   "source": [
    "print palindrome('hanhnaa')"
   ]
  },
  {
   "cell_type": "code",
   "execution_count": 23,
   "metadata": {
    "collapsed": true
   },
   "outputs": [],
   "source": [
    "def palindrome(word):\n",
    "        if len(word)<=1:\n",
    "            return True\n",
    "        elif re.match(r'^([a-z]).*\\1$',word):\n",
    "            return palindrome(word[1:len(word)-1])\n",
    "        else:\n",
    "            return False"
   ]
  },
  {
   "cell_type": "code",
   "execution_count": 24,
   "metadata": {},
   "outputs": [
    {
     "name": "stdout",
     "output_type": "stream",
     "text": [
      "False\n",
      "False\n"
     ]
    }
   ],
   "source": [
    "print palindrome('abccca')\n",
    "print palindrome('hanhnaa')"
   ]
  },
  {
   "cell_type": "markdown",
   "metadata": {},
   "source": [
    "### Cleaning Data Practice"
   ]
  },
  {
   "cell_type": "markdown",
   "metadata": {},
   "source": [
    "Suppose we have a dictionary for Hawaiian words in HTML form. We would like to clean the data and put it in dictionary form, where the English words are keys for the Hawaiian translations."
   ]
  },
  {
   "cell_type": "code",
   "execution_count": 34,
   "metadata": {},
   "outputs": [
    {
     "data": {
      "text/plain": [
       "'<table border=\"0\" cellpadding=\"0\" cellspacing=\"0\" width=\"75%\">\\n  <tr>\\n    <td>Adopt</td>\\n    <td>H<u>a</u>nai</td>\\n  </tr>\\n  <tr>\\n    <td>Affection</td>\\n    <td>Pumehana</td>\\n  </tr>\\n  <tr>\\n    <td>Afternoon</td>\\n    <td>Auinal<u>a</u></td>\\n  </tr>\\n  <tr>\\n    <td>And</td>\\n    <td>Ame</td>\\n  </tr>\\n  <tr>\\n    <td>Answer</td>\\n    <td>Pane</td>\\n  </tr>\\n</table>'"
      ]
     },
     "execution_count": 34,
     "metadata": {},
     "output_type": "execute_result"
    }
   ],
   "source": [
    "hawaiiDict = open('hwnwdseng.txt', 'r').read()\n",
    "hawaiiDict"
   ]
  },
  {
   "cell_type": "markdown",
   "metadata": {},
   "source": [
    "First, we get rid of the HTML tags."
   ]
  },
  {
   "cell_type": "code",
   "execution_count": 26,
   "metadata": {},
   "outputs": [
    {
     "data": {
      "text/plain": [
       "'\\n  \\n    Adopt\\n    Hanai\\n  \\n  \\n    Affection\\n    Pumehana\\n  \\n  \\n    Afternoon\\n    Auinala\\n  \\n  \\n    And\\n    Ame\\n  \\n  \\n    Answer\\n    Pane\\n  \\n'"
      ]
     },
     "execution_count": 26,
     "metadata": {},
     "output_type": "execute_result"
    }
   ],
   "source": [
    "hawaiiDict = re.sub('<[^<>]*>', '', hawaiiDict)\n",
    "hawaiiDict"
   ]
  },
  {
   "cell_type": "markdown",
   "metadata": {},
   "source": [
    "Next, we remove all of the newlines except for those that will be used to split."
   ]
  },
  {
   "cell_type": "code",
   "execution_count": 27,
   "metadata": {},
   "outputs": [
    {
     "data": {
      "text/plain": [
       "'\\n  \\n    Adopt\\n    Hanai\\nAffection\\n    Pumehana\\nAfternoon\\n    Auinala\\nAnd\\n    Ame\\nAnswer\\n    Pane\\n  \\n'"
      ]
     },
     "execution_count": 27,
     "metadata": {},
     "output_type": "execute_result"
    }
   ],
   "source": [
    "hawaiiDict = re.sub('(\\n\\s+){3}', '\\n', hawaiiDict)\n",
    "hawaiiDict\n",
    "\n",
    "\n",
    "\n",
    "\n",
    "\n",
    "\n"
   ]
  },
  {
   "cell_type": "code",
   "execution_count": 28,
   "metadata": {},
   "outputs": [
    {
     "data": {
      "text/plain": [
       "'Adopt\\n    Hanai\\nAffection\\n    Pumehana\\nAfternoon\\n    Auinala\\nAnd\\n    Ame\\nAnswer\\n    Pane'"
      ]
     },
     "execution_count": 28,
     "metadata": {},
     "output_type": "execute_result"
    }
   ],
   "source": [
    "hawaiiDict = re.sub('(\\n\\s+){2}|(\\n\\s+\\n)', '', hawaiiDict)\n",
    "hawaiiDict"
   ]
  },
  {
   "cell_type": "code",
   "execution_count": 29,
   "metadata": {},
   "outputs": [
    {
     "data": {
      "text/plain": [
       "'Adopt Hanai\\nAffection Pumehana\\nAfternoon Auinala\\nAnd Ame\\nAnswer Pane'"
      ]
     },
     "execution_count": 29,
     "metadata": {},
     "output_type": "execute_result"
    }
   ],
   "source": [
    "hawaiiDict = re.sub('\\n\\s+', ' ', hawaiiDict)\n",
    "hawaiiDict"
   ]
  },
  {
   "cell_type": "markdown",
   "metadata": {},
   "source": [
    "Split into a list."
   ]
  },
  {
   "cell_type": "code",
   "execution_count": 30,
   "metadata": {},
   "outputs": [
    {
     "data": {
      "text/plain": [
       "['Adopt Hanai',\n",
       " 'Affection Pumehana',\n",
       " 'Afternoon Auinala',\n",
       " 'And Ame',\n",
       " 'Answer Pane']"
      ]
     },
     "execution_count": 30,
     "metadata": {},
     "output_type": "execute_result"
    }
   ],
   "source": [
    "dictEntries = re.split('\\n', hawaiiDict)\n",
    "dictEntries"
   ]
  },
  {
   "cell_type": "markdown",
   "metadata": {},
   "source": [
    "Split the list by key and value."
   ]
  },
  {
   "cell_type": "code",
   "execution_count": 31,
   "metadata": {},
   "outputs": [
    {
     "data": {
      "text/plain": [
       "[['Adopt', 'Hanai'],\n",
       " ['Affection', 'Pumehana'],\n",
       " ['Afternoon', 'Auinala'],\n",
       " ['And', 'Ame'],\n",
       " ['Answer', 'Pane']]"
      ]
     },
     "execution_count": 31,
     "metadata": {},
     "output_type": "execute_result"
    }
   ],
   "source": [
    "dictList = [re.split('\\s', i) for i in dictEntries]\n",
    "dictList"
   ]
  },
  {
   "cell_type": "markdown",
   "metadata": {},
   "source": [
    "Convert the list into a dictionary."
   ]
  },
  {
   "cell_type": "code",
   "execution_count": 32,
   "metadata": {},
   "outputs": [
    {
     "data": {
      "text/plain": [
       "{'Adopt': 'Hanai',\n",
       " 'Affection': 'Pumehana',\n",
       " 'Afternoon': 'Auinala',\n",
       " 'And': 'Ame',\n",
       " 'Answer': 'Pane'}"
      ]
     },
     "execution_count": 32,
     "metadata": {},
     "output_type": "execute_result"
    }
   ],
   "source": [
    "{entry[0]: entry[1] for entry in dictList}"
   ]
  },
  {
   "cell_type": "code",
   "execution_count": null,
   "metadata": {
    "collapsed": true
   },
   "outputs": [],
   "source": [
    "\n",
    "[2,]\n",
    "s1 = [10, 2, 3, 4]\n",
    "s2 = [20]\n",
    "'\\[(\\d+,?)* ?]'\n",
    "\n",
    "\n",
    "\n",
    "\n"
   ]
  }
 ],
 "metadata": {
  "kernelspec": {
   "display_name": "Python 2",
   "language": "python",
   "name": "python2"
  },
  "language_info": {
   "codemirror_mode": {
    "name": "ipython",
    "version": 2
   },
   "file_extension": ".py",
   "mimetype": "text/x-python",
   "name": "python",
   "nbconvert_exporter": "python",
   "pygments_lexer": "ipython2",
   "version": "2.7.14"
  }
 },
 "nbformat": 4,
 "nbformat_minor": 2
}
