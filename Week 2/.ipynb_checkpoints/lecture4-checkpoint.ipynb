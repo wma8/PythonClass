{
 "cells": [
  {
   "cell_type": "markdown",
   "metadata": {},
   "source": [
    "# Lecture 4\n",
    "1. Removing elements from a list using del\n",
    "2. Tuples and Sets\n",
    "3. Relative efficiency of map, list comprehension and for loops\n",
    "\n",
    "Reading material: [Python tutorial](https://docs.python.org/2/tutorial/) 5.2 - 5.5"
   ]
  },
  {
   "cell_type": "markdown",
   "metadata": {},
   "source": [
    "## 1. the __del__ statement\n",
    "The __del__ method is used to remove an item, slices, or clear the entire list."
   ]
  },
  {
   "cell_type": "code",
   "execution_count": 1,
   "metadata": {},
   "outputs": [
    {
     "name": "stdout",
     "output_type": "stream",
     "text": [
      "[0, 1, 2, 3, 4]\n",
      "[0, 1, 3, 4]\n",
      "[0, 4]\n",
      "[]\n"
     ]
    },
    {
     "ename": "NameError",
     "evalue": "name 'a' is not defined",
     "output_type": "error",
     "traceback": [
      "\u001b[0;31m---------------------------------------------------------------------------\u001b[0m",
      "\u001b[0;31mNameError\u001b[0m                                 Traceback (most recent call last)",
      "\u001b[0;32m<ipython-input-1-92c2cb8d51e9>\u001b[0m in \u001b[0;36m<module>\u001b[0;34m()\u001b[0m\n\u001b[1;32m     12\u001b[0m \u001b[0;34m\u001b[0m\u001b[0m\n\u001b[1;32m     13\u001b[0m \u001b[0;32mdel\u001b[0m \u001b[0ma\u001b[0m\u001b[0;34m\u001b[0m\u001b[0m\n\u001b[0;32m---> 14\u001b[0;31m \u001b[0;32mprint\u001b[0m \u001b[0ma\u001b[0m\u001b[0;34m\u001b[0m\u001b[0m\n\u001b[0m",
      "\u001b[0;31mNameError\u001b[0m: name 'a' is not defined"
     ]
    }
   ],
   "source": [
    "a = range(5)\n",
    "print a\n",
    "\n",
    "del a[2]\n",
    "print a\n",
    "\n",
    "del a[1:3]\n",
    "print a\n",
    "\n",
    "del a[:]\n",
    "print a\n",
    "\n",
    "del a\n",
    "print a"
   ]
  },
  {
   "cell_type": "markdown",
   "metadata": {
    "collapsed": true
   },
   "source": [
    "## 2. Tuples and Sets"
   ]
  },
  {
   "cell_type": "markdown",
   "metadata": {},
   "source": [
    "__Tuples__ are immutable, and usually contain a heterogeneous sequence of elements that are accessed via unpacking or indexing. \n",
    "__Lists__ are mutable, and their elements are usually homogeneous and are accessed by iterating over the list."
   ]
  },
  {
   "cell_type": "code",
   "execution_count": 4,
   "metadata": {},
   "outputs": [
    {
     "name": "stdout",
     "output_type": "stream",
     "text": [
      "a\n",
      "[1, 2, 3]\n"
     ]
    },
    {
     "ename": "ValueError",
     "evalue": "too many values to unpack",
     "output_type": "error",
     "traceback": [
      "\u001b[0;31m---------------------------------------------------------------------------\u001b[0m",
      "\u001b[0;31mValueError\u001b[0m                                Traceback (most recent call last)",
      "\u001b[0;32m<ipython-input-4-e6cc5b591ec9>\u001b[0m in \u001b[0;36m<module>\u001b[0;34m()\u001b[0m\n\u001b[1;32m      4\u001b[0m \u001b[0;32mprint\u001b[0m \u001b[0mx\u001b[0m\u001b[0;34m[\u001b[0m\u001b[0;36m2\u001b[0m\u001b[0;34m]\u001b[0m\u001b[0;34m\u001b[0m\u001b[0m\n\u001b[1;32m      5\u001b[0m \u001b[0;34m\u001b[0m\u001b[0m\n\u001b[0;32m----> 6\u001b[0;31m \u001b[0md\u001b[0m\u001b[0;34m,\u001b[0m\u001b[0me\u001b[0m \u001b[0;34m=\u001b[0m \u001b[0mx\u001b[0m\u001b[0;34m\u001b[0m\u001b[0m\n\u001b[0m",
      "\u001b[0;31mValueError\u001b[0m: too many values to unpack"
     ]
    }
   ],
   "source": [
    "x = (3,'a',[1,2,3],{'A':1, 'B':2})\n",
    "a,b,c,d = x # tuple unpacking\n",
    "print b\n",
    "print x[2]\n",
    "\n",
    "d,e = x # error, need enough number of variables to unpack tuple"
   ]
  },
  {
   "cell_type": "code",
   "execution_count": 6,
   "metadata": {},
   "outputs": [
    {
     "name": "stdout",
     "output_type": "stream",
     "text": [
      "<type 'tuple'>\n",
      "(1, 2)\n"
     ]
    }
   ],
   "source": [
    "a = 1\n",
    "b = 2\n",
    "x = a,b\n",
    "print type(x)\n",
    "print x"
   ]
  },
  {
   "cell_type": "code",
   "execution_count": null,
   "metadata": {},
   "outputs": [],
   "source": []
  },
  {
   "cell_type": "code",
   "execution_count": 18,
   "metadata": {},
   "outputs": [
    {
     "name": "stdout",
     "output_type": "stream",
     "text": [
      "How old are you? 3\n",
      "How tall are you? 3\n",
      "So, you're 3 old, 3 tall.\n",
      "So, you're '3' old, '3' tall.\n",
      " ddd\\\" \n"
     ]
    }
   ],
   "source": [
    "age = raw_input(\"How old are you? \") #recommended to use raw_input\n",
    "height = raw_input(\"How tall are you? \")\n",
    "x = age, height #tuple packing x = ('29', \"5'4\")\n",
    "print \"So, you're %s old, %s tall.\" % x #print out str\n",
    "print \"So, you're %r old, %r tall.\" % x #print out raw_str\n",
    "\n",
    "test = r\" ddd\\\" \" #raw str does not interpret '\\' as escaper, but as a char in string\n",
    "print test"
   ]
  },
  {
   "cell_type": "code",
   "execution_count": 7,
   "metadata": {},
   "outputs": [
    {
     "name": "stdout",
     "output_type": "stream",
     "text": [
      "How old are you? jlkj\n"
     ]
    },
    {
     "ename": "NameError",
     "evalue": "name 'jlkj' is not defined",
     "output_type": "error",
     "traceback": [
      "\u001b[0;31m---------------------------------------------------------------------------\u001b[0m",
      "\u001b[0;31mNameError\u001b[0m                                 Traceback (most recent call last)",
      "\u001b[0;32m<ipython-input-7-b52fdac29c35>\u001b[0m in \u001b[0;36m<module>\u001b[0;34m()\u001b[0m\n\u001b[0;32m----> 1\u001b[0;31m \u001b[0mage\u001b[0m \u001b[0;34m=\u001b[0m \u001b[0minput\u001b[0m\u001b[0;34m(\u001b[0m\u001b[0;34m\"How old are you? \"\u001b[0m\u001b[0;34m)\u001b[0m \u001b[0;31m# not recommended\u001b[0m\u001b[0;34m\u001b[0m\u001b[0m\n\u001b[0m",
      "\u001b[0;32m/anaconda2/lib/python2.7/site-packages/ipykernel/ipkernel.pyc\u001b[0m in \u001b[0;36m<lambda>\u001b[0;34m(prompt)\u001b[0m\n\u001b[1;32m    174\u001b[0m             \u001b[0mself\u001b[0m\u001b[0;34m.\u001b[0m\u001b[0m_sys_eval_input\u001b[0m \u001b[0;34m=\u001b[0m \u001b[0mbuiltin_mod\u001b[0m\u001b[0;34m.\u001b[0m\u001b[0minput\u001b[0m\u001b[0;34m\u001b[0m\u001b[0m\n\u001b[1;32m    175\u001b[0m             \u001b[0mbuiltin_mod\u001b[0m\u001b[0;34m.\u001b[0m\u001b[0mraw_input\u001b[0m \u001b[0;34m=\u001b[0m \u001b[0mself\u001b[0m\u001b[0;34m.\u001b[0m\u001b[0mraw_input\u001b[0m\u001b[0;34m\u001b[0m\u001b[0m\n\u001b[0;32m--> 176\u001b[0;31m             \u001b[0mbuiltin_mod\u001b[0m\u001b[0;34m.\u001b[0m\u001b[0minput\u001b[0m \u001b[0;34m=\u001b[0m \u001b[0;32mlambda\u001b[0m \u001b[0mprompt\u001b[0m\u001b[0;34m=\u001b[0m\u001b[0;34m''\u001b[0m\u001b[0;34m:\u001b[0m \u001b[0meval\u001b[0m\u001b[0;34m(\u001b[0m\u001b[0mself\u001b[0m\u001b[0;34m.\u001b[0m\u001b[0mraw_input\u001b[0m\u001b[0;34m(\u001b[0m\u001b[0mprompt\u001b[0m\u001b[0;34m)\u001b[0m\u001b[0;34m)\u001b[0m\u001b[0;34m\u001b[0m\u001b[0m\n\u001b[0m\u001b[1;32m    177\u001b[0m         \u001b[0mself\u001b[0m\u001b[0;34m.\u001b[0m\u001b[0m_save_getpass\u001b[0m \u001b[0;34m=\u001b[0m \u001b[0mgetpass\u001b[0m\u001b[0;34m.\u001b[0m\u001b[0mgetpass\u001b[0m\u001b[0;34m\u001b[0m\u001b[0m\n\u001b[1;32m    178\u001b[0m         \u001b[0mgetpass\u001b[0m\u001b[0;34m.\u001b[0m\u001b[0mgetpass\u001b[0m \u001b[0;34m=\u001b[0m \u001b[0mself\u001b[0m\u001b[0;34m.\u001b[0m\u001b[0mgetpass\u001b[0m\u001b[0;34m\u001b[0m\u001b[0m\n",
      "\u001b[0;32m/anaconda2/lib/python2.7/site-packages/ipykernel/ipkernel.pyc\u001b[0m in \u001b[0;36m<module>\u001b[0;34m()\u001b[0m\n",
      "\u001b[0;31mNameError\u001b[0m: name 'jlkj' is not defined"
     ]
    }
   ],
   "source": [
    "age = input(\"How old are you? \") # not recommended, and Python 3 replace all input() by raw_input"
   ]
  },
  {
   "cell_type": "markdown",
   "metadata": {},
   "source": [
    "A __Set__ is an unordered collection of items. Every element is unique (no duplicates) and must be immutable (which cannot be changed). However, the set itself is mutable. We can add or remove items from it.\n",
    "\n"
   ]
  },
  {
   "cell_type": "code",
   "execution_count": 3,
   "metadata": {},
   "outputs": [
    {
     "name": "stdout",
     "output_type": "stream",
     "text": [
      "set([1, 2, 3, 4])\n",
      "<type 'set'>\n",
      "set([])\n"
     ]
    }
   ],
   "source": [
    "my_set = {1,2,3,4,3,2}\n",
    "print my_set\n",
    "\n",
    "set2 = set() #use set() to create an empty set, not setn = {}!!!\n",
    "print type(set2)\n",
    "print set2"
   ]
  },
  {
   "cell_type": "code",
   "execution_count": 9,
   "metadata": {},
   "outputs": [
    {
     "name": "stdout",
     "output_type": "stream",
     "text": [
      "<type 'dict'>\n"
     ]
    }
   ],
   "source": [
    "set3 ={} #this is not the proper way to define a set!!!\n",
    "print type(set3) "
   ]
  },
  {
   "cell_type": "code",
   "execution_count": 10,
   "metadata": {},
   "outputs": [
    {
     "ename": "TypeError",
     "evalue": "'set' object does not support indexing",
     "output_type": "error",
     "traceback": [
      "\u001b[0;31m---------------------------------------------------------------------------\u001b[0m",
      "\u001b[0;31mTypeError\u001b[0m                                 Traceback (most recent call last)",
      "\u001b[0;32m<ipython-input-10-32920d39aa9b>\u001b[0m in \u001b[0;36m<module>\u001b[0;34m()\u001b[0m\n\u001b[1;32m      1\u001b[0m \u001b[0;31m#my_set = {1, 2, [3, 4]} # error! set cannot have mutable items\u001b[0m\u001b[0;34m\u001b[0m\u001b[0;34m\u001b[0m\u001b[0m\n\u001b[0;32m----> 2\u001b[0;31m \u001b[0mmy_set\u001b[0m\u001b[0;34m[\u001b[0m\u001b[0;36m0\u001b[0m\u001b[0;34m]\u001b[0m \u001b[0;31m# error! set does not support indexing\u001b[0m\u001b[0;34m\u001b[0m\u001b[0m\n\u001b[0m",
      "\u001b[0;31mTypeError\u001b[0m: 'set' object does not support indexing"
     ]
    }
   ],
   "source": [
    "#my_set = {1, 2, [3, 4]} # error! set cannot have mutable items\n",
    "my_set[0] # error! set does not support indexing"
   ]
  },
  {
   "cell_type": "markdown",
   "metadata": {},
   "source": [
    "__ Try the following methods to change a set in Python:__\n",
    "- my_set = {1,2,3}\n",
    "- my_set.add(4) # add one item\n",
    "- my_set.update([5,6,7]) #add multiple items"
   ]
  },
  {
   "cell_type": "code",
   "execution_count": 12,
   "metadata": {},
   "outputs": [
    {
     "name": "stdout",
     "output_type": "stream",
     "text": [
      "set([1, 2, 3, 4, 5, 6, 7])\n"
     ]
    }
   ],
   "source": [
    "my_set = {1,2,3}\n",
    "my_set.add(4)\n",
    "my_set.update([5,5,6,7])\n",
    "print my_set"
   ]
  },
  {
   "cell_type": "markdown",
   "metadata": {},
   "source": [
    "__Exercise__: Determine the number of unique letters in \"supercalifragilisticexpialidocious\" using a set."
   ]
  },
  {
   "cell_type": "code",
   "execution_count": 16,
   "metadata": {},
   "outputs": [
    {
     "name": "stdout",
     "output_type": "stream",
     "text": [
      "15\n"
     ]
    }
   ],
   "source": [
    "a = set(\"supercalifragilisticexpialidocious\") #use set() to construct a set with the argument. The set automatically \n",
    "                                            #get rid of repeated items\n",
    "print len(a)"
   ]
  },
  {
   "cell_type": "code",
   "execution_count": 1,
   "metadata": {},
   "outputs": [
    {
     "name": "stdout",
     "output_type": "stream",
     "text": [
      "set([1, 2, 3, 4])\n",
      "[1, 2, 3, 4]\n"
     ]
    }
   ],
   "source": [
    "my_list = [1,2,3,4,3,2,1]\n",
    "my_set = set(my_list)\n",
    "print my_set\n",
    "my_list = list(my_set)\n",
    "print my_list"
   ]
  },
  {
   "cell_type": "markdown",
   "metadata": {
    "collapsed": true
   },
   "source": [
    "## 3. Maps\n",
    "One of the common things we do with list and other sequences is applying an operation to each item and collect the result. For example, we can update all the items in a list with a __for__ loop or __list comprehension__. "
   ]
  },
  {
   "cell_type": "code",
   "execution_count": null,
   "metadata": {},
   "outputs": [],
   "source": [
    "x = [1,2,3,4,5]\n",
    "y = []\n",
    "for i in x:\n",
    "    y.append(i**2)\n",
    "print y\n",
    "\n",
    "y = [i**2 for i in x]\n",
    "print y"
   ]
  },
  {
   "cell_type": "markdown",
   "metadata": {},
   "source": [
    "There is another built-in feature that is very helpful: __map__. \n",
    "\n",
    "The __map(myFunction, mySequence)__ applies a passed-in function to each item in an iterable object and returns a list containing all the function call results."
   ]
  },
  {
   "cell_type": "code",
   "execution_count": 1,
   "metadata": {},
   "outputs": [
    {
     "data": {
      "text/plain": [
       "[1, 4, 9, 16, 25]"
      ]
     },
     "execution_count": 1,
     "metadata": {},
     "output_type": "execute_result"
    }
   ],
   "source": [
    "x = [1,2,3,4,5]\n",
    "def f(x):\n",
    "    return x**2 #this function will be applied to every element in the list\n",
    "map(f,x)"
   ]
  },
  {
   "cell_type": "markdown",
   "metadata": {},
   "source": [
    "__map()__ expects a function to be passed in. This is where __lambda__ routinely appears."
   ]
  },
  {
   "cell_type": "code",
   "execution_count": 2,
   "metadata": {},
   "outputs": [
    {
     "data": {
      "text/plain": [
       "[1, 4, 9, 16, 25]"
      ]
     },
     "execution_count": 2,
     "metadata": {},
     "output_type": "execute_result"
    }
   ],
   "source": [
    "x = [1,2,3,4,5]\n",
    "map(lambda t: t**2, x) #define the function inside the map"
   ]
  },
  {
   "cell_type": "markdown",
   "metadata": {},
   "source": [
    "We can also use __map()__ on multiple sequences, where corresponding item from each sequence will be passed."
   ]
  },
  {
   "cell_type": "code",
   "execution_count": 3,
   "metadata": {},
   "outputs": [
    {
     "data": {
      "text/plain": [
       "[3, 5, 7, 9, 11]"
      ]
     },
     "execution_count": 3,
     "metadata": {},
     "output_type": "execute_result"
    }
   ],
   "source": [
    "x1 = [1,2,3,4,5]\n",
    "x2 = [2,3,4,5,6]\n",
    "map(lambda t,s: t+s, x1, x2)"
   ]
  },
  {
   "cell_type": "code",
   "execution_count": 4,
   "metadata": {},
   "outputs": [
    {
     "name": "stdout",
     "output_type": "stream",
     "text": [
      "[(1, 10), (3, 5), (2, 4)]\n",
      "[(1, 10), (2, 4), (3, 5)]\n"
     ]
    }
   ],
   "source": [
    "a = [(1,10),(3,5),(2,4)]\n",
    "print a \n",
    "a.sort()\n",
    "print a"
   ]
  },
  {
   "cell_type": "code",
   "execution_count": 6,
   "metadata": {},
   "outputs": [
    {
     "name": "stdout",
     "output_type": "stream",
     "text": [
      "[(1, 10), (3, 5), (2, 4)]\n",
      "[(2, 4), (3, 5), (1, 10)]\n"
     ]
    }
   ],
   "source": [
    "a = [(1,10),(3,5),(2,4)]\n",
    "print a \n",
    "def f(l):\n",
    "    return l[1]\n",
    "a.sort(key = f)\n",
    "print a"
   ]
  },
  {
   "cell_type": "code",
   "execution_count": 7,
   "metadata": {},
   "outputs": [
    {
     "name": "stdout",
     "output_type": "stream",
     "text": [
      "[(1, 10), (3, 5), (2, 4)]\n",
      "[(2, 4), (3, 5), (1, 10)]\n"
     ]
    }
   ],
   "source": [
    "a = [(1,10),(3,5),(2,4)]\n",
    "print a \n",
    "a.sort(key = lambda l:l[1]) #same as above function, return the second element in a tuple\n",
    "print a"
   ]
  },
  {
   "cell_type": "code",
   "execution_count": null,
   "metadata": {},
   "outputs": [],
   "source": []
  },
  {
   "cell_type": "code",
   "execution_count": null,
   "metadata": {},
   "outputs": [],
   "source": []
  },
  {
   "cell_type": "markdown",
   "metadata": {},
   "source": [
    "#### Efficiency of map, list comprehension and for loops. \n",
    "To compare relative efficiency of multiple approaches to a given task, let's time code segment execution using the time module."
   ]
  },
  {
   "cell_type": "code",
   "execution_count": 8,
   "metadata": {},
   "outputs": [
    {
     "name": "stdout",
     "output_type": "stream",
     "text": [
      "7.6e-05\n"
     ]
    }
   ],
   "source": [
    "import time\n",
    "begin = time.clock() #record start time\n",
    "#your code goes here\n",
    "end = time.clock() # record end time\"\n",
    "print end - begin #calculate difference (elapsed time)"
   ]
  },
  {
   "cell_type": "markdown",
   "metadata": {},
   "source": [
    "Consider the following code to generate a list of the squares of N integers:"
   ]
  },
  {
   "cell_type": "code",
   "execution_count": 9,
   "metadata": {},
   "outputs": [
    {
     "name": "stdout",
     "output_type": "stream",
     "text": [
      "Appending to an empty list 0.350745\n",
      "Updating an existing list 0.289849\n"
     ]
    }
   ],
   "source": [
    "N = 1000000\n",
    "x = range(N)\n",
    "y = []\n",
    "t1 = time.clock()\n",
    "for i in x:\n",
    "    y.append(i**2)\n",
    "t2 = time.clock()\n",
    "print \"Appending to an empty list\", t2 - t1\n",
    "\n",
    "y = x\n",
    "t1 = time.clock()\n",
    "for i in x:\n",
    "    y[i] = i**2\n",
    "t2 = time.clock()\n",
    "print \"Updating an existing list\", t2 - t1"
   ]
  },
  {
   "cell_type": "markdown",
   "metadata": {},
   "source": [
    "__Tip #1__: when possible, re-using an existing list in a for loop is usually faster than appending to an empty list"
   ]
  },
  {
   "cell_type": "code",
   "execution_count": 10,
   "metadata": {},
   "outputs": [
    {
     "name": "stdout",
     "output_type": "stream",
     "text": [
      "with list comprehension 0.396625\n",
      "with for loop 0.47541\n"
     ]
    }
   ],
   "source": [
    "N = 1000000\n",
    "x = range(N)\n",
    "def f(x):\n",
    "    return x**2\n",
    "\n",
    "y = x\n",
    "t1 = time.clock()\n",
    "y = [f(i) for i in x]\n",
    "t2 = time.clock()\n",
    "print \"with list comprehension\", t2 - t1\n",
    "\n",
    "y = x\n",
    "t1 = time.clock()\n",
    "for i in x:\n",
    "    y[i] = f(i)\n",
    "t2 = time.clock()\n",
    "print \"with for loop\", t2 - t1"
   ]
  },
  {
   "cell_type": "markdown",
   "metadata": {},
   "source": [
    "__Tip #2__: when you only need to perform a single function call in a for loop, it is faster to use list comprehension "
   ]
  },
  {
   "cell_type": "code",
   "execution_count": 11,
   "metadata": {},
   "outputs": [
    {
     "name": "stdout",
     "output_type": "stream",
     "text": [
      "with list comprehension 0.398254\n",
      "with map 0.24913\n"
     ]
    }
   ],
   "source": [
    "N = 1000000\n",
    "x = range(N)\n",
    "def f(x):\n",
    "    return x**2\n",
    "\n",
    "y = x\n",
    "t1 = time.clock()\n",
    "y = [f(i) for i in x]\n",
    "t2 = time.clock()\n",
    "print \"with list comprehension\", t2 - t1\n",
    "\n",
    "t1 = time.clock()\n",
    "y = map(f,x)\n",
    "t2 = time.clock()\n",
    "print \"with map\", t2 - t1\n"
   ]
  },
  {
   "cell_type": "markdown",
   "metadata": {},
   "source": [
    "__Tip #3__: it is faster to use map than list comprehension when the operation you need to perform requires a single function call."
   ]
  },
  {
   "cell_type": "markdown",
   "metadata": {},
   "source": [
    "W\n"
   ]
  },
  {
   "cell_type": "code",
   "execution_count": null,
   "metadata": {},
   "outputs": [],
   "source": []
  }
 ],
 "metadata": {
  "kernelspec": {
   "display_name": "Python 2",
   "language": "python",
   "name": "python2"
  },
  "language_info": {
   "codemirror_mode": {
    "name": "ipython",
    "version": 2
   },
   "file_extension": ".py",
   "mimetype": "text/x-python",
   "name": "python",
   "nbconvert_exporter": "python",
   "pygments_lexer": "ipython2",
   "version": "2.7.15"
  }
 },
 "nbformat": 4,
 "nbformat_minor": 2
}
