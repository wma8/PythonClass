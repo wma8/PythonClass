{
 "cells": [
  {
   "cell_type": "markdown",
   "metadata": {},
   "source": [
    "# Discussion Exercises (Week 2, Tuesday)\n",
    "\n",
    "These extra exercises are based on the contents of the Lecture 3 notebook."
   ]
  },
  {
   "cell_type": "markdown",
   "metadata": {},
   "source": [
    "## Modifying arguments\n",
    "\n",
    "1. Write the function `reverse(l)`, which takes a single\n",
    "`list`-like argument `l` and reverses the list in place."
   ]
  },
  {
   "cell_type": "code",
   "execution_count": 1,
   "metadata": {},
   "outputs": [],
   "source": [
    "def reverse(l):\n",
    "    l1 =[]\n",
    "    l1 = l[::-1]\n",
    "    l = l1\n"
   ]
  },
  {
   "cell_type": "code",
   "execution_count": 2,
   "metadata": {},
   "outputs": [
    {
     "name": "stdout",
     "output_type": "stream",
     "text": [
      "[1, 2, 3, 4, 5, 6, 7]\n"
     ]
    }
   ],
   "source": [
    "l0 = [1,2,3,4,5,6,7]\n",
    "reverse(l0)\n",
    "print l0"
   ]
  },
  {
   "cell_type": "markdown",
   "metadata": {},
   "source": [
    "2. Write the function `reversed(l)`, which takes a single\n",
    "`list`-like argument `l` and returns a copy of the list,\n",
    "that's been reversed. The original list shouldn't be\n",
    "changed.\n",
    "\n",
    "*Extra comment: The `reverse()` function has a **side-effect** of reversing the provided list, whereas the `reversed()` function is more like a mathematical function: it takes in input(s) and produces output(s). In complex programs, it's often a good idea to avoid writing functions that change existing values or have other side-effects. Keeping track of what a function does can be difficult, especially when it's not quite so obvious from the name of the function. At the very least, make sure to document all side effects of your functions!*"
   ]
  },
  {
   "cell_type": "code",
   "execution_count": null,
   "metadata": {},
   "outputs": [],
   "source": []
  },
  {
   "cell_type": "markdown",
   "metadata": {},
   "source": [
    "3. Write the function `filter(haystack, needles)` that takes in two collections. The return value should be a list that contains every element from `haystack` that's also in `needles`. Do you think this function should change `haystack`?"
   ]
  },
  {
   "cell_type": "code",
   "execution_count": null,
   "metadata": {},
   "outputs": [],
   "source": []
  },
  {
   "cell_type": "markdown",
   "metadata": {},
   "source": [
    "## Functions as arguments\n",
    "\n",
    "Functions are *first-class objects* in Python. They can be saved into variables and passed as arguments to other functions. For example:\n",
    "\n",
    "```py\n",
    "def transform_list(l, f):\n",
    "    new_list = []\n",
    "    for x in l:\n",
    "        new_list.append(f(x))\n",
    "    return new_list\n",
    "```\n",
    "\n",
    "4. Rewrite `transform_list` as a one-liner using a list comprehension."
   ]
  },
  {
   "cell_type": "code",
   "execution_count": null,
   "metadata": {},
   "outputs": [],
   "source": [
    "def transform_list(l,f):\n",
    "    return [f(x) for x in l]\n",
    "\n"
   ]
  },
  {
   "cell_type": "markdown",
   "metadata": {},
   "source": [
    "5. Write the function `filter_if(l, f)` that returns a copy of the list `l`, but with only those elements `x` such that `f(x)` returns `True` (or something [\"truthy\"](https://stackoverflow.com/q/39983695))."
   ]
  },
  {
   "cell_type": "markdown",
   "metadata": {},
   "source": [
    "## Other topics from Week 1\n",
    "\n",
    "6. Write Python `for` loops that are equivalent to the following C++ `for` loops. I did the first one for you, as an example.\n",
    "\n",
    "    - ```c++\n",
    "for (int i = 0; i < I; i++) {}\n",
    "      ```\n",
    "      *Answer:*\n",
    "      ```py\n",
    "for i in range(I):\n",
    "    pass\n",
    "      ```\n",
    "    \n",
    "    - ```c++\n",
    "for (int j = 3; j < J; j += 2) {}\n",
    "      ```\n",
    "      \n",
    "    - ```c++\n",
    "for (int k = K - 1; k >= 0; k--) {}\n",
    "      ```\n",
    "      \n",
    "    - ```c++\n",
    "for (int l = 1; l < L; l *= 2) {}\n",
    "      ```"
   ]
  },
  {
   "cell_type": "markdown",
   "metadata": {},
   "source": [
    "7. Write a function `titlify(s)` that rewrites a string `s` as a title: every word with more than three letters has its first letter capitalized; short words are all lowercase. Additionally, the first letter in the string is always capitalized. You may assume that `s` contains only letters and spaces (with one space between words, and no extra spaces). But, the letters in `s` may uppercased or lowercased randomly.\n",
    "\n",
    "    *(The three-letter rule is a simplification; I think the right thing to do is to have a list of \"non-capitalized\" words like \"a\" or \"the\", but I'm not an editor.)*\n",
    "\n",
    "    Examples (taken from [Wikipedia](https://en.wikipedia.org/wiki/List_of_18th-century_British_children%27s_literature_titles)):\n",
    "\n",
    "      - `titlify(\"divine songs\")` &rarr; `\"Divine Songs\"\"\n",
    "      - `titlify(\"A DEscRIptIOn oF ThrEE huNDreD AniMAls\")` &rarr; `\"A Description of Three Hundred Animals\"`\n",
    "      - `titlify(\"THE gigAntick hISTORy OF THe tWo FaMouS giAnts\")`` &rarr; `\"The Gigantick History of the two Famous Giants\"`"
   ]
  }
 ],
 "metadata": {
  "kernelspec": {
   "display_name": "Python 2",
   "language": "python",
   "name": "python2"
  },
  "language_info": {
   "codemirror_mode": {
    "name": "ipython",
    "version": 2
   },
   "file_extension": ".py",
   "mimetype": "text/x-python",
   "name": "python",
   "nbconvert_exporter": "python",
   "pygments_lexer": "ipython2",
   "version": "2.7.15"
  }
 },
 "nbformat": 4,
 "nbformat_minor": 2
}
