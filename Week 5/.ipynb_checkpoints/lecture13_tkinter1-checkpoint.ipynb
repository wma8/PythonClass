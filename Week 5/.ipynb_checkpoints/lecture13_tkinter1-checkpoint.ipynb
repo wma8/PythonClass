{
 "cells": [
  {
   "cell_type": "markdown",
   "metadata": {},
   "source": [
    "# Lecture 13: GUI\n",
    "\n",
    "__Reading Material:__ \n",
    "\n",
    "- [An Introduction To Tkinter](http://effbot.org/tkinterbook/tkinter-index.htm)\n",
    "\n"
   ]
  },
  {
   "cell_type": "markdown",
   "metadata": {},
   "source": [
    "## Tkinter\n",
    "\n",
    "We will use Tkinter to design GUIs. Let's start with a few basics of Tkinter. This is a module that lets us open a window which may contain canvasses, labels, buttons, which the user is allowed to interact with, without using python code. We do this by binding “events” such as mouse clicks and keyboard presses to functions. Different types of events have different attributes. For example, a left mouse-click on a canvas has attributes x and y, corresponding to the coordinates of the cursor at the time of click. \n",
    "\n",
    "In the following code, the __Tk( )__ class creates the basic GUI object. Then we create a Canvas object and add it to the GUI with the __pack( )__ command. Finally, we __bind__ the mouseclick to the creation of a rectangle, of which the upper left corner is at the position of the cursor. The __mainloop( )__ command launches the GUI."
   ]
  },
  {
   "cell_type": "code",
   "execution_count": null,
   "metadata": {},
   "outputs": [],
   "source": [
    "\"\"\"\n",
    "tk_square.py\n",
    "\"\"\"\n",
    "\n",
    "import Tkinter as Tk #or tkinter in v.3\n",
    "root = Tk.Tk()\n",
    "w = Tk.Canvas(root, width=500, height=500)\n",
    "w.pack()\n",
    "def rectangle(event):\n",
    "    w.create_rectangle(event.x,event.y, event.x+20, event.y+20, fill=\"blue\")\n",
    "w.bind(\"<Button-1>\", rectangle)\n",
    "root.mainloop()"
   ]
  },
  {
   "cell_type": "code",
   "execution_count": 1,
   "metadata": {},
   "outputs": [
    {
     "name": "stdout",
     "output_type": "stream",
     "text": [
      "hello world\n",
      "hello world\n",
      "hello world\n",
      "hello world\n"
     ]
    },
    {
     "ename": "SystemExit",
     "evalue": "0",
     "output_type": "error",
     "traceback": [
      "An exception has occurred, use %tb to see the full traceback.\n",
      "\u001b[0;31mSystemExit\u001b[0m\u001b[0;31m:\u001b[0m 0\n"
     ]
    },
    {
     "name": "stderr",
     "output_type": "stream",
     "text": [
      "/anaconda2/lib/python2.7/site-packages/IPython/core/interactiveshell.py:2886: UserWarning: To exit: use 'exit', 'quit', or Ctrl-D.\n",
      "  warn(\"To exit: use 'exit', 'quit', or Ctrl-D.\", stacklevel=1)\n"
     ]
    }
   ],
   "source": [
    "import Tkinter as Tk #or tkinter in v.3\n",
    "root = Tk.Tk()\n",
    "w = Tk.Canvas(root, width=500, height=500)\n",
    "\n",
    "w.pack()\n",
    "w.create_rectangle(100,100,120,150,fill = \"red\") #top left corner (x,y) , and then lower right corner (x,y) be the coordinate\n",
    "                                                    #x from left to right, y from top to bottom\n",
    "def callback(event):\n",
    "    print 'hello world'\n",
    "    \n",
    "w.bind(\"<Button-1>\", callback)\n",
    "root.mainloop()"
   ]
  },
  {
   "cell_type": "markdown",
   "metadata": {},
   "source": [
    "## Exercises:\n",
    "- Create a game that asks the user to click inside a rectangle. You can decide what happens when the user clicks correctly.\n"
   ]
  },
  {
   "cell_type": "markdown",
   "metadata": {
    "collapsed": true
   },
   "source": [
    "- Look up how to create radiobuttons, and create a GUI that takes the user through a short questionnaire, and stores the answers in an appropriate output variable."
   ]
  },
  {
   "cell_type": "markdown",
   "metadata": {},
   "source": [
    "\n",
    "## Writing out a Tkinter program as a class\n",
    "Writing these types of programs as classes has a lot of advantages. For example, it makes it easy to instantiate the class with different parameters, and keep track of local variables as object attributes. As a class, this program might look something like this:"
   ]
  },
  {
   "cell_type": "code",
   "execution_count": null,
   "metadata": {},
   "outputs": [],
   "source": [
    "import Tkinter as Tk #or tkinter in v.3\n",
    "class RectangleGUI:\n",
    "   def __init__(self, master):\n",
    "       self.master = master\n",
    "       self.canvas = Tk.Canvas(root, width=500, height=500)\n",
    "       self.canvas.pack()\n",
    "       self.canvas.bind(\"<Button-1>\", self.rectangle)\n",
    "   def rectangle(self,ev):\n",
    "       self.canvas.create_rectangle(ev.x, ev.y, ev.x+20, ev.y+20, fill=\"blue\")\n",
    "root = Tk.Tk()\n",
    "gui=RectangleGUI(root)\n",
    "root.mainloop()"
   ]
  },
  {
   "cell_type": "markdown",
   "metadata": {},
   "source": [
    "As before, the root is the main window of our application. The __root.mainloop( )__ command lets the main window run until the user quits it. Widgets always have parent (master) widgets, all the way up to the root. In this case, we have only one widget, the canvas, which has the root as its parent."
   ]
  },
  {
   "cell_type": "code",
   "execution_count": null,
   "metadata": {
    "collapsed": true
   },
   "outputs": [],
   "source": []
  }
 ],
 "metadata": {
  "kernelspec": {
   "display_name": "Python 2",
   "language": "python",
   "name": "python2"
  },
  "language_info": {
   "codemirror_mode": {
    "name": "ipython",
    "version": 2
   },
   "file_extension": ".py",
   "mimetype": "text/x-python",
   "name": "python",
   "nbconvert_exporter": "python",
   "pygments_lexer": "ipython2",
   "version": "2.7.15"
  }
 },
 "nbformat": 4,
 "nbformat_minor": 2
}
