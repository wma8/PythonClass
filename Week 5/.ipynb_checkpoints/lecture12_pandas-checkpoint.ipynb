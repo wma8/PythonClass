{
 "cells": [
  {
   "cell_type": "markdown",
   "metadata": {},
   "source": [
    "# Lecture 12: Pandas, Matplotlib and Numpy\n",
    "\n",
    "__Reading Material:__\n",
    "- [Pandas Tutorial](https://pandas.pydata.org/pandas-docs/stable/tutorials.html)\n",
    "- Pandas Basics Cheat Sheet (on CCLE)"
   ]
  },
  {
   "cell_type": "markdown",
   "metadata": {},
   "source": [
    "## Pandas\n",
    "\n",
    "We use the modules pandas and matplotlib to import a dataset and create a nice visualization. Pandas assumes that your data file has rows separated by newlines, and columns separated by an expression that you specify. It also assumes that the first row contains the names of your columns. We start with the dataset on LSD and math scores1 from\n",
    "[this page](http://stat.ufl.edu/~winner/datasets.html)."
   ]
  },
  {
   "cell_type": "code",
   "execution_count": 1,
   "metadata": {},
   "outputs": [
    {
     "name": "stdout",
     "output_type": "stream",
     "text": [
      "drug\tmath\n",
      "1.17\t78.93\n",
      "2.97\t58.20\n",
      "3.26\t67.47\n",
      "4.69\t37.47\n",
      "5.83\t45.65\n",
      "6.00\t32.92\n",
      "6.41\t29.97\n",
      "\n"
     ]
    }
   ],
   "source": [
    "f = open('lsd.txt').read()\n",
    "print f"
   ]
  },
  {
   "cell_type": "markdown",
   "metadata": {},
   "source": [
    "We first import the data in a .txt file into pandas as follows:"
   ]
  },
  {
   "cell_type": "code",
   "execution_count": null,
   "metadata": {},
   "outputs": [],
   "source": [
    "import pandas as pd\n",
    "lsd = pd.read_table('lsd.txt','\\t')\n",
    "print lsd"
   ]
  },
  {
   "cell_type": "code",
   "execution_count": null,
   "metadata": {},
   "outputs": [],
   "source": [
    "lsd['math']"
   ]
  },
  {
   "cell_type": "markdown",
   "metadata": {},
   "source": [
    "Pandas lets us call the separate columns by their name using commands __lsd['math']__ and __lsd['drug']__. \n",
    "\n",
    "We can use these directly as lists to input into pyplot and create a scatter plot."
   ]
  },
  {
   "cell_type": "code",
   "execution_count": null,
   "metadata": {},
   "outputs": [],
   "source": [
    "import matplotlib.pyplot as plt \n",
    "plt.plot(lsd['drug'],lsd['math'],'o')\n",
    "plt.axis([0, 7, 0, 100])\n",
    "plt.ylabel('Math Score')\n",
    "plt.xlabel('LSD Tissue Concentration') \n",
    "plt.title('Math Scores and Drug Concentrations') \n",
    "plt.show()"
   ]
  },
  {
   "cell_type": "markdown",
   "metadata": {},
   "source": [
    "We now do the same for a data set on \"Comparison of 6 Lengths of Chop Sticks of Feeding Efficiency\" on the [dataset page](http://stat.ufl.edu/~winner/datasets.html) and use a bar plot to visualize the data set."
   ]
  },
  {
   "cell_type": "code",
   "execution_count": null,
   "metadata": {},
   "outputs": [],
   "source": [
    "cs = pd.read_table('chopstick2_rcb.dat','\\s+')\n",
    "print cs"
   ]
  },
  {
   "cell_type": "code",
   "execution_count": null,
   "metadata": {},
   "outputs": [],
   "source": [
    "import numpy as np\n",
    "cs = pd.read_table('chopstick2_rcb.dat','\\s+')\n",
    "type1 = cs['type']==1 \n",
    "type2 = cs['type']==2\n",
    "type3 = cs['type']==3\n",
    "type4 = cs['type']==4\n",
    "type5 = cs['type']==5\n",
    "type6 = cs['type']==6\n",
    "good = cs['eff'] >= 27\n",
    "fair = (cs['eff']>= 22) & (cs['eff'] < 27)\n",
    "poor = cs['eff']<22 \n",
    "barwidth=.2\n",
    "plt.axis([-1, 6, 0, 20])\n",
    "plt.ylabel('Frequency')\n",
    "plt.xlabel('Chopsticks Type')\n",
    "plt.title('Comparison of 6 Lengths of Chopsticks of Feeding Efficiency') \n",
    "plt.xticks(np.arange(6)+1/2,['Type1','Type2','Type3','Type4','Type5','Type6']) \n",
    "\n",
    "plt.bar(np.arange(6),[len(cs[type1 & good].index),\n",
    "                      len(cs[type2 & good].index),\n",
    "                      len(cs[type3 & good].index), \n",
    "                      len(cs[type4 & good].index), \n",
    "                      len(cs[type5 & good].index), \n",
    "                      len(cs[type6 & good].index)], \n",
    "        barwidth, color='r', label='Good')\n",
    "plt.bar(np.arange(6)+barwidth,[len(cs[type1 & fair].index),\n",
    "                               len(cs[type2 & fair].index),\n",
    "                               len(cs[type3 & fair].index), \n",
    "                               len(cs[type4 & fair].index), \n",
    "                               len(cs[type5 & fair].index), \n",
    "                               len(cs[type6 & fair].index)], \n",
    "        barwidth, color='b', label='fair')\n",
    "plt.bar(np.arange(6)+2*barwidth,[len(cs[type1 & poor].index),\n",
    "                                 len(cs[type2 & poor].index),\n",
    "                                 len(cs[type3 & poor].index), \n",
    "                                 len(cs[type4 & poor].index), \n",
    "                                 len(cs[type5 & poor].index), \n",
    "                                 len(cs[type6 & poor].index)], \n",
    "        barwidth, color='g', label='poor')\n",
    "\n",
    "plt.legend()\n",
    "plt.show()"
   ]
  },
  {
   "cell_type": "markdown",
   "metadata": {},
   "source": [
    "## Networks"
   ]
  },
  {
   "cell_type": "markdown",
   "metadata": {},
   "source": [
    "Networks are sets of nodes that may pairwise be connected by links. Links may be directed or weighted, and the network might contain other information such as categories of nodes or links. We can store a network in a 2-dimensional array (a list of lists) such that the value at index i, j indicates the presence of a link. \n",
    "\n",
    "For example, here is a network with nodes 0, 1, 2, such that node 1 is connected to node 0 and 2:"
   ]
  },
  {
   "cell_type": "code",
   "execution_count": null,
   "metadata": {
    "collapsed": true
   },
   "outputs": [],
   "source": [
    "N=[[0,1,0],[1,0,1],[0,1,0]]"
   ]
  },
  {
   "cell_type": "markdown",
   "metadata": {},
   "source": [
    "Let's write a function that takes any network in this form, and plots it using __matplotlib__. It creates the x and y coordinates by placing the nodes equally spaced around a circle:"
   ]
  },
  {
   "cell_type": "code",
   "execution_count": null,
   "metadata": {
    "collapsed": true
   },
   "outputs": [],
   "source": [
    "import numpy as np\n",
    "def network_plot_circle(N):\n",
    "    n=len(N)\n",
    "    x=[np.cos(2*np.pi*i/n) for i in range(n)]\n",
    "    y=[np.sin(2*np.pi*i/n) for i in range(n)]\n",
    "    for i in range(n):\n",
    "        for j in range(i):\n",
    "               if N[i][j]==1:\n",
    "                    plt.plot([x[i],x[j]],[y[i],y[j]],'b')\n",
    "    plt.plot(x,y,'ro')\n",
    "    plt.show()"
   ]
  },
  {
   "cell_type": "code",
   "execution_count": null,
   "metadata": {},
   "outputs": [],
   "source": [
    "network_plot_circle(N)"
   ]
  },
  {
   "cell_type": "markdown",
   "metadata": {},
   "source": [
    "The example network is the Zachary Karate Club social network. This is a well-known social network of friendships between 34 members of a karate club at a US university in the 1970s."
   ]
  },
  {
   "cell_type": "code",
   "execution_count": null,
   "metadata": {},
   "outputs": [],
   "source": [
    "karate = open(\"karate_edgeList.txt\").read()\n",
    "pairs = [s.split('\\t') for s in karate.splitlines()]\n",
    "pairs = [[int(i) for i in j]for j in pairs]\n",
    "n = max(max(j for j in pairs))\n",
    "adjMatrix = [[0]*n for _ in range(n)]\n",
    "for p in pairs:\n",
    "    adjMatrix[p[0]-1][p[1]-1]=1\n",
    "    adjMatrix[p[1]-1][p[0]-1]=1\n",
    "\n",
    "network_plot_circle(adjMatrix)"
   ]
  },
  {
   "cell_type": "markdown",
   "metadata": {},
   "source": [
    "### Exercises"
   ]
  },
  {
   "cell_type": "markdown",
   "metadata": {},
   "source": [
    "- Create visualizations for several other datasets from the toy dataset page."
   ]
  },
  {
   "cell_type": "code",
   "execution_count": null,
   "metadata": {
    "collapsed": true
   },
   "outputs": [],
   "source": []
  },
  {
   "cell_type": "markdown",
   "metadata": {},
   "source": [
    "- Adapt the network plotting code so that it plots the nodes at uniform randomly chosen coordinates."
   ]
  },
  {
   "cell_type": "code",
   "execution_count": null,
   "metadata": {
    "collapsed": true
   },
   "outputs": [],
   "source": []
  },
  {
   "cell_type": "markdown",
   "metadata": {},
   "source": [
    "- Adapt the network plotting code so that it plots edges of two different colors, which the user can indicate by recording edges as 1s or 2s in their data."
   ]
  },
  {
   "cell_type": "code",
   "execution_count": null,
   "metadata": {
    "collapsed": true
   },
   "outputs": [],
   "source": []
  },
  {
   "cell_type": "markdown",
   "metadata": {},
   "source": [
    "- Adapt the network plotting code so that it takes as input a network and list, which is a subset of the nodes. It plots those nodes in a different color from the rest, and plots them next to each other on the circle."
   ]
  },
  {
   "cell_type": "code",
   "execution_count": null,
   "metadata": {
    "collapsed": true
   },
   "outputs": [],
   "source": []
  },
  {
   "cell_type": "markdown",
   "metadata": {},
   "source": [
    "- Adapt the network plotting code so that it plots edges of different thickness, depending on their value in the data."
   ]
  },
  {
   "cell_type": "code",
   "execution_count": null,
   "metadata": {
    "collapsed": true
   },
   "outputs": [],
   "source": []
  }
 ],
 "metadata": {
  "kernelspec": {
   "display_name": "Python 2",
   "language": "python",
   "name": "python2"
  },
  "language_info": {
   "codemirror_mode": {
    "name": "ipython",
    "version": 2
   },
   "file_extension": ".py",
   "mimetype": "text/x-python",
   "name": "python",
   "nbconvert_exporter": "python",
   "pygments_lexer": "ipython2",
   "version": "2.7.15"
  }
 },
 "nbformat": 4,
 "nbformat_minor": 2
}
