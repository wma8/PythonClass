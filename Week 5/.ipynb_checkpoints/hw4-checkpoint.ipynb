{
 "cells": [
  {
   "cell_type": "code",
   "execution_count": 1,
   "metadata": {},
   "outputs": [],
   "source": [
    "#hw4_p1\n",
    "def n_gons(n):\n",
    "    import turtle as ttl\n",
    "    angle = 180*(n-2)/float(n)\n",
    "    for _ in range(n):\n",
    "        ttl.fd(50)\n",
    "        ttl.right(angle)\n",
    "    t.done()\n",
    "    \n"
   ]
  },
  {
   "cell_type": "code",
   "execution_count": 33,
   "metadata": {},
   "outputs": [
    {
     "data": {
      "image/png": "[encoded data removed]",
      "text/plain": [
       "<Figure size 432x288 with 1 Axes>"
      ]
     },
     "metadata": {
      "needs_background": "light"
     },
     "output_type": "display_data"
    }
   ],
   "source": [
    "import matplotlib.pyplot as plt \n",
    "import numpy as np\n",
    "import pandas as pd\n",
    "choice = pd.read_csv('choice1.csv') #note, use read_csv to read excel file, not read_table!!!\n",
    "\n",
    "#print choice\n",
    "'''\n",
    "exp1 = choice['expt1']\n",
    "exp2 = choice['expt2']\n",
    "exp3 = choice['expt3']\n",
    "exp4 = choice['expt4']\n",
    "'''\n",
    "MrA1 = (choice['expt1'] == 1) \n",
    "MrA2 = (choice['expt2'] == 1) \n",
    "MrA3 = (choice['expt3'] == 1)\n",
    "MrA4 = (choice['expt4'] == 1)\n",
    "\n",
    "MrB1 = (choice['expt1'] == 2) \n",
    "MrB2 = (choice['expt2'] == 2) \n",
    "MrB3 = (choice['expt3'] == 2)\n",
    "MrB4 = (choice['expt4'] == 2)\n",
    "\n",
    "No_Diff1 = (choice['expt1'] == 3) \n",
    "No_Diff2 = (choice['expt2'] == 3) \n",
    "No_Diff3 = (choice['expt3'] == 3)\n",
    "No_Diff4 = (choice['expt4'] == 3)\n",
    "\n",
    "#MrB = (choice['expt1'] == 2) | (choice['expt2'] == 2) | (choice['expt3'] == 2) | (choice['expt4'] == 2)\n",
    "#No_Diff = (choice['expt1'] == 3) | (choice['expt2'] == 3) | (choice['expt3'] == 3) | (choice['expt4'] == 3)\n",
    "barwidth=.2\n",
    "plt.axis([-1, 4, 0, 100])\n",
    "plt.ylabel('Frequency')\n",
    "plt.xlabel(\"Mental Accounting and Consumer Choice\")\n",
    "plt.title(\"Choices of 'Who will be more upset?' in 4 Exps\") \n",
    "plt.xticks(np.arange(4)+1/2,['Exp1','Exp2','Exp3','Exp4']) \n",
    "\n",
    "plt.bar(np.arange(4),[len(choice[MrA1].index),\n",
    "                      len(choice[MrA2].index),\n",
    "                      len(choice[MrA3].index), \n",
    "                      len(choice[MrA4].index)], \n",
    "        barwidth, color='r', label='Mr.A')\n",
    "plt.bar(np.arange(4)+barwidth,[len(choice[MrB1].index),\n",
    "                      len(choice[MrB2].index),\n",
    "                      len(choice[MrB3].index), \n",
    "                      len(choice[MrB4].index)], \n",
    "        barwidth, color='b', label='Mr.B')\n",
    "plt.bar(np.arange(4)+2*barwidth,[len(choice[No_Diff1].index),\n",
    "                      len(choice[No_Diff2].index),\n",
    "                      len(choice[No_Diff3].index), \n",
    "                      len(choice[No_Diff4].index)], \n",
    "        barwidth, color='g', label='No_Diff')\n",
    "\n",
    "plt.legend()\n",
    "plt.show()"
   ]
  },
  {
   "cell_type": "code",
   "execution_count": null,
   "metadata": {},
   "outputs": [],
   "source": []
  }
 ],
 "metadata": {
  "kernelspec": {
   "display_name": "Python 2",
   "language": "python",
   "name": "python2"
  },
  "language_info": {
   "codemirror_mode": {
    "name": "ipython",
    "version": 2
   },
   "file_extension": ".py",
   "mimetype": "text/x-python",
   "name": "python",
   "nbconvert_exporter": "python",
   "pygments_lexer": "ipython2",
   "version": "2.7.15"
  }
 },
 "nbformat": 4,
 "nbformat_minor": 2
}
