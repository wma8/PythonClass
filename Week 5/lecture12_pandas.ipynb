{
 "cells": [
  {
   "cell_type": "markdown",
   "metadata": {},
   "source": [
    "# Lecture 12: Pandas, Matplotlib and Numpy\n",
    "\n",
    "__Reading Material:__\n",
    "- [Pandas Tutorial](https://pandas.pydata.org/pandas-docs/stable/tutorials.html)\n",
    "- Pandas Basics Cheat Sheet (on CCLE)"
   ]
  },
  {
   "cell_type": "markdown",
   "metadata": {},
   "source": [
    "## Pandas\n",
    "\n",
    "We use the modules pandas and matplotlib to import a dataset and create a nice visualization. Pandas assumes that your data file has __rows separated by newlines__, and __columns separated by an expression__ that you specify. It also assumes that the __first row contains the names of your columns__. We start with the dataset on LSD and math scores1 from\n",
    "[this page](http://stat.ufl.edu/~winner/datasets.html)."
   ]
  },
  {
   "cell_type": "code",
   "execution_count": 7,
   "metadata": {},
   "outputs": [
    {
     "name": "stdout",
     "output_type": "stream",
     "text": [
      "drug\tmath\n",
      "1.17\t78.93\n",
      "2.97\t58.20\n",
      "3.26\t67.47\n",
      "4.69\t37.47\n",
      "5.83\t45.65\n",
      "6.00\t32.92\n",
      "6.41\t29.97\n",
      "\n",
      "<type 'str'>\n"
     ]
    }
   ],
   "source": [
    "f = open('lsd.txt').read()\n",
    "print f\n",
    "print type(f)"
   ]
  },
  {
   "cell_type": "markdown",
   "metadata": {},
   "source": [
    "We first import the data in a .txt file into pandas as follows:"
   ]
  },
  {
   "cell_type": "code",
   "execution_count": 8,
   "metadata": {},
   "outputs": [
    {
     "name": "stdout",
     "output_type": "stream",
     "text": [
      "   drug   math\n",
      "0  1.17  78.93\n",
      "1  2.97  58.20\n",
      "2  3.26  67.47\n",
      "3  4.69  37.47\n",
      "4  5.83  45.65\n",
      "5  6.00  32.92\n",
      "6  6.41  29.97\n"
     ]
    }
   ],
   "source": [
    "import pandas as pd\n",
    "lsd = pd.read_table('lsd.txt','\\t')\n",
    "print lsd"
   ]
  },
  {
   "cell_type": "code",
   "execution_count": 9,
   "metadata": {},
   "outputs": [
    {
     "name": "stdout",
     "output_type": "stream",
     "text": [
      "<class 'pandas.core.series.Series'>\n",
      "0    78.93\n",
      "1    58.20\n",
      "2    67.47\n",
      "3    37.47\n",
      "4    45.65\n",
      "5    32.92\n",
      "6    29.97\n",
      "Name: math, dtype: float64\n"
     ]
    }
   ],
   "source": [
    "lsd['math']\n",
    "print type(lsd['math'])\n",
    "print lsd['math']"
   ]
  },
  {
   "cell_type": "markdown",
   "metadata": {},
   "source": [
    "Pandas lets us call the separate columns by their name using commands __lsd['math']__ and __lsd['drug']__. \n",
    "\n",
    "We can __use these directly as lists__ to input into __pyplot__ and create a scatter plot."
   ]
  },
  {
   "cell_type": "code",
   "execution_count": 10,
   "metadata": {},
   "outputs": [
    {
     "data": {
      "image/png": "[encoded data removed]",
      "text/plain": [
       "<Figure size 432x288 with 1 Axes>"
      ]
     },
     "metadata": {
      "needs_background": "light"
     },
     "output_type": "display_data"
    }
   ],
   "source": [
    "import matplotlib.pyplot as plt \n",
    "plt.plot(lsd['drug'],lsd['math'],'o')\n",
    "plt.axis([0, 7, 0, 100])\n",
    "plt.ylabel('Math Score')\n",
    "plt.xlabel('LSD Tissue Concentration') \n",
    "plt.title('Math Scores and Drug Concentrations') \n",
    "plt.show()"
   ]
  },
  {
   "cell_type": "markdown",
   "metadata": {},
   "source": [
    "We now do the same for a data set on \"Comparison of 6 Lengths of Chop Sticks of Feeding Efficiency\" on the [dataset page](http://stat.ufl.edu/~winner/datasets.html) and use a bar plot to visualize the data set."
   ]
  },
  {
   "cell_type": "code",
   "execution_count": 11,
   "metadata": {
    "scrolled": true
   },
   "outputs": [
    {
     "name": "stdout",
     "output_type": "stream",
     "text": [
      "       eff  type  subject\n",
      "0    19.55     1        1\n",
      "1    27.24     1        2\n",
      "2    28.76     1        3\n",
      "3    31.19     1        4\n",
      "4    21.91     1        5\n",
      "5    27.62     1        6\n",
      "6    29.46     1        7\n",
      "7    26.35     1        8\n",
      "8    26.69     1        9\n",
      "9    30.22     1       10\n",
      "10   27.81     1       11\n",
      "11   23.46     1       12\n",
      "12   23.64     1       13\n",
      "13   27.85     1       14\n",
      "14   20.62     1       15\n",
      "15   25.35     1       16\n",
      "16   28.00     1       17\n",
      "17   23.49     1       18\n",
      "18   27.77     1       19\n",
      "19   18.48     1       20\n",
      "20   23.01     1       21\n",
      "21   22.66     1       22\n",
      "22   23.24     1       23\n",
      "23   22.82     1       24\n",
      "24   17.94     1       25\n",
      "25   26.67     1       26\n",
      "26   28.98     1       27\n",
      "27   21.48     1       28\n",
      "28   14.47     1       29\n",
      "29   28.29     1       30\n",
      "..     ...   ...      ...\n",
      "156  26.18     6        2\n",
      "157  25.93     6        3\n",
      "158  28.61     6        4\n",
      "159  20.54     6        5\n",
      "160  26.44     6        6\n",
      "161  29.36     6        7\n",
      "162  19.77     6        8\n",
      "163  31.69     6        9\n",
      "164  24.64     6       10\n",
      "165  22.09     6       11\n",
      "166  23.42     6       12\n",
      "167  28.63     6       13\n",
      "168  26.30     6       14\n",
      "169  22.89     6       15\n",
      "170  22.68     6       16\n",
      "171  30.92     6       17\n",
      "172  20.74     6       18\n",
      "173  27.24     6       19\n",
      "174  17.12     6       20\n",
      "175  23.63     6       21\n",
      "176  20.91     6       22\n",
      "177  23.49     6       23\n",
      "178  24.86     6       24\n",
      "179  16.28     6       25\n",
      "180  21.52     6       26\n",
      "181  27.22     6       27\n",
      "182  17.41     6       28\n",
      "183  16.42     6       29\n",
      "184  28.22     6       30\n",
      "185  27.52     6       31\n",
      "\n",
      "[186 rows x 3 columns]\n"
     ]
    }
   ],
   "source": [
    "cs = pd.read_table('chopstick2_rcb.dat','\\s+')\n",
    "print cs"
   ]
  },
  {
   "cell_type": "code",
   "execution_count": 12,
   "metadata": {
    "scrolled": true
   },
   "outputs": [
    {
     "data": {
      "text/html": [
       "<div>\n",
       "<style scoped>\n",
       "    .dataframe tbody tr th:only-of-type {\n",
       "        vertical-align: middle;\n",
       "    }\n",
       "\n",
       "    .dataframe tbody tr th {\n",
       "        vertical-align: top;\n",
       "    }\n",
       "\n",
       "    .dataframe thead th {\n",
       "        text-align: right;\n",
       "    }\n",
       "</style>\n",
       "<table border=\"1\" class=\"dataframe\">\n",
       "  <thead>\n",
       "    <tr style=\"text-align: right;\">\n",
       "      <th></th>\n",
       "      <th>eff</th>\n",
       "      <th>type</th>\n",
       "      <th>subject</th>\n",
       "    </tr>\n",
       "  </thead>\n",
       "  <tbody>\n",
       "    <tr>\n",
       "      <th>1</th>\n",
       "      <td>27.24</td>\n",
       "      <td>1</td>\n",
       "      <td>2</td>\n",
       "    </tr>\n",
       "    <tr>\n",
       "      <th>2</th>\n",
       "      <td>28.76</td>\n",
       "      <td>1</td>\n",
       "      <td>3</td>\n",
       "    </tr>\n",
       "    <tr>\n",
       "      <th>3</th>\n",
       "      <td>31.19</td>\n",
       "      <td>1</td>\n",
       "      <td>4</td>\n",
       "    </tr>\n",
       "    <tr>\n",
       "      <th>4</th>\n",
       "      <td>21.91</td>\n",
       "      <td>1</td>\n",
       "      <td>5</td>\n",
       "    </tr>\n",
       "    <tr>\n",
       "      <th>5</th>\n",
       "      <td>27.62</td>\n",
       "      <td>1</td>\n",
       "      <td>6</td>\n",
       "    </tr>\n",
       "    <tr>\n",
       "      <th>6</th>\n",
       "      <td>29.46</td>\n",
       "      <td>1</td>\n",
       "      <td>7</td>\n",
       "    </tr>\n",
       "    <tr>\n",
       "      <th>7</th>\n",
       "      <td>26.35</td>\n",
       "      <td>1</td>\n",
       "      <td>8</td>\n",
       "    </tr>\n",
       "    <tr>\n",
       "      <th>8</th>\n",
       "      <td>26.69</td>\n",
       "      <td>1</td>\n",
       "      <td>9</td>\n",
       "    </tr>\n",
       "    <tr>\n",
       "      <th>9</th>\n",
       "      <td>30.22</td>\n",
       "      <td>1</td>\n",
       "      <td>10</td>\n",
       "    </tr>\n",
       "    <tr>\n",
       "      <th>10</th>\n",
       "      <td>27.81</td>\n",
       "      <td>1</td>\n",
       "      <td>11</td>\n",
       "    </tr>\n",
       "    <tr>\n",
       "      <th>11</th>\n",
       "      <td>23.46</td>\n",
       "      <td>1</td>\n",
       "      <td>12</td>\n",
       "    </tr>\n",
       "    <tr>\n",
       "      <th>12</th>\n",
       "      <td>23.64</td>\n",
       "      <td>1</td>\n",
       "      <td>13</td>\n",
       "    </tr>\n",
       "    <tr>\n",
       "      <th>13</th>\n",
       "      <td>27.85</td>\n",
       "      <td>1</td>\n",
       "      <td>14</td>\n",
       "    </tr>\n",
       "    <tr>\n",
       "      <th>14</th>\n",
       "      <td>20.62</td>\n",
       "      <td>1</td>\n",
       "      <td>15</td>\n",
       "    </tr>\n",
       "    <tr>\n",
       "      <th>15</th>\n",
       "      <td>25.35</td>\n",
       "      <td>1</td>\n",
       "      <td>16</td>\n",
       "    </tr>\n",
       "    <tr>\n",
       "      <th>16</th>\n",
       "      <td>28.00</td>\n",
       "      <td>1</td>\n",
       "      <td>17</td>\n",
       "    </tr>\n",
       "    <tr>\n",
       "      <th>17</th>\n",
       "      <td>23.49</td>\n",
       "      <td>1</td>\n",
       "      <td>18</td>\n",
       "    </tr>\n",
       "    <tr>\n",
       "      <th>18</th>\n",
       "      <td>27.77</td>\n",
       "      <td>1</td>\n",
       "      <td>19</td>\n",
       "    </tr>\n",
       "    <tr>\n",
       "      <th>20</th>\n",
       "      <td>23.01</td>\n",
       "      <td>1</td>\n",
       "      <td>21</td>\n",
       "    </tr>\n",
       "    <tr>\n",
       "      <th>21</th>\n",
       "      <td>22.66</td>\n",
       "      <td>1</td>\n",
       "      <td>22</td>\n",
       "    </tr>\n",
       "    <tr>\n",
       "      <th>22</th>\n",
       "      <td>23.24</td>\n",
       "      <td>1</td>\n",
       "      <td>23</td>\n",
       "    </tr>\n",
       "    <tr>\n",
       "      <th>23</th>\n",
       "      <td>22.82</td>\n",
       "      <td>1</td>\n",
       "      <td>24</td>\n",
       "    </tr>\n",
       "    <tr>\n",
       "      <th>25</th>\n",
       "      <td>26.67</td>\n",
       "      <td>1</td>\n",
       "      <td>26</td>\n",
       "    </tr>\n",
       "    <tr>\n",
       "      <th>26</th>\n",
       "      <td>28.98</td>\n",
       "      <td>1</td>\n",
       "      <td>27</td>\n",
       "    </tr>\n",
       "    <tr>\n",
       "      <th>27</th>\n",
       "      <td>21.48</td>\n",
       "      <td>1</td>\n",
       "      <td>28</td>\n",
       "    </tr>\n",
       "    <tr>\n",
       "      <th>29</th>\n",
       "      <td>28.29</td>\n",
       "      <td>1</td>\n",
       "      <td>30</td>\n",
       "    </tr>\n",
       "    <tr>\n",
       "      <th>30</th>\n",
       "      <td>27.97</td>\n",
       "      <td>1</td>\n",
       "      <td>31</td>\n",
       "    </tr>\n",
       "  </tbody>\n",
       "</table>\n",
       "</div>"
      ],
      "text/plain": [
       "      eff  type  subject\n",
       "1   27.24     1        2\n",
       "2   28.76     1        3\n",
       "3   31.19     1        4\n",
       "4   21.91     1        5\n",
       "5   27.62     1        6\n",
       "6   29.46     1        7\n",
       "7   26.35     1        8\n",
       "8   26.69     1        9\n",
       "9   30.22     1       10\n",
       "10  27.81     1       11\n",
       "11  23.46     1       12\n",
       "12  23.64     1       13\n",
       "13  27.85     1       14\n",
       "14  20.62     1       15\n",
       "15  25.35     1       16\n",
       "16  28.00     1       17\n",
       "17  23.49     1       18\n",
       "18  27.77     1       19\n",
       "20  23.01     1       21\n",
       "21  22.66     1       22\n",
       "22  23.24     1       23\n",
       "23  22.82     1       24\n",
       "25  26.67     1       26\n",
       "26  28.98     1       27\n",
       "27  21.48     1       28\n",
       "29  28.29     1       30\n",
       "30  27.97     1       31"
      ]
     },
     "execution_count": 12,
     "metadata": {},
     "output_type": "execute_result"
    }
   ],
   "source": [
    "#cs[cs['eff'] > 20]\n",
    "cs[(cs['eff'] > 20) & (cs['type'] ==1)]\n"
   ]
  },
  {
   "cell_type": "code",
   "execution_count": 13,
   "metadata": {},
   "outputs": [
    {
     "data": {
      "text/html": [
       "<div>\n",
       "<style scoped>\n",
       "    .dataframe tbody tr th:only-of-type {\n",
       "        vertical-align: middle;\n",
       "    }\n",
       "\n",
       "    .dataframe tbody tr th {\n",
       "        vertical-align: top;\n",
       "    }\n",
       "\n",
       "    .dataframe thead th {\n",
       "        text-align: right;\n",
       "    }\n",
       "</style>\n",
       "<table border=\"1\" class=\"dataframe\">\n",
       "  <thead>\n",
       "    <tr style=\"text-align: right;\">\n",
       "      <th></th>\n",
       "      <th>eff</th>\n",
       "      <th>type</th>\n",
       "      <th>subject</th>\n",
       "    </tr>\n",
       "  </thead>\n",
       "  <tbody>\n",
       "    <tr>\n",
       "      <th>31</th>\n",
       "      <td>23.53</td>\n",
       "      <td>2</td>\n",
       "      <td>1</td>\n",
       "    </tr>\n",
       "    <tr>\n",
       "      <th>32</th>\n",
       "      <td>26.39</td>\n",
       "      <td>2</td>\n",
       "      <td>2</td>\n",
       "    </tr>\n",
       "    <tr>\n",
       "      <th>34</th>\n",
       "      <td>26.05</td>\n",
       "      <td>2</td>\n",
       "      <td>4</td>\n",
       "    </tr>\n",
       "    <tr>\n",
       "      <th>35</th>\n",
       "      <td>23.27</td>\n",
       "      <td>2</td>\n",
       "      <td>5</td>\n",
       "    </tr>\n",
       "    <tr>\n",
       "      <th>41</th>\n",
       "      <td>26.53</td>\n",
       "      <td>2</td>\n",
       "      <td>11</td>\n",
       "    </tr>\n",
       "    <tr>\n",
       "      <th>42</th>\n",
       "      <td>25.26</td>\n",
       "      <td>2</td>\n",
       "      <td>12</td>\n",
       "    </tr>\n",
       "    <tr>\n",
       "      <th>43</th>\n",
       "      <td>25.65</td>\n",
       "      <td>2</td>\n",
       "      <td>13</td>\n",
       "    </tr>\n",
       "    <tr>\n",
       "      <th>45</th>\n",
       "      <td>23.26</td>\n",
       "      <td>2</td>\n",
       "      <td>15</td>\n",
       "    </tr>\n",
       "    <tr>\n",
       "      <th>46</th>\n",
       "      <td>24.77</td>\n",
       "      <td>2</td>\n",
       "      <td>16</td>\n",
       "    </tr>\n",
       "    <tr>\n",
       "      <th>47</th>\n",
       "      <td>25.42</td>\n",
       "      <td>2</td>\n",
       "      <td>17</td>\n",
       "    </tr>\n",
       "    <tr>\n",
       "      <th>48</th>\n",
       "      <td>23.65</td>\n",
       "      <td>2</td>\n",
       "      <td>18</td>\n",
       "    </tr>\n",
       "    <tr>\n",
       "      <th>52</th>\n",
       "      <td>23.07</td>\n",
       "      <td>2</td>\n",
       "      <td>22</td>\n",
       "    </tr>\n",
       "    <tr>\n",
       "      <th>53</th>\n",
       "      <td>22.30</td>\n",
       "      <td>2</td>\n",
       "      <td>23</td>\n",
       "    </tr>\n",
       "    <tr>\n",
       "      <th>55</th>\n",
       "      <td>22.24</td>\n",
       "      <td>2</td>\n",
       "      <td>25</td>\n",
       "    </tr>\n",
       "    <tr>\n",
       "      <th>56</th>\n",
       "      <td>24.87</td>\n",
       "      <td>2</td>\n",
       "      <td>26</td>\n",
       "    </tr>\n",
       "    <tr>\n",
       "      <th>61</th>\n",
       "      <td>26.99</td>\n",
       "      <td>2</td>\n",
       "      <td>31</td>\n",
       "    </tr>\n",
       "  </tbody>\n",
       "</table>\n",
       "</div>"
      ],
      "text/plain": [
       "      eff  type  subject\n",
       "31  23.53     2        1\n",
       "32  26.39     2        2\n",
       "34  26.05     2        4\n",
       "35  23.27     2        5\n",
       "41  26.53     2       11\n",
       "42  25.26     2       12\n",
       "43  25.65     2       13\n",
       "45  23.26     2       15\n",
       "46  24.77     2       16\n",
       "47  25.42     2       17\n",
       "48  23.65     2       18\n",
       "52  23.07     2       22\n",
       "53  22.30     2       23\n",
       "55  22.24     2       25\n",
       "56  24.87     2       26\n",
       "61  26.99     2       31"
      ]
     },
     "execution_count": 13,
     "metadata": {},
     "output_type": "execute_result"
    }
   ],
   "source": [
    "type2 = cs['type'] == 2\n",
    "fair = (cs['eff']>=22) & (cs['eff'] < 27)\n",
    "cs[type2 & fair]\n"
   ]
  },
  {
   "cell_type": "code",
   "execution_count": 21,
   "metadata": {},
   "outputs": [
    {
     "data": {
      "image/png": "[encoded data removed]",
      "text/plain": [
       "<Figure size 432x288 with 1 Axes>"
      ]
     },
     "metadata": {
      "needs_background": "light"
     },
     "output_type": "display_data"
    }
   ],
   "source": [
    "import numpy as np\n",
    "cs = pd.read_table('chopstick2_rcb.dat','\\s+')\n",
    "type1 = cs['type']==1 \n",
    "type2 = cs['type']==2\n",
    "type3 = cs['type']==3\n",
    "type4 = cs['type']==4\n",
    "type5 = cs['type']==5\n",
    "type6 = cs['type']==6\n",
    "good = cs['eff'] >= 27\n",
    "fair = (cs['eff']>= 22) & (cs['eff'] < 27)\n",
    "poor = cs['eff']<22 \n",
    "barwidth=.2\n",
    "plt.axis([-1, 6, 0, 20])\n",
    "plt.ylabel('Frequency')\n",
    "plt.xlabel('Chopsticks Type')\n",
    "plt.title('Comparison of 6 Lengths of Chopsticks of Feeding Efficiency') \n",
    "plt.xticks(np.arange(6)+1/2,['Type1','Type2','Type3','Type4','Type5','Type6']) \n",
    "\n",
    "plt.bar(np.arange(6),[len(cs[type1 & good].index),\n",
    "                      len(cs[type2 & good].index),\n",
    "                      len(cs[type3 & good].index), \n",
    "                      len(cs[type4 & good].index), \n",
    "                      len(cs[type5 & good].index), \n",
    "                      len(cs[type6 & good].index)], \n",
    "        barwidth, color='r', label='Good')\n",
    "plt.bar(np.arange(6)+barwidth,[len(cs[type1 & fair].index),\n",
    "                               len(cs[type2 & fair].index),\n",
    "                               len(cs[type3 & fair].index), \n",
    "                               len(cs[type4 & fair].index), \n",
    "                               len(cs[type5 & fair].index), \n",
    "                               len(cs[type6 & fair].index)], \n",
    "        barwidth, color='b', label='fair')\n",
    "plt.bar(np.arange(6)+2*barwidth,[len(cs[type1 & poor].index),\n",
    "                                 len(cs[type2 & poor].index),\n",
    "                                 len(cs[type3 & poor].index), \n",
    "                                 len(cs[type4 & poor].index), \n",
    "                                 len(cs[type5 & poor].index), \n",
    "                                 len(cs[type6 & poor].index)], \n",
    "        barwidth, color='g', label='poor')\n",
    "\n",
    "plt.legend()\n",
    "plt.show()"
   ]
  },
  {
   "cell_type": "markdown",
   "metadata": {},
   "source": [
    "## Networks"
   ]
  },
  {
   "cell_type": "markdown",
   "metadata": {},
   "source": [
    "Networks are sets of nodes that may pairwise be connected by links. Links may be directed or weighted, and the network might contain other information such as categories of nodes or links. We can store a network in a 2-dimensional array (a list of lists) such that the value at index i, j indicates the __presence of a link__. \n",
    "\n",
    "For example, here is a network with nodes 0, 1, 2, such that node 1 is connected to node 0 and 2:"
   ]
  },
  {
   "cell_type": "code",
   "execution_count": 14,
   "metadata": {},
   "outputs": [
    {
     "name": "stdout",
     "output_type": "stream",
     "text": [
      "3\n"
     ]
    }
   ],
   "source": [
    "N=[[0,1,0],\n",
    "   [1,0,1],\n",
    "   [0,1,0]] #adjacency matrix of the network, 1 means edge exist between node i and j\n",
    "print len(N)"
   ]
  },
  {
   "cell_type": "markdown",
   "metadata": {},
   "source": [
    "Let's write a function that takes any network in this form, and plots it using __matplotlib__. It creates the x and y coordinates by placing the nodes equally spaced around a circle:"
   ]
  },
  {
   "cell_type": "code",
   "execution_count": 91,
   "metadata": {},
   "outputs": [],
   "source": [
    "import numpy as np\n",
    "def network_plot_circle(N):\n",
    "    n=len(N) #n = 3\n",
    "    x=[np.cos(2*np.pi*i/n) for i in range(n)]\n",
    "    y=[np.sin(2*np.pi*i/n) for i in range(n)]\n",
    "    for i in range(n):\n",
    "        for j in range(i):\n",
    "               if N[i][j]>=1: #only check the lower triangle of matrix, b/c mx is symmetric\n",
    "                    #plt.plot([x[i],x[j]],[y[i],y[j]],'bo-')\n",
    "                    plt.scatter([x[i],x[j]],[y[i],y[j]],s= 10*N[i][j],c ='b')\n",
    "\n",
    "    plt.plot(x,y,'r')\n",
    "    plt.show()"
   ]
  },
  {
   "cell_type": "code",
   "execution_count": 82,
   "metadata": {},
   "outputs": [
    {
     "data": {
      "text/plain": [
       "\"import numpy as np\\ndef network_plot_circle(N):\\n    n=len(N) #n = 3\\n    x=[np.cos(2*np.pi*i/n) for i in range(n)]\\n    y=[np.sin(2*np.pi*i/n) for i in range(n)]\\n    for i in range(n):\\n        for j in range(i):\\n               if N[i][j]==1: #only check the lower triangle of matrix, b/c mx is symmetric\\n                    plt.scatter([x[i],x[j]],[y[i],y[j]],s=70,c ='b')\\n    plt.plot(x,y,'r')\\n    plt.show()\\n    \""
      ]
     },
     "execution_count": 82,
     "metadata": {},
     "output_type": "execute_result"
    }
   ],
   "source": [
    "'''import numpy as np\n",
    "def network_plot_circle(N):\n",
    "    n=len(N) #n = 3\n",
    "    x=[np.cos(2*np.pi*i/n) for i in range(n)]\n",
    "    y=[np.sin(2*np.pi*i/n) for i in range(n)]\n",
    "    for i in range(n):\n",
    "        for j in range(i):\n",
    "               if N[i][j]==1: #only check the lower triangle of matrix, b/c mx is symmetric\n",
    "                    plt.scatter([x[i],x[j]],[y[i],y[j]],s=70,c ='b')\n",
    "    plt.plot(x,y,'r')\n",
    "    plt.show()\n",
    "    '''"
   ]
  },
  {
   "cell_type": "code",
   "execution_count": 92,
   "metadata": {},
   "outputs": [
    {
     "data": {
      "image/png": "[encoded data removed]",
      "text/plain": [
       "<Figure size 432x288 with 1 Axes>"
      ]
     },
     "metadata": {
      "needs_background": "light"
     },
     "output_type": "display_data"
    }
   ],
   "source": [
    "network_plot_circle(N)\n",
    "    #networkx"
   ]
  },
  {
   "cell_type": "markdown",
   "metadata": {},
   "source": [
    "The example network is the Zachary Karate Club social network. This is a well-known social network of friendships between 34 members of a karate club at a US university in the 1970s."
   ]
  },
  {
   "cell_type": "code",
   "execution_count": 84,
   "metadata": {},
   "outputs": [
    {
     "data": {
      "image/png": "[encoded data removed]",
      "text/plain": [
       "<Figure size 432x288 with 1 Axes>"
      ]
     },
     "metadata": {
      "needs_background": "light"
     },
     "output_type": "display_data"
    }
   ],
   "source": [
    "karate = open(\"karate_edgeList.txt\").read()\n",
    "pairs = [s.split('\\t') for s in karate.splitlines()] #splitlines() takes strings and returns a list of each line as element\n",
    "                                                    # s.split('\\t') splits the elements in list further by each tab space\n",
    "#print pairs #now pairs is a list of lists, with each friendship-pair as element\n",
    "pairs = [[int(i) for i in j]for j in pairs] # cast to integer\n",
    "n = max(max(j for j in pairs)) #get the max No of players??\n",
    "#print n\n",
    "adjMatrix = [[0]*n for _ in range(n)] #create an empty(0) mx for later manipulation\n",
    "#print adjMatrix.shape  #don't use, adjMatrix NOT a numpy array\n",
    "#print np.shape(adjMatrix) #get the dimension layout of adjMatrix, is 34*34\n",
    "\n",
    "for p in pairs: # p is a list, like [1,31] means 1 and 31 are friends, note 1 and 31 are int\n",
    "    adjMatrix[p[0]-1][p[1]-1]+=10 #shift to match index that starts with 0\n",
    "    adjMatrix[p[1]-1][p[0]-1]+=10#\n",
    "#now we've completed the adjMatrix. Next, use function to plot the Network\n",
    "network_plot_circle(adjMatrix)"
   ]
  },
  {
   "cell_type": "code",
   "execution_count": 58,
   "metadata": {},
   "outputs": [
    {
     "name": "stdout",
     "output_type": "stream",
     "text": [
      "(34, 34)\n"
     ]
    },
    {
     "data": {
      "image/png": "[encoded data removed]",
      "text/plain": [
       "<Figure size 432x288 with 1 Axes>"
      ]
     },
     "metadata": {
      "needs_background": "light"
     },
     "output_type": "display_data"
    }
   ],
   "source": [
    "karate = open(\"karate_edgeList.txt\").read()\n",
    "pairs = [s.split('\\t') for s in karate.splitlines()] #splitlines() takes strings and returns a list of each line as element\n",
    "                                                    # s.split('\\t') splits the elements in list further by each tab space\n",
    "#print pairs #now pairs is a list of lists, with each friendship-pair as element\n",
    "pairs = [[int(i) for i in j]for j in pairs] # cast to integer\n",
    "n = max(max(j for j in pairs)) #get the max No of players??\n",
    "#print n\n",
    "adjMatrix = [[0]*n for _ in range(n)] #create an empty(0) mx for later manipulation\n",
    "#print adjMatrix.shape  #don't use, adjMatrix NOT a numpy array\n",
    "#print np.shape(adjMatrix) #get the dimension layout of adjMatrix, is 34*34\n",
    "\n",
    "for p in pairs: # p is a list, like [1,31] means 1 and 31 are friends, note 1 and 31 are int\n",
    "    adjMatrix[p[0]-1][p[1]-1]=1 #shift to match index that starts with 0\n",
    "    adjMatrix[p[1]-1][p[0]-1]=1#\n",
    "#now we've completed the adjMatrix. Next, use function to plot the Network\n",
    "network_plot_circle(adjMatrix)"
   ]
  },
  {
   "cell_type": "markdown",
   "metadata": {},
   "source": [
    "### Exercises"
   ]
  },
  {
   "cell_type": "markdown",
   "metadata": {},
   "source": [
    "- Create visualizations for several other datasets from the toy dataset page."
   ]
  },
  {
   "cell_type": "code",
   "execution_count": null,
   "metadata": {
    "collapsed": true
   },
   "outputs": [],
   "source": []
  },
  {
   "cell_type": "markdown",
   "metadata": {},
   "source": [
    "- Adapt the network plotting code so that it plots the nodes at uniform randomly chosen coordinates."
   ]
  },
  {
   "cell_type": "code",
   "execution_count": null,
   "metadata": {
    "collapsed": true
   },
   "outputs": [],
   "source": []
  },
  {
   "cell_type": "markdown",
   "metadata": {},
   "source": [
    "- Adapt the network plotting code so that it plots edges of two different colors, which the user can indicate by recording edges as 1s or 2s in their data."
   ]
  },
  {
   "cell_type": "code",
   "execution_count": null,
   "metadata": {
    "collapsed": true
   },
   "outputs": [],
   "source": []
  },
  {
   "cell_type": "markdown",
   "metadata": {},
   "source": [
    "- Adapt the network plotting code so that it takes as input a network and list, which is a subset of the nodes. It plots those nodes in a different color from the rest, and plots them next to each other on the circle."
   ]
  },
  {
   "cell_type": "code",
   "execution_count": null,
   "metadata": {
    "collapsed": true
   },
   "outputs": [],
   "source": []
  },
  {
   "cell_type": "markdown",
   "metadata": {},
   "source": [
    "- Adapt the network plotting code so that it plots edges of different thickness, depending on their value in the data."
   ]
  },
  {
   "cell_type": "code",
   "execution_count": null,
   "metadata": {
    "collapsed": true
   },
   "outputs": [],
   "source": []
  }
 ],
 "metadata": {
  "kernelspec": {
   "display_name": "Python 2",
   "language": "python",
   "name": "python2"
  },
  "language_info": {
   "codemirror_mode": {
    "name": "ipython",
    "version": 2
   },
   "file_extension": ".py",
   "mimetype": "text/x-python",
   "name": "python",
   "nbconvert_exporter": "python",
   "pygments_lexer": "ipython2",
   "version": "2.7.15"
  }
 },
 "nbformat": 4,
 "nbformat_minor": 2
}
