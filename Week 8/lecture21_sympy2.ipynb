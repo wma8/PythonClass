{
 "cells": [
  {
   "cell_type": "markdown",
   "metadata": {},
   "source": [
    "# Lecture 21: \n",
    "- Balancing a chemical reaction using linear algebra\n",
    "\n",
    "__Reading Material:__\n",
    "- [SymPy Matrices](http://docs.sympy.org/latest/tutorial/matrices.html)\n",
    "- [SymPy Solve_linear_system](http://docs.sympy.org/latest/modules/solvers/solvers.html?highlight=solve_linear_system#sympy.solvers.solvers.solve_linear_system)\n"
   ]
  },
  {
   "cell_type": "markdown",
   "metadata": {},
   "source": [
    "Suppose that we wish to balance the following chemical equation:\n",
    "$$\n",
    "PhCH_3 + KMnO_4 + H_2SO_4 → PhCOOH + K_2SO_4 + MnSO_4 + H_2O.\n",
    "$$\n",
    "In python, the user writes this as a string"
   ]
  },
  {
   "cell_type": "code",
   "execution_count": null,
   "metadata": {
    "collapsed": true
   },
   "outputs": [],
   "source": [
    "'PhCH3 + KMnO4 + H2SO4 = PhCOOH + K2SO4 + MnSO4 + H2O'"
   ]
  },
  {
   "cell_type": "markdown",
   "metadata": {},
   "source": [
    "In order to balance the equation, we must make sure that each element appears the same number of\n",
    "times on both sides of the equation, by finding positive integer values for the variables $x_0, . . . , x_6$ in\n",
    "$$\n",
    "x_0PhCH_3 + x_1KMnO_4 + x_2 H_2SO_4 → x_3 PhCOOH + x_4 K_2SO_4 + x_5 MnSO_4 + x_6H_2O.\n",
    "$$\n",
    "Balancing for each element, we get the system of equations:\n",
    "\n",
    "\\begin{align*} \n",
    "Ph: & \\qquad x_0 = x_3\\\\ \n",
    "C: & \\qquad x_0 = x_3\\\\\n",
    "H: &\\qquad 3x_0+2x_2 = x_3+2x_6\\\\\n",
    "K: &\\qquad x_1 = 2x_4\\\\\n",
    "Mn: &\\qquad x_1 = x_5\\\\\n",
    "O: &\\qquad 4x_1 +4x_2 =2x_3 +4x_4 +4x_5 +x_6\\\\\n",
    "S: &\\qquad x_2 = x_4 + x_5\n",
    "\\end{align*}"
   ]
  },
  {
   "cell_type": "markdown",
   "metadata": {},
   "source": [
    "Let’s write these in a more organized form:\n",
    "\\begin{align*} \n",
    "Ph: &\\qquad x_0+0x_1+0x_2-x_3+0x_4+0x_5+0x_6&=0\\\\ \n",
    "C: &\\qquad x_0+0 x_1+0x_2- x_3+0x_4+0x_5+0x_6&=0\\\\\n",
    "H: &\\qquad 3x_0+0x_1+2x_2-x_3+0x_4+0x_5-2x_6&=0\\\\\n",
    "K: &\\qquad 0x_0+x_1+0x_2+0x_3-2x_4+0x_5+0x_6&=0\\\\\n",
    "Mn: &\\qquad 0x_0+x_1+0x_2+0x_3+0x_4-x_5+0x_6&=0\\\\\n",
    "O: &\\qquad 0x_0+4x_1+4x_2-2x_3-4x_4-4x_5-x_6&=0\\\\\n",
    "S: &\\qquad 0x_0+0x_1+x_2+0x_3-x_4- x_5+0x_6&=0\n",
    "\\end{align*}\n",
    "This shows us that we can write this system of equations as a single equation in terms of matrices:\n",
    "$$\n",
    "\\begin{pmatrix} \n",
    "1 & 0 & 0 & -1 & 0 & 0 & 0\\\\\n",
    "1 & 0 & 0 & -1 & 0 & 0 & 0\\\\ \n",
    "3 & 0 & 2 & -1 & 0 & 0 & -2\\\\ \n",
    "0 & 1 & 0 & 0 & -2 & 0 & 0\\\\ \n",
    "0 & 1 & 0 & 0 & 0 & -1 & 0\\\\ \n",
    "0 & 4 & 4 & -2 & -4 & -4 & -1\\\\ \n",
    "0 & 0 & 1 & 0 & -1 & -1 & 0\n",
    "\\end{pmatrix}\n",
    "\\begin{pmatrix}\n",
    "x_0\\\\\n",
    "x_1\\\\\n",
    "x_2\\\\\n",
    "x_3\\\\\n",
    "x_4\\\\\n",
    "x_5\\\\\n",
    "x_6\n",
    "\\end{pmatrix}=\n",
    "\\begin{pmatrix}\n",
    "0\\\\\n",
    "0\\\\\n",
    "0\\\\\n",
    "0\\\\\n",
    "0\\\\\n",
    "0\\\\\n",
    "0\n",
    "\\end{pmatrix}.\n",
    "$$\n",
    "A standard way of representing this system is called the augmented matrix, which looks like\n",
    "$$\n",
    "\\begin{pmatrix} \n",
    "1 & 0 & 0 & -1 & 0 & 0 & 0 & 0\\\\\n",
    "1 & 0 & 0 & -1 & 0 & 0 & 0 & 0\\\\ \n",
    "3 & 0 & 2 & -1 & 0 & 0 & -2 & 0\\\\ \n",
    "0 & 1 & 0 & 0 & -2 & 0 & 0 & 0\\\\ \n",
    "0 & 1 & 0 & 0 & 0 & -1 & 0 & 0\\\\ \n",
    "0 & 4 & 4 & -2 & -4 & -4 & -1 & 0\\\\ \n",
    "0 & 0 & 1 & 0 & -1 & -1 & 0 & 0\n",
    "\\end{pmatrix}.\n",
    "$$ \n",
    "Note that we added the column of zeros representing the right hand sides of the equations. In the case of chemical reactions, these will always be 0, but there are of course also linear systems where those are different constants. SymPy has a function for solving systems of linear equations. It takes as __input an augmented matrix, and the symbolic variables__. Note that the number of symbols needed is one less than the number of columns of the augmented matrix. (The number of rows corresponds to the number of equations; in our case the number of elements appearing in the reaction.)"
   ]
  },
  {
   "cell_type": "code",
   "execution_count": 1,
   "metadata": {},
   "outputs": [],
   "source": [
    "import sympy as sp\n",
    "sp.init_printing(use_unicode = True)\n",
    "from IPython.display import display"
   ]
  },
  {
   "cell_type": "code",
   "execution_count": 2,
   "metadata": {},
   "outputs": [
    {
     "data": {
      "text/latex": [
       "$$\\left[\\begin{matrix}1 & 0 & 0 & -1 & 0 & 0 & 0 & 0\\\\1 & 0 & 0 & -1 & 0 & 0 & 0 & 0\\\\3 & 0 & 2 & -1 & 0 & 0 & -2 & 0\\\\0 & 1 & 0 & 0 & -2 & 0 & 0 & 0\\\\0 & 1 & 0 & 0 & 0 & -1 & 0 & 0\\\\0 & 4 & 4 & -2 & -4 & -4 & -1 & 0\\\\0 & 0 & 1 & 0 & -1 & -1 & 0 & 0\\end{matrix}\\right]$$"
      ],
      "text/plain": [
       "⎡1  0  0  -1  0   0   0   0⎤\n",
       "⎢                          ⎥\n",
       "⎢1  0  0  -1  0   0   0   0⎥\n",
       "⎢                          ⎥\n",
       "⎢3  0  2  -1  0   0   -2  0⎥\n",
       "⎢                          ⎥\n",
       "⎢0  1  0  0   -2  0   0   0⎥\n",
       "⎢                          ⎥\n",
       "⎢0  1  0  0   0   -1  0   0⎥\n",
       "⎢                          ⎥\n",
       "⎢0  4  4  -2  -4  -4  -1  0⎥\n",
       "⎢                          ⎥\n",
       "⎣0  0  1  0   -1  -1  0   0⎦"
      ]
     },
     "metadata": {},
     "output_type": "display_data"
    },
    {
     "data": {
      "image/png": "[encoded data removed]",
      "text/latex": [
       "$$\\left \\{ x_{0} : \\frac{5 x_{6}}{14}, \\quad x_{1} : \\frac{3 x_{6}}{7}, \\quad x_{2} : \\frac{9 x_{6}}{14}, \\quad x_{3} : \\frac{5 x_{6}}{14}, \\quad x_{4} : \\frac{3 x_{6}}{14}, \\quad x_{5} : \\frac{3 x_{6}}{7}\\right \\}$$"
      ],
      "text/plain": [
       "⎧    5⋅x₆      3⋅x₆      9⋅x₆      5⋅x₆      3⋅x₆      3⋅x₆⎫\n",
       "⎨x₀: ────, x₁: ────, x₂: ────, x₃: ────, x₄: ────, x₅: ────⎬\n",
       "⎩     14        7         14        14        14        7  ⎭"
      ]
     },
     "metadata": {},
     "output_type": "display_data"
    }
   ],
   "source": [
    "[x0,x1,x2,x3,x4,x5,x6]=sp.symbols('x0 x1 x2 x3 x4 x5 x6')\n",
    "M=sp.Matrix([[1,0,0,-1,0,0,0,0],\n",
    "             [1,0,0,-1,0,0,0,0],\n",
    "             [3,0,2,-1,0,0,-2,0],\n",
    "             [0,1,0,0,-2,0,0,0],\n",
    "             [0,1,0,0,0,-1,0,0],\n",
    "             [0,4,4,-2,-4,-4,-1,0],\n",
    "             [0,0,1,0,-1,-1,0,0]])\n",
    "sols=sp.solve_linear_system(M,x0,x1,x2,x3,x4,x5,x6)\n",
    "display(M)\n",
    "display(sols)"
   ]
  },
  {
   "cell_type": "markdown",
   "metadata": {},
   "source": [
    "Sympy allows a faster way to set an arbitrary number n of symbolic variables, and call them as paramaters from a list, as follows"
   ]
  },
  {
   "cell_type": "code",
   "execution_count": 19,
   "metadata": {},
   "outputs": [
    {
     "data": {
      "image/png": "[encoded data removed]",
      "text/latex": [
       "$$\\left ( x_{0}, \\quad x_{1}, \\quad x_{2}, \\quad x_{3}, \\quad x_{4}, \\quad x_{5}, \\quad x_{6}\\right )$$"
      ],
      "text/plain": [
       "(x₀, x₁, x₂, x₃, x₄, x₅, x₆)"
      ]
     },
     "metadata": {},
     "output_type": "display_data"
    },
    {
     "data": {
      "image/png": "[encoded data removed]",
      "text/latex": [
       "$$\\left \\{ x_{0} : \\frac{5 x_{6}}{14}, \\quad x_{1} : \\frac{3 x_{6}}{7}, \\quad x_{2} : \\frac{9 x_{6}}{14}, \\quad x_{3} : \\frac{5 x_{6}}{14}, \\quad x_{4} : \\frac{3 x_{6}}{14}, \\quad x_{5} : \\frac{3 x_{6}}{7}\\right \\}$$"
      ],
      "text/plain": [
       "⎧    5⋅x₆      3⋅x₆      9⋅x₆      5⋅x₆      3⋅x₆      3⋅x₆⎫\n",
       "⎨x₀: ────, x₁: ────, x₂: ────, x₃: ────, x₄: ────, x₅: ────⎬\n",
       "⎩     14        7         14        14        14        7  ⎭"
      ]
     },
     "metadata": {},
     "output_type": "display_data"
    }
   ],
   "source": [
    "from sympy.parsing.sympy_parser import parse_expr \n",
    "n=7\n",
    "#x=[parse_expr('x%d'%i) for i in range(n)]\n",
    "x=sp.symbols('x0:%d'%n)\n",
    "display(x)\n",
    "sols=sp.solve_linear_system(M,*x) #need to unpack the elements from tuple or list\n",
    "display(sols)"
   ]
  },
  {
   "cell_type": "code",
   "execution_count": 18,
   "metadata": {},
   "outputs": [
    {
     "data": {
      "image/png": "[encoded data removed]",
      "text/latex": [
       "$$\\left [ x_{0}, \\quad x_{1}, \\quad x_{2}, \\quad x_{3}, \\quad x_{4}, \\quad x_{5}, \\quad x_{6}, \\quad x_{7}, \\quad x_{8}, \\quad x_{9}\\right ]$$"
      ],
      "text/plain": [
       "[x₀, x₁, x₂, x₃, x₄, x₅, x₆, x₇, x₈, x₉]"
      ]
     },
     "metadata": {},
     "output_type": "display_data"
    },
    {
     "data": {
      "image/png": "[encoded data removed]",
      "text/latex": [
       "$$\\left ( x_{0}, \\quad x_{1}, \\quad x_{2}, \\quad x_{3}, \\quad x_{4}, \\quad x_{5}, \\quad x_{6}, \\quad x_{7}, \\quad x_{8}, \\quad x_{9}\\right )$$"
      ],
      "text/plain": [
       "(x₀, x₁, x₂, x₃, x₄, x₅, x₆, x₇, x₈, x₉)"
      ]
     },
     "metadata": {},
     "output_type": "display_data"
    },
    {
     "data": {
      "image/png": "[encoded data removed]",
      "text/latex": [
       "$$\\left ( x_{0}, \\quad x_{1}, \\quad x_{2}, \\quad x_{3}, \\quad x_{4}, \\quad x_{5}, \\quad x_{6}, \\quad x_{7}, \\quad x_{8}, \\quad x_{9}, \\quad x_{10}, \\quad x_{11}, \\quad x_{12}, \\quad x_{13}, \\quad x_{14}, \\quad x_{15}, \\quad x_{16}, \\quad x_{17}, \\quad x_{18}, \\quad x_{19}\\right )$$"
      ],
      "text/plain": [
       "(x₀, x₁, x₂, x₃, x₄, x₅, x₆, x₇, x₈, x₉, x₁₀, x₁₁, x₁₂, x₁₃, x₁₄, x₁₅, x₁₆, x₁\n",
       "₇, x₁₈, x₁₉)"
      ]
     },
     "metadata": {},
     "output_type": "display_data"
    }
   ],
   "source": [
    "parse_expr('x%d'%3) #equivalent to 'x3'\n",
    "x=[parse_expr('x%d'%i) for i in range(10)]\n",
    "display(x)\n",
    "x = sp.symbols('x0:%d'%10)\n",
    "display(x)\n",
    "\n",
    "x = sp.symbols('x0:20')\n",
    "display(x)\n"
   ]
  },
  {
   "cell_type": "markdown",
   "metadata": {},
   "source": [
    "Note the ∗ in the last function: this tells python to use the __elements from the list as input parameters__, which is different from using the list object as an input parameter. The __linear system solves__ in SymPy __outputs the solution as a dictionary__, where some variables may depend on others. \n",
    "\n",
    "###  Linear systems come in three types,  only one of which will be relevant for this problem:"
   ]
  },
  {
   "cell_type": "markdown",
   "metadata": {},
   "source": [
    "- __No solutions__. The system $x = 0, x = 1$ has no solutions. In this case, sympy gives no output."
   ]
  },
  {
   "cell_type": "code",
   "execution_count": 4,
   "metadata": {},
   "outputs": [
    {
     "data": {
      "text/plain": [
       "None"
      ]
     },
     "metadata": {},
     "output_type": "display_data"
    }
   ],
   "source": [
    "x,y=sp.symbols('x y') \n",
    "M=sp.Matrix([[1,0],\n",
    "             [1,1]]) \n",
    "sols=sp.solve_linear_system(M,x) \n",
    "display(sols)"
   ]
  },
  {
   "cell_type": "markdown",
   "metadata": {},
   "source": [
    "- __One solution__. The system $x = 0, y = 1$ has one solution. Sympy gives the solution as a dictionary, which maps each variable to a number."
   ]
  },
  {
   "cell_type": "code",
   "execution_count": 5,
   "metadata": {},
   "outputs": [
    {
     "data": {
      "image/png": "[encoded data removed]",
      "text/latex": [
       "$$\\left \\{ x : 0, \\quad y : 1\\right \\}$$"
      ],
      "text/plain": [
       "{x: 0, y: 1}"
      ]
     },
     "metadata": {},
     "output_type": "display_data"
    }
   ],
   "source": [
    "M=sp.Matrix([[1,0,0],\n",
    "             [0,1,1]])\n",
    "sols=sp.solve_linear_system(M,x,y)\n",
    "display(sols)"
   ]
  },
  {
   "cell_type": "markdown",
   "metadata": {},
   "source": [
    "- __Infinite solutions__. This will always be the case for our chemical reactions! The system $x = y$ has infinitely many solutions. SymPy gives the solution as a dictionary, which maps some variables to functions of other variables. The variables that do not appear in __sols.keys()__ are the free variables. We can set these to be any value, which then determines the values of the variables that are in __sols.keys()__."
   ]
  },
  {
   "cell_type": "code",
   "execution_count": 6,
   "metadata": {},
   "outputs": [
    {
     "data": {
      "image/png": "[encoded data removed]",
      "text/latex": [
       "$$\\left \\{ x : y\\right \\}$$"
      ],
      "text/plain": [
       "{x: y}"
      ]
     },
     "metadata": {},
     "output_type": "display_data"
    }
   ],
   "source": [
    "M=sp.Matrix([[1,-1,0]])\n",
    "sols=sp.solve_linear_system(M,x,y)\n",
    "display(sols)"
   ]
  },
  {
   "cell_type": "markdown",
   "metadata": {},
   "source": [
    "The solution to our chemical reaction looks as follows:"
   ]
  },
  {
   "cell_type": "code",
   "execution_count": 7,
   "metadata": {},
   "outputs": [
    {
     "data": {
      "image/png": "[encoded data removed]",
      "text/latex": [
       "$$\\left \\{ x_{0} : \\frac{5 x_{6}}{14}, \\quad x_{1} : \\frac{3 x_{6}}{7}, \\quad x_{2} : \\frac{9 x_{6}}{14}, \\quad x_{3} : \\frac{5 x_{6}}{14}, \\quad x_{4} : \\frac{3 x_{6}}{14}, \\quad x_{5} : \\frac{3 x_{6}}{7}\\right \\}$$"
      ],
      "text/plain": [
       "⎧    5⋅x₆      3⋅x₆      9⋅x₆      5⋅x₆      3⋅x₆      3⋅x₆⎫\n",
       "⎨x₀: ────, x₁: ────, x₂: ────, x₃: ────, x₄: ────, x₅: ────⎬\n",
       "⎩     14        7         14        14        14        7  ⎭"
      ]
     },
     "metadata": {},
     "output_type": "display_data"
    }
   ],
   "source": [
    "[x0,x1,x2,x3,x4,x5,x6]=sp.symbols('x0 x1 x2 x3 x4 x5 x6')\n",
    "M=sp.Matrix([[1,0,0,-1,0,0,0,0],\n",
    "             [1,0,0,-1,0,0,0,0],\n",
    "             [3,0,2,-1,0,0,-2,0],\n",
    "             [0,1,0,0,-2,0,0,0],\n",
    "             [0,1,0,0,0,-1,0,0],\n",
    "             [0,4,4,-2,-4,-4,-1,0],\n",
    "              [0,0,1,0,-1,-1,0,0]])\n",
    "sols=sp.solve_linear_system(M,x0,x1,x2,x3,x4,x5,x6)\n",
    "display(sols)"
   ]
  },
  {
   "cell_type": "markdown",
   "metadata": {},
   "source": [
    "If we set all of our free variables (x6) to 1, then we get the following solution list:"
   ]
  },
  {
   "cell_type": "code",
   "execution_count": 23,
   "metadata": {},
   "outputs": [
    {
     "name": "stdout",
     "output_type": "stream",
     "text": [
      "5*x6/14\n",
      "5/14\n",
      "<class 'sympy.core.numbers.Rational'>\n"
     ]
    }
   ],
   "source": [
    "print sols[x0]\n",
    "print sols[x0].subs({x6:1})\n",
    "print type(sols[x0].subs({x6:1}))"
   ]
  },
  {
   "cell_type": "code",
   "execution_count": 10,
   "metadata": {},
   "outputs": [
    {
     "data": {
      "text/latex": [
       "$$\\left[\\begin{matrix}\\frac{5}{14}\\\\\\frac{3}{7}\\\\\\frac{9}{14}\\\\\\frac{5}{14}\\\\\\frac{3}{14}\\\\\\frac{3}{7}\\\\1\\end{matrix}\\right]$$"
      ],
      "text/plain": [
       "⎡5/14⎤\n",
       "⎢    ⎥\n",
       "⎢3/7 ⎥\n",
       "⎢    ⎥\n",
       "⎢9/14⎥\n",
       "⎢    ⎥\n",
       "⎢5/14⎥\n",
       "⎢    ⎥\n",
       "⎢3/14⎥\n",
       "⎢    ⎥\n",
       "⎢3/7 ⎥\n",
       "⎢    ⎥\n",
       "⎣ 1  ⎦"
      ]
     },
     "metadata": {},
     "output_type": "display_data"
    }
   ],
   "source": [
    "coeffs=sp.Matrix([sp.Rational(5,14),\n",
    "                  sp.Rational(3,7),\n",
    "                  sp.Rational(9,14),\n",
    "                  sp.Rational(5,14),\n",
    "                  sp.Rational(3,14),\n",
    "                  sp.Rational(3,7),\n",
    "                  1])\n",
    "display(coeffs)"
   ]
  },
  {
   "cell_type": "markdown",
   "metadata": {},
   "source": [
    "You will make use of the __subs()__ function to obtain this list. We would like our solution to consist of only positive integers, and for them to be as small as possible. We can always obtain a new solution from an existing one by multiplying all of the coefficients by the same number. (In a chemical reaction, taking twice as much of the ingredients gives twice as much product.) Sympy has its own object class for rational numbers: __sp.Rational__. The solutions will (most likely; it is worth checking) be of this type. This means that we can ask for the numerator and denominator as a list, using __sp.fraction()__:"
   ]
  },
  {
   "cell_type": "code",
   "execution_count": 24,
   "metadata": {},
   "outputs": [
    {
     "data": {
      "image/png": "[encoded data removed]",
      "text/latex": [
       "$$\\frac{5}{14}$$"
      ],
      "text/plain": [
       "5/14"
      ]
     },
     "metadata": {},
     "output_type": "display_data"
    },
    {
     "data": {
      "image/png": "[encoded data removed]",
      "text/latex": [
       "$$\\left ( 5, \\quad 14\\right )$$"
      ],
      "text/plain": [
       "(5, 14)"
      ]
     },
     "execution_count": 24,
     "metadata": {},
     "output_type": "execute_result"
    }
   ],
   "source": [
    "display(coeffs[0])\n",
    "sp.fraction(coeffs[0])"
   ]
  },
  {
   "cell_type": "markdown",
   "metadata": {},
   "source": [
    "Now, we can extract a list of all the denominators in our solution, and multiply the solution by the __Least Common Multiple__ of the denominators. This removes all fractions, while keeping the solution as small as possible. Another option is to multiply everything by all the denominators, and then divide the resulting solution by the Greatest Common Divisor of the coefficients. \n",
    "\n",
    "In this case, we obtain:"
   ]
  },
  {
   "cell_type": "code",
   "execution_count": 26,
   "metadata": {},
   "outputs": [
    {
     "name": "stdout",
     "output_type": "stream",
     "text": [
      "14\n"
     ]
    },
    {
     "data": {
      "text/latex": [
       "$$\\left[\\begin{matrix}5\\\\6\\\\9\\\\5\\\\3\\\\6\\\\14\\end{matrix}\\right]$$"
      ],
      "text/plain": [
       "⎡5 ⎤\n",
       "⎢  ⎥\n",
       "⎢6 ⎥\n",
       "⎢  ⎥\n",
       "⎢9 ⎥\n",
       "⎢  ⎥\n",
       "⎢5 ⎥\n",
       "⎢  ⎥\n",
       "⎢3 ⎥\n",
       "⎢  ⎥\n",
       "⎢6 ⎥\n",
       "⎢  ⎥\n",
       "⎣14⎦"
      ]
     },
     "metadata": {},
     "output_type": "display_data"
    },
    {
     "name": "stdout",
     "output_type": "stream",
     "text": [
      "5\n"
     ]
    }
   ],
   "source": [
    "f=sp.lcm([14,7,14,14,14,7,1])\n",
    "print f\n",
    "coeffs_final=coeffs*f\n",
    "display(coeffs_final)\n",
    "print coeffs_final[0]"
   ]
  },
  {
   "cell_type": "markdown",
   "metadata": {},
   "source": [
    "This is our solution! Now, we return it to our user as a string (using regular expressions):"
   ]
  },
  {
   "cell_type": "code",
   "execution_count": null,
   "metadata": {
    "collapsed": true
   },
   "outputs": [],
   "source": [
    " '5PhCH3 + 6KMnO4 + 9H2SO4 = 5PhCOOH + 3K2SO4 + 6MnSO4 + 14H2O'"
   ]
  },
  {
   "cell_type": "markdown",
   "metadata": {},
   "source": [
    "## Exercises: \n",
    "\n",
    "Use SymPy to solve the following problem\n",
    "- The admission fee at a small fair is \\$1.50 for children and \\$4.00 for adults. On a certain day, 2200 people enter the fair and $5050 is collected. How many children and how many adults attended?"
   ]
  },
  {
   "cell_type": "code",
   "execution_count": null,
   "metadata": {
    "collapsed": true
   },
   "outputs": [],
   "source": []
  },
  {
   "cell_type": "markdown",
   "metadata": {},
   "source": [
    "- The sum of the digits of a two-digit number is 7. When the digits are reversed, the number is increased by 27. Find the number."
   ]
  },
  {
   "cell_type": "code",
   "execution_count": null,
   "metadata": {
    "collapsed": true
   },
   "outputs": [],
   "source": []
  }
 ],
 "metadata": {
  "kernelspec": {
   "display_name": "Python 2",
   "language": "python",
   "name": "python2"
  },
  "language_info": {
   "codemirror_mode": {
    "name": "ipython",
    "version": 2
   },
   "file_extension": ".py",
   "mimetype": "text/x-python",
   "name": "python",
   "nbconvert_exporter": "python",
   "pygments_lexer": "ipython2",
   "version": "2.7.15"
  }
 },
 "nbformat": 4,
 "nbformat_minor": 2
}
