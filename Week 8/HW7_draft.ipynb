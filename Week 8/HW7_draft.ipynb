{
 "cells": [
  {
   "cell_type": "code",
   "execution_count": 1,
   "metadata": {},
   "outputs": [],
   "source": [
    "#hw7_1 Done!!\n",
    "#idea: integrate through infinity the std normal probabilty distribution function, get the area size (1)\n",
    "#then, use input a and b as integration bound, integrate with std normal prob dist again, get the area size(2)\n",
    "#2/1, is the answer, we need both expression and exact value\n",
    "import numpy as np\n",
    "import sympy as sp\n",
    "\n",
    "#sp.init_printing(use_latex='mathjax')\n",
    "#from IPython.display import display\n",
    "\n",
    "def normalcurve(a,b): #a as lower bound, b as upper\n",
    "    x = sp.symbols('x')\n",
    "    f = (sp.exp(-(x**2)/2))/sp.sqrt(2*sp.pi) #std distribution prob function\n",
    "    base = sp.integrate(f,(x,-sp.oo,sp.oo)) #check integration be 1\n",
    "    #print base\n",
    "    sub = sp.integrate(f,(x,a,b))\n",
    "    numerical_result = float(sub/base)\n",
    "    \n",
    "    return (sub, numerical_result)"
   ]
  },
  {
   "cell_type": "code",
   "execution_count": 2,
   "metadata": {},
   "outputs": [
    {
     "name": "stdout",
     "output_type": "stream",
     "text": [
      "1\n"
     ]
    },
    {
     "data": {
      "text/plain": [
       "(erf(sqrt(2)/2)/2, 0.3413447460685429)"
      ]
     },
     "execution_count": 2,
     "metadata": {},
     "output_type": "execute_result"
    }
   ],
   "source": [
    "normalcurve(0,1)"
   ]
  },
  {
   "cell_type": "code",
   "execution_count": 1,
   "metadata": {},
   "outputs": [
    {
     "data": {
      "text/plain": [
       "(erf(sqrt(2)/2)/2, 0.341344746068543)"
      ]
     },
     "execution_count": 1,
     "metadata": {},
     "output_type": "execute_result"
    }
   ],
   "source": [
    "import sympy as sp\n",
    "def normalcurve(a, b):\n",
    "    x = sp.symbols('x')\n",
    "    # probability density function\n",
    "    std_pdf = (1/(sp.sqrt(2*sp.pi))) * (sp.exp(-(x**2)/2))\n",
    "    precise = sp.integrate(std_pdf, (x, a, b))  \n",
    "    # evaluate the value of the integral\n",
    "    numerical = sp.integrate(std_pdf, (x, a, b)).evalf()\n",
    "    return precise, numerical\n",
    "\n",
    "normalcurve(0,1)"
   ]
  },
  {
   "cell_type": "markdown",
   "metadata": {},
   "source": [
    "### Exercise:\n",
    "- Find $\\int_{-\\infty}^{\\infty}\\frac{1}{\\sqrt{2\\pi}}e^{-\\frac{x^2}{2}}~dx$"
   ]
  },
  {
   "cell_type": "code",
   "execution_count": 14,
   "metadata": {},
   "outputs": [
    {
     "data": {
      "text/latex": [
       "$$\\frac{\\sqrt{2} e^{- \\frac{x^{2}}{2}}}{2 \\sqrt{\\pi}}$$"
      ],
      "text/plain": [
       "      2 \n",
       "    -x  \n",
       "    ────\n",
       "     2  \n",
       "√2⋅ℯ    \n",
       "────────\n",
       "  2⋅√π  "
      ]
     },
     "metadata": {},
     "output_type": "display_data"
    },
    {
     "name": "stdout",
     "output_type": "stream",
     "text": [
      "1\n",
      "<class 'sympy.core.numbers.One'>\n",
      "0.500000000000000\n",
      "<class 'sympy.core.numbers.Float'>\n",
      "erf(sqrt(2)/2)/2\n"
     ]
    }
   ],
   "source": [
    "x = sp.symbols('x')\n",
    "f = (sp.exp(-(x**2)/2))/sp.sqrt(2*sp.pi)\n",
    "base = sp.integrate(f,(x,-sp.oo,sp.oo))\n",
    "display(f)\n",
    "print base\n",
    "print type(base)\n",
    "print 0.5/base\n",
    "print type(0.5/base)\n",
    "#good, finished std normal dist integration\n",
    "test = sp.integrate(f,(x,0,1))\n",
    "print test"
   ]
  },
  {
   "cell_type": "code",
   "execution_count": 23,
   "metadata": {},
   "outputs": [],
   "source": [
    "#hw7_2\n",
    "'''\n",
    "idea: split the input string by + and = . store each compound in strings called \"Com_i\"\n",
    "use regex to get each element and \n",
    "'''"
   ]
  },
  {
   "cell_type": "code",
   "execution_count": 59,
   "metadata": {},
   "outputs": [],
   "source": [
    "import sympy\n",
    "import re\n",
    "\n",
    "# match a single element and optional count, like Na2\n",
    "ELEMENT_CLAUSE = re.compile(\"([A-Z][a-z]?)([0-9]*)\")\n",
    "\n",
    "def parse_compound(compound):\n",
    "    \"\"\"\n",
    "    Given a chemical compound like Na2SO4,\n",
    "    return a dict of element counts like {\"Na\":2, \"S\":1, \"O\":4}\n",
    "    \"\"\"\n",
    "    assert \"(\" not in compound, \"This parser doesn't grok subclauses\"\n",
    "    return {el: (int(num) if num else 1) for el, num in ELEMENT_CLAUSE.findall(compound)}\n",
    "\n",
    "def balance(eq):\n",
    "    #print(\"\\nPlease enter left-hand list of compounds, separated by spaces:\")\n",
    "    raw_string = eq.replace('+','')\n",
    "    raw_string_list = re.split(r'=',raw_string)\n",
    "    lhs_strings = raw_string_list[0]\n",
    "    \n",
    "    print lhs_strings\n",
    "    \n",
    "    lhs_compounds = [parse_compound(compound) for compound in lhs_strings]\n",
    "    print lhs_compounds\n",
    "    \n",
    "    #print(\"\\nPlease enter right-hand list of compounds, separated by spaces:\")\n",
    "    rhs_strings = raw_string_list[1]\n",
    "    print rhs_strings\n",
    "    print type(rhs_strings)\n",
    "    #rhs_strings = rhs_strings.replace('+','')\n",
    "    rhs_compounds = [parse_compound(compound) for compound in rhs_strings]\n",
    "    print rhs_compounds\n",
    "\n",
    "    lhs_compounds_set = set(lhs_compounds[0].keys())\n",
    "    rhs_compounds_set = set(rhs_compounds[0].keys())\n",
    "    \n",
    "    # Get canonical list of elements\n",
    "    els = sorted(lhs_compounds_set.union(rhs_compounds_set))\n",
    "    print \"els = \",els\n",
    "    els_index = dict(zip(els, range(len(els))))\n",
    "\n",
    "    # Build matrix to solve\n",
    "    w = len(lhs_compounds) + len(rhs_compounds)\n",
    "    h = len(els)\n",
    "    A = [[0] * w for _ in range(h)]\n",
    "    # load with element coefficients\n",
    "    for col, compound in enumerate(lhs_compounds):\n",
    "        for el, num in compound.items():\n",
    "            row = els_index[el]\n",
    "            A[row][col] = num\n",
    "    for col, compound in enumerate(rhs_compounds, len(lhs_compounds)):\n",
    "        for el, num in compound.items():\n",
    "            row = els_index[el]\n",
    "            A[row][col] = -num   # invert coefficients for RHS\n",
    "\n",
    "    # Solve using Sympy for absolute-precision math\n",
    "    A = sympy.Matrix(A)    \n",
    "    # find first basis vector == primary solution\n",
    "    coeffs = A.nullspace()[0]    \n",
    "    # find least common denominator, multiply through to convert to integer solution\n",
    "    coeffs *= sympy.lcm([term.q for term in coeffs])\n",
    "\n",
    "    # Display result\n",
    "    lhs = \" + \".join([\"{} {}\".format(coeffs[i], s) for i, s in enumerate(lhs_strings)])\n",
    "    rhs = \" + \".join([\"{} {}\".format(coeffs[i], s) for i, s in enumerate(rhs_strings, len(lhs_strings))])\n",
    "    print(\"\\nBalanced solution:\")\n",
    "    print(\"{} = {}\".format(lhs, rhs))\n",
    "\n"
   ]
  },
  {
   "cell_type": "code",
   "execution_count": 60,
   "metadata": {},
   "outputs": [
    {
     "name": "stdout",
     "output_type": "stream",
     "text": [
      "H2O \n",
      "[{'H': 1}, {}, {'O': 1}, {}]\n",
      " H2  O2\n",
      "<type 'str'>\n",
      "[{}, {'H': 1}, {}, {}, {}, {'O': 1}, {}]\n",
      "els =  ['H']\n"
     ]
    },
    {
     "ename": "KeyError",
     "evalue": "'O'",
     "output_type": "error",
     "traceback": [
      "\u001b[0;31m---------------------------------------------------------------------------\u001b[0m",
      "\u001b[0;31mKeyError\u001b[0m                                  Traceback (most recent call last)",
      "\u001b[0;32m<ipython-input-60-5a9611834848>\u001b[0m in \u001b[0;36m<module>\u001b[0;34m()\u001b[0m\n\u001b[0;32m----> 1\u001b[0;31m \u001b[0mbalance\u001b[0m\u001b[0;34m(\u001b[0m\u001b[0;34m\"H2O = H2 + O2\"\u001b[0m\u001b[0;34m)\u001b[0m\u001b[0;34m\u001b[0m\u001b[0m\n\u001b[0m",
      "\u001b[0;32m<ipython-input-59-43be28125d4d>\u001b[0m in \u001b[0;36mbalance\u001b[0;34m(eq)\u001b[0m\n\u001b[1;32m     47\u001b[0m     \u001b[0;32mfor\u001b[0m \u001b[0mcol\u001b[0m\u001b[0;34m,\u001b[0m \u001b[0mcompound\u001b[0m \u001b[0;32min\u001b[0m \u001b[0menumerate\u001b[0m\u001b[0;34m(\u001b[0m\u001b[0mlhs_compounds\u001b[0m\u001b[0;34m)\u001b[0m\u001b[0;34m:\u001b[0m\u001b[0;34m\u001b[0m\u001b[0m\n\u001b[1;32m     48\u001b[0m         \u001b[0;32mfor\u001b[0m \u001b[0mel\u001b[0m\u001b[0;34m,\u001b[0m \u001b[0mnum\u001b[0m \u001b[0;32min\u001b[0m \u001b[0mcompound\u001b[0m\u001b[0;34m.\u001b[0m\u001b[0mitems\u001b[0m\u001b[0;34m(\u001b[0m\u001b[0;34m)\u001b[0m\u001b[0;34m:\u001b[0m\u001b[0;34m\u001b[0m\u001b[0m\n\u001b[0;32m---> 49\u001b[0;31m             \u001b[0mrow\u001b[0m \u001b[0;34m=\u001b[0m \u001b[0mels_index\u001b[0m\u001b[0;34m[\u001b[0m\u001b[0mel\u001b[0m\u001b[0;34m]\u001b[0m\u001b[0;34m\u001b[0m\u001b[0m\n\u001b[0m\u001b[1;32m     50\u001b[0m             \u001b[0mA\u001b[0m\u001b[0;34m[\u001b[0m\u001b[0mrow\u001b[0m\u001b[0;34m]\u001b[0m\u001b[0;34m[\u001b[0m\u001b[0mcol\u001b[0m\u001b[0;34m]\u001b[0m \u001b[0;34m=\u001b[0m \u001b[0mnum\u001b[0m\u001b[0;34m\u001b[0m\u001b[0m\n\u001b[1;32m     51\u001b[0m     \u001b[0;32mfor\u001b[0m \u001b[0mcol\u001b[0m\u001b[0;34m,\u001b[0m \u001b[0mcompound\u001b[0m \u001b[0;32min\u001b[0m \u001b[0menumerate\u001b[0m\u001b[0;34m(\u001b[0m\u001b[0mrhs_compounds\u001b[0m\u001b[0;34m,\u001b[0m \u001b[0mlen\u001b[0m\u001b[0;34m(\u001b[0m\u001b[0mlhs_compounds\u001b[0m\u001b[0;34m)\u001b[0m\u001b[0;34m)\u001b[0m\u001b[0;34m:\u001b[0m\u001b[0;34m\u001b[0m\u001b[0m\n",
      "\u001b[0;31mKeyError\u001b[0m: 'O'"
     ]
    }
   ],
   "source": [
    "balance(\"H2O = H2 + O2\")"
   ]
  },
  {
   "cell_type": "code",
   "execution_count": null,
   "metadata": {},
   "outputs": [],
   "source": []
  },
  {
   "cell_type": "code",
   "execution_count": 52,
   "metadata": {},
   "outputs": [
    {
     "name": "stdout",
     "output_type": "stream",
     "text": [
      "\n",
      "Please enter left-hand list of compounds, separated by spaces:\n",
      "\"H2O\"\n",
      "\n",
      "Please enter right-hand list of compounds, separated by spaces:\n",
      "\"H2 O2\"\n",
      "[{'H': 2, 'O': 1}]\n",
      "Matrix([[2], [2], [1]])\n",
      "<class 'sympy.matrices.dense.MutableDenseMatrix'>\n",
      "\n",
      "Balanced solution:\n",
      "2 H2O -> 2 H2 + 1 O2\n"
     ]
    }
   ],
   "source": [
    "import sympy\n",
    "import re\n",
    "\n",
    "# match a single element and optional count, like Na2\n",
    "ELEMENT_CLAUSE = re.compile(\"([A-Z][a-z]?)([0-9]*)\")\n",
    "\n",
    "def parse_compound(compound):\n",
    "    \"\"\"\n",
    "    Given a chemical compound like Na2SO4,\n",
    "    return a dict of element counts like {\"Na\":2, \"S\":1, \"O\":4}\n",
    "    \"\"\"\n",
    "    assert \"(\" not in compound, \"This parser doesn't grok subclauses\"\n",
    "    return {el: (int(num) if num else 1) for el, num in ELEMENT_CLAUSE.findall(compound)}\n",
    "\n",
    "def main():\n",
    "    print(\"\\nPlease enter left-hand list of compounds, separated by spaces:\")\n",
    "    lhs_strings = input().split()\n",
    "    lhs_compounds = [parse_compound(compound) for compound in lhs_strings]\n",
    "\n",
    "    print(\"\\nPlease enter right-hand list of compounds, separated by spaces:\")\n",
    "    rhs_strings = input().split()\n",
    "    rhs_compounds = [parse_compound(compound) for compound in rhs_strings]\n",
    "    \n",
    "    print lhs_compounds #it is a list!!!\n",
    "\n",
    "    lhs_compounds_set = set(lhs_compounds[0].keys())\n",
    "    rhs_compounds_set = set(rhs_compounds[0].keys())\n",
    "    # Get canonical list of elements\n",
    "    els = sorted(set().union(lhs_compounds_set, rhs_compounds_set))\n",
    "    els_index = dict(zip(els, range(len(els))))\n",
    "\n",
    "    # Build matrix to solve\n",
    "    w = len(lhs_compounds) + len(rhs_compounds)\n",
    "    h = len(els)\n",
    "    A = [[0] * w for _ in range(h)]\n",
    "    # load with element coefficients\n",
    "    for col, compound in enumerate(lhs_compounds):\n",
    "        for el, num in compound.items():\n",
    "            row = els_index[el]\n",
    "            A[row][col] = num\n",
    "    for col, compound in enumerate(rhs_compounds, len(lhs_compounds)):\n",
    "        for el, num in compound.items():\n",
    "            row = els_index[el]\n",
    "            A[row][col] = -num   # invert coefficients for RHS\n",
    "\n",
    "    # Solve using Sympy for absolute-precision math\n",
    "    A = sympy.Matrix(A)    \n",
    "    # find first basis vector == primary solution\n",
    "    coeffs = A.nullspace()[0]    \n",
    "    # find least common denominator, multiply through to convert to integer solution\n",
    "    coeffs *= sympy.lcm([term.q for term in coeffs])\n",
    "\n",
    "    print coeffs\n",
    "    print type(coeffs)\n",
    "    # Display result\n",
    "    lhs = \" + \".join([\"{} {}\".format(coeffs[i], s) for i, s in enumerate(lhs_strings)])\n",
    "    rhs = \" + \".join([\"{} {}\".format(coeffs[i], s) for i, s in enumerate(rhs_strings, len(lhs_strings))])\n",
    "    print(\"\\nBalanced solution:\")\n",
    "    print(\"{} -> {}\".format(lhs, rhs))\n",
    "\n",
    "if __name__ == \"__main__\":\n",
    "    main()"
   ]
  },
  {
   "cell_type": "code",
   "execution_count": null,
   "metadata": {},
   "outputs": [],
   "source": []
  },
  {
   "cell_type": "code",
   "execution_count": null,
   "metadata": {},
   "outputs": [],
   "source": []
  }
 ],
 "metadata": {
  "kernelspec": {
   "display_name": "Python 2",
   "language": "python",
   "name": "python2"
  },
  "language_info": {
   "codemirror_mode": {
    "name": "ipython",
    "version": 2
   },
   "file_extension": ".py",
   "mimetype": "text/x-python",
   "name": "python",
   "nbconvert_exporter": "python",
   "pygments_lexer": "ipython2",
   "version": "2.7.15"
  }
 },
 "nbformat": 4,
 "nbformat_minor": 2
}
