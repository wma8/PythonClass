{
 "cells": [
  {
   "cell_type": "code",
   "execution_count": 3,
   "metadata": {},
   "outputs": [],
   "source": [
    "import numpy as np\n",
    "import sympy as sp\n",
    "\n",
    "#sp.init_printing(use_latex='mathjax')\n",
    "#from IPython.display import display\n",
    "\n",
    "def normalcurve(a,b): #a as lower bound, b as upper\n",
    "    x = sp.symbols('x')\n",
    "    f = (sp.exp(-(x**2)/2))/sp.sqrt(2*sp.pi)\n",
    "    base = sp.integrate(f,(x,-sp.oo,sp.oo))\n",
    "    print base\n",
    "    sub = sp.integrate(f,(x,a,b))\n",
    "    numerical_result = float(sub/base)\n",
    "    \n",
    "    return (sub, numerical_result)"
   ]
  },
  {
   "cell_type": "code",
   "execution_count": 6,
   "metadata": {},
   "outputs": [
    {
     "name": "stdout",
     "output_type": "stream",
     "text": [
      "1\n"
     ]
    },
    {
     "data": {
      "text/plain": [
       "(erf(3*sqrt(2)/2), 0.9973002039367398)"
      ]
     },
     "execution_count": 6,
     "metadata": {},
     "output_type": "execute_result"
    }
   ],
   "source": [
    "normalcurve(-3,3)"
   ]
  },
  {
   "cell_type": "code",
   "execution_count": null,
   "metadata": {},
   "outputs": [],
   "source": []
  }
 ],
 "metadata": {
  "kernelspec": {
   "display_name": "Python 2",
   "language": "python",
   "name": "python2"
  },
  "language_info": {
   "codemirror_mode": {
    "name": "ipython",
    "version": 2
   },
   "file_extension": ".py",
   "mimetype": "text/x-python",
   "name": "python",
   "nbconvert_exporter": "python",
   "pygments_lexer": "ipython2",
   "version": "2.7.15"
  }
 },
 "nbformat": 4,
 "nbformat_minor": 2
}
