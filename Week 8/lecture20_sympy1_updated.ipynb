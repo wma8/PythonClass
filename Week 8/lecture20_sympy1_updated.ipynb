{
 "cells": [
  {
   "cell_type": "markdown",
   "metadata": {},
   "source": [
    "# Lecture 20: Symbolic math in SymPy\n",
    "- Algebraic manipulations, solve equations, \n",
    "- differentiate and integrate functions\n",
    "- Simplification and substitution\n",
    "- Boolean variables\n",
    "\n",
    "__Reading Material:__\n",
    "- [SymPy Tutorial](http://docs.sympy.org/latest/tutorial/intro.html#what-is-symbolic-computation) Introduction\n",
    "- [SymPy Gotchas](http://docs.sympy.org/latest/tutorial/gotchas.html)\n",
    "- [SymPy Basic Operations](http://docs.sympy.org/latest/tutorial/basic_operations.html)\n"
   ]
  },
  {
   "cell_type": "markdown",
   "metadata": {},
   "source": [
    "__SymPy__ allows us to define variables that are just symbols, in the way they are used in mathematical formulas and equations. __SymPy__ is then capable of manipulating expressions symbolically, rather\n",
    "than numerically (like NumPy does). \n",
    "\n",
    "For example, if we want to evaluate the function $f(x) = \\displaystyle\\frac{x}{\\pi}$ at\n",
    "$x = 2$, we would use __NumPy__ as follows:"
   ]
  },
  {
   "cell_type": "code",
   "execution_count": 3,
   "metadata": {},
   "outputs": [
    {
     "data": {
      "text/plain": [
       "0.6366197723675814"
      ]
     },
     "execution_count": 3,
     "metadata": {},
     "output_type": "execute_result"
    }
   ],
   "source": [
    "import numpy as np\n",
    "x = 2\n",
    "x/np.pi"
   ]
  },
  {
   "cell_type": "markdown",
   "metadata": {},
   "source": [
    "In SymPy, we would instead define x to be a symbol, and f(x) a symbolic expression. Then, we can evaluate the expression at a certain value of x using the subs function in SymPy (which takes a dictionary as input). Note that this function does not affect the values of x and f . (They remain symbolic.)"
   ]
  },
  {
   "cell_type": "code",
   "execution_count": null,
   "metadata": {
    "collapsed": true
   },
   "outputs": [],
   "source": []
  },
  {
   "cell_type": "code",
   "execution_count": 4,
   "metadata": {},
   "outputs": [
    {
     "name": "stdout",
     "output_type": "stream",
     "text": [
      "0.6366197723675813430755350534900574481378385829618257949906693762355871905369061403604552110650123438\n",
      "x/pi\n"
     ]
    }
   ],
   "source": [
    "import sympy as sp\n",
    "x = sp.symbols('x')\n",
    "f = x/sp.pi\n",
    "# print f.subs({x:2})\n",
    "print f.subs({x:2}).evalf(n=100)\n",
    "print f"
   ]
  },
  {
   "cell_type": "code",
   "execution_count": 3,
   "metadata": {},
   "outputs": [
    {
     "data": {
      "text/plain": [
       "pi"
      ]
     },
     "execution_count": 3,
     "metadata": {},
     "output_type": "execute_result"
    }
   ],
   "source": [
    "sp.pi"
   ]
  },
  {
   "cell_type": "code",
   "execution_count": 4,
   "metadata": {},
   "outputs": [
    {
     "name": "stdout",
     "output_type": "stream",
     "text": [
      "<class 'sympy.core.mul.Mul'>\n",
      "2/pi\n",
      "0.636619772367581\n",
      "3.141592653589793238462643383279502884197169399375105820974944592307816406286208998628034825342117068\n",
      "x/pi\n"
     ]
    }
   ],
   "source": [
    "import sympy as sp\n",
    "x = sp.symbols('x')\n",
    "f = x/sp.pi\n",
    "print type(f)\n",
    "print f.subs({x:2})\n",
    "print f.subs({x:2}).evalf()\n",
    "print sp.pi.evalf(n=100)\n",
    "print f"
   ]
  },
  {
   "cell_type": "markdown",
   "metadata": {},
   "source": [
    "When assigning symbols, be aware of the difference between the variable x and the symbol x. You can think of the symbol as the value of the variable. For example, they do not have to match:"
   ]
  },
  {
   "cell_type": "code",
   "execution_count": 5,
   "metadata": {},
   "outputs": [
    {
     "data": {
      "text/plain": [
       "a/pi"
      ]
     },
     "execution_count": 5,
     "metadata": {},
     "output_type": "execute_result"
    }
   ],
   "source": [
    "x=sp.symbols('a') \n",
    "x/sp.pi"
   ]
  },
  {
   "cell_type": "markdown",
   "metadata": {},
   "source": [
    "After __import sympy as sp__, execute: __sp.init_printing(use_latex='mathjax')__. Now any statement that would automatically produce printed output in the console will show graphical output instead. You can then force results to be displayed graphically by first executing __from IPython.display import display__ and then use __display__ instead of __print__. For instance, __display(sp.pi)__ shows 𝜋."
   ]
  },
  {
   "cell_type": "code",
   "execution_count": 6,
   "metadata": {},
   "outputs": [
    {
     "data": {
      "text/plain": [
       "Eq(y(t), C2*exp(-t) + (C1 + t/2)*exp(t))"
      ]
     },
     "execution_count": 6,
     "metadata": {},
     "output_type": "execute_result"
    }
   ],
   "source": [
    "y, t = sp.symbols('y t')\n",
    "sp.dsolve(sp.diff(y(t),t,t) - y(t)-sp.exp(t), y(t))"
   ]
  },
  {
   "cell_type": "code",
   "execution_count": 7,
   "metadata": {
    "collapsed": true
   },
   "outputs": [],
   "source": [
    "#sp.init_printing(use_unicode = True)\n",
    "sp.init_printing(use_latex='mathjax')\n",
    "from IPython.display import display"
   ]
  },
  {
   "cell_type": "code",
   "execution_count": 8,
   "metadata": {},
   "outputs": [
    {
     "data": {
      "text/latex": [
       "$$y{\\left (t \\right )} = C_{2} e^{- t} + \\left(C_{1} + \\frac{t}{2}\\right) e^{t}$$"
      ],
      "text/plain": [
       "           -t   ⎛     t⎞  t\n",
       "y(t) = C₂⋅ℯ   + ⎜C₁ + ─⎟⋅ℯ \n",
       "                ⎝     2⎠   "
      ]
     },
     "execution_count": 8,
     "metadata": {},
     "output_type": "execute_result"
    }
   ],
   "source": [
    "sp.dsolve(sp.diff(y(t),t,t) - y(t)-sp.exp(t), y(t))"
   ]
  },
  {
   "cell_type": "code",
   "execution_count": 9,
   "metadata": {},
   "outputs": [
    {
     "data": {
      "text/latex": [
       "$$\\pi$$"
      ],
      "text/plain": [
       "π"
      ]
     },
     "metadata": {},
     "output_type": "display_data"
    },
    {
     "name": "stdout",
     "output_type": "stream",
     "text": [
      "pi\n"
     ]
    }
   ],
   "source": [
    "display(sp.pi)\n",
    "print sp.pi"
   ]
  },
  {
   "cell_type": "code",
   "execution_count": 10,
   "metadata": {},
   "outputs": [
    {
     "data": {
      "text/latex": [
       "$$\\frac{e^{t}}{2} - \\frac{e^{- t}}{2}$$"
      ],
      "text/plain": [
       " t    -t\n",
       "ℯ    ℯ  \n",
       "── - ───\n",
       "2     2 "
      ]
     },
     "execution_count": 10,
     "metadata": {},
     "output_type": "execute_result"
    }
   ],
   "source": [
    "sp.sinh(t).rewrite(sp.exp)"
   ]
  },
  {
   "cell_type": "code",
   "execution_count": 11,
   "metadata": {},
   "outputs": [
    {
     "data": {
      "text/latex": [
       "$$\\sinh{\\left (t \\right )}$$"
      ],
      "text/plain": [
       "sinh(t)"
      ]
     },
     "execution_count": 11,
     "metadata": {},
     "output_type": "execute_result"
    }
   ],
   "source": [
    "sp.sinh(t)"
   ]
  },
  {
   "cell_type": "code",
   "execution_count": 12,
   "metadata": {},
   "outputs": [
    {
     "name": "stdout",
     "output_type": "stream",
     "text": [
      "pi\n"
     ]
    }
   ],
   "source": [
    "print sp.pi"
   ]
  },
  {
   "cell_type": "markdown",
   "metadata": {},
   "source": [
    "### Solving equations\n",
    "\n",
    "- Find the general solution to the quadratic equation:\n",
    "$$\n",
    "ax^2+bx+c=0\n",
    "$$\n",
    "Note that the first argument to the solve function is the expression you want the root of (the expression you want to equal zero) and the second is the variable you want to solve for (what value(s) of it make the expression zero?)."
   ]
  },
  {
   "cell_type": "code",
   "execution_count": 13,
   "metadata": {},
   "outputs": [
    {
     "data": {
      "text/latex": [
       "$$\\left [ \\frac{1}{2 a} \\left(- b + \\sqrt{- 4 a c + b^{2}}\\right), \\quad - \\frac{1}{2 a} \\left(b + \\sqrt{- 4 a c + b^{2}}\\right)\\right ]$$"
      ],
      "text/plain": [
       "⎡        _____________   ⎛       _____________⎞ ⎤\n",
       "⎢       ╱           2    ⎜      ╱           2 ⎟ ⎥\n",
       "⎢-b + ╲╱  -4⋅a⋅c + b    -⎝b + ╲╱  -4⋅a⋅c + b  ⎠ ⎥\n",
       "⎢─────────────────────, ────────────────────────⎥\n",
       "⎣         2⋅a                     2⋅a           ⎦"
      ]
     },
     "metadata": {},
     "output_type": "display_data"
    }
   ],
   "source": [
    "x,a,b,c = sp.symbols(\"x a b c\")\n",
    "sol = sp.solve(a*x**2 + b*x + c, x)\n",
    "display(sol)"
   ]
  },
  {
   "cell_type": "code",
   "execution_count": 14,
   "metadata": {},
   "outputs": [
    {
     "data": {
      "text/latex": [
       "$$\\frac{1}{2 a} \\left(- b + \\sqrt{- 4 a c + b^{2}}\\right)$$"
      ],
      "text/plain": [
       "        _____________\n",
       "       ╱           2 \n",
       "-b + ╲╱  -4⋅a⋅c + b  \n",
       "─────────────────────\n",
       "         2⋅a         "
      ]
     },
     "metadata": {},
     "output_type": "display_data"
    },
    {
     "data": {
      "text/latex": [
       "$$-1$$"
      ],
      "text/plain": [
       "-1"
      ]
     },
     "execution_count": 14,
     "metadata": {},
     "output_type": "execute_result"
    }
   ],
   "source": [
    "display(sol[0])\n",
    "sol[0].subs({a:1, b:2, c:1})"
   ]
  },
  {
   "cell_type": "code",
   "execution_count": 15,
   "metadata": {},
   "outputs": [
    {
     "data": {
      "text/latex": [
       "$$\\left [ - \\frac{1}{x^{2}} \\left(b x + c\\right)\\right ]$$"
      ],
      "text/plain": [
       "⎡-(b⋅x + c) ⎤\n",
       "⎢───────────⎥\n",
       "⎢      2    ⎥\n",
       "⎣     x     ⎦"
      ]
     },
     "metadata": {},
     "output_type": "display_data"
    }
   ],
   "source": [
    "sol = sp.solve(a*x**2 + b*x + c, a)\n",
    "display(sol)"
   ]
  },
  {
   "cell_type": "markdown",
   "metadata": {},
   "source": [
    "- Use the definition of the [golden rectangle](https://en.wikipedia.org/wiki/Golden_rectangle) to solve for the golden ratio 𝜑 exactly."
   ]
  },
  {
   "cell_type": "code",
   "execution_count": 16,
   "metadata": {},
   "outputs": [
    {
     "data": {
      "text/latex": [
       "$$\\left [ \\frac{b}{2} \\left(1 + \\sqrt{5}\\right), \\quad \\frac{b}{2} \\left(- \\sqrt{5} + 1\\right)\\right ]$$"
      ],
      "text/plain": [
       "⎡b⋅(1 + √5)  b⋅(-√5 + 1)⎤\n",
       "⎢──────────, ───────────⎥\n",
       "⎣    2            2     ⎦"
      ]
     },
     "metadata": {},
     "output_type": "display_data"
    },
    {
     "data": {
      "text/latex": [
       "$$\\frac{1}{2} + \\frac{\\sqrt{5}}{2}$$"
      ],
      "text/plain": [
       "1   √5\n",
       "─ + ──\n",
       "2   2 "
      ]
     },
     "metadata": {},
     "output_type": "display_data"
    }
   ],
   "source": [
    "a = sp.symbols('a')\n",
    "sol = sp.solve((a+b)/a - a/b,a)\n",
    "display(sol)\n",
    "phi = sol[0]/b\n",
    "display(phi)"
   ]
  },
  {
   "cell_type": "markdown",
   "metadata": {},
   "source": [
    "### Differentiate and integrate functions\n",
    "\n",
    "- Find $\\frac{dx^x}{dx}$ (the derivative of $x^x$ with respect to x)"
   ]
  },
  {
   "cell_type": "code",
   "execution_count": 17,
   "metadata": {},
   "outputs": [
    {
     "data": {
      "text/latex": [
       "$$x^{x} \\left(\\log{\\left (x \\right )} + 1\\right)$$"
      ],
      "text/plain": [
       " x             \n",
       "x ⋅(log(x) + 1)"
      ]
     },
     "execution_count": 17,
     "metadata": {},
     "output_type": "execute_result"
    }
   ],
   "source": [
    "sp.symbols('x')\n",
    "sp.diff(x**x,x)"
   ]
  },
  {
   "cell_type": "markdown",
   "metadata": {},
   "source": [
    "- Find $\\int xe^x~dx$. \n",
    "\n",
    "Keep in mind that programming languages typically have a special function for\n",
    "calculating $e^x$, and Python/SymPy are no exception. The name of the function is the same as it was in PIC 10A (C++) and PIC 20A (Java). If you’re surprised, you might want to review the [math functions](https://docs.python.org/2/library/math.html) in Python. The names are typically the same in SymPy."
   ]
  },
  {
   "cell_type": "code",
   "execution_count": 18,
   "metadata": {},
   "outputs": [
    {
     "data": {
      "text/latex": [
       "$$\\left(x - 1\\right) e^{x}$$"
      ],
      "text/plain": [
       "         x\n",
       "(x - 1)⋅ℯ "
      ]
     },
     "execution_count": 18,
     "metadata": {},
     "output_type": "execute_result"
    }
   ],
   "source": [
    "sp.integrate(x*sp.exp(x))"
   ]
  },
  {
   "cell_type": "markdown",
   "metadata": {},
   "source": [
    "- Find $\\int_0^{\\infty}\\frac{\\sin{x}}{x}$\n",
    "Yes, the result is finite. Note that $\\infty$ is typed as two “o”s back to back (oo)."
   ]
  },
  {
   "cell_type": "code",
   "execution_count": 19,
   "metadata": {},
   "outputs": [
    {
     "data": {
      "text/latex": [
       "$$\\frac{\\pi}{2}$$"
      ],
      "text/plain": [
       "π\n",
       "─\n",
       "2"
      ]
     },
     "execution_count": 19,
     "metadata": {},
     "output_type": "execute_result"
    }
   ],
   "source": [
    "sp.integrate(sp.sin(x)/x,(x,0,sp.oo))"
   ]
  },
  {
   "cell_type": "code",
   "execution_count": 20,
   "metadata": {},
   "outputs": [
    {
     "data": {
      "text/latex": [
       "$$\\pi$$"
      ],
      "text/plain": [
       "π"
      ]
     },
     "execution_count": 20,
     "metadata": {},
     "output_type": "execute_result"
    }
   ],
   "source": [
    "sp.integrate(sp.sin(x)/x,(x,-sp.oo,sp.oo))"
   ]
  },
  {
   "cell_type": "markdown",
   "metadata": {},
   "source": [
    "### Exercise:\n",
    "- Find $\\int_{-\\infty}^{\\infty}\\frac{1}{\\sqrt{2\\pi}}e^{-\\frac{x^2}{2}}~dx$"
   ]
  },
  {
   "cell_type": "code",
   "execution_count": null,
   "metadata": {
    "collapsed": true
   },
   "outputs": [],
   "source": []
  },
  {
   "cell_type": "markdown",
   "metadata": {},
   "source": [
    "### Simplification and substitution\n",
    "\n",
    "Read the [SymPy Gotchas](http://docs.sympy.org/latest/tutorial/gotchas.html).\n",
    "- Determine whether $2\\sin\\frac{x+y}{2}\\cos\\frac{x-y}{2}=\\sin{x}+\\sin{y}$ using SymPy."
   ]
  },
  {
   "cell_type": "code",
   "execution_count": 21,
   "metadata": {},
   "outputs": [
    {
     "name": "stdout",
     "output_type": "stream",
     "text": [
      "<class 'sympy.core.numbers.Zero'> 0\n",
      "They're equal\n"
     ]
    }
   ],
   "source": [
    "x, y = sp.symbols(\"x y\")\n",
    "zero_if_equal = sp.simplify(2*sp.sin((x+y)/2)*sp.cos((x-y)/2) \n",
    "                            - (sp.sin(x)+sp.sin(y)))\n",
    "print type(zero_if_equal), zero_if_equal\n",
    "if zero_if_equal == 0:\n",
    "    print \"They're equal\""
   ]
  },
  {
   "cell_type": "code",
   "execution_count": 22,
   "metadata": {},
   "outputs": [
    {
     "name": "stdout",
     "output_type": "stream",
     "text": [
      "False\n",
      "True\n"
     ]
    }
   ],
   "source": [
    "a = 2*sp.sin((x+y)/2)*sp.cos((x-y)/2)\n",
    "b = (sp.sin(x)+sp.sin(y))\n",
    "print a == b\n",
    "print(a.equals(b))"
   ]
  },
  {
   "cell_type": "code",
   "execution_count": 23,
   "metadata": {},
   "outputs": [
    {
     "data": {
      "text/latex": [
       "$$\\sin{\\left (x \\right )} + \\sin{\\left (y \\right )}$$"
      ],
      "text/plain": [
       "sin(x) + sin(y)"
      ]
     },
     "execution_count": 23,
     "metadata": {},
     "output_type": "execute_result"
    }
   ],
   "source": [
    "sp.simplify(a)"
   ]
  },
  {
   "cell_type": "markdown",
   "metadata": {},
   "source": [
    "- Use __subs__ to evaluate $e^{n\\pi i}$, where $i=\\sqrt{-1}$, for $n=\\frac{1}{2}$, $n=1$, $n=\\frac 3 2$, and $n=2$. If you do it correctly, no two will be the same."
   ]
  },
  {
   "cell_type": "code",
   "execution_count": 24,
   "metadata": {},
   "outputs": [
    {
     "data": {
      "text/latex": [
       "$$i$$"
      ],
      "text/plain": [
       "ⅈ"
      ]
     },
     "execution_count": 24,
     "metadata": {},
     "output_type": "execute_result"
    }
   ],
   "source": [
    "sp.sqrt(-1)"
   ]
  },
  {
   "cell_type": "code",
   "execution_count": 25,
   "metadata": {},
   "outputs": [
    {
     "name": "stderr",
     "output_type": "stream",
     "text": [
      "/Users/hangjieji/anaconda2/lib/python2.7/site-packages/ipykernel_launcher.py:1: RuntimeWarning: invalid value encountered in sqrt\n",
      "  \"\"\"Entry point for launching an IPython kernel.\n"
     ]
    },
    {
     "data": {
      "text/latex": [
       "$$nan$$"
      ],
      "text/plain": [
       "nan"
      ]
     },
     "execution_count": 25,
     "metadata": {},
     "output_type": "execute_result"
    }
   ],
   "source": [
    "np.sqrt(-1)"
   ]
  },
  {
   "cell_type": "code",
   "execution_count": 26,
   "metadata": {
    "collapsed": true
   },
   "outputs": [],
   "source": [
    "f = sp.exp(x * sp.pi*sp.sqrt(-1))"
   ]
  },
  {
   "cell_type": "code",
   "execution_count": 27,
   "metadata": {},
   "outputs": [
    {
     "data": {
      "text/latex": [
       "$$i$$"
      ],
      "text/plain": [
       "ⅈ"
      ]
     },
     "execution_count": 27,
     "metadata": {},
     "output_type": "execute_result"
    }
   ],
   "source": [
    "f.subs(x,sp.Rational(1,2))"
   ]
  },
  {
   "cell_type": "code",
   "execution_count": 28,
   "metadata": {},
   "outputs": [
    {
     "data": {
      "text/latex": [
       "$$2.0 \\cdot 10^{-21} + 1.0 i$$"
      ],
      "text/plain": [
       "0.e-21 + 1.0⋅ⅈ"
      ]
     },
     "execution_count": 28,
     "metadata": {},
     "output_type": "execute_result"
    }
   ],
   "source": [
    "f.subs({x:0.5}).evalf()"
   ]
  },
  {
   "cell_type": "code",
   "execution_count": 29,
   "metadata": {},
   "outputs": [
    {
     "data": {
      "text/latex": [
       "$$-1$$"
      ],
      "text/plain": [
       "-1"
      ]
     },
     "execution_count": 29,
     "metadata": {},
     "output_type": "execute_result"
    }
   ],
   "source": [
    "f.subs(x,1)"
   ]
  },
  {
   "cell_type": "code",
   "execution_count": 30,
   "metadata": {},
   "outputs": [
    {
     "data": {
      "text/latex": [
       "$$- i$$"
      ],
      "text/plain": [
       "-ⅈ"
      ]
     },
     "execution_count": 30,
     "metadata": {},
     "output_type": "execute_result"
    }
   ],
   "source": [
    "f.subs(x,sp.Rational(3,2))"
   ]
  },
  {
   "cell_type": "code",
   "execution_count": 31,
   "metadata": {},
   "outputs": [
    {
     "data": {
      "text/latex": [
       "$$1$$"
      ],
      "text/plain": [
       "1"
      ]
     },
     "execution_count": 31,
     "metadata": {},
     "output_type": "execute_result"
    }
   ],
   "source": [
    "f.subs(x,2)"
   ]
  },
  {
   "cell_type": "markdown",
   "metadata": {},
   "source": [
    "### Boolean variables\n",
    "Boolean variables are variables that take values __True__ or __False__. We can again define functions that take Boolean variables as input, and give a Boolean output. You can reuse symbols in different types of functions: x can represent a number in one function and a Boolean in another. You should know the following operators."
   ]
  },
  {
   "cell_type": "code",
   "execution_count": 15,
   "metadata": {},
   "outputs": [],
   "source": [
    "x=sp.symbols('x')\n"
   ]
  },
  {
   "cell_type": "code",
   "execution_count": 16,
   "metadata": {},
   "outputs": [
    {
     "name": "stdout",
     "output_type": "stream",
     "text": [
      "x\n"
     ]
    }
   ],
   "source": [
    "y = x\n",
    "x = 2\n",
    "print y"
   ]
  },
  {
   "cell_type": "code",
   "execution_count": 33,
   "metadata": {},
   "outputs": [
    {
     "data": {
      "text/latex": [
       "$$\\neg x$$"
      ],
      "text/plain": [
       "¬x"
      ]
     },
     "execution_count": 33,
     "metadata": {},
     "output_type": "execute_result"
    }
   ],
   "source": [
    "~x"
   ]
  },
  {
   "cell_type": "code",
   "execution_count": 34,
   "metadata": {},
   "outputs": [
    {
     "data": {
      "text/latex": [
       "$$x \\wedge y$$"
      ],
      "text/plain": [
       "x ∧ y"
      ]
     },
     "execution_count": 34,
     "metadata": {},
     "output_type": "execute_result"
    }
   ],
   "source": [
    "x&y"
   ]
  },
  {
   "cell_type": "code",
   "execution_count": 35,
   "metadata": {},
   "outputs": [
    {
     "data": {
      "text/latex": [
       "$$x \\vee y$$"
      ],
      "text/plain": [
       "x ∨ y"
      ]
     },
     "execution_count": 35,
     "metadata": {},
     "output_type": "execute_result"
    }
   ],
   "source": [
    "x|y"
   ]
  },
  {
   "cell_type": "code",
   "execution_count": 36,
   "metadata": {},
   "outputs": [
    {
     "data": {
      "text/latex": [
       "$$x \\veebar y$$"
      ],
      "text/plain": [
       "x ⊻ y"
      ]
     },
     "execution_count": 36,
     "metadata": {},
     "output_type": "execute_result"
    }
   ],
   "source": [
    "x^y"
   ]
  },
  {
   "cell_type": "code",
   "execution_count": 12,
   "metadata": {},
   "outputs": [
    {
     "name": "stdout",
     "output_type": "stream",
     "text": [
      "~x\n",
      "True\n"
     ]
    }
   ],
   "source": [
    "y = x^2#^ means exclusive or, and will cast y to boolean expression\n",
    "#print\n",
    "print y #y is a boolean: ~x\n",
    "print y.subs(x,0) #or use subs({x:0})"
   ]
  },
  {
   "cell_type": "markdown",
   "metadata": {},
   "source": [
    "The symbols and written out functions work the same way, but the symbols are easier for us to use when programming, as they are easier to read and limit the number of parentheses. For example, compare:"
   ]
  },
  {
   "cell_type": "code",
   "execution_count": 37,
   "metadata": {},
   "outputs": [
    {
     "data": {
      "text/latex": [
       "$$\\left(x \\wedge y\\right) \\vee \\left(\\neg x \\wedge \\neg y \\wedge \\neg (x \\vee y)\\right)$$"
      ],
      "text/plain": [
       "(x ∧ y) ∨ (¬x ∧ ¬y ∧ ¬(x ∨ y))"
      ]
     },
     "execution_count": 37,
     "metadata": {},
     "output_type": "execute_result"
    }
   ],
   "source": [
    "(x&y)|(~x&~y&~(x|y))"
   ]
  },
  {
   "cell_type": "markdown",
   "metadata": {},
   "source": [
    "We can use the subs function as before:"
   ]
  },
  {
   "cell_type": "code",
   "execution_count": 5,
   "metadata": {},
   "outputs": [
    {
     "data": {
      "text/plain": [
       "True"
      ]
     },
     "execution_count": 5,
     "metadata": {},
     "output_type": "execute_result"
    }
   ],
   "source": [
    "s=(x&y)|(~x&~y&~(x|y))\n",
    "s.subs({x:False,y:False})"
   ]
  },
  {
   "cell_type": "code",
   "execution_count": 39,
   "metadata": {},
   "outputs": [
    {
     "data": {
      "text/latex": [
       "$$\\left(x \\wedge y\\right) \\vee \\left(\\neg x \\wedge \\neg y\\right)$$"
      ],
      "text/plain": [
       "(x ∧ y) ∨ (¬x ∧ ¬y)"
      ]
     },
     "execution_count": 39,
     "metadata": {},
     "output_type": "execute_result"
    }
   ],
   "source": [
    "sp.simplify(s)"
   ]
  },
  {
   "cell_type": "markdown",
   "metadata": {},
   "source": [
    "Some Boolean formulas are always False, no matter what the values of the input variables are. For example, the formula x & ~x can never be satisfied.The function __satisfiable__ will test that a given boolean expression is satisfiable, that is, you can __assign values to the variables__ to __make the sentence True__.\n",
    "\n",
    "For example,"
   ]
  },
  {
   "cell_type": "code",
   "execution_count": 40,
   "metadata": {},
   "outputs": [
    {
     "data": {
      "text/plain": [
       "{x: False, y: False}"
      ]
     },
     "execution_count": 40,
     "metadata": {},
     "output_type": "execute_result"
    }
   ],
   "source": [
    "from sympy.logic.inference import satisfiable\n",
    "satisfiable(s) #if you set both x and y False, the expression s will get True"
   ]
  },
  {
   "cell_type": "code",
   "execution_count": 41,
   "metadata": {},
   "outputs": [
    {
     "data": {
      "text/plain": [
       "False"
      ]
     },
     "execution_count": 41,
     "metadata": {},
     "output_type": "execute_result"
    }
   ],
   "source": [
    "satisfiable(x&~x) #False means you can never make the expression True, no matter what x value"
   ]
  },
  {
   "cell_type": "markdown",
   "metadata": {},
   "source": [
    "## Exercises:\n",
    "- Find a Boolean formula that uses more than 2 variables, and is unsatisfiable."
   ]
  },
  {
   "cell_type": "code",
   "execution_count": 7,
   "metadata": {},
   "outputs": [
    {
     "data": {
      "text/plain": [
       "False"
      ]
     },
     "execution_count": 7,
     "metadata": {},
     "output_type": "execute_result"
    }
   ],
   "source": [
    "from sympy.logic.inference import satisfiable\n",
    "\n",
    "x=sp.symbols('x')\n",
    "y=sp.symbols('y')\n",
    "z = sp.symbols('z')\n",
    "\n",
    "expression = x&y&~z&z\n",
    "satisfiable(expression)"
   ]
  },
  {
   "cell_type": "markdown",
   "metadata": {},
   "source": [
    "- Find a Boolean formula that is satisfied only by {x:True,y:True,z:True}."
   ]
  },
  {
   "cell_type": "code",
   "execution_count": null,
   "metadata": {
    "collapsed": true
   },
   "outputs": [],
   "source": []
  }
 ],
 "metadata": {
  "kernelspec": {
   "display_name": "Python 2",
   "language": "python",
   "name": "python2"
  },
  "language_info": {
   "codemirror_mode": {
    "name": "ipython",
    "version": 2
   },
   "file_extension": ".py",
   "mimetype": "text/x-python",
   "name": "python",
   "nbconvert_exporter": "python",
   "pygments_lexer": "ipython2",
   "version": "2.7.15"
  }
 },
 "nbformat": 4,
 "nbformat_minor": 2
}
