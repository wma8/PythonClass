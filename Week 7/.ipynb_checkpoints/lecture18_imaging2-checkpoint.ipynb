{
 "cells": [
  {
   "cell_type": "markdown",
   "metadata": {},
   "source": [
    "# Lecture 18\n",
    "\n",
    "- Masks\n",
    "- Uniform Blur and Gaussian Blur\n",
    "- Edge detection\n",
    "\n",
    "\n",
    "Optional reading material:\n",
    "\n",
    "- [Blurring for Beginners](http://jhlabs.com/ip/blurring.html)"
   ]
  },
  {
   "cell_type": "code",
   "execution_count": 1,
   "metadata": {},
   "outputs": [],
   "source": [
    "import numpy as np\n",
    "import matplotlib.pyplot as plt"
   ]
  },
  {
   "cell_type": "markdown",
   "metadata": {},
   "source": [
    "# Masks\n",
    "\n",
    "Masks are arrays of Boolean variables (that take values True or False). If we apply a mask to an image before performing an operation, it will only perform the operation at values where the mask is true. For example, see how we create the following image using masks. The second line converts the array to a numpy array, which allows us to specify the type of the elements. In this case, and almost always in the future, we want to make sure that they are floats, not integers."
   ]
  },
  {
   "cell_type": "code",
   "execution_count": 14,
   "metadata": {},
   "outputs": [
    {
     "name": "stdout",
     "output_type": "stream",
     "text": [
      "(10, 1)\n",
      "[[0 1 2 3 4 5 6 7 8 9]]\n",
      "(1, 10)\n",
      "[[False False False False False False False False False False]\n",
      " [ True False False False False False False False False False]\n",
      " [ True  True False False False False False False False False]\n",
      " [ True  True  True False False False False False False False]\n",
      " [ True  True  True  True False False False False False False]\n",
      " [ True  True  True  True  True False False False False False]\n",
      " [ True  True  True  True  True  True False False False False]\n",
      " [ True  True  True  True  True  True  True False False False]\n",
      " [ True  True  True  True  True  True  True  True False False]\n",
      " [ True  True  True  True  True  True  True  True  True False]]\n"
     ]
    }
   ],
   "source": [
    "x,y=np.ogrid[0:10, 0:10] \n",
    "#print x\n",
    "print x.shape\n",
    "print y\n",
    "print y.shape\n",
    "print x>y"
   ]
  },
  {
   "cell_type": "code",
   "execution_count": 12,
   "metadata": {},
   "outputs": [
    {
     "data": {
      "image/png": "[encoded data removed]",
      "text/plain": [
       "<Figure size 432x288 with 1 Axes>"
      ]
     },
     "metadata": {
      "needs_background": "light"
     },
     "output_type": "display_data"
    }
   ],
   "source": [
    "x,y=np.ogrid[0:10, 0:10] \n",
    "# print x\n",
    "# print x.shape\n",
    "# print y\n",
    "# print y.shape\n",
    "# print x>y\n",
    "mask=(x==9)&(y==2) # a matrix with boolean expression\n",
    "mask1 = x>y\n",
    "im=[[[0,0,1]]*10]*10 \n",
    "im=np.array(im,dtype='float') \n",
    "im[mask1] = [1,0,0]\n",
    "# print mask\n",
    "plt.imshow(im)\n",
    "plt.show()"
   ]
  },
  {
   "cell_type": "code",
   "execution_count": 11,
   "metadata": {},
   "outputs": [
    {
     "data": {
      "image/png": "[encoded data removed]",
      "text/plain": [
       "<Figure size 432x288 with 1 Axes>"
      ]
     },
     "metadata": {
      "needs_background": "light"
     },
     "output_type": "display_data"
    }
   ],
   "source": [
    "im=[[[0,0,1]]*100]*100 \n",
    "im=np.array(im,dtype='float') \n",
    "x,y=np.ogrid[0:100, 0:100] \n",
    "mask=x>y\n",
    "im[mask]=[1,0,0]\n",
    "plt.imshow(im)\n",
    "plt.show()"
   ]
  },
  {
   "cell_type": "code",
   "execution_count": 13,
   "metadata": {},
   "outputs": [
    {
     "data": {
      "image/png": "[encoded data removed]",
      "text/plain": [
       "<Figure size 432x288 with 1 Axes>"
      ]
     },
     "metadata": {
      "needs_background": "light"
     },
     "output_type": "display_data"
    }
   ],
   "source": [
    "im=[[[0,0,1]]*100]*100 \n",
    "im=np.array(im,dtype='float') \n",
    "x,y=np.ogrid[0:100, 0:100] \n",
    "mask=x>y\n",
    "im[mask]=[1,0,0]\n",
    "\n",
    "mask=(x>30)&(x<70)&(30<y)&(y<70)\n",
    "im[mask]=[1,1,1]\n",
    "mask=(x>30)&(x<70)&(y>30)&(y<70)&(x>y)\n",
    "im[mask]=[0,1,0]\n",
    "plt.imshow(im)\n",
    "plt.show()"
   ]
  },
  {
   "cell_type": "markdown",
   "metadata": {
    "collapsed": true
   },
   "source": [
    "# Denoising\n",
    "\n",
    "Basic noise removal assumes that noise takes the form of pixels that are outliers in their immediate neighborhood. We can remove the noise by “smoothing out” or blurring an image slightly."
   ]
  },
  {
   "cell_type": "markdown",
   "metadata": {},
   "source": [
    "### Uniform Blur\n",
    "\n",
    "A __uniform blur__ does so by setting the color of each pixel in the blurred image to be the average of the pixels in its neighborhood in the original image. The neighborhood takes the form of a $k \\times k$ square around the pixel (where k is odd so that the square has a middle). Taking the uniform mean over this square is quite easy if we use numpy arrays. For example, suppose that the image im is an n×m numpy array of real numbers. Then, we can ask for the $k \\times k$ sub-array around pixel $i, j$ using the command $im[(i-(k-1)/2):(i+(k-1)/2)+1),(j-(k-1)/2):(j+(k-1)/2)+1)]$. Remember that when we ask for a range $a:b$ in an array, the a is included in the output, and the b is not.\n",
    "\n",
    "Also, when we use numpy arrays, we can multiply two arrays elementwise. This gives a new array which has elements that are the product of elements at corresponding indices in the original arrays. If we wish to find the mean of the elements in a $k \\times k$ array, then we should multiply each element by $1/k^2$ (with $k^2$ being the number of elements). \n",
    "\n",
    "For example,"
   ]
  },
  {
   "cell_type": "code",
   "execution_count": 15,
   "metadata": {},
   "outputs": [
    {
     "data": {
      "text/plain": [
       "array([[0.25, 0.5 ],\n",
       "       [0.75, 1.  ]])"
      ]
     },
     "execution_count": 15,
     "metadata": {},
     "output_type": "execute_result"
    }
   ],
   "source": [
    "a=np.array([[1,2],[3,4]])\n",
    "b=np.array([[1.0/4.0,1.0/4.0],\n",
    "            [1.0/4.0,1.0/4.0]])\n",
    "a*b"
   ]
  },
  {
   "cell_type": "markdown",
   "metadata": {},
   "source": [
    "classnotes: pixel value 0 means black, 1 means white. \n",
    "\n",
    "eg: 0.2 0.2 0.2 0.2 0.8 0.2 0.2 0.2 0.2 0.2 \n",
    "__local averaging__\n",
    "...\n",
    "1/3 * (0.2+0.2+0.2) = 0.2\n",
    "1/3 * (0.2+0.2+0.8) = 0.4\n",
    "1/3 * (0.2+0.8+0.2) = 0.4\n",
    "1/3 * (0.8+0.2+0.2) = 0.4\n",
    "1/3 * (0.2+0.2+0.2) = 0.2\n",
    "1/3 * (0.2+0.2+0.2) = 0.2\n",
    "...\n",
    "\n",
    "2_D image local averaging\n",
    "choose the 3*3 area around the center pixel, take average, update the center pixel\n",
    "if pixel does not have 8 other neighbors, ignore it (ignore edge pixel)\n"
   ]
  },
  {
   "cell_type": "markdown",
   "metadata": {},
   "source": [
    "To obtain the mean we then need to sum over all these products. Notice the difference between the following two commands!"
   ]
  },
  {
   "cell_type": "code",
   "execution_count": 16,
   "metadata": {},
   "outputs": [
    {
     "data": {
      "text/plain": [
       "array([4, 6])"
      ]
     },
     "execution_count": 16,
     "metadata": {},
     "output_type": "execute_result"
    }
   ],
   "source": [
    "sum(a) #sum here only sums up the element in one column"
   ]
  },
  {
   "cell_type": "code",
   "execution_count": 17,
   "metadata": {},
   "outputs": [
    {
     "data": {
      "text/plain": [
       "10"
      ]
     },
     "execution_count": 17,
     "metadata": {},
     "output_type": "execute_result"
    }
   ],
   "source": [
    "np.sum(a) #sum up all element in the nparray"
   ]
  },
  {
   "cell_type": "markdown",
   "metadata": {},
   "source": [
    "These are all the basic tools we need to write out denoising function. We can let k, the size of the filter, be a user defined parameter. You can think of this as the coarseness of the sandpaper that we use to smooth our image. The larger k is, the more blurring we get. Then, we create the filter. In the uniform case, this is a square $k \\times k$ array where every value is $1/k^2$. For example, when k = 5, our filter is"
   ]
  },
  {
   "cell_type": "code",
   "execution_count": 18,
   "metadata": {},
   "outputs": [
    {
     "data": {
      "text/plain": [
       "array([[0.04, 0.04, 0.04, 0.04, 0.04],\n",
       "       [0.04, 0.04, 0.04, 0.04, 0.04],\n",
       "       [0.04, 0.04, 0.04, 0.04, 0.04],\n",
       "       [0.04, 0.04, 0.04, 0.04, 0.04],\n",
       "       [0.04, 0.04, 0.04, 0.04, 0.04]])"
      ]
     },
     "execution_count": 18,
     "metadata": {},
     "output_type": "execute_result"
    }
   ],
   "source": [
    "np.array([[1.0/5**2]*5]*5)"
   ]
  },
  {
   "cell_type": "markdown",
   "metadata": {},
   "source": [
    "We use the filter to recalculate the value of every pixel in the image (except for those too close to the edge to fit the filter around: we will leave those unchanged) to store in the new, blurred image. \n",
    "\n",
    "One important thing: when we find the new value for a pixel, we use the mean over the colors of its neighborhood pixels in the original image, even if some of its neighbors already have new values for the blurred image. Therefore, you should store the new values in a new blurred image variable; without making changes in the original image!"
   ]
  },
  {
   "cell_type": "markdown",
   "metadata": {},
   "source": [
    "### Gaussian Blur\n",
    "\n",
    "The idea behind a Gaussian blur is very similar to the uniform blur. The difference is that the weighting of the neighborhood pixels in the calculation of the mean is more sophisticated, and favors pixels that are closer to the current pixel. It achieves this by creating a filter that is weighted proposrtionally to a 2D Gaussian function (a Bell curve), with its maximum in the middle of the $k \\times k$ filter. The 2D Gaussian is given by\n",
    "\n",
    "$$G(x,y) = \\frac{1}{2\\pi \\sigma^2}\\exp\\left({-\\frac{x^2+y^2}{2\\sigma^2}}\\right)$$"
   ]
  },
  {
   "cell_type": "markdown",
   "metadata": {},
   "source": [
    "We wish to center this around the center of the square, which we achieve by giving each element __filter[i,j]__ of the filter a value\n",
    "$$\n",
    "filter[i,j] = \\frac{1}{2\\pi \\sigma^2}\\exp\\left({-\\frac{(i-(k-1)/2)^2+(j-(k-1)/2)^2}{2\\sigma^2}}\\right)\n",
    "$$"
   ]
  },
  {
   "cell_type": "markdown",
   "metadata": {},
   "source": [
    "The Gaussian distribution function is normalized, meaning that the total volume underneath it adds up to 1. However, we are only using a part of it that fits into the square, not the whole (infinite) function. This means that we need to renormalize the values in our filter. If their sum is less than 1, we would be making the pixels darker on average, which is undesirable. This is easy to do, by dividing the filter by its total sum at the end. Once we have created the filter, our denoising function works exactly the same way as it did with the uniform filter. Note that it has one more parameter: $\\sigma$. \n",
    "\n",
    "For example, when $k = 5$, and $\\sigma = 1$, our filter is"
   ]
  },
  {
   "cell_type": "code",
   "execution_count": 22,
   "metadata": {},
   "outputs": [
    {
     "name": "stdout",
     "output_type": "stream",
     "text": [
      "[[0. 0. 0. 0. 0.]\n",
      " [0. 0. 0. 0. 0.]\n",
      " [0. 0. 0. 0. 0.]\n",
      " [0. 0. 0. 0. 0.]\n",
      " [0. 0. 0. 0. 0.]]\n",
      "[[0.01831564 0.082085   0.13533528 0.082085   0.01831564]\n",
      " [0.082085   0.36787944 0.60653066 0.36787944 0.082085  ]\n",
      " [0.13533528 0.60653066 1.         0.60653066 0.13533528]\n",
      " [0.082085   0.36787944 0.60653066 0.36787944 0.082085  ]\n",
      " [0.01831564 0.082085   0.13533528 0.082085   0.01831564]]\n"
     ]
    }
   ],
   "source": [
    "sigma = 1\n",
    "k = 5 # the dimension of filter\n",
    "filter=np.array([[0]*k]*k,dtype='float')\n",
    "print filter\n",
    "for x in range(k):\n",
    "    for y in range(k):\n",
    "        filter[x,y]=np.exp(-((x-(k-1)*0.5)**2+(y-(k-1)*0.5)**2)/(2.0*sigma**2))\n",
    "print filter\n",
    "filter_sum=np.sum(filter)\n",
    "filter=filter/filter_sum"
   ]
  },
  {
   "cell_type": "code",
   "execution_count": 20,
   "metadata": {},
   "outputs": [
    {
     "data": {
      "image/png": "[encoded data removed]",
      "text/plain": [
       "<Figure size 432x288 with 2 Axes>"
      ]
     },
     "metadata": {
      "needs_background": "light"
     },
     "output_type": "display_data"
    }
   ],
   "source": [
    "plt.imshow(filter)\n",
    "plt.colorbar()\n",
    "plt.show()"
   ]
  },
  {
   "cell_type": "markdown",
   "metadata": {},
   "source": [
    "By the way, this way of running the filter over our image: placing the filter on top of each pixel, and taking the sum of products of the overlaying elements, is mathematically called a __convolution__. \n",
    "\n",
    "You may have seen this before in other classes, but if not, don’t worry. We simply write this as a double loop over all pixels (except for the edge). \n",
    "\n",
    "If you are interested in reading more about different types of blurring, there is a nice tutorial [here](http://jhlabs.com/ip/blurring.html). This is written for Java programmers, but the explanations are very nice.\n"
   ]
  },
  {
   "cell_type": "markdown",
   "metadata": {},
   "source": [
    "# Edge Detection"
   ]
  },
  {
   "cell_type": "markdown",
   "metadata": {},
   "source": [
    "Detecting edges in image can be useful for image recognition, classification, retouching, etc.. Now that you have already written the denoising functions from the previous section, it will not be hard to write an edge detection function that uses the Sobel filter. \n",
    "\n",
    "When we detect edges, we are not interested in finding a kind of average of a set of pixels; we are interested in the difference. \n",
    "\n",
    "For example, a pixel is on a vertical edge when pixels to its left have a different color from pixels on its right. We can measure this difference in much the same way as we did before, by multiplying a pixel’s neighborhood with a filter, and summing over the products. \n",
    "As a tiny example, if I want to measure the difference $b-a$ between two elements of a small array [a,b], I multiply elementwise by the array [-1,1], and sum the result. To measure a vertical edge on a pixel, we look at the difference between a vertical strip of pixels to its left and to its right, weighting the immediate neighbors more heavily. \n",
    "\n",
    "The Sobel vertical and horizontal filters look, respectively, like,"
   ]
  },
  {
   "cell_type": "markdown",
   "metadata": {},
   "source": [
    "take differences between adjacent rows/columns pixel value, see if the difference is large"
   ]
  },
  {
   "cell_type": "code",
   "execution_count": 23,
   "metadata": {},
   "outputs": [
    {
     "name": "stdout",
     "output_type": "stream",
     "text": [
      "[[-1  0  1]\n",
      " [-2  0  2]\n",
      " [-1  0  1]]\n"
     ]
    }
   ],
   "source": [
    "vertical_filter=np.array([[-1,0,1],[-2,0,2],[-1,0,1]])\n",
    "horizontal_filter=np.array([[-1,-2,-1],[0,0,0],[1,2,1]])\n",
    "print vertical_filter"
   ]
  },
  {
   "cell_type": "code",
   "execution_count": 24,
   "metadata": {},
   "outputs": [
    {
     "name": "stdout",
     "output_type": "stream",
     "text": [
      "[[-1 -2 -1]\n",
      " [ 0  0  0]\n",
      " [ 1  2  1]]\n"
     ]
    }
   ],
   "source": [
    "print horizontal_filter"
   ]
  },
  {
   "cell_type": "markdown",
   "metadata": {},
   "source": [
    "For each pixel $i,j$, multiplying the $3 \\times 3$ subarray around it with the (horizontal or vertical) Sobel\n",
    "filter yields a score ($S_H$ or $S_V$ ) between $-4$ and $4$. \n",
    "\n",
    "We can rescale this score to always be between $0$\n",
    "and $1$ by taking $\\frac{S_H+4}{8}$ or $\\frac{S_v+4}{8}$ . \n",
    "\n",
    "Now, __gray__ (.5) indicates __no edge__, __black__ indicates a __negative edge__, and __white__ indicates a __positive edge__. This makes sense if we want to visualize the edges that we found in a grayscale image. \n",
    "\n",
    "When we ask for vertical or horizontal edge detection, we will see the difference between negative and postive edges (the color going from high to low or low to high, respectively). For example, the following image gives us the following output for vertical and horizontal edge detection, respectively. Notice the difference between positive and negative detected edges."
   ]
  },
  {
   "cell_type": "code",
   "execution_count": 26,
   "metadata": {},
   "outputs": [
    {
     "data": {
      "image/png": "[encoded data removed]",
      "text/plain": [
       "<Figure size 432x288 with 1 Axes>"
      ]
     },
     "metadata": {
      "needs_background": "light"
     },
     "output_type": "display_data"
    }
   ],
   "source": [
    "import matplotlib.pyplot as plt\n",
    "import matplotlib.image as mpimg\n",
    "img=mpimg.imread('edge_vh.png') \n",
    "plt.imshow(img)\n",
    "plt.axis('off')\n",
    "plt.show()"
   ]
  },
  {
   "cell_type": "markdown",
   "metadata": {},
   "source": [
    "We may also ask for edge detection in general directions. We do this by combining the horizontal and vertical scores as Euclidean distances: \n",
    "$$S = \\sqrt{S_V^2+S_H^2}$$\n",
    "Now, there is not more direction of edges, only strength. We can normalize this score using\n",
    "$$S = \\frac{\\sqrt{S_V^2+S_H^2}}{4}$$\n",
    "so that black indicates no edge, and white indicates a strongest edge.\n",
    "This should look like this:"
   ]
  },
  {
   "cell_type": "code",
   "execution_count": null,
   "metadata": {},
   "outputs": [],
   "source": [
    "img=mpimg.imread('edge_full.png') \n",
    "plt.imshow(img)\n",
    "plt.axis('off')\n",
    "plt.show()"
   ]
  }
 ],
 "metadata": {
  "kernelspec": {
   "display_name": "Python 2",
   "language": "python",
   "name": "python2"
  },
  "language_info": {
   "codemirror_mode": {
    "name": "ipython",
    "version": 2
   },
   "file_extension": ".py",
   "mimetype": "text/x-python",
   "name": "python",
   "nbconvert_exporter": "python",
   "pygments_lexer": "ipython2",
   "version": "2.7.15"
  }
 },
 "nbformat": 4,
 "nbformat_minor": 2
}
