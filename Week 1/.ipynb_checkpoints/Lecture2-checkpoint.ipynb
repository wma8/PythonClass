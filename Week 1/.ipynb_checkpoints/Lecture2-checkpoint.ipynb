{
 "cells": [
  {
   "cell_type": "markdown",
   "metadata": {
    "slideshow": {
     "slide_type": "slide"
    }
   },
   "source": [
    "# Lecture 2\n",
    "Today we cover a few very basics of python to get you started: \n",
    "1. Variable types\n",
    "2. Comment\n",
    "3. List\n",
    "4. Dictionary\n",
    "5. Functions\n",
    "6. Modules.\n",
    "\n",
    "Reading material: [Python tutorial](https://docs.python.org/2/tutorial/) 3.1.1, 3.1.2, 3.1.4, 5.1, 5.5"
   ]
  },
  {
   "cell_type": "markdown",
   "metadata": {},
   "source": [
    "## 1. Variable types\n",
    "Python will guess the type when you define the variable. For example, if you set x = 2, then Python will make x an integer. If you set x = 2.0, Python will make it a float."
   ]
  },
  {
   "cell_type": "markdown",
   "metadata": {},
   "source": [
    "-  __integer__:  These are the signed integers ...−2,−1,0,1,2,..."
   ]
  },
  {
   "cell_type": "code",
   "execution_count": null,
   "metadata": {
    "collapsed": true
   },
   "outputs": [],
   "source": [
    "x = 2\n",
    "type(x)"
   ]
  },
  {
   "cell_type": "markdown",
   "metadata": {},
   "source": [
    "-  __float__:  real numbers with about 8 digits precision. There are modules that can give you arbitrary precision if needed."
   ]
  },
  {
   "cell_type": "code",
   "execution_count": null,
   "metadata": {
    "collapsed": true
   },
   "outputs": [],
   "source": [
    "y = 2.0\n",
    "type(y)"
   ]
  },
  {
   "cell_type": "markdown",
   "metadata": {},
   "source": [
    "-  __string__:  A Python string (str) is a sequence of 0 or more characters enclosed within a pair of single quotes (') or a pair of double quotes (\")."
   ]
  },
  {
   "cell_type": "code",
   "execution_count": 5,
   "metadata": {},
   "outputs": [
    {
     "name": "stdout",
     "output_type": "stream",
     "text": [
      "McDonald's McDonald's McDonald's \n",
      "jdkfdfjdkfdfHello World!\n",
      "McDonald's\n"
     ]
    }
   ],
   "source": [
    "a = 'Hello World!'\n",
    "type(a)\n",
    "print 3*\"McDonald's \"\n",
    "print 2*\"jdkfdf\"+a\n",
    "print 'McDonald\\'s'"
   ]
  },
  {
   "cell_type": "markdown",
   "metadata": {},
   "source": [
    "__Exercise: Read 3.1.2 in the [Python tutorial](http://docs.python.org/2/tutorial/introduction.html) and check the output of the following __\n",
    "-  print \"McDonald's\"\n",
    "-  print \"McDonald\\'s\"\n",
    "-  print 'McDonald\\'s'\n",
    "-  print 'McDonald's'\n",
    "-  print r\"McDonald\\'s\"\n",
    "-  print 3*\"McDonald\\'s\"\n",
    "-  print \"McDonald\" + \"\\'s\"\n",
    "-  print \"McDonald\" \"\\'s\"\n",
    "-  print \"\"\"McDonald\n",
    "              \\'s\"\"\""
   ]
  },
  {
   "cell_type": "code",
   "execution_count": 6,
   "metadata": {},
   "outputs": [
    {
     "name": "stdout",
     "output_type": "stream",
     "text": [
      "abc\n",
      "abcde\n"
     ]
    }
   ],
   "source": [
    "x = \"abc\"\n",
    "print x\n",
    "#cannot use x[0]= 'd', syntax error\n",
    "x = x+\"de\" #but you can assign a new string to x, instead of changing items in x\n",
    "print x"
   ]
  },
  {
   "cell_type": "markdown",
   "metadata": {},
   "source": [
    "The [Python tutorial](http://docs.python.org/2/tutorial/introduction.html) offers a helpful ASCII art representation to show how positive and negative indexes are interpreted:\n",
    "\n",
    "<pre>\n",
    " +---+---+---+---+---+---+\n",
    " | P | y | t | h | o | n |\n",
    " +---+---+---+---+---+---+\n",
    " 0   1   2   3   4   5   6\n",
    "-6  -5  -4  -3  -2  -1\n",
    "</pre>\n",
    "\n",
    "Think of the indices as pointing between characters, with the left edge of the first character numbered 0. Then the right edge of the last character of a string of n characters has index n, "
   ]
  },
  {
   "cell_type": "markdown",
   "metadata": {},
   "source": [
    "The Python slice notation can be used to access subsequences by specifying two index positions separated by a colon (':'); seq[start:stop] returns all the elements in seq between start and stop - 1 (inclusive).\n",
    "\n",
    "__Exercise: Predict and check the output of the following, assuming that s = \"abcdefg\"__\n",
    "-  print s[0]\n",
    "-  print s[6]\n",
    "-  print s[7]\n",
    "-  print s[-1]\n",
    "-  print s[1:3]\n",
    "-  print s[:3]\n",
    "-  print s[3:]\n",
    "-  print s[0:-2]\n",
    "-  print s[0:100]\n",
    "-  s[0] = 'z'\n",
    "-  s[0:3] = ['x','y','z']\n",
    "-  print(len(s))"
   ]
  },
  {
   "cell_type": "code",
   "execution_count": 12,
   "metadata": {},
   "outputs": [
    {
     "name": "stdout",
     "output_type": "stream",
     "text": [
      "b\n",
      "g\n",
      "a\n",
      "ac\n"
     ]
    }
   ],
   "source": [
    "s = \"abcdefg\"\n",
    "print s[1]\n",
    "print s[-1]\n",
    "print s[0:1]\n",
    "print s[0:4:2]"
   ]
  },
  {
   "cell_type": "markdown",
   "metadata": {},
   "source": [
    "## 2. Comments"
   ]
  },
  {
   "cell_type": "markdown",
   "metadata": {},
   "source": [
    "Commenting your code properly will help you and other understand and use it correctly. You should make this a habit when programming anything. Python allows for two types of comments: long multi-line comments and short inline comments. Your codes should contain a long comment at the beginning, which contains information for somebody using your code. \n",
    "\n",
    "The Python ***comment*** character is **`'#'`**: anything after `'#'` on the line is ignored by the Python interpreter. PEP8 style guidelines recommend using at least 2 blank spaces before an inline comment that appears on the same line as any code.\n",
    "\n",
    "***Multi-line strings*** can be used within code blocks to provide multi-line comments.\n",
    "\n",
    "Multi-line strings are delimited by pairs of triple quotes (**`'''`** or **`\"\"\"`**). Any newlines in the string will be represented as `'\\n'` characters in the string."
   ]
  },
  {
   "cell_type": "code",
   "execution_count": null,
   "metadata": {
    "collapsed": true
   },
   "outputs": [],
   "source": [
    "print('Before comment')  # this is an inline comment\n",
    "'''\n",
    "This is\n",
    "a multi-line\n",
    "comment\n",
    "'''\n",
    "print('After comment')"
   ]
  },
  {
   "cell_type": "markdown",
   "metadata": {},
   "source": [
    "## 3. Lists"
   ]
  },
  {
   "cell_type": "markdown",
   "metadata": {},
   "source": [
    "A [**`list`**](http://docs.python.org/2/tutorial/introduction.html#lists) is an ordered ***sequence*** of 0 or more comma-delimited elements enclosed within square brackets ('`[`', '`]`'). The Python [**`str.split(sep)`**](http://docs.python.org/2/library/stdtypes.html#str.split) method can be used to split a `sep`-delimited string into a corresponding list of elements.\n",
    "\n",
    "In the following example, a comma-delimited string is split using `sep=','`."
   ]
  },
  {
   "cell_type": "code",
   "execution_count": 1,
   "metadata": {},
   "outputs": [
    {
     "name": "stdout",
     "output_type": "stream",
     "text": [
      "['a', 'b', 'c', 'd', 'e', 'f', 'g']\n"
     ]
    }
   ],
   "source": [
    "s_str= 'a,b,c,d,e,f,g'\n",
    "s_list = s_str.split(',')\n",
    "print(s_list)"
   ]
  },
  {
   "cell_type": "code",
   "execution_count": 13,
   "metadata": {},
   "outputs": [
    {
     "name": "stdout",
     "output_type": "stream",
     "text": [
      "['a', 'b', 'c', 'd', 'e', 'f', 'g']\n"
     ]
    }
   ],
   "source": [
    "s_str= 'a b c d e f g'\n",
    "s_list = s_str.split() #turn the string into list with char of string as items\n",
    "print(s_list)"
   ]
  },
  {
   "cell_type": "code",
   "execution_count": 14,
   "metadata": {},
   "outputs": [
    {
     "name": "stdout",
     "output_type": "stream",
     "text": [
      "[1, 2, 3, 4, 5, 6, 7, 8]\n",
      "[1, 3, 5, 7]\n",
      "[2, 4, 6, 8]\n",
      "[8, 7, 6, 5, 4, 3, 2, 1]\n",
      "[8, 7, 6]\n"
     ]
    }
   ],
   "source": [
    "s = [1,2,3,4,5,6,7,8]\n",
    "s = range(1,9)\n",
    "print s\n",
    "print(s[::2])  # print elements in even-numbered positions\n",
    "print(s[1::2])  # print elements in odd-numbered positions\n",
    "print(s[::-1])  # print elements in reverse order\n",
    "print(s[:-4:-1])"
   ]
  },
  {
   "cell_type": "markdown",
   "metadata": {},
   "source": [
    "__Exercise:__ Predict and check the output of the following, assuming that $\\texttt{s = ['a','b','c','d','e'] + ['f','g']}$\n",
    "has been executed. Which of the following will produce different output from the previous exercise, and what will it be?\n",
    "-  print s[0]\n",
    "-  print s[6]\n",
    "-  print s[7]\n",
    "-  print s[-1]\n",
    "-  print s[1:3]\n",
    "-  print s[:3]\n",
    "-  print s[3:]\n",
    "-  print s[0:-2]\n",
    "-  print s[0:100]\n",
    "-  s[0] = 'z'; print(s)\n",
    "-  s[0:3] = ['x','y','z']; print(s)"
   ]
  },
  {
   "cell_type": "code",
   "execution_count": 2,
   "metadata": {},
   "outputs": [
    {
     "name": "stdout",
     "output_type": "stream",
     "text": [
      "['a', 'b', 'c', 'd', 'e', 'f', 'g']\n",
      "[100, 'b', 'c', 'd', 'e', 'f', 'g']\n",
      "<type 'int'>\n",
      "['x', 'y', 'z', 'd', 'e', 'f', 'g']\n",
      "['x', 'y', 'z', 's', 'e', 'e', 'd', 'e', 'f', 'g']\n"
     ]
    }
   ],
   "source": [
    "s = ['a','b','c','d','e']+['f','g']\n",
    "print s\n",
    "s[0]=100\n",
    "print s\n",
    "print type(s[0])\n",
    "s[0:3]=['x','y','z']\n",
    "print s\n",
    "# the assignment of element does not have to match the size\n",
    "s[0:3]=['x','y','z','s','e','e'] #note the effect of this: replace the elements within range, \n",
    "#concatenate the rest elements after it\n",
    "print s\n"
   ]
  },
  {
   "cell_type": "markdown",
   "metadata": {},
   "source": [
    "Lists may also have lists as their elements:"
   ]
  },
  {
   "cell_type": "code",
   "execution_count": 18,
   "metadata": {},
   "outputs": [
    {
     "name": "stdout",
     "output_type": "stream",
     "text": [
      "2\n",
      "[1, 2]\n",
      "[3, 4, 5]\n",
      "s\n"
     ]
    }
   ],
   "source": [
    "K=[[1,2],[3,4,5],'s']\n",
    "print K[0][1] # like index of 2d array in C++\n",
    "print K[0][:]\n",
    "print K[1]\n",
    "print K[2]"
   ]
  },
  {
   "cell_type": "markdown",
   "metadata": {},
   "source": [
    "In python, if say __if L:__ then the list L is interpreted as true if it is nonempty, and false otherwise."
   ]
  },
  {
   "cell_type": "code",
   "execution_count": null,
   "metadata": {
    "collapsed": true
   },
   "outputs": [],
   "source": [
    "L = [1,2]\n",
    "if L:\n",
    "    print \"The list is nonempty\""
   ]
  },
  {
   "cell_type": "markdown",
   "metadata": {},
   "source": [
    "__List comprehension__ is an extremely intuitive and efficient way to create lists in python."
   ]
  },
  {
   "cell_type": "code",
   "execution_count": 31,
   "metadata": {},
   "outputs": [
    {
     "name": "stdout",
     "output_type": "stream",
     "text": [
      "[0, 1, 4, 9, 16, 25, 125]\n"
     ]
    }
   ],
   "source": [
    "L =[]\n",
    "for i in range(6):\n",
    "    L.append(i**2)\n",
    "L.append(i**3)\n",
    "print L"
   ]
  },
  {
   "cell_type": "code",
   "execution_count": 20,
   "metadata": {},
   "outputs": [
    {
     "data": {
      "text/plain": [
       "[0, 1, 4, 9, 16, 25]"
      ]
     },
     "execution_count": 20,
     "metadata": {},
     "output_type": "execute_result"
    }
   ],
   "source": [
    "[i**2 for i in range(6)]"
   ]
  },
  {
   "cell_type": "code",
   "execution_count": 24,
   "metadata": {},
   "outputs": [
    {
     "data": {
      "text/plain": [
       "[0, 4, 16]"
      ]
     },
     "execution_count": 24,
     "metadata": {},
     "output_type": "execute_result"
    }
   ],
   "source": [
    "[i**2 for i in range(5) if i%2==0]"
   ]
  },
  {
   "cell_type": "code",
   "execution_count": 7,
   "metadata": {},
   "outputs": [
    {
     "data": {
      "text/plain": [
       "[0, 0, 0, 0, 0]"
      ]
     },
     "execution_count": 7,
     "metadata": {},
     "output_type": "execute_result"
    }
   ],
   "source": [
    "[0 for _ in range(5)] #we can use _ if we don't need a variable"
   ]
  },
  {
   "cell_type": "code",
   "execution_count": 25,
   "metadata": {},
   "outputs": [
    {
     "data": {
      "text/plain": [
       "[0, 1, 2, 3, 1, 2, 3, 4]"
      ]
     },
     "execution_count": 25,
     "metadata": {},
     "output_type": "execute_result"
    }
   ],
   "source": [
    "[i+j for i in range(2) for j in range(4)]"
   ]
  },
  {
   "cell_type": "code",
   "execution_count": 26,
   "metadata": {},
   "outputs": [
    {
     "data": {
      "text/plain": [
       "[[0, 1], [1, 2], [2, 3], [3, 4]]"
      ]
     },
     "execution_count": 26,
     "metadata": {},
     "output_type": "execute_result"
    }
   ],
   "source": [
    "[[i+j for i in range(2)] for j in range(4)]"
   ]
  },
  {
   "cell_type": "markdown",
   "metadata": {},
   "source": [
    "### Mutability"
   ]
  },
  {
   "cell_type": "markdown",
   "metadata": {},
   "source": [
    "One important distinction between strings and lists has to do with their [*mutability*](http://docs.python.org/2/reference/datamodel.html).\n",
    "\n",
    "Python strings are *immutable*, i.e., they cannot be modified. Most string methods (like `str.strip()`) return modified *copies* of the strings on which they are used.\n",
    "\n",
    "Python lists are *mutable*, i.e., they can be modified. \n",
    "\n",
    "The examples below illustrate a number of [`list`](http://docs.python.org/2/tutorial/datastructures.html#more-on-lists) methods that modify lists."
   ]
  },
  {
   "cell_type": "code",
   "execution_count": 1,
   "metadata": {},
   "outputs": [
    {
     "name": "stdout",
     "output_type": "stream",
     "text": [
      "before\n",
      "[1, 2, 3]\n",
      "[1, 2, 3]\n",
      "after\n",
      "[1, 2, 100]\n",
      "[1, 2, 100]\n"
     ]
    }
   ],
   "source": [
    "L1 = [1,2,3]\n",
    "L2 = L1\n",
    "print 'before'\n",
    "print L1\n",
    "print L2\n",
    "L1[2]=100\n",
    "print 'after'\n",
    "print L1\n",
    "print L2 #note both L1 L2 are modified\n",
    "#L1, L2 are just pointers to the same list object\n"
   ]
  },
  {
   "cell_type": "code",
   "execution_count": 2,
   "metadata": {},
   "outputs": [
    {
     "name": "stdout",
     "output_type": "stream",
     "text": [
      "before\n",
      "[1, 2, 3]\n",
      "[1, 2, 3]\n",
      "after\n",
      "[1, 2, 100]\n",
      "[1, 2, 3]\n"
     ]
    }
   ],
   "source": [
    "L1 = [1,2,3]\n",
    "L2 = L1[:] #the new operation here, L1[:] creates a new list, with contents in L1. Then L2 points to the new list\n",
    "print 'before'\n",
    "print L1\n",
    "print L2\n",
    "L1[2]=100\n",
    "print 'after'\n",
    "print L1\n",
    "print L2 #note both L1 L2 are modified"
   ]
  },
  {
   "cell_type": "code",
   "execution_count": null,
   "metadata": {},
   "outputs": [],
   "source": [
    "list_1 = [1, 2, 3, 5, 1]\n",
    "list_2 = list_1  # list_2 now references the same object as list_1\n",
    "\n",
    "print('list_1:', list_1)\n",
    "print('list_2:', list_2)\n",
    "\n",
    "list_1.remove(1)  # remove [only] the first occurrence of 1 in list_1\n",
    "print('list_1.remove(1):   ', list_1)\n",
    "\n",
    "list_1.pop(2)  # remove the element in position 2\n",
    "print('list_1.pop(2):      ', list_1)\n",
    "\n",
    "list_1.append(6)  # add 6 to the end of list_1\n",
    "print('list_1.append(6):   ', list_1)\n",
    "\n",
    "list_1.insert(0, 7)  # add 7 to the beinning of list_1 (before the element in position 0)\n",
    "print('list_1.insert(0, 7):', list_1)\n",
    "\n",
    "list_1.sort()\n",
    "print('list_1.sort():      ', list_1)\n",
    "\n",
    "list_1.reverse()\n",
    "print('list_1.reverse():   ', list_1)"
   ]
  },
  {
   "cell_type": "code",
   "execution_count": null,
   "metadata": {},
   "outputs": [],
   "source": [
    "print('list_1:', list_1)\n",
    "print('list_2:', list_2)"
   ]
  },
  {
   "cell_type": "markdown",
   "metadata": {},
   "source": [
    "We can create __a copy of a list__ by using slice notation and not specifying a start or end parameter, i.e., [:], and if we assign that copy to another variable, the variables will be bound to different objects, so changes to one do not affect the other."
   ]
  },
  {
   "cell_type": "code",
   "execution_count": null,
   "metadata": {},
   "outputs": [],
   "source": [
    "list_1 = [1, 2, 3, 5, 1]\n",
    "list_2 = list_1[:]  # list_1[:] returns a copy of the entire contents of list_1\n",
    "\n",
    "print('list_1:', list_1)\n",
    "print('list_2:', list_2)\n",
    "\n",
    "list_1.remove(1)  # remove [only] the first occurrence of 1 in list_1\n",
    "print('list_1.remove(1):   ', list_1)\n",
    "\n",
    "print('list_1:', list_1)\n",
    "print('list_2:', list_2)"
   ]
  },
  {
   "cell_type": "code",
   "execution_count": 9,
   "metadata": {},
   "outputs": [
    {
     "name": "stdout",
     "output_type": "stream",
     "text": [
      "[[1, 2], 3, 4]\n",
      "[[1, 2], 3, 100]\n",
      "[[1, 2], 3, 4]\n",
      "[[1000, 2], 3, 100]\n",
      "[[1000, 2], 3, 4]\n",
      "[1000, 2]\n"
     ]
    }
   ],
   "source": [
    "L1 = [1,2]\n",
    "L2 = [L1,3,4]\n",
    "print L2\n",
    "L3 = L2[:] #a shallow copy, but only make the outmost layer of list independent. ie. the inner layer of list is still\n",
    "            # passed by reference and will be changed\n",
    "L2[2] = 100\n",
    "print L2\n",
    "print L3\n",
    "\n",
    "L2[0][0] = 1000 #here the inner layer is modified, \n",
    "print L2\n",
    "print L3\n",
    "print L1"
   ]
  },
  {
   "cell_type": "markdown",
   "metadata": {},
   "source": [
    "## 4. Dictionary"
   ]
  },
  {
   "cell_type": "markdown",
   "metadata": {},
   "source": [
    "A dictionary is a set of __keys__ each pointing to a __value__. The list of keys is unique (keys may only point to one value), but values may be reused. For example, let the key 1 point to the value 2, and key 3 point to value 4."
   ]
  },
  {
   "cell_type": "code",
   "execution_count": 10,
   "metadata": {},
   "outputs": [
    {
     "name": "stdout",
     "output_type": "stream",
     "text": [
      "2\n",
      "Apple\n",
      "['A', 'C', 'B']\n",
      "['Apple', 'Apple', 'Banana']\n"
     ]
    }
   ],
   "source": [
    "d = {1:2, 3:4}\n",
    "d2 = {'A':'Apple', 'B':'Banana', 'C': 'Apple'} #note the dictionary is unordered type\n",
    "print d[1]\n",
    "print d2['A']\n",
    "print d2.keys()\n",
    "print d2.values()"
   ]
  },
  {
   "cell_type": "code",
   "execution_count": 16,
   "metadata": {},
   "outputs": [
    {
     "name": "stdout",
     "output_type": "stream",
     "text": [
      "<type 'dict'>\n",
      "{'A': 'apple', 'C': {2: 1, 3: 4}, 'B': [1, 2, 3]}\n"
     ]
    }
   ],
   "source": [
    "d3 = {}\n",
    "d3 = dict() # the same expression\n",
    "print type(d3)\n",
    "d3['A']='apple'\n",
    "d3['B'] = [1,2,3]\n",
    "d3['C'] = {2:1, 3:4}\n",
    "print d3"
   ]
  },
  {
   "cell_type": "code",
   "execution_count": 17,
   "metadata": {
    "scrolled": true
   },
   "outputs": [
    {
     "ename": "TypeError",
     "evalue": "unhashable type: 'list'",
     "output_type": "error",
     "traceback": [
      "\u001b[0;31m---------------------------------------------------------------------------\u001b[0m",
      "\u001b[0;31mTypeError\u001b[0m                                 Traceback (most recent call last)",
      "\u001b[0;32m<ipython-input-17-5d206f4f1104>\u001b[0m in \u001b[0;36m<module>\u001b[0;34m()\u001b[0m\n\u001b[0;32m----> 1\u001b[0;31m \u001b[0md3\u001b[0m\u001b[0;34m[\u001b[0m\u001b[0;34m[\u001b[0m\u001b[0;36m1\u001b[0m\u001b[0;34m,\u001b[0m\u001b[0;36m2\u001b[0m\u001b[0;34m,\u001b[0m\u001b[0;36m3\u001b[0m\u001b[0;34m]\u001b[0m\u001b[0;34m]\u001b[0m \u001b[0;34m=\u001b[0m \u001b[0;36m3\u001b[0m\u001b[0;34m\u001b[0m\u001b[0m\n\u001b[0m",
      "\u001b[0;31mTypeError\u001b[0m: unhashable type: 'list'"
     ]
    }
   ],
   "source": [
    "d3[[1,2,3]] = 3 #python does not allow mutable object to be a key of dict"
   ]
  },
  {
   "cell_type": "code",
   "execution_count": 18,
   "metadata": {},
   "outputs": [
    {
     "data": {
      "text/plain": [
       "[('A', 'apple'), ('C', {2: 1, 3: 4}), ('B', [1, 2, 3])]"
      ]
     },
     "execution_count": 18,
     "metadata": {},
     "output_type": "execute_result"
    }
   ],
   "source": [
    "d3.items()"
   ]
  },
  {
   "cell_type": "markdown",
   "metadata": {},
   "source": [
    "## 5. Functions"
   ]
  },
  {
   "cell_type": "code",
   "execution_count": null,
   "metadata": {},
   "outputs": [],
   "source": []
  },
  {
   "cell_type": "markdown",
   "metadata": {},
   "source": [
    "To understand functions we show a few examples. The following function takes as input an integer n, and outputs an integer equal to n + 1."
   ]
  },
  {
   "cell_type": "code",
   "execution_count": null,
   "metadata": {
    "collapsed": true
   },
   "outputs": [],
   "source": [
    "def nplusone(n):\n",
    "    m=n+1\n",
    "    return m"
   ]
  },
  {
   "cell_type": "markdown",
   "metadata": {},
   "source": [
    "We call the function as follows:"
   ]
  },
  {
   "cell_type": "code",
   "execution_count": null,
   "metadata": {
    "collapsed": true
   },
   "outputs": [],
   "source": [
    "nplusone(6)"
   ]
  },
  {
   "cell_type": "markdown",
   "metadata": {},
   "source": [
    "The following function tells us whether a number n is big or not. Finish it yourself."
   ]
  },
  {
   "cell_type": "code",
   "execution_count": null,
   "metadata": {
    "collapsed": true
   },
   "outputs": [],
   "source": [
    "def isbig(n):\n",
    "    if n>10:\n",
    "        print('yes')\n",
    "        return\n",
    "    else:\n",
    "        \n",
    "        "
   ]
  },
  {
   "cell_type": "markdown",
   "metadata": {},
   "source": [
    "## 6. Modules"
   ]
  },
  {
   "cell_type": "markdown",
   "metadata": {},
   "source": [
    "Modules are packages with extra variable classes and functions. You need to import a module in order to use it. (You will not be able to import all the module on the PIC lab computers: some are not installed.) As an example, we import the module random. If we execute"
   ]
  },
  {
   "cell_type": "code",
   "execution_count": null,
   "metadata": {
    "collapsed": true
   },
   "outputs": [],
   "source": [
    "import random"
   ]
  },
  {
   "cell_type": "markdown",
   "metadata": {},
   "source": [
    "We can then use the functions from random, such as"
   ]
  },
  {
   "cell_type": "code",
   "execution_count": null,
   "metadata": {
    "collapsed": true
   },
   "outputs": [],
   "source": [
    "random.random() #uniform real in [0,1]"
   ]
  },
  {
   "cell_type": "code",
   "execution_count": null,
   "metadata": {
    "collapsed": true
   },
   "outputs": [],
   "source": [
    "random.randint(1,3) #uniform integer in {1,2,3}"
   ]
  },
  {
   "cell_type": "code",
   "execution_count": null,
   "metadata": {
    "collapsed": true
   },
   "outputs": [],
   "source": [
    "L=[3,4,5]\n",
    "random.shuffle(L) #uniform shuffle of a list\n",
    "L"
   ]
  },
  {
   "cell_type": "code",
   "execution_count": null,
   "metadata": {
    "collapsed": true
   },
   "outputs": [],
   "source": [
    "random.sample(L,2) #uniform sampling"
   ]
  },
  {
   "cell_type": "markdown",
   "metadata": {},
   "source": [
    "The random module has many other built-in distributions, such as normal, geometric, Poisson,... If we plan to use a module often, we can shorten the name. For example:"
   ]
  },
  {
   "cell_type": "code",
   "execution_count": null,
   "metadata": {
    "collapsed": true
   },
   "outputs": [],
   "source": [
    "import random as rand"
   ]
  },
  {
   "cell_type": "code",
   "execution_count": null,
   "metadata": {
    "collapsed": true
   },
   "outputs": [],
   "source": [
    "rand.random()"
   ]
  },
  {
   "cell_type": "markdown",
   "metadata": {},
   "source": [
    "It is also possible to import everything from a module, and use the functions directly without having to specify the module. I think this is very bad practice, because we completely lose track of where thefunctions come from, and, more importantly, we run the risk of function definitions clashing between modules or with standard python functions."
   ]
  },
  {
   "cell_type": "code",
   "execution_count": null,
   "metadata": {
    "collapsed": true
   },
   "outputs": [],
   "source": [
    "from random import * #this is bad\n",
    "random()"
   ]
  },
  {
   "cell_type": "markdown",
   "metadata": {},
   "source": [
    "## Exercises"
   ]
  },
  {
   "cell_type": "markdown",
   "metadata": {},
   "source": [
    "- Python has a built in max() function for lists of numbers. Write one yourself."
   ]
  },
  {
   "cell_type": "code",
   "execution_count": null,
   "metadata": {
    "collapsed": true
   },
   "outputs": [],
   "source": []
  },
  {
   "cell_type": "markdown",
   "metadata": {},
   "source": [
    "- Write a function that takes as input a natural number n, and outputs the nth Fibonacci number."
   ]
  },
  {
   "cell_type": "code",
   "execution_count": null,
   "metadata": {
    "collapsed": true
   },
   "outputs": [],
   "source": []
  },
  {
   "cell_type": "markdown",
   "metadata": {},
   "source": [
    "- Python has a built in len() function for lists. Write one yourself."
   ]
  },
  {
   "cell_type": "code",
   "execution_count": null,
   "metadata": {
    "collapsed": true
   },
   "outputs": [],
   "source": []
  },
  {
   "cell_type": "markdown",
   "metadata": {},
   "source": [
    "- Write a function that takes as input a string of one letter, and outputs the index of that letter in the alphabet."
   ]
  },
  {
   "cell_type": "code",
   "execution_count": 2,
   "metadata": {},
   "outputs": [
    {
     "ename": "TypeError",
     "evalue": "unsupported operand type(s) for -: 'str' and 'str'",
     "output_type": "error",
     "traceback": [
      "\u001b[0;31m---------------------------------------------------------------------------\u001b[0m",
      "\u001b[0;31mTypeError\u001b[0m                                 Traceback (most recent call last)",
      "\u001b[0;32m<ipython-input-2-cf31ac55e3d5>\u001b[0m in \u001b[0;36m<module>\u001b[0;34m()\u001b[0m\n\u001b[0;32m----> 1\u001b[0;31m \u001b[0;32mprint\u001b[0m \u001b[0mint\u001b[0m\u001b[0;34m(\u001b[0m\u001b[0;34m'b'\u001b[0m\u001b[0;34m-\u001b[0m\u001b[0;34m'a'\u001b[0m\u001b[0;34m)\u001b[0m\u001b[0;34m\u001b[0m\u001b[0m\n\u001b[0m",
      "\u001b[0;31mTypeError\u001b[0m: unsupported operand type(s) for -: 'str' and 'str'"
     ]
    }
   ],
   "source": []
  },
  {
   "cell_type": "markdown",
   "metadata": {},
   "source": [
    "- Use list comprehension to create the following object:  [[1,2,3],[2,4,6],[3,6,9],[4,8,12]] ."
   ]
  },
  {
   "cell_type": "code",
   "execution_count": 4,
   "metadata": {},
   "outputs": [
    {
     "name": "stdout",
     "output_type": "stream",
     "text": [
      "[[1, 2, 3], [2, 4, 6], [3, 6, 9], [4, 8, 12]]\n"
     ]
    }
   ],
   "source": [
    "a = [[i,i*2,i*3] for i in range(1,5)]\n",
    "print a"
   ]
  },
  {
   "cell_type": "markdown",
   "metadata": {},
   "source": [
    "- Use list comprehension to create the following object:[0,0,0,0,1,2,0,2,4,0,3,6,0,4,8,0,5,10]."
   ]
  },
  {
   "cell_type": "code",
   "execution_count": 12,
   "metadata": {},
   "outputs": [
    {
     "data": {
      "text/plain": [
       "[0, 1, 2, 3, 1, 2, 3, 4]"
      ]
     },
     "execution_count": 12,
     "metadata": {},
     "output_type": "execute_result"
    }
   ],
   "source": [
    "#b = [0,y,z for y in range(6) for z in range(0,11,2)]\n",
    "#[i+j for i in range(2) for j in range(4)]"
   ]
  },
  {
   "cell_type": "markdown",
   "metadata": {},
   "source": [
    "- Use only random.random() to simulate a 6-sided die roll."
   ]
  },
  {
   "cell_type": "code",
   "execution_count": null,
   "metadata": {
    "collapsed": true
   },
   "outputs": [],
   "source": []
  },
  {
   "cell_type": "markdown",
   "metadata": {},
   "source": [
    "- You play a game where you flip a fair 2-sided coin and roll a fair 6-sided die. If the coin shows H, you receive a number of points equal to the outcome of the die, otherwise, you receive 7 minus the outcome of the die. Write a python code that simulates this game."
   ]
  },
  {
   "cell_type": "code",
   "execution_count": null,
   "metadata": {
    "collapsed": true
   },
   "outputs": [],
   "source": []
  },
  {
   "cell_type": "markdown",
   "metadata": {},
   "source": [
    "- Write a function that takes as input a list, and outputs the list without its last element if the list\n",
    "is nonempty, and an empty list otherwise."
   ]
  },
  {
   "cell_type": "code",
   "execution_count": null,
   "metadata": {
    "collapsed": true
   },
   "outputs": [],
   "source": []
  }
 ],
 "metadata": {
  "kernelspec": {
   "display_name": "Python 2",
   "language": "python",
   "name": "python2"
  },
  "language_info": {
   "codemirror_mode": {
    "name": "ipython",
    "version": 2
   },
   "file_extension": ".py",
   "mimetype": "text/x-python",
   "name": "python",
   "nbconvert_exporter": "python",
   "pygments_lexer": "ipython2",
   "version": "2.7.15"
  }
 },
 "nbformat": 4,
 "nbformat_minor": 2
}
