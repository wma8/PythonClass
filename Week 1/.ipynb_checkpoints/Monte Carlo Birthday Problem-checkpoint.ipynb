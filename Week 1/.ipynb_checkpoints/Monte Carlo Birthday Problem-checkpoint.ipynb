{
 "cells": [
  {
   "cell_type": "code",
   "execution_count": 5,
   "metadata": {},
   "outputs": [
    {
     "name": "stdout",
     "output_type": "stream",
     "text": [
      "1\n",
      "360\n",
      "136\n",
      "41\n",
      "180\n"
     ]
    }
   ],
   "source": [
    "import random\n",
    "print random.randint(1,2)\n",
    "print random.randint(1,365)\n",
    "print random.randint(1,365)\n",
    "print random.randint(1,365)\n",
    "print random.randint(1,365)"
   ]
  },
  {
   "cell_type": "code",
   "execution_count": 6,
   "metadata": {},
   "outputs": [
    {
     "name": "stdout",
     "output_type": "stream",
     "text": [
      "First birthday is 257 and it occurs 1 times\n",
      "[29, 53, 68, 72, 76, 141, 162, 179, 188, 198, 219, 236, 236, 256, 257, 272, 294, 303, 307, 320, 332, 342, 359]\n",
      "[257, 179, 219, 256, 68, 72, 188, 198, 76, 342, 307, 303, 236, 294, 236, 29, 162, 359, 320, 53, 332, 141, 272]\n"
     ]
    }
   ],
   "source": [
    "def birthday_trial():\n",
    "    bdays=[random.randint(1,365) for n in range(23)]\n",
    "    print \"First birthday is\", bdays[0], \\\n",
    "            \"and it occurs\", bdays.count(bdays[0]), \"times\"\n",
    "    print sorted(bdays)\n",
    "    return bdays\n",
    "\n",
    "print birthday_trial()\n",
    "\n",
    "    "
   ]
  },
  {
   "cell_type": "code",
   "execution_count": 9,
   "metadata": {},
   "outputs": [
    {
     "name": "stdout",
     "output_type": "stream",
     "text": [
      "<type 'function'>\n",
      "bdays[ 0 ] =  285 ; count = 1\n",
      "bdays[ 1 ] =  345 ; count = 1\n",
      "bdays[ 2 ] =  88 ; count = 2\n",
      "bdays[ 3 ] =  88 ; count = 2\n",
      "bdays[ 4 ] =  13 ; count = 1\n",
      "bdays[ 5 ] =  191 ; count = 1\n",
      "bdays[ 6 ] =  181 ; count = 1\n",
      "bdays[ 7 ] =  357 ; count = 1\n",
      "bdays[ 8 ] =  91 ; count = 1\n",
      "bdays[ 9 ] =  89 ; count = 1\n",
      "bdays[ 10 ] =  31 ; count = 1\n",
      "bdays[ 11 ] =  201 ; count = 1\n",
      "bdays[ 12 ] =  341 ; count = 1\n",
      "bdays[ 13 ] =  303 ; count = 1\n",
      "bdays[ 14 ] =  208 ; count = 1\n",
      "bdays[ 15 ] =  199 ; count = 1\n",
      "bdays[ 16 ] =  56 ; count = 1\n",
      "bdays[ 17 ] =  297 ; count = 1\n",
      "bdays[ 18 ] =  76 ; count = 1\n",
      "bdays[ 19 ] =  37 ; count = 1\n",
      "bdays[ 20 ] =  247 ; count = 1\n",
      "bdays[ 21 ] =  140 ; count = 1\n",
      "bdays[ 22 ] =  176 ; count = 1\n",
      "<type 'list'>\n",
      "bdays[ 0 ] =  151 ; count = 1\n",
      "bdays[ 1 ] =  84 ; count = 1\n",
      "bdays[ 2 ] =  19 ; count = 1\n",
      "bdays[ 3 ] =  353 ; count = 1\n",
      "bdays[ 4 ] =  106 ; count = 2\n",
      "bdays[ 5 ] =  262 ; count = 1\n",
      "bdays[ 6 ] =  27 ; count = 1\n",
      "bdays[ 7 ] =  106 ; count = 2\n",
      "bdays[ 8 ] =  72 ; count = 1\n",
      "bdays[ 9 ] =  105 ; count = 1\n",
      "bdays[ 10 ] =  257 ; count = 1\n",
      "bdays[ 11 ] =  7 ; count = 1\n",
      "bdays[ 12 ] =  249 ; count = 1\n",
      "bdays[ 13 ] =  194 ; count = 1\n",
      "bdays[ 14 ] =  4 ; count = 1\n",
      "bdays[ 15 ] =  35 ; count = 1\n",
      "bdays[ 16 ] =  276 ; count = 1\n",
      "bdays[ 17 ] =  321 ; count = 1\n",
      "bdays[ 18 ] =  316 ; count = 1\n",
      "bdays[ 19 ] =  93 ; count = 1\n",
      "bdays[ 20 ] =  317 ; count = 1\n",
      "bdays[ 21 ] =  227 ; count = 1\n",
      "bdays[ 22 ] =  121 ; count = 1\n",
      "[151, 84, 19, 353, 106, 262, 27, 106, 72, 105, 257, 7, 249, 194, 4, 35, 276, 321, 316, 93, 317, 227, 121]\n"
     ]
    }
   ],
   "source": [
    "def birthday_trial():\n",
    "    bdays=[random.randint(1,365) for n in range(23)]\n",
    "    for n in range(23):\n",
    "        print \"bdays[\", n, \"] = \", bdays[n], \"; count =\", bdays.count(bdays[n])\n",
    "    #print sorted(bdays)\n",
    "    return bdays\n",
    "\n",
    "print type(birthday_trial) #don't need to call the fucntion to get return type\n",
    "print type(birthday_trial()) #type of a function is determined by its return type\n",
    "print birthday_trial() #why does the previous line ignored if this line is run?"
   ]
  },
  {
   "cell_type": "code",
   "execution_count": 19,
   "metadata": {},
   "outputs": [
    {
     "name": "stdout",
     "output_type": "stream",
     "text": [
      "<type 'bool'> True\n"
     ]
    }
   ],
   "source": [
    "def birthday_trial():\n",
    "    bdays=[random.randint(1,365) for n in range(23)]\n",
    "    for n in range(23):\n",
    "        #print \"bdays[\", n, \"] = \", bdays[n], \"; count =\", bdays.count(bdays[n])\n",
    "        if bdays.count(bdays[n]) >1:\n",
    "            return True\n",
    "    #print sorted(bdays)\n",
    "    return False\n",
    "\n",
    "print type(birthday_trial()), birthday_trial() #if you write two things to be printed in one line, then none\n",
    "                                                #would be omitted? why?\n",
    "    "
   ]
  },
  {
   "cell_type": "code",
   "execution_count": 20,
   "metadata": {},
   "outputs": [
    {
     "name": "stdout",
     "output_type": "stream",
     "text": [
      "0.5104\n"
     ]
    }
   ],
   "source": [
    "def birthday_trial():\n",
    "    bdays=[random.randint(1,365) for n in range(23)]\n",
    "    for n in range(23):\n",
    "        #print \"bdays[\", n, \"] = \", bdays[n], \"; count =\", bdays.count(bdays[n])\n",
    "        if bdays.count(bdays[n]) >1:\n",
    "            return True\n",
    "    #print sorted(bdays)\n",
    "    return False\n",
    "\n",
    "success =0\n",
    "trials =0\n",
    "while trials < 10000:\n",
    "    if birthday_trial():\n",
    "        success +=1\n",
    "    trials +=1\n",
    "print float(success)/trials"
   ]
  },
  {
   "cell_type": "code",
   "execution_count": null,
   "metadata": {},
   "outputs": [],
   "source": []
  }
 ],
 "metadata": {
  "kernelspec": {
   "display_name": "Python 2",
   "language": "python",
   "name": "python2"
  },
  "language_info": {
   "codemirror_mode": {
    "name": "ipython",
    "version": 2
   },
   "file_extension": ".py",
   "mimetype": "text/x-python",
   "name": "python",
   "nbconvert_exporter": "python",
   "pygments_lexer": "ipython2",
   "version": "2.7.15"
  }
 },
 "nbformat": 4,
 "nbformat_minor": 2
}
